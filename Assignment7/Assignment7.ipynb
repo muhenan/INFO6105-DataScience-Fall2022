{
 "cells": [
  {
   "cell_type": "markdown",
   "id": "c360d772",
   "metadata": {},
   "source": [
    "# Assignment 7"
   ]
  },
  {
   "cell_type": "markdown",
   "id": "a71badb1",
   "metadata": {},
   "source": [
    "## Find a single-humped dataset on the Web. The most original datasets will get a bonus. Compute the histogram, and make it look pretty."
   ]
  },
  {
   "cell_type": "code",
   "execution_count": 177,
   "id": "771ce800",
   "metadata": {},
   "outputs": [],
   "source": [
    "import pandas as pd\n",
    "import numpy as np\n",
    "import matplotlib.pyplot as plt"
   ]
  },
  {
   "cell_type": "code",
   "execution_count": 178,
   "id": "13083694",
   "metadata": {},
   "outputs": [
    {
     "data": {
      "text/html": [
       "<div>\n",
       "<style scoped>\n",
       "    .dataframe tbody tr th:only-of-type {\n",
       "        vertical-align: middle;\n",
       "    }\n",
       "\n",
       "    .dataframe tbody tr th {\n",
       "        vertical-align: top;\n",
       "    }\n",
       "\n",
       "    .dataframe thead th {\n",
       "        text-align: right;\n",
       "    }\n",
       "</style>\n",
       "<table border=\"1\" class=\"dataframe\">\n",
       "  <thead>\n",
       "    <tr style=\"text-align: right;\">\n",
       "      <th></th>\n",
       "      <th>Date</th>\n",
       "      <th>Region</th>\n",
       "      <th>Birth</th>\n",
       "      <th>Birth_rate</th>\n",
       "      <th>Death</th>\n",
       "      <th>Death_rate</th>\n",
       "      <th>Divorce</th>\n",
       "      <th>Divorce_rate</th>\n",
       "      <th>Marriage</th>\n",
       "      <th>Marriage_rate</th>\n",
       "      <th>Natural_growth</th>\n",
       "      <th>Natural_growth_rate</th>\n",
       "    </tr>\n",
       "  </thead>\n",
       "  <tbody>\n",
       "    <tr>\n",
       "      <th>0</th>\n",
       "      <td>1/1/2000</td>\n",
       "      <td>Busan</td>\n",
       "      <td>3752.0</td>\n",
       "      <td>11.61</td>\n",
       "      <td>1875.0</td>\n",
       "      <td>5.8</td>\n",
       "      <td>814.0</td>\n",
       "      <td>2.5</td>\n",
       "      <td>2435.0</td>\n",
       "      <td>7.5</td>\n",
       "      <td>1877.0</td>\n",
       "      <td>5.8</td>\n",
       "    </tr>\n",
       "    <tr>\n",
       "      <th>1</th>\n",
       "      <td>1/1/2000</td>\n",
       "      <td>Chungcheongbuk-do</td>\n",
       "      <td>1903.0</td>\n",
       "      <td>15.06</td>\n",
       "      <td>924.0</td>\n",
       "      <td>7.3</td>\n",
       "      <td>220.0</td>\n",
       "      <td>1.7</td>\n",
       "      <td>828.0</td>\n",
       "      <td>6.6</td>\n",
       "      <td>979.0</td>\n",
       "      <td>7.7</td>\n",
       "    </tr>\n",
       "    <tr>\n",
       "      <th>2</th>\n",
       "      <td>1/1/2000</td>\n",
       "      <td>Chungcheongnam-do</td>\n",
       "      <td>2398.0</td>\n",
       "      <td>14.75</td>\n",
       "      <td>1466.0</td>\n",
       "      <td>9.0</td>\n",
       "      <td>321.0</td>\n",
       "      <td>2.0</td>\n",
       "      <td>1055.0</td>\n",
       "      <td>6.5</td>\n",
       "      <td>932.0</td>\n",
       "      <td>5.7</td>\n",
       "    </tr>\n",
       "    <tr>\n",
       "      <th>3</th>\n",
       "      <td>1/1/2000</td>\n",
       "      <td>Daegu</td>\n",
       "      <td>3057.0</td>\n",
       "      <td>14.39</td>\n",
       "      <td>1117.0</td>\n",
       "      <td>5.3</td>\n",
       "      <td>422.0</td>\n",
       "      <td>2.0</td>\n",
       "      <td>1577.0</td>\n",
       "      <td>7.4</td>\n",
       "      <td>1940.0</td>\n",
       "      <td>9.1</td>\n",
       "    </tr>\n",
       "    <tr>\n",
       "      <th>4</th>\n",
       "      <td>1/1/2000</td>\n",
       "      <td>Daejeon</td>\n",
       "      <td>1859.0</td>\n",
       "      <td>16.08</td>\n",
       "      <td>565.0</td>\n",
       "      <td>4.9</td>\n",
       "      <td>280.0</td>\n",
       "      <td>2.4</td>\n",
       "      <td>868.0</td>\n",
       "      <td>7.5</td>\n",
       "      <td>1294.0</td>\n",
       "      <td>11.2</td>\n",
       "    </tr>\n",
       "    <tr>\n",
       "      <th>...</th>\n",
       "      <td>...</td>\n",
       "      <td>...</td>\n",
       "      <td>...</td>\n",
       "      <td>...</td>\n",
       "      <td>...</td>\n",
       "      <td>...</td>\n",
       "      <td>...</td>\n",
       "      <td>...</td>\n",
       "      <td>...</td>\n",
       "      <td>...</td>\n",
       "      <td>...</td>\n",
       "      <td>...</td>\n",
       "    </tr>\n",
       "    <tr>\n",
       "      <th>4855</th>\n",
       "      <td>6/1/2022</td>\n",
       "      <td>Jeollanam-do</td>\n",
       "      <td>565.0</td>\n",
       "      <td>3.80</td>\n",
       "      <td>1369.0</td>\n",
       "      <td>9.1</td>\n",
       "      <td>299.0</td>\n",
       "      <td>2.0</td>\n",
       "      <td>479.0</td>\n",
       "      <td>3.2</td>\n",
       "      <td>-805.0</td>\n",
       "      <td>-5.4</td>\n",
       "    </tr>\n",
       "    <tr>\n",
       "      <th>4856</th>\n",
       "      <td>6/1/2022</td>\n",
       "      <td>Sejong</td>\n",
       "      <td>248.0</td>\n",
       "      <td>7.90</td>\n",
       "      <td>106.0</td>\n",
       "      <td>3.4</td>\n",
       "      <td>43.0</td>\n",
       "      <td>1.4</td>\n",
       "      <td>123.0</td>\n",
       "      <td>3.9</td>\n",
       "      <td>141.0</td>\n",
       "      <td>4.5</td>\n",
       "    </tr>\n",
       "    <tr>\n",
       "      <th>4857</th>\n",
       "      <td>6/1/2022</td>\n",
       "      <td>Seoul</td>\n",
       "      <td>3137.0</td>\n",
       "      <td>4.10</td>\n",
       "      <td>3631.0</td>\n",
       "      <td>4.7</td>\n",
       "      <td>1088.0</td>\n",
       "      <td>1.4</td>\n",
       "      <td>2630.0</td>\n",
       "      <td>3.4</td>\n",
       "      <td>-494.0</td>\n",
       "      <td>-0.6</td>\n",
       "    </tr>\n",
       "    <tr>\n",
       "      <th>4858</th>\n",
       "      <td>6/1/2022</td>\n",
       "      <td>Ulsan</td>\n",
       "      <td>443.0</td>\n",
       "      <td>4.80</td>\n",
       "      <td>434.0</td>\n",
       "      <td>4.7</td>\n",
       "      <td>154.0</td>\n",
       "      <td>1.7</td>\n",
       "      <td>316.0</td>\n",
       "      <td>3.5</td>\n",
       "      <td>9.0</td>\n",
       "      <td>0.1</td>\n",
       "    </tr>\n",
       "    <tr>\n",
       "      <th>4859</th>\n",
       "      <td>6/1/2022</td>\n",
       "      <td>Whole country</td>\n",
       "      <td>18830.0</td>\n",
       "      <td>4.50</td>\n",
       "      <td>24850.0</td>\n",
       "      <td>5.9</td>\n",
       "      <td>7586.0</td>\n",
       "      <td>1.8</td>\n",
       "      <td>14898.0</td>\n",
       "      <td>3.5</td>\n",
       "      <td>-6019.0</td>\n",
       "      <td>-1.4</td>\n",
       "    </tr>\n",
       "  </tbody>\n",
       "</table>\n",
       "<p>4860 rows × 12 columns</p>\n",
       "</div>"
      ],
      "text/plain": [
       "          Date             Region    Birth  Birth_rate    Death  Death_rate  \\\n",
       "0     1/1/2000              Busan   3752.0       11.61   1875.0         5.8   \n",
       "1     1/1/2000  Chungcheongbuk-do   1903.0       15.06    924.0         7.3   \n",
       "2     1/1/2000  Chungcheongnam-do   2398.0       14.75   1466.0         9.0   \n",
       "3     1/1/2000              Daegu   3057.0       14.39   1117.0         5.3   \n",
       "4     1/1/2000            Daejeon   1859.0       16.08    565.0         4.9   \n",
       "...        ...                ...      ...         ...      ...         ...   \n",
       "4855  6/1/2022       Jeollanam-do    565.0        3.80   1369.0         9.1   \n",
       "4856  6/1/2022             Sejong    248.0        7.90    106.0         3.4   \n",
       "4857  6/1/2022              Seoul   3137.0        4.10   3631.0         4.7   \n",
       "4858  6/1/2022              Ulsan    443.0        4.80    434.0         4.7   \n",
       "4859  6/1/2022      Whole country  18830.0        4.50  24850.0         5.9   \n",
       "\n",
       "      Divorce  Divorce_rate  Marriage  Marriage_rate  Natural_growth  \\\n",
       "0       814.0           2.5    2435.0            7.5          1877.0   \n",
       "1       220.0           1.7     828.0            6.6           979.0   \n",
       "2       321.0           2.0    1055.0            6.5           932.0   \n",
       "3       422.0           2.0    1577.0            7.4          1940.0   \n",
       "4       280.0           2.4     868.0            7.5          1294.0   \n",
       "...       ...           ...       ...            ...             ...   \n",
       "4855    299.0           2.0     479.0            3.2          -805.0   \n",
       "4856     43.0           1.4     123.0            3.9           141.0   \n",
       "4857   1088.0           1.4    2630.0            3.4          -494.0   \n",
       "4858    154.0           1.7     316.0            3.5             9.0   \n",
       "4859   7586.0           1.8   14898.0            3.5         -6019.0   \n",
       "\n",
       "      Natural_growth_rate  \n",
       "0                     5.8  \n",
       "1                     7.7  \n",
       "2                     5.7  \n",
       "3                     9.1  \n",
       "4                    11.2  \n",
       "...                   ...  \n",
       "4855                 -5.4  \n",
       "4856                  4.5  \n",
       "4857                 -0.6  \n",
       "4858                  0.1  \n",
       "4859                 -1.4  \n",
       "\n",
       "[4860 rows x 12 columns]"
      ]
     },
     "execution_count": 178,
     "metadata": {},
     "output_type": "execute_result"
    }
   ],
   "source": [
    "data = pd.read_csv(\"Korean_demographics_2000-2022.csv\")\n",
    "data"
   ]
  },
  {
   "cell_type": "code",
   "execution_count": 179,
   "id": "148ae9a6",
   "metadata": {},
   "outputs": [
    {
     "data": {
      "text/plain": [
       "0       7.5\n",
       "1       6.6\n",
       "2       6.5\n",
       "3       7.4\n",
       "4       7.5\n",
       "       ... \n",
       "4855    3.2\n",
       "4856    3.9\n",
       "4857    3.4\n",
       "4858    3.5\n",
       "4859    3.5\n",
       "Name: Marriage_rate, Length: 4860, dtype: float64"
      ]
     },
     "execution_count": 179,
     "metadata": {},
     "output_type": "execute_result"
    }
   ],
   "source": [
    "data = data.Marriage_rate\n",
    "data.fillna(value = data.mean(), inplace=True)\n",
    "data"
   ]
  },
  {
   "cell_type": "markdown",
   "id": "1461addb",
   "metadata": {},
   "source": [
    "Here is the histogram of Marriage_rate of Korean_demographics_2000-2022"
   ]
  },
  {
   "cell_type": "code",
   "execution_count": 180,
   "id": "90574abc",
   "metadata": {},
   "outputs": [
    {
     "data": {
      "text/plain": [
       "<AxesSubplot:>"
      ]
     },
     "execution_count": 180,
     "metadata": {},
     "output_type": "execute_result"
    },
    {
     "data": {
      "image/png": "[encoded data removed]",
      "text/plain": [
       "<Figure size 640x480 with 1 Axes>"
      ]
     },
     "metadata": {},
     "output_type": "display_data"
    }
   ],
   "source": [
    "data.hist(bins=20)"
   ]
  },
  {
   "cell_type": "code",
   "execution_count": null,
   "id": "14a8a6ed",
   "metadata": {},
   "outputs": [],
   "source": []
  },
  {
   "cell_type": "code",
   "execution_count": null,
   "id": "73c290bc",
   "metadata": {},
   "outputs": [],
   "source": []
  },
  {
   "cell_type": "markdown",
   "id": "b6d09664",
   "metadata": {},
   "source": [
    "## Figure out the best possible match using MLE to find the best parameters."
   ]
  },
  {
   "cell_type": "code",
   "execution_count": 181,
   "id": "49205a22",
   "metadata": {},
   "outputs": [],
   "source": [
    "from scipy.special import psi, polygamma\n",
    "\n",
    "# Note that log_mean and mean_log are parameters of the dlgamma function\n",
    "dlgamma = lambda m, log_mean, mean_log: np.log(m) - psi(m) - log_mean + mean_log\n",
    "dl2gamma = lambda m, *args: 1./m - polygamma(1, m)"
   ]
  },
  {
   "cell_type": "code",
   "execution_count": 182,
   "id": "f4602b85",
   "metadata": {},
   "outputs": [
    {
     "data": {
      "text/plain": [
       "5.608451900615842"
      ]
     },
     "execution_count": 182,
     "metadata": {},
     "output_type": "execute_result"
    }
   ],
   "source": [
    "data.mean()"
   ]
  },
  {
   "cell_type": "code",
   "execution_count": 183,
   "id": "4a759095",
   "metadata": {},
   "outputs": [],
   "source": [
    "import numpy as np"
   ]
  },
  {
   "cell_type": "markdown",
   "id": "ac01b83c",
   "metadata": {},
   "source": [
    "where `log_mean` and `mean_log` are $\\log{\\bar{x}}$ and $\\overline{\\log(x)}$, respectively."
   ]
  },
  {
   "cell_type": "code",
   "execution_count": 184,
   "id": "b841632a",
   "metadata": {},
   "outputs": [
    {
     "data": {
      "text/plain": [
       "(1.7242747279080064, 1.6915311684117877)"
      ]
     },
     "execution_count": 184,
     "metadata": {},
     "output_type": "execute_result"
    }
   ],
   "source": [
    "# Calculate statistics\n",
    "log_mean = np.log(data.mean())\n",
    "mean_log = data.apply(np.log).mean()\n",
    "log_mean, mean_log"
   ]
  },
  {
   "cell_type": "code",
   "execution_count": 185,
   "id": "021aee81",
   "metadata": {},
   "outputs": [
    {
     "data": {
      "text/plain": [
       "15.434996448584126"
      ]
     },
     "execution_count": 185,
     "metadata": {},
     "output_type": "execute_result"
    }
   ],
   "source": [
    "# Alpha MLE for Dataset\n",
    "from scipy.optimize import newton\n",
    "alpha_mle = newton(dlgamma, 2, dl2gamma, args=(log_mean, mean_log))\n",
    "alpha_mle"
   ]
  },
  {
   "cell_type": "code",
   "execution_count": 186,
   "id": "ed4dbe10",
   "metadata": {},
   "outputs": [
    {
     "data": {
      "text/plain": [
       "0.3633594552028752"
      ]
     },
     "execution_count": 186,
     "metadata": {},
     "output_type": "execute_result"
    }
   ],
   "source": [
    "# Beta MLE for Dataset\n",
    "beta_mle = data.mean()/alpha_mle\n",
    "beta_mle"
   ]
  },
  {
   "cell_type": "markdown",
   "id": "22171d31",
   "metadata": {},
   "source": [
    "Let's plot the model"
   ]
  },
  {
   "cell_type": "code",
   "execution_count": 155,
   "id": "471f5db3",
   "metadata": {},
   "outputs": [
    {
     "data": {
      "text/plain": [
       "[<matplotlib.lines.Line2D at 0x7fdc7b4a5640>]"
      ]
     },
     "execution_count": 155,
     "metadata": {},
     "output_type": "execute_result"
    },
    {
     "data": {
      "image/png": "[encoded data removed]",
      "text/plain": [
       "<Figure size 640x480 with 1 Axes>"
      ]
     },
     "metadata": {},
     "output_type": "display_data"
    }
   ],
   "source": [
    "from scipy.stats.distributions import gamma\n",
    "\n",
    "data.hist(density=True, bins=20, grid=False)\n",
    "x = np.linspace(0, 15)\n",
    "plt.plot(x, gamma.pdf(x, a = alpha_mle, scale = beta_mle), 'r--')"
   ]
  },
  {
   "cell_type": "code",
   "execution_count": null,
   "id": "d57259c9",
   "metadata": {},
   "outputs": [],
   "source": []
  },
  {
   "cell_type": "markdown",
   "id": "879b9f4e",
   "metadata": {},
   "source": [
    "## Now, repeat the experiment with Bayesian simulation using PyMC3."
   ]
  },
  {
   "cell_type": "markdown",
   "id": "944c1445",
   "metadata": {},
   "source": [
    "We use normal distribution to model parameter alpha"
   ]
  },
  {
   "cell_type": "code",
   "execution_count": 187,
   "id": "1d4eac3b",
   "metadata": {},
   "outputs": [],
   "source": [
    "from pymc3 import Model, Uniform, Normal, Gamma\n",
    "\n",
    "with Model() as data_model:\n",
    "    alpha = Normal('alpha', alpha_mle, sd=10)"
   ]
  },
  {
   "cell_type": "markdown",
   "id": "5e4b0aa7",
   "metadata": {},
   "source": [
    "And we use normal distribution to model parameter beta"
   ]
  },
  {
   "cell_type": "code",
   "execution_count": 188,
   "id": "ed2f6527",
   "metadata": {},
   "outputs": [],
   "source": [
    "with data_model:\n",
    "    beta = Normal('beta', beta_mle, sd=10)"
   ]
  },
  {
   "cell_type": "markdown",
   "id": "c04a00af",
   "metadata": {},
   "source": [
    "Now go ahead and model our dataset in pymc3:"
   ]
  },
  {
   "cell_type": "code",
   "execution_count": 189,
   "id": "10dd676d",
   "metadata": {},
   "outputs": [],
   "source": [
    "with data_model:\n",
    "    data_like = Gamma('data_like', alpha = alpha_mle, beta = beta_mle, observed=data)"
   ]
  },
  {
   "cell_type": "markdown",
   "id": "ff28f1a5",
   "metadata": {},
   "source": [
    "Fit the model"
   ]
  },
  {
   "cell_type": "code",
   "execution_count": 190,
   "id": "76957b31",
   "metadata": {},
   "outputs": [
    {
     "data": {
      "text/html": [
       "\n",
       "    <div>\n",
       "        <style>\n",
       "            /* Turns off some styling */\n",
       "            progress {\n",
       "                /* gets rid of default border in Firefox and Opera. */\n",
       "                border: none;\n",
       "                /* Needs to be in here for Safari polyfill so background images work as expected. */\n",
       "                background-size: auto;\n",
       "            }\n",
       "            .progress-bar-interrupted, .progress-bar-interrupted::-webkit-progress-bar {\n",
       "                background: #F44336;\n",
       "            }\n",
       "        </style>\n",
       "      <progress value='10000' class='' max='10000' style='width:300px; height:20px; vertical-align: middle;'></progress>\n",
       "      100.00% [10000/10000 00:00<00:00 Average Loss = 95,294]\n",
       "    </div>\n",
       "    "
      ],
      "text/plain": [
       "<IPython.core.display.HTML object>"
      ]
     },
     "metadata": {},
     "output_type": "display_data"
    },
    {
     "name": "stderr",
     "output_type": "stream",
     "text": [
      "Finished [100%]: Average Loss = 95,294\n"
     ]
    }
   ],
   "source": [
    "from pymc3 import fit\n",
    "import seaborn as sns\n",
    "sns.set_context('notebook')\n",
    "RANDOM_SEED = 20090425\n",
    "\n",
    "with data_model: \n",
    "    data_trace = fit(random_seed=RANDOM_SEED).sample(1000)"
   ]
  },
  {
   "cell_type": "markdown",
   "id": "492351a5",
   "metadata": {},
   "source": [
    "Now plot all the distributions"
   ]
  },
  {
   "cell_type": "code",
   "execution_count": 191,
   "id": "a29beb64",
   "metadata": {},
   "outputs": [
    {
     "name": "stderr",
     "output_type": "stream",
     "text": [
      "/Users/muhenan/opt/anaconda3/envs/cv2/lib/python3.8/site-packages/arviz/data/io_pymc3.py:96: FutureWarning: Using `from_pymc3` without the model will be deprecated in a future release. Not using the model will return less accurate and less useful results. Make sure you use the model argument or call from_pymc3 within a model context.\n",
      "  warnings.warn(\n"
     ]
    },
    {
     "data": {
      "image/png": "[encoded data removed]",
      "text/plain": [
       "<Figure size 1472x552 with 2 Axes>"
      ]
     },
     "metadata": {},
     "output_type": "display_data"
    }
   ],
   "source": [
    "from pymc3 import plot_posterior\n",
    "\n",
    "plot_posterior(data_trace[100:],\n",
    "                var_names=['alpha', 'beta'],\n",
    "                color='#87ceeb');"
   ]
  },
  {
   "cell_type": "code",
   "execution_count": null,
   "id": "17cf4b72",
   "metadata": {},
   "outputs": [],
   "source": []
  },
  {
   "cell_type": "markdown",
   "id": "a234b0b5",
   "metadata": {},
   "source": [
    "## Which method is more correct, and which was the most fun?"
   ]
  },
  {
   "cell_type": "code",
   "execution_count": null,
   "id": "94814def",
   "metadata": {},
   "outputs": [],
   "source": []
  }
 ],
 "metadata": {
  "kernelspec": {
   "display_name": "Python 3 (ipykernel)",
   "language": "python",
   "name": "python3"
  },
  "language_info": {
   "codemirror_mode": {
    "name": "ipython",
    "version": 3
   },
   "file_extension": ".py",
   "mimetype": "text/x-python",
   "name": "python",
   "nbconvert_exporter": "python",
   "pygments_lexer": "ipython3",
   "version": "3.8.13"
  }
 },
 "nbformat": 4,
 "nbformat_minor": 5
}
