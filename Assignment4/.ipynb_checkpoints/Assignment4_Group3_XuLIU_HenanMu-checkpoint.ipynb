{
 "cells": [
  {
   "cell_type": "markdown",
   "id": "6b0c8969",
   "metadata": {},
   "source": [
    "# INFO 6105 Assignment 4 \n",
    "\n",
    "Group 3\n",
    "\n",
    "Student Name: Henan MU, Xu LIU"
   ]
  },
  {
   "cell_type": "markdown",
   "id": "488e84ad",
   "metadata": {},
   "source": [
    "[Data Source](https://www.formula1.com/en/results.html/2022/drivers.html)"
   ]
  },
  {
   "cell_type": "code",
   "execution_count": 132,
   "id": "29aa162a",
   "metadata": {},
   "outputs": [],
   "source": [
    "class ProbDist(dict):\n",
    "    \"\"\"A Probability Distribution; an {outcome: probability} mapping.\"\"\"\n",
    "    def __init__(self, mapping=(), **kwargs):\n",
    "        self.update(mapping, **kwargs)\n",
    "        # Make probabilities sum to 1.0; assert no negative probabilities\n",
    "        total = sum(self.values())\n",
    "        for outcome in self:\n",
    "            self[outcome] = self[outcome] / total\n",
    "            assert self[outcome] >= 0"
   ]
  },
  {
   "cell_type": "code",
   "execution_count": 133,
   "id": "704662b1",
   "metadata": {},
   "outputs": [],
   "source": [
    "def p(event, space): \n",
    "    \"\"\"The probability of an event, given a sample space of equiprobable outcomes. \n",
    "    event: a collection of outcomes, or a predicate that is true of outcomes in the event. \n",
    "    space: a set of outcomes or a probability distribution of {outcome: frequency} pairs.\"\"\"\n",
    "    # branch on the type of the first argument\n",
    "    if is_predicate(event):\n",
    "        # transform the mapping (untangible) 'event' into the collection (tangible) 'event'\n",
    "        event = such_that(event, space)\n",
    "        \n",
    "    if isinstance(space, ProbDist):\n",
    "        # if space is a dictionary of distinct probabilities, where each item does not count as the same amount\n",
    "        return sum(space[k] for k in space if k in event)\n",
    "        #return sum({space[k] for k in space & event})\n",
    "    else:\n",
    "        # space is not a dictionary but a collection, let's fall back to our original division\n",
    "        return Fraction(len(event & space), len(space))\n",
    "\n",
    "is_predicate = callable\n",
    "\n",
    "def such_that(predicate, space): \n",
    "    \"\"\"The outcomes in the sample pace for which the predicate is true.\n",
    "    If space is a set, return a subset {outcome,...} with outcomes where predicate(element) is true;\n",
    "    if space is a ProbDist, return a ProbDist {outcome: frequency,...} with outcomes where predicate(element) is true.\"\"\"\n",
    "    if isinstance(space, ProbDist):\n",
    "        return ProbDist({o:space[o] for o in space if predicate(o)})\n",
    "    else:\n",
    "        return {o for o in space if predicate(o)}"
   ]
  },
  {
   "cell_type": "markdown",
   "id": "13526d28",
   "metadata": {},
   "source": [
    "## Question 1:\n",
    "Question 1 (25 points) The season is over and Max Verstappen won, again! But let's assume the season is not over and there are still two F1 races coming up: The Netherlands Grand Prix coming up this weekend and the Italian Grand Prix the weekend after. The 2022 driver standings are given here. Given these standings (please do not use team standings given on the same Web site, use driver standings), what is the Probability Distribution for each F1 driver to win the Netherlands Grand Prix? What is the Probability Distribution for each F1 driver to win both the Netherlands and Italian Grand Prix? What is the probability for Red Bull to win both races? What is the probability for Red Bull to win at least one race? Note that Red Bull, and each other racing team, has two drivers per race."
   ]
  },
  {
   "cell_type": "markdown",
   "id": "990ae6ab",
   "metadata": {},
   "source": [
    "### 1.1 The probability of each F1 driver to win the Netherlands Grand Prix:"
   ]
  },
  {
   "cell_type": "code",
   "execution_count": 134,
   "id": "3a0d05da",
   "metadata": {},
   "outputs": [
    {
     "data": {
      "text/plain": [
       "{'MV': 0.1889196675900277,\n",
       " 'CL': 0.13130193905817175,\n",
       " 'SP': 0.13019390581717452,\n",
       " 'GR': 0.11246537396121883,\n",
       " 'CS': 0.11191135734072022,\n",
       " 'LH': 0.09418282548476455,\n",
       " 'LN': 0.055401662049861494,\n",
       " 'EO': 0.03656509695290859,\n",
       " 'FA': 0.032686980609418284,\n",
       " 'VB': 0.02548476454293629,\n",
       " 'DR': 0.016066481994459834,\n",
       " 'SV': 0.013296398891966758,\n",
       " 'PG': 0.012742382271468145,\n",
       " 'KM': 0.01218836565096953,\n",
       " 'LS': 0.007202216066481994,\n",
       " 'MS': 0.006648199445983379,\n",
       " 'YT': 0.006094182825484765,\n",
       " 'ZG': 0.0033240997229916896,\n",
       " 'AA': 0.00221606648199446,\n",
       " 'NDV': 0.00110803324099723,\n",
       " 'NL': 0.0,\n",
       " 'NH': 0.0}"
      ]
     },
     "execution_count": 134,
     "metadata": {},
     "output_type": "execute_result"
    }
   ],
   "source": [
    "NGP = ProbDist(\n",
    "    MV = 341,\n",
    "    CL = 237,\n",
    "    SP = 235,\n",
    "    GR = 203,\n",
    "    CS = 202,\n",
    "    LH = 170,\n",
    "    LN = 100,\n",
    "    EO = 66,\n",
    "    FA = 59,\n",
    "    VB = 46,\n",
    "    DR = 29,\n",
    "    SV = 24,\n",
    "    PG = 23,\n",
    "    KM = 22,\n",
    "    LS = 13,\n",
    "    MS = 12,\n",
    "    YT = 11,\n",
    "    ZG = 6,\n",
    "    AA = 4,\n",
    "    NDV = 2,\n",
    "    NL = 0,\n",
    "    NH = 0\n",
    ")\n",
    "NGP"
   ]
  },
  {
   "cell_type": "markdown",
   "id": "31fb3d55",
   "metadata": {},
   "source": [
    " ### 1.2  The Probability Distribution for each F1 driver to win both the Netherlands and Italian Grand Prix"
   ]
  },
  {
   "cell_type": "code",
   "execution_count": 135,
   "id": "af972ed6",
   "metadata": {},
   "outputs": [
    {
     "data": {
      "text/plain": [
       "{'MV': 0.1889196675900277,\n",
       " 'CL': 0.13130193905817175,\n",
       " 'SP': 0.13019390581717452,\n",
       " 'GR': 0.11246537396121883,\n",
       " 'CS': 0.11191135734072022,\n",
       " 'LH': 0.09418282548476455,\n",
       " 'LN': 0.055401662049861494,\n",
       " 'EO': 0.03656509695290859,\n",
       " 'FA': 0.032686980609418284,\n",
       " 'VB': 0.02548476454293629,\n",
       " 'DR': 0.016066481994459834,\n",
       " 'SV': 0.013296398891966758,\n",
       " 'PG': 0.012742382271468145,\n",
       " 'KM': 0.01218836565096953,\n",
       " 'LS': 0.007202216066481994,\n",
       " 'MS': 0.006648199445983379,\n",
       " 'YT': 0.006094182825484765,\n",
       " 'ZG': 0.0033240997229916896,\n",
       " 'AA': 0.00221606648199446,\n",
       " 'NDV': 0.00110803324099723,\n",
       " 'NL': 0.0,\n",
       " 'NH': 0.0}"
      ]
     },
     "execution_count": 135,
     "metadata": {},
     "output_type": "execute_result"
    }
   ],
   "source": [
    "IGP = ProbDist(\n",
    "    MV = 341,\n",
    "    CL = 237,\n",
    "    SP = 235,\n",
    "    GR = 203,\n",
    "    CS = 202,\n",
    "    LH = 170,\n",
    "    LN = 100,\n",
    "    EO = 66,\n",
    "    FA = 59,\n",
    "    VB = 46,\n",
    "    DR = 29,\n",
    "    SV = 24,\n",
    "    PG = 23,\n",
    "    KM = 22,\n",
    "    LS = 13,\n",
    "    MS = 12,\n",
    "    YT = 11,\n",
    "    ZG = 6,\n",
    "    AA = 4,\n",
    "    NDV = 2,\n",
    "    NL = 0,\n",
    "    NH = 0\n",
    ")\n",
    "IGP"
   ]
  },
  {
   "cell_type": "code",
   "execution_count": 136,
   "id": "0122010d",
   "metadata": {},
   "outputs": [
    {
     "data": {
      "text/plain": [
       "{'MV': 0.03569064080232656,\n",
       " 'CL': 0.01724019920043585,\n",
       " 'SP': 0.01695045311193131,\n",
       " 'GR': 0.012648460340236799,\n",
       " 'CS': 0.012524151901842374,\n",
       " 'LH': 0.008870404616293614,\n",
       " 'LN': 0.003069344157887063,\n",
       " 'EO': 0.0013370063151756052,\n",
       " 'FA': 0.001068438701360487,\n",
       " 'VB': 0.0006494732238089027,\n",
       " 'DR': 0.00025813184367830206,\n",
       " 'SV': 0.00017679422349429485,\n",
       " 'PG': 0.0001623683059522257,\n",
       " 'KM': 0.00014855625724173387,\n",
       " 'LS': 5.1871916268291375e-05,\n",
       " 'MS': 4.419855587357371e-05,\n",
       " 'YT': 3.713906431043347e-05,\n",
       " 'ZG': 1.1049638968393428e-05,\n",
       " 'AA': 4.910950652619302e-06,\n",
       " 'NDV': 1.2277376631548256e-06,\n",
       " 'NL': 0.0,\n",
       " 'NH': 0.0}"
      ]
     },
     "execution_count": 136,
     "metadata": {},
     "output_type": "execute_result"
    }
   ],
   "source": [
    "# The probability distribution for every player to win twice:\n",
    "dict_p_player_win_twice = dict()\n",
    "for key in NGP:\n",
    "    dict_p_player_win_twice[key] = NGP.get(key) * IGP.get(key) \n",
    "    \n",
    "dict_p_player_win_twice"
   ]
  },
  {
   "cell_type": "markdown",
   "id": "ff824fa3",
   "metadata": {},
   "source": [
    "###  1.3 The probability for Red Bull to win both races:"
   ]
  },
  {
   "cell_type": "markdown",
   "id": "c811c728",
   "metadata": {},
   "source": [
    "The probability for Red Bull to win one race is `probability of MV win` + `probability of SP win`"
   ]
  },
  {
   "cell_type": "code",
   "execution_count": 137,
   "id": "aab630d1",
   "metadata": {},
   "outputs": [
    {
     "data": {
      "text/plain": [
       "0.31911357340720226"
      ]
     },
     "execution_count": 137,
     "metadata": {},
     "output_type": "execute_result"
    }
   ],
   "source": [
    "RedBull_OneRace = NGP['MV'] + NGP['SP']\n",
    "RedBull_OneRace"
   ]
  },
  {
   "cell_type": "markdown",
   "id": "bcc59a05",
   "metadata": {},
   "source": [
    "The probability for Red Bull to win two races is `The probability for Red Bull to win one race` * `The probability for Red Bull to win one race`"
   ]
  },
  {
   "cell_type": "code",
   "execution_count": 138,
   "id": "d6c9f71b",
   "metadata": {},
   "outputs": [
    {
     "data": {
      "text/plain": [
       "0.10183347273271386"
      ]
     },
     "execution_count": 138,
     "metadata": {},
     "output_type": "execute_result"
    }
   ],
   "source": [
    "RedBull_TwoRaces = RedBull_OneRace * RedBull_OneRace\n",
    "RedBull_TwoRaces"
   ]
  },
  {
   "cell_type": "markdown",
   "id": "672c8679",
   "metadata": {},
   "source": [
    "### 1.4 The probability for Red Bull to win at least one race"
   ]
  },
  {
   "cell_type": "markdown",
   "id": "577a405c",
   "metadata": {},
   "source": [
    "For this question, we can compute the the probability for Red Bull to win no races at first. Because the probability for Red Bull to win at least one race is 1 - the probability for Red Bull to win no races."
   ]
  },
  {
   "cell_type": "code",
   "execution_count": 139,
   "id": "1f760a7e",
   "metadata": {},
   "outputs": [
    {
     "data": {
      "text/plain": [
       "0.6808864265927977"
      ]
     },
     "execution_count": 139,
     "metadata": {},
     "output_type": "execute_result"
    }
   ],
   "source": [
    "RedBull_LoseOneRace = 1 - RedBull_OneRace\n",
    "RedBull_LoseOneRace"
   ]
  },
  {
   "cell_type": "code",
   "execution_count": 140,
   "id": "0f84d7b2",
   "metadata": {},
   "outputs": [
    {
     "data": {
      "text/plain": [
       "0.46360632591830936"
      ]
     },
     "execution_count": 140,
     "metadata": {},
     "output_type": "execute_result"
    }
   ],
   "source": [
    "RedBull_LoseTwoRaces = RedBull_LoseOneRace * RedBull_LoseOneRace\n",
    "RedBull_LoseTwoRaces"
   ]
  },
  {
   "cell_type": "code",
   "execution_count": 141,
   "id": "076eff84",
   "metadata": {},
   "outputs": [
    {
     "data": {
      "text/plain": [
       "0.5363936740816906"
      ]
     },
     "execution_count": 141,
     "metadata": {},
     "output_type": "execute_result"
    }
   ],
   "source": [
    "RedBull_AtLeastOneRace = 1 - RedBull_LoseTwoRaces\n",
    "RedBull_AtLeastOneRace"
   ]
  },
  {
   "cell_type": "markdown",
   "id": "2a7c5e16",
   "metadata": {},
   "source": [
    "## Question 2\n",
    "\n",
    "(25 points) If Red Bull wins the first race, what is the probability that Red Bull wins the next one? If Red Bull wins at least one of these two races, what is the probability Red Bull wins both races? How about Ferrari, Mercedes, and Alpine-Renault?"
   ]
  },
  {
   "cell_type": "markdown",
   "id": "d8182d6e",
   "metadata": {},
   "source": [
    "### 2.1 If Red Bull wins the first race,  the probability that Red Bull wins the next one:"
   ]
  },
  {
   "cell_type": "markdown",
   "id": "0b001d7f",
   "metadata": {},
   "source": [
    "It's same as the probability Red Bull win first race."
   ]
  },
  {
   "cell_type": "code",
   "execution_count": 142,
   "id": "84bf569d",
   "metadata": {},
   "outputs": [
    {
     "data": {
      "text/plain": [
       "0.31911357340720226"
      ]
     },
     "execution_count": 142,
     "metadata": {},
     "output_type": "execute_result"
    }
   ],
   "source": [
    "RedBull_win_next = NGP['MV'] + NGP['SP']\n",
    "RedBull_win_next"
   ]
  },
  {
   "cell_type": "markdown",
   "id": "8609802e",
   "metadata": {},
   "source": [
    "We write it in a function"
   ]
  },
  {
   "cell_type": "code",
   "execution_count": 143,
   "id": "b54bf238",
   "metadata": {},
   "outputs": [],
   "source": [
    "def win_a_race(NGP, name1, name2):\n",
    "    return NGP[name1] + NGP[name2]"
   ]
  },
  {
   "cell_type": "code",
   "execution_count": 144,
   "id": "ec7b773e",
   "metadata": {},
   "outputs": [
    {
     "data": {
      "text/plain": [
       "0.31911357340720226"
      ]
     },
     "execution_count": 144,
     "metadata": {},
     "output_type": "execute_result"
    }
   ],
   "source": [
    "win_a_race(NGP, 'MV', 'SP')"
   ]
  },
  {
   "cell_type": "markdown",
   "id": "6edff13b",
   "metadata": {},
   "source": [
    "### 2.2 If Red Bull wins at least one of these two races, the probability Red Bull wins both races:"
   ]
  },
  {
   "cell_type": "code",
   "execution_count": 145,
   "id": "748e1b96",
   "metadata": {},
   "outputs": [
    {
     "data": {
      "text/plain": [
       "0.18984838497033624"
      ]
     },
     "execution_count": 145,
     "metadata": {},
     "output_type": "execute_result"
    }
   ],
   "source": [
    "P = RedBull_TwoRaces / RedBull_AtLeastOneRace\n",
    "P"
   ]
  },
  {
   "cell_type": "markdown",
   "id": "475c1468",
   "metadata": {},
   "source": [
    "We write it in a function:"
   ]
  },
  {
   "cell_type": "code",
   "execution_count": 146,
   "id": "b71bde82",
   "metadata": {},
   "outputs": [],
   "source": [
    "def question22(NGP, name1, name2):\n",
    "    win_one = win_a_race(NGP, name1, name2)\n",
    "    lose_one = 1 - win_one\n",
    "    win_two = win_one**2\n",
    "    lose_two = lose_one**2\n",
    "    return win_two / (1 - lose_two)"
   ]
  },
  {
   "cell_type": "code",
   "execution_count": 147,
   "id": "cf0b909d",
   "metadata": {},
   "outputs": [
    {
     "data": {
      "text/plain": [
       "0.18984838497033624"
      ]
     },
     "execution_count": 147,
     "metadata": {},
     "output_type": "execute_result"
    }
   ],
   "source": [
    "question22(NGP, 'MV', 'SP')"
   ]
  },
  {
   "cell_type": "markdown",
   "id": "4a2a02e3",
   "metadata": {},
   "source": [
    "### 2.3 How about Ferrari, Mercedes, and Alpine-Renault?"
   ]
  },
  {
   "cell_type": "markdown",
   "id": "a0ffaba6",
   "metadata": {},
   "source": [
    "The algorithm is same as 2.2"
   ]
  },
  {
   "cell_type": "markdown",
   "id": "a4588fb4",
   "metadata": {},
   "source": [
    "#### 2.3.1 Ferrari"
   ]
  },
  {
   "cell_type": "code",
   "execution_count": 148,
   "id": "10538935",
   "metadata": {},
   "outputs": [
    {
     "data": {
      "text/plain": [
       "0.24321329639889197"
      ]
     },
     "execution_count": 148,
     "metadata": {},
     "output_type": "execute_result"
    }
   ],
   "source": [
    "win_a_race(NGP, 'CL', 'CS')"
   ]
  },
  {
   "cell_type": "code",
   "execution_count": 149,
   "id": "98aa7d5b",
   "metadata": {},
   "outputs": [
    {
     "data": {
      "text/plain": [
       "0.13844213181961523"
      ]
     },
     "execution_count": 149,
     "metadata": {},
     "output_type": "execute_result"
    }
   ],
   "source": [
    "question22(NGP, 'CL', 'CS')"
   ]
  },
  {
   "cell_type": "markdown",
   "id": "8cad1911",
   "metadata": {},
   "source": [
    "#### 2.3.2  Mercedes"
   ]
  },
  {
   "cell_type": "code",
   "execution_count": 150,
   "id": "307918c4",
   "metadata": {},
   "outputs": [
    {
     "data": {
      "text/plain": [
       "0.2066481994459834"
      ]
     },
     "execution_count": 150,
     "metadata": {},
     "output_type": "execute_result"
    }
   ],
   "source": [
    "win_a_race(NGP, 'GR', 'LH')"
   ]
  },
  {
   "cell_type": "code",
   "execution_count": 151,
   "id": "66217d7e",
   "metadata": {},
   "outputs": [
    {
     "data": {
      "text/plain": [
       "0.11523015137472965"
      ]
     },
     "execution_count": 151,
     "metadata": {},
     "output_type": "execute_result"
    }
   ],
   "source": [
    "question22(NGP, 'GR', 'LH')"
   ]
  },
  {
   "cell_type": "markdown",
   "id": "bec010b7",
   "metadata": {},
   "source": [
    "#### 2.3.3  Alpine-Renault"
   ]
  },
  {
   "cell_type": "code",
   "execution_count": 152,
   "id": "db92aecf",
   "metadata": {},
   "outputs": [
    {
     "data": {
      "text/plain": [
       "0.06925207756232687"
      ]
     },
     "execution_count": 152,
     "metadata": {},
     "output_type": "execute_result"
    }
   ],
   "source": [
    "win_a_race(NGP, 'EO', 'FA')"
   ]
  },
  {
   "cell_type": "code",
   "execution_count": 153,
   "id": "15500074",
   "metadata": {},
   "outputs": [
    {
     "data": {
      "text/plain": [
       "0.03586800573888091"
      ]
     },
     "execution_count": 153,
     "metadata": {},
     "output_type": "execute_result"
    }
   ],
   "source": [
    "question22(NGP, 'EO', 'FA')"
   ]
  },
  {
   "cell_type": "markdown",
   "id": "0998bce4",
   "metadata": {},
   "source": [
    "## Question 3 \n",
    "\n",
    "(25 points) Red Bull wins one of these two races on a rainy day. What is the probability Red Bull wins both races, assuming races can be held on either rainy, sunny, cloudy, snowy or foggy days? Assume that rain, sun, clouds, snow, and fog are the only possible weather conditions on race tracks and there is an equal probability for each one of these weather events."
   ]
  },
  {
   "cell_type": "markdown",
   "id": "6307e754",
   "metadata": {},
   "source": [
    "Five weathers probability distribution:"
   ]
  },
  {
   "cell_type": "code",
   "execution_count": 154,
   "id": "e7d6aea1",
   "metadata": {},
   "outputs": [
    {
     "data": {
      "text/plain": [
       "{'rain': 0.2, 'sun': 0.2, 'clouds': 0.2, 'snow': 0.2, 'fog': 0.2}"
      ]
     },
     "execution_count": 154,
     "metadata": {},
     "output_type": "execute_result"
    }
   ],
   "source": [
    "Weather = ProbDist(\n",
    "    rain = 1,\n",
    "    sun = 1,\n",
    "    clouds = 1,\n",
    "    snow = 1,\n",
    "    fog = 1\n",
    ")\n",
    "\n",
    "Weather"
   ]
  },
  {
   "cell_type": "code",
   "execution_count": 155,
   "id": "3dcf83cf",
   "metadata": {},
   "outputs": [
    {
     "data": {
      "text/plain": [
       "{'rain rain': 0.03999999999999998,\n",
       " 'rain sun': 0.03999999999999998,\n",
       " 'rain clouds': 0.03999999999999998,\n",
       " 'rain snow': 0.03999999999999998,\n",
       " 'rain fog': 0.03999999999999998,\n",
       " 'sun rain': 0.03999999999999998,\n",
       " 'sun sun': 0.03999999999999998,\n",
       " 'sun clouds': 0.03999999999999998,\n",
       " 'sun snow': 0.03999999999999998,\n",
       " 'sun fog': 0.03999999999999998,\n",
       " 'clouds rain': 0.03999999999999998,\n",
       " 'clouds sun': 0.03999999999999998,\n",
       " 'clouds clouds': 0.03999999999999998,\n",
       " 'clouds snow': 0.03999999999999998,\n",
       " 'clouds fog': 0.03999999999999998,\n",
       " 'snow rain': 0.03999999999999998,\n",
       " 'snow sun': 0.03999999999999998,\n",
       " 'snow clouds': 0.03999999999999998,\n",
       " 'snow snow': 0.03999999999999998,\n",
       " 'snow fog': 0.03999999999999998,\n",
       " 'fog rain': 0.03999999999999998,\n",
       " 'fog sun': 0.03999999999999998,\n",
       " 'fog clouds': 0.03999999999999998,\n",
       " 'fog snow': 0.03999999999999998,\n",
       " 'fog fog': 0.03999999999999998}"
      ]
     },
     "execution_count": 155,
     "metadata": {},
     "output_type": "execute_result"
    }
   ],
   "source": [
    "def joint(A, B, sep=\"\"):\n",
    "    \"\"\"The joint distribution of two independent probability distributions. \n",
    "    Result is all entries of the form {a+sep+b: P(a)*P(b)}\"\"\"\n",
    "    return ProbDist({a + sep + b: A[a] * B[b]\n",
    "                    for a in A\n",
    "                    for b in B})\n",
    "\n",
    "# The probability distribution of all five waethers on two days:\n",
    "TwoWeather = joint(Weather, Weather, sep=\" \")\n",
    "TwoWeather"
   ]
  },
  {
   "cell_type": "code",
   "execution_count": 156,
   "id": "841ea5f8",
   "metadata": {},
   "outputs": [
    {
     "data": {
      "text/plain": [
       "{'MV MV': 0.03569064080232656,\n",
       " 'MV CL': 0.024805518680795884,\n",
       " 'MV SP': 0.024596189409227986,\n",
       " 'MV GR': 0.02124692106414162,\n",
       " 'MV CS': 0.02114225642835767,\n",
       " 'MV LH': 0.01779298808327131,\n",
       " 'MV LN': 0.010466463578394886,\n",
       " 'MV EO': 0.0069078659617406255,\n",
       " 'MV FA': 0.006175213511252983,\n",
       " 'MV VB': 0.004814573246061648,\n",
       " 'MV DR': 0.003035274437734517,\n",
       " 'MV SV': 0.0025119512588147727,\n",
       " 'MV PG': 0.002407286623030824,\n",
       " 'MV KM': 0.0023026219872468753,\n",
       " 'MV LS': 0.0013606402651913352,\n",
       " 'MV MS': 0.0012559756294073863,\n",
       " 'MV YT': 0.0011513109936234377,\n",
       " 'MV ZG': 0.0006279878147036932,\n",
       " 'MV AA': 0.0004186585431357955,\n",
       " 'MV NDV': 0.00020932927156789774,\n",
       " 'MV NL': 0.0,\n",
       " 'MV NH': 0.0,\n",
       " 'CL MV': 0.024805518680795884,\n",
       " 'CL CL': 0.01724019920043585,\n",
       " 'CL SP': 0.017094712287352,\n",
       " 'CL GR': 0.014766921678010452,\n",
       " 'CL CS': 0.014694178221468528,\n",
       " 'CL LH': 0.01236638761212698,\n",
       " 'CL LN': 0.007274345654192341,\n",
       " 'CL EO': 0.004801068131766946,\n",
       " 'CL FA': 0.004291863935973481,\n",
       " 'CL VB': 0.003346199000928477,\n",
       " 'CL DR': 0.002109560239715779,\n",
       " 'CL SV': 0.0017458429570061617,\n",
       " 'CL PG': 0.0016730995004642386,\n",
       " 'CL KM': 0.001600356043922315,\n",
       " 'CL LS': 0.0009456649350450043,\n",
       " 'CL MS': 0.0008729214785030808,\n",
       " 'CL YT': 0.0008001780219611575,\n",
       " 'CL ZG': 0.0004364607392515404,\n",
       " 'CL AA': 0.00029097382616769365,\n",
       " 'CL NDV': 0.00014548691308384682,\n",
       " 'CL NL': 0.0,\n",
       " 'CL NH': 0.0,\n",
       " 'SP MV': 0.024596189409227986,\n",
       " 'SP CL': 0.017094712287352,\n",
       " 'SP SP': 0.01695045311193131,\n",
       " 'SP GR': 0.014642306305200237,\n",
       " 'SP CS': 0.014570176717489891,\n",
       " 'SP LH': 0.01226202991075882,\n",
       " 'SP LN': 0.007212958771034599,\n",
       " 'SP EO': 0.004760552788882836,\n",
       " 'SP FA': 0.004255645674910414,\n",
       " 'SP VB': 0.003317961034675916,\n",
       " 'SP DR': 0.0020917580436000337,\n",
       " 'SP SV': 0.0017311101050483037,\n",
       " 'SP PG': 0.001658980517337958,\n",
       " 'SP KM': 0.001586850929627612,\n",
       " 'SP LS': 0.000937684640234498,\n",
       " 'SP MS': 0.0008655550525241519,\n",
       " 'SP YT': 0.000793425464813806,\n",
       " 'SP ZG': 0.00043277752626207593,\n",
       " 'SP AA': 0.000288518350841384,\n",
       " 'SP NDV': 0.000144259175420692,\n",
       " 'SP NL': 0.0,\n",
       " 'SP NH': 0.0,\n",
       " 'GR MV': 0.02124692106414162,\n",
       " 'GR CL': 0.014766921678010452,\n",
       " 'GR SP': 0.014642306305200237,\n",
       " 'GR GR': 0.012648460340236799,\n",
       " 'GR CS': 0.012586152653831692,\n",
       " 'GR LH': 0.010592306688868257,\n",
       " 'GR LN': 0.0062307686405107384,\n",
       " 'GR EO': 0.004112307302737088,\n",
       " 'GR FA': 0.003676153497901336,\n",
       " 'GR VB': 0.00286615357463494,\n",
       " 'GR DR': 0.0018069229057481144,\n",
       " 'GR SV': 0.0014953844737225772,\n",
       " 'GR PG': 0.00143307678731747,\n",
       " 'GR KM': 0.0013707691009123626,\n",
       " 'GR LS': 0.000809999923266396,\n",
       " 'GR MS': 0.0007476922368612886,\n",
       " 'GR YT': 0.0006853845504561813,\n",
       " 'GR ZG': 0.0003738461184306443,\n",
       " 'GR AA': 0.00024923074562042957,\n",
       " 'GR NDV': 0.00012461537281021479,\n",
       " 'GR NL': 0.0,\n",
       " 'GR NH': 0.0,\n",
       " 'CS MV': 0.02114225642835767,\n",
       " 'CS CL': 0.014694178221468528,\n",
       " 'CS SP': 0.014570176717489891,\n",
       " 'CS GR': 0.012586152653831692,\n",
       " 'CS CS': 0.012524151901842374,\n",
       " 'CS LH': 0.010540127838184176,\n",
       " 'CS LN': 0.006200075198931868,\n",
       " 'CS EO': 0.004092049631295033,\n",
       " 'CS FA': 0.003658044367369802,\n",
       " 'CS VB': 0.0028520345915086596,\n",
       " 'CS DR': 0.0017980218076902419,\n",
       " 'CS SV': 0.0014880180477436483,\n",
       " 'CS PG': 0.0014260172957543298,\n",
       " 'CS KM': 0.0013640165437650111,\n",
       " 'CS LS': 0.0008060097758611428,\n",
       " 'CS MS': 0.0007440090238718241,\n",
       " 'CS YT': 0.0006820082718825056,\n",
       " 'CS ZG': 0.00037200451193591206,\n",
       " 'CS AA': 0.00024800300795727476,\n",
       " 'CS NDV': 0.00012400150397863738,\n",
       " 'CS NL': 0.0,\n",
       " 'CS NH': 0.0,\n",
       " 'LH MV': 0.01779298808327131,\n",
       " 'LH CL': 0.01236638761212698,\n",
       " 'LH SP': 0.01226202991075882,\n",
       " 'LH GR': 0.010592306688868257,\n",
       " 'LH CS': 0.010540127838184176,\n",
       " 'LH LH': 0.008870404616293614,\n",
       " 'LH LN': 0.005217885068408008,\n",
       " 'LH EO': 0.0034438041451492858,\n",
       " 'LH FA': 0.003078552190360725,\n",
       " 'LH VB': 0.002400227131467684,\n",
       " 'LH DR': 0.0015131866698383223,\n",
       " 'LH SV': 0.001252292416417922,\n",
       " 'LH PG': 0.001200113565733842,\n",
       " 'LH KM': 0.0011479347150497618,\n",
       " 'LH LS': 0.0006783250588930411,\n",
       " 'LH MS': 0.000626146208208961,\n",
       " 'LH YT': 0.0005739673575248809,\n",
       " 'LH ZG': 0.0003130731041044805,\n",
       " 'LH AA': 0.00020871540273632034,\n",
       " 'LH NDV': 0.00010435770136816017,\n",
       " 'LH NL': 0.0,\n",
       " 'LH NH': 0.0,\n",
       " 'LN MV': 0.010466463578394886,\n",
       " 'LN CL': 0.007274345654192341,\n",
       " 'LN SP': 0.007212958771034599,\n",
       " 'LN GR': 0.0062307686405107384,\n",
       " 'LN CS': 0.006200075198931868,\n",
       " 'LN LH': 0.005217885068408008,\n",
       " 'LN LN': 0.003069344157887063,\n",
       " 'LN EO': 0.002025767144205462,\n",
       " 'LN FA': 0.0018109130531533675,\n",
       " 'LN VB': 0.0014118983126280493,\n",
       " 'LN DR': 0.0008901098057872484,\n",
       " 'LN SV': 0.0007366425978928952,\n",
       " 'LN PG': 0.0007059491563140246,\n",
       " 'LN KM': 0.000675255714735154,\n",
       " 'LN LS': 0.00039901474052531826,\n",
       " 'LN MS': 0.0003683212989464476,\n",
       " 'LN YT': 0.000337627857367577,\n",
       " 'LN ZG': 0.0001841606494732238,\n",
       " 'LN AA': 0.00012277376631548254,\n",
       " 'LN NDV': 6.138688315774127e-05,\n",
       " 'LN NL': 0.0,\n",
       " 'LN NH': 0.0,\n",
       " 'EO MV': 0.0069078659617406255,\n",
       " 'EO CL': 0.004801068131766946,\n",
       " 'EO SP': 0.004760552788882836,\n",
       " 'EO GR': 0.004112307302737088,\n",
       " 'EO CS': 0.004092049631295033,\n",
       " 'EO LH': 0.0034438041451492858,\n",
       " 'EO LN': 0.002025767144205462,\n",
       " 'EO EO': 0.0013370063151756052,\n",
       " 'EO FA': 0.0011952026150812227,\n",
       " 'EO VB': 0.0009318528863345127,\n",
       " 'EO DR': 0.0005874724718195841,\n",
       " 'EO SV': 0.0004861841146093109,\n",
       " 'EO PG': 0.00046592644316725633,\n",
       " 'EO KM': 0.0004456687717252017,\n",
       " 'EO LS': 0.0002633497287467101,\n",
       " 'EO MS': 0.00024309205730465544,\n",
       " 'EO YT': 0.00022283438586260084,\n",
       " 'EO ZG': 0.00012154602865232772,\n",
       " 'EO AA': 8.103068576821849e-05,\n",
       " 'EO NDV': 4.051534288410924e-05,\n",
       " 'EO NL': 0.0,\n",
       " 'EO NH': 0.0,\n",
       " 'FA MV': 0.006175213511252983,\n",
       " 'FA CL': 0.004291863935973481,\n",
       " 'FA SP': 0.004255645674910414,\n",
       " 'FA GR': 0.003676153497901336,\n",
       " 'FA CS': 0.003658044367369802,\n",
       " 'FA LH': 0.003078552190360725,\n",
       " 'FA LN': 0.0018109130531533675,\n",
       " 'FA EO': 0.0011952026150812227,\n",
       " 'FA FA': 0.001068438701360487,\n",
       " 'FA VB': 0.0008330200044505492,\n",
       " 'FA DR': 0.0005251647854144766,\n",
       " 'FA SV': 0.00043461913275680817,\n",
       " 'FA PG': 0.0004165100022252746,\n",
       " 'FA KM': 0.0003984008716937409,\n",
       " 'FA LS': 0.0002354186969099378,\n",
       " 'FA MS': 0.00021730956637840409,\n",
       " 'FA YT': 0.00019920043584687044,\n",
       " 'FA ZG': 0.00010865478318920204,\n",
       " 'FA AA': 7.243652212613471e-05,\n",
       " 'FA NDV': 3.6218261063067354e-05,\n",
       " 'FA NL': 0.0,\n",
       " 'FA NH': 0.0,\n",
       " 'VB MV': 0.004814573246061648,\n",
       " 'VB CL': 0.003346199000928477,\n",
       " 'VB SP': 0.003317961034675916,\n",
       " 'VB GR': 0.00286615357463494,\n",
       " 'VB CS': 0.0028520345915086596,\n",
       " 'VB LH': 0.002400227131467684,\n",
       " 'VB LN': 0.0014118983126280493,\n",
       " 'VB EO': 0.0009318528863345127,\n",
       " 'VB FA': 0.0008330200044505492,\n",
       " 'VB VB': 0.0006494732238089027,\n",
       " 'VB DR': 0.00040945051066213433,\n",
       " 'VB SV': 0.0003388555950307318,\n",
       " 'VB PG': 0.0003247366119044514,\n",
       " 'VB KM': 0.00031061762877817087,\n",
       " 'VB LS': 0.0001835467806416464,\n",
       " 'VB MS': 0.0001694277975153659,\n",
       " 'VB YT': 0.00015530881438908544,\n",
       " 'VB ZG': 8.471389875768296e-05,\n",
       " 'VB AA': 5.647593250512198e-05,\n",
       " 'VB NDV': 2.823796625256099e-05,\n",
       " 'VB NL': 0.0,\n",
       " 'VB NH': 0.0,\n",
       " 'DR MV': 0.003035274437734517,\n",
       " 'DR CL': 0.002109560239715779,\n",
       " 'DR SP': 0.0020917580436000337,\n",
       " 'DR GR': 0.0018069229057481144,\n",
       " 'DR CS': 0.0017980218076902419,\n",
       " 'DR LH': 0.0015131866698383223,\n",
       " 'DR LN': 0.0008901098057872484,\n",
       " 'DR EO': 0.0005874724718195841,\n",
       " 'DR FA': 0.0005251647854144766,\n",
       " 'DR VB': 0.00040945051066213433,\n",
       " 'DR DR': 0.00025813184367830206,\n",
       " 'DR SV': 0.00021362635338893963,\n",
       " 'DR PG': 0.00020472525533106716,\n",
       " 'DR KM': 0.00019582415727319467,\n",
       " 'DR LS': 0.0001157142747523423,\n",
       " 'DR MS': 0.00010681317669446981,\n",
       " 'DR YT': 9.791207863659734e-05,\n",
       " 'DR ZG': 5.340658834723491e-05,\n",
       " 'DR AA': 3.560439223148994e-05,\n",
       " 'DR NDV': 1.780219611574497e-05,\n",
       " 'DR NL': 0.0,\n",
       " 'DR NH': 0.0,\n",
       " 'SV MV': 0.0025119512588147727,\n",
       " 'SV CL': 0.0017458429570061617,\n",
       " 'SV SP': 0.0017311101050483037,\n",
       " 'SV GR': 0.0014953844737225772,\n",
       " 'SV CS': 0.0014880180477436483,\n",
       " 'SV LH': 0.001252292416417922,\n",
       " 'SV LN': 0.0007366425978928952,\n",
       " 'SV EO': 0.0004861841146093109,\n",
       " 'SV FA': 0.00043461913275680817,\n",
       " 'SV VB': 0.0003388555950307318,\n",
       " 'SV DR': 0.00021362635338893963,\n",
       " 'SV SV': 0.00017679422349429485,\n",
       " 'SV PG': 0.0001694277975153659,\n",
       " 'SV KM': 0.00016206137153643694,\n",
       " 'SV LS': 9.576353772607638e-05,\n",
       " 'SV MS': 8.839711174714742e-05,\n",
       " 'SV YT': 8.103068576821847e-05,\n",
       " 'SV ZG': 4.419855587357371e-05,\n",
       " 'SV AA': 2.946570391571581e-05,\n",
       " 'SV NDV': 1.4732851957857905e-05,\n",
       " 'SV NL': 0.0,\n",
       " 'SV NH': 0.0,\n",
       " 'PG MV': 0.002407286623030824,\n",
       " 'PG CL': 0.0016730995004642386,\n",
       " 'PG SP': 0.001658980517337958,\n",
       " 'PG GR': 0.00143307678731747,\n",
       " 'PG CS': 0.0014260172957543298,\n",
       " 'PG LH': 0.001200113565733842,\n",
       " 'PG LN': 0.0007059491563140246,\n",
       " 'PG EO': 0.00046592644316725633,\n",
       " 'PG FA': 0.0004165100022252746,\n",
       " 'PG VB': 0.0003247366119044514,\n",
       " 'PG DR': 0.00020472525533106716,\n",
       " 'PG SV': 0.0001694277975153659,\n",
       " 'PG PG': 0.0001623683059522257,\n",
       " 'PG KM': 0.00015530881438908544,\n",
       " 'PG LS': 9.17733903208232e-05,\n",
       " 'PG MS': 8.471389875768296e-05,\n",
       " 'PG YT': 7.765440719454272e-05,\n",
       " 'PG ZG': 4.235694937884148e-05,\n",
       " 'PG AA': 2.823796625256099e-05,\n",
       " 'PG NDV': 1.4118983126280495e-05,\n",
       " 'PG NL': 0.0,\n",
       " 'PG NH': 0.0,\n",
       " 'KM MV': 0.0023026219872468753,\n",
       " 'KM CL': 0.001600356043922315,\n",
       " 'KM SP': 0.001586850929627612,\n",
       " 'KM GR': 0.0013707691009123626,\n",
       " 'KM CS': 0.0013640165437650111,\n",
       " 'KM LH': 0.0011479347150497618,\n",
       " 'KM LN': 0.000675255714735154,\n",
       " 'KM EO': 0.0004456687717252017,\n",
       " 'KM FA': 0.0003984008716937409,\n",
       " 'KM VB': 0.00031061762877817087,\n",
       " 'KM DR': 0.00019582415727319467,\n",
       " 'KM SV': 0.00016206137153643694,\n",
       " 'KM PG': 0.00015530881438908544,\n",
       " 'KM KM': 0.00014855625724173387,\n",
       " 'KM LS': 8.778324291557002e-05,\n",
       " 'KM MS': 8.103068576821847e-05,\n",
       " 'KM YT': 7.427812862086694e-05,\n",
       " 'KM ZG': 4.0515342884109236e-05,\n",
       " 'KM AA': 2.7010228589406163e-05,\n",
       " 'KM NDV': 1.3505114294703081e-05,\n",
       " 'KM NL': 0.0,\n",
       " 'KM NH': 0.0,\n",
       " 'LS MV': 0.0013606402651913352,\n",
       " 'LS CL': 0.0009456649350450043,\n",
       " 'LS SP': 0.000937684640234498,\n",
       " 'LS GR': 0.000809999923266396,\n",
       " 'LS CS': 0.0008060097758611428,\n",
       " 'LS LH': 0.0006783250588930411,\n",
       " 'LS LN': 0.00039901474052531826,\n",
       " 'LS EO': 0.0002633497287467101,\n",
       " 'LS FA': 0.0002354186969099378,\n",
       " 'LS VB': 0.0001835467806416464,\n",
       " 'LS DR': 0.0001157142747523423,\n",
       " 'LS SV': 9.576353772607638e-05,\n",
       " 'LS PG': 9.17733903208232e-05,\n",
       " 'LS KM': 8.778324291557002e-05,\n",
       " 'LS LS': 5.1871916268291375e-05,\n",
       " 'LS MS': 4.788176886303819e-05,\n",
       " 'LS YT': 4.389162145778501e-05,\n",
       " 'LS ZG': 2.3940884431519095e-05,\n",
       " 'LS AA': 1.596058962101273e-05,\n",
       " 'LS NDV': 7.980294810506365e-06,\n",
       " 'LS NL': 0.0,\n",
       " 'LS NH': 0.0,\n",
       " 'MS MV': 0.0012559756294073863,\n",
       " 'MS CL': 0.0008729214785030808,\n",
       " 'MS SP': 0.0008655550525241519,\n",
       " 'MS GR': 0.0007476922368612886,\n",
       " 'MS CS': 0.0007440090238718241,\n",
       " 'MS LH': 0.000626146208208961,\n",
       " 'MS LN': 0.0003683212989464476,\n",
       " 'MS EO': 0.00024309205730465544,\n",
       " 'MS FA': 0.00021730956637840409,\n",
       " 'MS VB': 0.0001694277975153659,\n",
       " 'MS DR': 0.00010681317669446981,\n",
       " 'MS SV': 8.839711174714742e-05,\n",
       " 'MS PG': 8.471389875768296e-05,\n",
       " 'MS KM': 8.103068576821847e-05,\n",
       " 'MS LS': 4.788176886303819e-05,\n",
       " 'MS MS': 4.419855587357371e-05,\n",
       " 'MS YT': 4.0515342884109236e-05,\n",
       " 'MS ZG': 2.2099277936786856e-05,\n",
       " 'MS AA': 1.4732851957857905e-05,\n",
       " 'MS NDV': 7.366425978928952e-06,\n",
       " 'MS NL': 0.0,\n",
       " 'MS NH': 0.0,\n",
       " 'YT MV': 0.0011513109936234377,\n",
       " 'YT CL': 0.0008001780219611575,\n",
       " 'YT SP': 0.000793425464813806,\n",
       " 'YT GR': 0.0006853845504561813,\n",
       " 'YT CS': 0.0006820082718825056,\n",
       " 'YT LH': 0.0005739673575248809,\n",
       " 'YT LN': 0.000337627857367577,\n",
       " 'YT EO': 0.00022283438586260084,\n",
       " 'YT FA': 0.00019920043584687044,\n",
       " 'YT VB': 0.00015530881438908544,\n",
       " 'YT DR': 9.791207863659734e-05,\n",
       " 'YT SV': 8.103068576821847e-05,\n",
       " 'YT PG': 7.765440719454272e-05,\n",
       " 'YT KM': 7.427812862086694e-05,\n",
       " 'YT LS': 4.389162145778501e-05,\n",
       " 'YT MS': 4.0515342884109236e-05,\n",
       " 'YT YT': 3.713906431043347e-05,\n",
       " 'YT ZG': 2.0257671442054618e-05,\n",
       " 'YT AA': 1.3505114294703081e-05,\n",
       " 'YT NDV': 6.752557147351541e-06,\n",
       " 'YT NL': 0.0,\n",
       " 'YT NH': 0.0,\n",
       " 'ZG MV': 0.0006279878147036932,\n",
       " 'ZG CL': 0.0004364607392515404,\n",
       " 'ZG SP': 0.00043277752626207593,\n",
       " 'ZG GR': 0.0003738461184306443,\n",
       " 'ZG CS': 0.00037200451193591206,\n",
       " 'ZG LH': 0.0003130731041044805,\n",
       " 'ZG LN': 0.0001841606494732238,\n",
       " 'ZG EO': 0.00012154602865232772,\n",
       " 'ZG FA': 0.00010865478318920204,\n",
       " 'ZG VB': 8.471389875768296e-05,\n",
       " 'ZG DR': 5.340658834723491e-05,\n",
       " 'ZG SV': 4.419855587357371e-05,\n",
       " 'ZG PG': 4.235694937884148e-05,\n",
       " 'ZG KM': 4.0515342884109236e-05,\n",
       " 'ZG LS': 2.3940884431519095e-05,\n",
       " 'ZG MS': 2.2099277936786856e-05,\n",
       " 'ZG YT': 2.0257671442054618e-05,\n",
       " 'ZG ZG': 1.1049638968393428e-05,\n",
       " 'ZG AA': 7.366425978928952e-06,\n",
       " 'ZG NDV': 3.683212989464476e-06,\n",
       " 'ZG NL': 0.0,\n",
       " 'ZG NH': 0.0,\n",
       " 'AA MV': 0.0004186585431357955,\n",
       " 'AA CL': 0.00029097382616769365,\n",
       " 'AA SP': 0.000288518350841384,\n",
       " 'AA GR': 0.00024923074562042957,\n",
       " 'AA CS': 0.00024800300795727476,\n",
       " 'AA LH': 0.00020871540273632034,\n",
       " 'AA LN': 0.00012277376631548254,\n",
       " 'AA EO': 8.103068576821849e-05,\n",
       " 'AA FA': 7.243652212613471e-05,\n",
       " 'AA VB': 5.647593250512198e-05,\n",
       " 'AA DR': 3.560439223148994e-05,\n",
       " 'AA SV': 2.946570391571581e-05,\n",
       " 'AA PG': 2.823796625256099e-05,\n",
       " 'AA KM': 2.7010228589406163e-05,\n",
       " 'AA LS': 1.596058962101273e-05,\n",
       " 'AA MS': 1.4732851957857905e-05,\n",
       " 'AA YT': 1.3505114294703081e-05,\n",
       " 'AA ZG': 7.366425978928952e-06,\n",
       " 'AA AA': 4.910950652619302e-06,\n",
       " 'AA NDV': 2.455475326309651e-06,\n",
       " 'AA NL': 0.0,\n",
       " 'AA NH': 0.0,\n",
       " 'NDV MV': 0.00020932927156789774,\n",
       " 'NDV CL': 0.00014548691308384682,\n",
       " 'NDV SP': 0.000144259175420692,\n",
       " 'NDV GR': 0.00012461537281021479,\n",
       " 'NDV CS': 0.00012400150397863738,\n",
       " 'NDV LH': 0.00010435770136816017,\n",
       " 'NDV LN': 6.138688315774127e-05,\n",
       " 'NDV EO': 4.051534288410924e-05,\n",
       " 'NDV FA': 3.6218261063067354e-05,\n",
       " 'NDV VB': 2.823796625256099e-05,\n",
       " 'NDV DR': 1.780219611574497e-05,\n",
       " 'NDV SV': 1.4732851957857905e-05,\n",
       " 'NDV PG': 1.4118983126280495e-05,\n",
       " 'NDV KM': 1.3505114294703081e-05,\n",
       " 'NDV LS': 7.980294810506365e-06,\n",
       " 'NDV MS': 7.366425978928952e-06,\n",
       " 'NDV YT': 6.752557147351541e-06,\n",
       " 'NDV ZG': 3.683212989464476e-06,\n",
       " 'NDV AA': 2.455475326309651e-06,\n",
       " 'NDV NDV': 1.2277376631548256e-06,\n",
       " 'NDV NL': 0.0,\n",
       " 'NDV NH': 0.0,\n",
       " 'NL MV': 0.0,\n",
       " 'NL CL': 0.0,\n",
       " 'NL SP': 0.0,\n",
       " 'NL GR': 0.0,\n",
       " 'NL CS': 0.0,\n",
       " 'NL LH': 0.0,\n",
       " 'NL LN': 0.0,\n",
       " 'NL EO': 0.0,\n",
       " 'NL FA': 0.0,\n",
       " 'NL VB': 0.0,\n",
       " 'NL DR': 0.0,\n",
       " 'NL SV': 0.0,\n",
       " 'NL PG': 0.0,\n",
       " 'NL KM': 0.0,\n",
       " 'NL LS': 0.0,\n",
       " 'NL MS': 0.0,\n",
       " 'NL YT': 0.0,\n",
       " 'NL ZG': 0.0,\n",
       " 'NL AA': 0.0,\n",
       " 'NL NDV': 0.0,\n",
       " 'NL NL': 0.0,\n",
       " 'NL NH': 0.0,\n",
       " 'NH MV': 0.0,\n",
       " 'NH CL': 0.0,\n",
       " 'NH SP': 0.0,\n",
       " 'NH GR': 0.0,\n",
       " 'NH CS': 0.0,\n",
       " 'NH LH': 0.0,\n",
       " 'NH LN': 0.0,\n",
       " 'NH EO': 0.0,\n",
       " 'NH FA': 0.0,\n",
       " 'NH VB': 0.0,\n",
       " 'NH DR': 0.0,\n",
       " 'NH SV': 0.0,\n",
       " 'NH PG': 0.0,\n",
       " 'NH KM': 0.0,\n",
       " 'NH LS': 0.0,\n",
       " 'NH MS': 0.0,\n",
       " 'NH YT': 0.0,\n",
       " 'NH ZG': 0.0,\n",
       " 'NH AA': 0.0,\n",
       " 'NH NDV': 0.0,\n",
       " 'NH NL': 0.0,\n",
       " 'NH NH': 0.0}"
      ]
     },
     "execution_count": 156,
     "metadata": {},
     "output_type": "execute_result"
    }
   ],
   "source": [
    "# The probability distribution of all drivers win on two days\n",
    "\n",
    "TwoRace = joint(NGP, IGP, sep = \" \")\n",
    "TwoRace"
   ]
  },
  {
   "cell_type": "code",
   "execution_count": 157,
   "id": "da3e4b0e",
   "metadata": {},
   "outputs": [
    {
     "data": {
      "text/plain": [
       "{'MV MV rain rain': 0.0014276256320930269,\n",
       " 'MV MV rain sun': 0.0014276256320930269,\n",
       " 'MV MV rain clouds': 0.0014276256320930269,\n",
       " 'MV MV rain snow': 0.0014276256320930269,\n",
       " 'MV MV rain fog': 0.0014276256320930269,\n",
       " 'MV MV sun rain': 0.0014276256320930269,\n",
       " 'MV MV sun sun': 0.0014276256320930269,\n",
       " 'MV MV sun clouds': 0.0014276256320930269,\n",
       " 'MV MV sun snow': 0.0014276256320930269,\n",
       " 'MV MV sun fog': 0.0014276256320930269,\n",
       " 'MV MV clouds rain': 0.0014276256320930269,\n",
       " 'MV MV clouds sun': 0.0014276256320930269,\n",
       " 'MV MV clouds clouds': 0.0014276256320930269,\n",
       " 'MV MV clouds snow': 0.0014276256320930269,\n",
       " 'MV MV clouds fog': 0.0014276256320930269,\n",
       " 'MV MV snow rain': 0.0014276256320930269,\n",
       " 'MV MV snow sun': 0.0014276256320930269,\n",
       " 'MV MV snow clouds': 0.0014276256320930269,\n",
       " 'MV MV snow snow': 0.0014276256320930269,\n",
       " 'MV MV snow fog': 0.0014276256320930269,\n",
       " 'MV MV fog rain': 0.0014276256320930269,\n",
       " 'MV MV fog sun': 0.0014276256320930269,\n",
       " 'MV MV fog clouds': 0.0014276256320930269,\n",
       " 'MV MV fog snow': 0.0014276256320930269,\n",
       " 'MV MV fog fog': 0.0014276256320930269,\n",
       " 'MV CL rain rain': 0.0009922207472318105,\n",
       " 'MV CL rain sun': 0.0009922207472318105,\n",
       " 'MV CL rain clouds': 0.0009922207472318105,\n",
       " 'MV CL rain snow': 0.0009922207472318105,\n",
       " 'MV CL rain fog': 0.0009922207472318105,\n",
       " 'MV CL sun rain': 0.0009922207472318105,\n",
       " 'MV CL sun sun': 0.0009922207472318105,\n",
       " 'MV CL sun clouds': 0.0009922207472318105,\n",
       " 'MV CL sun snow': 0.0009922207472318105,\n",
       " 'MV CL sun fog': 0.0009922207472318105,\n",
       " 'MV CL clouds rain': 0.0009922207472318105,\n",
       " 'MV CL clouds sun': 0.0009922207472318105,\n",
       " 'MV CL clouds clouds': 0.0009922207472318105,\n",
       " 'MV CL clouds snow': 0.0009922207472318105,\n",
       " 'MV CL clouds fog': 0.0009922207472318105,\n",
       " 'MV CL snow rain': 0.0009922207472318105,\n",
       " 'MV CL snow sun': 0.0009922207472318105,\n",
       " 'MV CL snow clouds': 0.0009922207472318105,\n",
       " 'MV CL snow snow': 0.0009922207472318105,\n",
       " 'MV CL snow fog': 0.0009922207472318105,\n",
       " 'MV CL fog rain': 0.0009922207472318105,\n",
       " 'MV CL fog sun': 0.0009922207472318105,\n",
       " 'MV CL fog clouds': 0.0009922207472318105,\n",
       " 'MV CL fog snow': 0.0009922207472318105,\n",
       " 'MV CL fog fog': 0.0009922207472318105,\n",
       " 'MV SP rain rain': 0.000983847576369095,\n",
       " 'MV SP rain sun': 0.000983847576369095,\n",
       " 'MV SP rain clouds': 0.000983847576369095,\n",
       " 'MV SP rain snow': 0.000983847576369095,\n",
       " 'MV SP rain fog': 0.000983847576369095,\n",
       " 'MV SP sun rain': 0.000983847576369095,\n",
       " 'MV SP sun sun': 0.000983847576369095,\n",
       " 'MV SP sun clouds': 0.000983847576369095,\n",
       " 'MV SP sun snow': 0.000983847576369095,\n",
       " 'MV SP sun fog': 0.000983847576369095,\n",
       " 'MV SP clouds rain': 0.000983847576369095,\n",
       " 'MV SP clouds sun': 0.000983847576369095,\n",
       " 'MV SP clouds clouds': 0.000983847576369095,\n",
       " 'MV SP clouds snow': 0.000983847576369095,\n",
       " 'MV SP clouds fog': 0.000983847576369095,\n",
       " 'MV SP snow rain': 0.000983847576369095,\n",
       " 'MV SP snow sun': 0.000983847576369095,\n",
       " 'MV SP snow clouds': 0.000983847576369095,\n",
       " 'MV SP snow snow': 0.000983847576369095,\n",
       " 'MV SP snow fog': 0.000983847576369095,\n",
       " 'MV SP fog rain': 0.000983847576369095,\n",
       " 'MV SP fog sun': 0.000983847576369095,\n",
       " 'MV SP fog clouds': 0.000983847576369095,\n",
       " 'MV SP fog snow': 0.000983847576369095,\n",
       " 'MV SP fog fog': 0.000983847576369095,\n",
       " 'MV GR rain rain': 0.0008498768425656437,\n",
       " 'MV GR rain sun': 0.0008498768425656437,\n",
       " 'MV GR rain clouds': 0.0008498768425656437,\n",
       " 'MV GR rain snow': 0.0008498768425656437,\n",
       " 'MV GR rain fog': 0.0008498768425656437,\n",
       " 'MV GR sun rain': 0.0008498768425656437,\n",
       " 'MV GR sun sun': 0.0008498768425656437,\n",
       " 'MV GR sun clouds': 0.0008498768425656437,\n",
       " 'MV GR sun snow': 0.0008498768425656437,\n",
       " 'MV GR sun fog': 0.0008498768425656437,\n",
       " 'MV GR clouds rain': 0.0008498768425656437,\n",
       " 'MV GR clouds sun': 0.0008498768425656437,\n",
       " 'MV GR clouds clouds': 0.0008498768425656437,\n",
       " 'MV GR clouds snow': 0.0008498768425656437,\n",
       " 'MV GR clouds fog': 0.0008498768425656437,\n",
       " 'MV GR snow rain': 0.0008498768425656437,\n",
       " 'MV GR snow sun': 0.0008498768425656437,\n",
       " 'MV GR snow clouds': 0.0008498768425656437,\n",
       " 'MV GR snow snow': 0.0008498768425656437,\n",
       " 'MV GR snow fog': 0.0008498768425656437,\n",
       " 'MV GR fog rain': 0.0008498768425656437,\n",
       " 'MV GR fog sun': 0.0008498768425656437,\n",
       " 'MV GR fog clouds': 0.0008498768425656437,\n",
       " 'MV GR fog snow': 0.0008498768425656437,\n",
       " 'MV GR fog fog': 0.0008498768425656437,\n",
       " 'MV CS rain rain': 0.0008456902571342857,\n",
       " 'MV CS rain sun': 0.0008456902571342857,\n",
       " 'MV CS rain clouds': 0.0008456902571342857,\n",
       " 'MV CS rain snow': 0.0008456902571342857,\n",
       " 'MV CS rain fog': 0.0008456902571342857,\n",
       " 'MV CS sun rain': 0.0008456902571342857,\n",
       " 'MV CS sun sun': 0.0008456902571342857,\n",
       " 'MV CS sun clouds': 0.0008456902571342857,\n",
       " 'MV CS sun snow': 0.0008456902571342857,\n",
       " 'MV CS sun fog': 0.0008456902571342857,\n",
       " 'MV CS clouds rain': 0.0008456902571342857,\n",
       " 'MV CS clouds sun': 0.0008456902571342857,\n",
       " 'MV CS clouds clouds': 0.0008456902571342857,\n",
       " 'MV CS clouds snow': 0.0008456902571342857,\n",
       " 'MV CS clouds fog': 0.0008456902571342857,\n",
       " 'MV CS snow rain': 0.0008456902571342857,\n",
       " 'MV CS snow sun': 0.0008456902571342857,\n",
       " 'MV CS snow clouds': 0.0008456902571342857,\n",
       " 'MV CS snow snow': 0.0008456902571342857,\n",
       " 'MV CS snow fog': 0.0008456902571342857,\n",
       " 'MV CS fog rain': 0.0008456902571342857,\n",
       " 'MV CS fog sun': 0.0008456902571342857,\n",
       " 'MV CS fog clouds': 0.0008456902571342857,\n",
       " 'MV CS fog snow': 0.0008456902571342857,\n",
       " 'MV CS fog fog': 0.0008456902571342857,\n",
       " 'MV LH rain rain': 0.0007117195233308347,\n",
       " 'MV LH rain sun': 0.0007117195233308347,\n",
       " 'MV LH rain clouds': 0.0007117195233308347,\n",
       " 'MV LH rain snow': 0.0007117195233308347,\n",
       " 'MV LH rain fog': 0.0007117195233308347,\n",
       " 'MV LH sun rain': 0.0007117195233308347,\n",
       " 'MV LH sun sun': 0.0007117195233308347,\n",
       " 'MV LH sun clouds': 0.0007117195233308347,\n",
       " 'MV LH sun snow': 0.0007117195233308347,\n",
       " 'MV LH sun fog': 0.0007117195233308347,\n",
       " 'MV LH clouds rain': 0.0007117195233308347,\n",
       " 'MV LH clouds sun': 0.0007117195233308347,\n",
       " 'MV LH clouds clouds': 0.0007117195233308347,\n",
       " 'MV LH clouds snow': 0.0007117195233308347,\n",
       " 'MV LH clouds fog': 0.0007117195233308347,\n",
       " 'MV LH snow rain': 0.0007117195233308347,\n",
       " 'MV LH snow sun': 0.0007117195233308347,\n",
       " 'MV LH snow clouds': 0.0007117195233308347,\n",
       " 'MV LH snow snow': 0.0007117195233308347,\n",
       " 'MV LH snow fog': 0.0007117195233308347,\n",
       " 'MV LH fog rain': 0.0007117195233308347,\n",
       " 'MV LH fog sun': 0.0007117195233308347,\n",
       " 'MV LH fog clouds': 0.0007117195233308347,\n",
       " 'MV LH fog snow': 0.0007117195233308347,\n",
       " 'MV LH fog fog': 0.0007117195233308347,\n",
       " 'MV LN rain rain': 0.000418658543135785,\n",
       " 'MV LN rain sun': 0.000418658543135785,\n",
       " 'MV LN rain clouds': 0.000418658543135785,\n",
       " 'MV LN rain snow': 0.000418658543135785,\n",
       " 'MV LN rain fog': 0.000418658543135785,\n",
       " 'MV LN sun rain': 0.000418658543135785,\n",
       " 'MV LN sun sun': 0.000418658543135785,\n",
       " 'MV LN sun clouds': 0.000418658543135785,\n",
       " 'MV LN sun snow': 0.000418658543135785,\n",
       " 'MV LN sun fog': 0.000418658543135785,\n",
       " 'MV LN clouds rain': 0.000418658543135785,\n",
       " 'MV LN clouds sun': 0.000418658543135785,\n",
       " 'MV LN clouds clouds': 0.000418658543135785,\n",
       " 'MV LN clouds snow': 0.000418658543135785,\n",
       " 'MV LN clouds fog': 0.000418658543135785,\n",
       " 'MV LN snow rain': 0.000418658543135785,\n",
       " 'MV LN snow sun': 0.000418658543135785,\n",
       " 'MV LN snow clouds': 0.000418658543135785,\n",
       " 'MV LN snow snow': 0.000418658543135785,\n",
       " 'MV LN snow fog': 0.000418658543135785,\n",
       " 'MV LN fog rain': 0.000418658543135785,\n",
       " 'MV LN fog sun': 0.000418658543135785,\n",
       " 'MV LN fog clouds': 0.000418658543135785,\n",
       " 'MV LN fog snow': 0.000418658543135785,\n",
       " 'MV LN fog fog': 0.000418658543135785,\n",
       " 'MV EO rain rain': 0.00027631463846961816,\n",
       " 'MV EO rain sun': 0.00027631463846961816,\n",
       " 'MV EO rain clouds': 0.00027631463846961816,\n",
       " 'MV EO rain snow': 0.00027631463846961816,\n",
       " 'MV EO rain fog': 0.00027631463846961816,\n",
       " 'MV EO sun rain': 0.00027631463846961816,\n",
       " 'MV EO sun sun': 0.00027631463846961816,\n",
       " 'MV EO sun clouds': 0.00027631463846961816,\n",
       " 'MV EO sun snow': 0.00027631463846961816,\n",
       " 'MV EO sun fog': 0.00027631463846961816,\n",
       " 'MV EO clouds rain': 0.00027631463846961816,\n",
       " 'MV EO clouds sun': 0.00027631463846961816,\n",
       " 'MV EO clouds clouds': 0.00027631463846961816,\n",
       " 'MV EO clouds snow': 0.00027631463846961816,\n",
       " 'MV EO clouds fog': 0.00027631463846961816,\n",
       " 'MV EO snow rain': 0.00027631463846961816,\n",
       " 'MV EO snow sun': 0.00027631463846961816,\n",
       " 'MV EO snow clouds': 0.00027631463846961816,\n",
       " 'MV EO snow snow': 0.00027631463846961816,\n",
       " 'MV EO snow fog': 0.00027631463846961816,\n",
       " 'MV EO fog rain': 0.00027631463846961816,\n",
       " 'MV EO fog sun': 0.00027631463846961816,\n",
       " 'MV EO fog clouds': 0.00027631463846961816,\n",
       " 'MV EO fog snow': 0.00027631463846961816,\n",
       " 'MV EO fog fog': 0.00027631463846961816,\n",
       " 'MV FA rain rain': 0.0002470085404501132,\n",
       " 'MV FA rain sun': 0.0002470085404501132,\n",
       " 'MV FA rain clouds': 0.0002470085404501132,\n",
       " 'MV FA rain snow': 0.0002470085404501132,\n",
       " 'MV FA rain fog': 0.0002470085404501132,\n",
       " 'MV FA sun rain': 0.0002470085404501132,\n",
       " 'MV FA sun sun': 0.0002470085404501132,\n",
       " 'MV FA sun clouds': 0.0002470085404501132,\n",
       " 'MV FA sun snow': 0.0002470085404501132,\n",
       " 'MV FA sun fog': 0.0002470085404501132,\n",
       " 'MV FA clouds rain': 0.0002470085404501132,\n",
       " 'MV FA clouds sun': 0.0002470085404501132,\n",
       " 'MV FA clouds clouds': 0.0002470085404501132,\n",
       " 'MV FA clouds snow': 0.0002470085404501132,\n",
       " 'MV FA clouds fog': 0.0002470085404501132,\n",
       " 'MV FA snow rain': 0.0002470085404501132,\n",
       " 'MV FA snow sun': 0.0002470085404501132,\n",
       " 'MV FA snow clouds': 0.0002470085404501132,\n",
       " 'MV FA snow snow': 0.0002470085404501132,\n",
       " 'MV FA snow fog': 0.0002470085404501132,\n",
       " 'MV FA fog rain': 0.0002470085404501132,\n",
       " 'MV FA fog sun': 0.0002470085404501132,\n",
       " 'MV FA fog clouds': 0.0002470085404501132,\n",
       " 'MV FA fog snow': 0.0002470085404501132,\n",
       " 'MV FA fog fog': 0.0002470085404501132,\n",
       " 'MV VB rain rain': 0.00019258292984246112,\n",
       " 'MV VB rain sun': 0.00019258292984246112,\n",
       " 'MV VB rain clouds': 0.00019258292984246112,\n",
       " 'MV VB rain snow': 0.00019258292984246112,\n",
       " 'MV VB rain fog': 0.00019258292984246112,\n",
       " 'MV VB sun rain': 0.00019258292984246112,\n",
       " 'MV VB sun sun': 0.00019258292984246112,\n",
       " 'MV VB sun clouds': 0.00019258292984246112,\n",
       " 'MV VB sun snow': 0.00019258292984246112,\n",
       " 'MV VB sun fog': 0.00019258292984246112,\n",
       " 'MV VB clouds rain': 0.00019258292984246112,\n",
       " 'MV VB clouds sun': 0.00019258292984246112,\n",
       " 'MV VB clouds clouds': 0.00019258292984246112,\n",
       " 'MV VB clouds snow': 0.00019258292984246112,\n",
       " 'MV VB clouds fog': 0.00019258292984246112,\n",
       " 'MV VB snow rain': 0.00019258292984246112,\n",
       " 'MV VB snow sun': 0.00019258292984246112,\n",
       " 'MV VB snow clouds': 0.00019258292984246112,\n",
       " 'MV VB snow snow': 0.00019258292984246112,\n",
       " 'MV VB snow fog': 0.00019258292984246112,\n",
       " 'MV VB fog rain': 0.00019258292984246112,\n",
       " 'MV VB fog sun': 0.00019258292984246112,\n",
       " 'MV VB fog clouds': 0.00019258292984246112,\n",
       " 'MV VB fog snow': 0.00019258292984246112,\n",
       " 'MV VB fog fog': 0.00019258292984246112,\n",
       " 'MV DR rain rain': 0.00012141097750937766,\n",
       " 'MV DR rain sun': 0.00012141097750937766,\n",
       " 'MV DR rain clouds': 0.00012141097750937766,\n",
       " 'MV DR rain snow': 0.00012141097750937766,\n",
       " 'MV DR rain fog': 0.00012141097750937766,\n",
       " 'MV DR sun rain': 0.00012141097750937766,\n",
       " 'MV DR sun sun': 0.00012141097750937766,\n",
       " 'MV DR sun clouds': 0.00012141097750937766,\n",
       " 'MV DR sun snow': 0.00012141097750937766,\n",
       " 'MV DR sun fog': 0.00012141097750937766,\n",
       " 'MV DR clouds rain': 0.00012141097750937766,\n",
       " 'MV DR clouds sun': 0.00012141097750937766,\n",
       " 'MV DR clouds clouds': 0.00012141097750937766,\n",
       " 'MV DR clouds snow': 0.00012141097750937766,\n",
       " 'MV DR clouds fog': 0.00012141097750937766,\n",
       " 'MV DR snow rain': 0.00012141097750937766,\n",
       " 'MV DR snow sun': 0.00012141097750937766,\n",
       " 'MV DR snow clouds': 0.00012141097750937766,\n",
       " 'MV DR snow snow': 0.00012141097750937766,\n",
       " 'MV DR snow fog': 0.00012141097750937766,\n",
       " 'MV DR fog rain': 0.00012141097750937766,\n",
       " 'MV DR fog sun': 0.00012141097750937766,\n",
       " 'MV DR fog clouds': 0.00012141097750937766,\n",
       " 'MV DR fog snow': 0.00012141097750937766,\n",
       " 'MV DR fog fog': 0.00012141097750937766,\n",
       " 'MV SV rain rain': 0.0001004780503525884,\n",
       " 'MV SV rain sun': 0.0001004780503525884,\n",
       " 'MV SV rain clouds': 0.0001004780503525884,\n",
       " 'MV SV rain snow': 0.0001004780503525884,\n",
       " 'MV SV rain fog': 0.0001004780503525884,\n",
       " 'MV SV sun rain': 0.0001004780503525884,\n",
       " 'MV SV sun sun': 0.0001004780503525884,\n",
       " 'MV SV sun clouds': 0.0001004780503525884,\n",
       " 'MV SV sun snow': 0.0001004780503525884,\n",
       " 'MV SV sun fog': 0.0001004780503525884,\n",
       " 'MV SV clouds rain': 0.0001004780503525884,\n",
       " 'MV SV clouds sun': 0.0001004780503525884,\n",
       " 'MV SV clouds clouds': 0.0001004780503525884,\n",
       " 'MV SV clouds snow': 0.0001004780503525884,\n",
       " 'MV SV clouds fog': 0.0001004780503525884,\n",
       " 'MV SV snow rain': 0.0001004780503525884,\n",
       " 'MV SV snow sun': 0.0001004780503525884,\n",
       " 'MV SV snow clouds': 0.0001004780503525884,\n",
       " 'MV SV snow snow': 0.0001004780503525884,\n",
       " 'MV SV snow fog': 0.0001004780503525884,\n",
       " 'MV SV fog rain': 0.0001004780503525884,\n",
       " 'MV SV fog sun': 0.0001004780503525884,\n",
       " 'MV SV fog clouds': 0.0001004780503525884,\n",
       " 'MV SV fog snow': 0.0001004780503525884,\n",
       " 'MV SV fog fog': 0.0001004780503525884,\n",
       " 'MV PG rain rain': 9.629146492123056e-05,\n",
       " 'MV PG rain sun': 9.629146492123056e-05,\n",
       " 'MV PG rain clouds': 9.629146492123056e-05,\n",
       " 'MV PG rain snow': 9.629146492123056e-05,\n",
       " 'MV PG rain fog': 9.629146492123056e-05,\n",
       " 'MV PG sun rain': 9.629146492123056e-05,\n",
       " 'MV PG sun sun': 9.629146492123056e-05,\n",
       " 'MV PG sun clouds': 9.629146492123056e-05,\n",
       " 'MV PG sun snow': 9.629146492123056e-05,\n",
       " 'MV PG sun fog': 9.629146492123056e-05,\n",
       " 'MV PG clouds rain': 9.629146492123056e-05,\n",
       " 'MV PG clouds sun': 9.629146492123056e-05,\n",
       " 'MV PG clouds clouds': 9.629146492123056e-05,\n",
       " 'MV PG clouds snow': 9.629146492123056e-05,\n",
       " 'MV PG clouds fog': 9.629146492123056e-05,\n",
       " 'MV PG snow rain': 9.629146492123056e-05,\n",
       " 'MV PG snow sun': 9.629146492123056e-05,\n",
       " 'MV PG snow clouds': 9.629146492123056e-05,\n",
       " 'MV PG snow snow': 9.629146492123056e-05,\n",
       " 'MV PG snow fog': 9.629146492123056e-05,\n",
       " 'MV PG fog rain': 9.629146492123056e-05,\n",
       " 'MV PG fog sun': 9.629146492123056e-05,\n",
       " 'MV PG fog clouds': 9.629146492123056e-05,\n",
       " 'MV PG fog snow': 9.629146492123056e-05,\n",
       " 'MV PG fog fog': 9.629146492123056e-05,\n",
       " 'MV KM rain rain': 9.210487948987272e-05,\n",
       " 'MV KM rain sun': 9.210487948987272e-05,\n",
       " 'MV KM rain clouds': 9.210487948987272e-05,\n",
       " 'MV KM rain snow': 9.210487948987272e-05,\n",
       " 'MV KM rain fog': 9.210487948987272e-05,\n",
       " 'MV KM sun rain': 9.210487948987272e-05,\n",
       " 'MV KM sun sun': 9.210487948987272e-05,\n",
       " 'MV KM sun clouds': 9.210487948987272e-05,\n",
       " 'MV KM sun snow': 9.210487948987272e-05,\n",
       " 'MV KM sun fog': 9.210487948987272e-05,\n",
       " 'MV KM clouds rain': 9.210487948987272e-05,\n",
       " 'MV KM clouds sun': 9.210487948987272e-05,\n",
       " 'MV KM clouds clouds': 9.210487948987272e-05,\n",
       " 'MV KM clouds snow': 9.210487948987272e-05,\n",
       " 'MV KM clouds fog': 9.210487948987272e-05,\n",
       " 'MV KM snow rain': 9.210487948987272e-05,\n",
       " 'MV KM snow sun': 9.210487948987272e-05,\n",
       " 'MV KM snow clouds': 9.210487948987272e-05,\n",
       " 'MV KM snow snow': 9.210487948987272e-05,\n",
       " 'MV KM snow fog': 9.210487948987272e-05,\n",
       " 'MV KM fog rain': 9.210487948987272e-05,\n",
       " 'MV KM fog sun': 9.210487948987272e-05,\n",
       " 'MV KM fog clouds': 9.210487948987272e-05,\n",
       " 'MV KM fog snow': 9.210487948987272e-05,\n",
       " 'MV KM fog fog': 9.210487948987272e-05,\n",
       " 'MV LS rain rain': 5.4425610607652055e-05,\n",
       " 'MV LS rain sun': 5.4425610607652055e-05,\n",
       " 'MV LS rain clouds': 5.4425610607652055e-05,\n",
       " 'MV LS rain snow': 5.4425610607652055e-05,\n",
       " 'MV LS rain fog': 5.4425610607652055e-05,\n",
       " 'MV LS sun rain': 5.4425610607652055e-05,\n",
       " 'MV LS sun sun': 5.4425610607652055e-05,\n",
       " 'MV LS sun clouds': 5.4425610607652055e-05,\n",
       " 'MV LS sun snow': 5.4425610607652055e-05,\n",
       " 'MV LS sun fog': 5.4425610607652055e-05,\n",
       " 'MV LS clouds rain': 5.4425610607652055e-05,\n",
       " 'MV LS clouds sun': 5.4425610607652055e-05,\n",
       " 'MV LS clouds clouds': 5.4425610607652055e-05,\n",
       " 'MV LS clouds snow': 5.4425610607652055e-05,\n",
       " 'MV LS clouds fog': 5.4425610607652055e-05,\n",
       " 'MV LS snow rain': 5.4425610607652055e-05,\n",
       " 'MV LS snow sun': 5.4425610607652055e-05,\n",
       " 'MV LS snow clouds': 5.4425610607652055e-05,\n",
       " 'MV LS snow snow': 5.4425610607652055e-05,\n",
       " 'MV LS snow fog': 5.4425610607652055e-05,\n",
       " 'MV LS fog rain': 5.4425610607652055e-05,\n",
       " 'MV LS fog sun': 5.4425610607652055e-05,\n",
       " 'MV LS fog clouds': 5.4425610607652055e-05,\n",
       " 'MV LS fog snow': 5.4425610607652055e-05,\n",
       " 'MV LS fog fog': 5.4425610607652055e-05,\n",
       " 'MV MS rain rain': 5.02390251762942e-05,\n",
       " 'MV MS rain sun': 5.02390251762942e-05,\n",
       " 'MV MS rain clouds': 5.02390251762942e-05,\n",
       " 'MV MS rain snow': 5.02390251762942e-05,\n",
       " 'MV MS rain fog': 5.02390251762942e-05,\n",
       " 'MV MS sun rain': 5.02390251762942e-05,\n",
       " 'MV MS sun sun': 5.02390251762942e-05,\n",
       " 'MV MS sun clouds': 5.02390251762942e-05,\n",
       " 'MV MS sun snow': 5.02390251762942e-05,\n",
       " 'MV MS sun fog': 5.02390251762942e-05,\n",
       " 'MV MS clouds rain': 5.02390251762942e-05,\n",
       " 'MV MS clouds sun': 5.02390251762942e-05,\n",
       " 'MV MS clouds clouds': 5.02390251762942e-05,\n",
       " 'MV MS clouds snow': 5.02390251762942e-05,\n",
       " 'MV MS clouds fog': 5.02390251762942e-05,\n",
       " 'MV MS snow rain': 5.02390251762942e-05,\n",
       " 'MV MS snow sun': 5.02390251762942e-05,\n",
       " 'MV MS snow clouds': 5.02390251762942e-05,\n",
       " 'MV MS snow snow': 5.02390251762942e-05,\n",
       " 'MV MS snow fog': 5.02390251762942e-05,\n",
       " 'MV MS fog rain': 5.02390251762942e-05,\n",
       " 'MV MS fog sun': 5.02390251762942e-05,\n",
       " 'MV MS fog clouds': 5.02390251762942e-05,\n",
       " 'MV MS fog snow': 5.02390251762942e-05,\n",
       " 'MV MS fog fog': 5.02390251762942e-05,\n",
       " 'MV YT rain rain': 4.605243974493636e-05,\n",
       " 'MV YT rain sun': 4.605243974493636e-05,\n",
       " 'MV YT rain clouds': 4.605243974493636e-05,\n",
       " 'MV YT rain snow': 4.605243974493636e-05,\n",
       " 'MV YT rain fog': 4.605243974493636e-05,\n",
       " 'MV YT sun rain': 4.605243974493636e-05,\n",
       " 'MV YT sun sun': 4.605243974493636e-05,\n",
       " 'MV YT sun clouds': 4.605243974493636e-05,\n",
       " 'MV YT sun snow': 4.605243974493636e-05,\n",
       " 'MV YT sun fog': 4.605243974493636e-05,\n",
       " 'MV YT clouds rain': 4.605243974493636e-05,\n",
       " 'MV YT clouds sun': 4.605243974493636e-05,\n",
       " 'MV YT clouds clouds': 4.605243974493636e-05,\n",
       " 'MV YT clouds snow': 4.605243974493636e-05,\n",
       " 'MV YT clouds fog': 4.605243974493636e-05,\n",
       " 'MV YT snow rain': 4.605243974493636e-05,\n",
       " 'MV YT snow sun': 4.605243974493636e-05,\n",
       " 'MV YT snow clouds': 4.605243974493636e-05,\n",
       " 'MV YT snow snow': 4.605243974493636e-05,\n",
       " 'MV YT snow fog': 4.605243974493636e-05,\n",
       " 'MV YT fog rain': 4.605243974493636e-05,\n",
       " 'MV YT fog sun': 4.605243974493636e-05,\n",
       " 'MV YT fog clouds': 4.605243974493636e-05,\n",
       " 'MV YT fog snow': 4.605243974493636e-05,\n",
       " 'MV YT fog fog': 4.605243974493636e-05,\n",
       " 'MV ZG rain rain': 2.51195125881471e-05,\n",
       " 'MV ZG rain sun': 2.51195125881471e-05,\n",
       " 'MV ZG rain clouds': 2.51195125881471e-05,\n",
       " 'MV ZG rain snow': 2.51195125881471e-05,\n",
       " 'MV ZG rain fog': 2.51195125881471e-05,\n",
       " 'MV ZG sun rain': 2.51195125881471e-05,\n",
       " 'MV ZG sun sun': 2.51195125881471e-05,\n",
       " 'MV ZG sun clouds': 2.51195125881471e-05,\n",
       " 'MV ZG sun snow': 2.51195125881471e-05,\n",
       " 'MV ZG sun fog': 2.51195125881471e-05,\n",
       " 'MV ZG clouds rain': 2.51195125881471e-05,\n",
       " 'MV ZG clouds sun': 2.51195125881471e-05,\n",
       " 'MV ZG clouds clouds': 2.51195125881471e-05,\n",
       " 'MV ZG clouds snow': 2.51195125881471e-05,\n",
       " 'MV ZG clouds fog': 2.51195125881471e-05,\n",
       " 'MV ZG snow rain': 2.51195125881471e-05,\n",
       " 'MV ZG snow sun': 2.51195125881471e-05,\n",
       " 'MV ZG snow clouds': 2.51195125881471e-05,\n",
       " 'MV ZG snow snow': 2.51195125881471e-05,\n",
       " 'MV ZG snow fog': 2.51195125881471e-05,\n",
       " 'MV ZG fog rain': 2.51195125881471e-05,\n",
       " 'MV ZG fog sun': 2.51195125881471e-05,\n",
       " 'MV ZG fog clouds': 2.51195125881471e-05,\n",
       " 'MV ZG fog snow': 2.51195125881471e-05,\n",
       " 'MV ZG fog fog': 2.51195125881471e-05,\n",
       " 'MV AA rain rain': 1.67463417254314e-05,\n",
       " 'MV AA rain sun': 1.67463417254314e-05,\n",
       " 'MV AA rain clouds': 1.67463417254314e-05,\n",
       " 'MV AA rain snow': 1.67463417254314e-05,\n",
       " 'MV AA rain fog': 1.67463417254314e-05,\n",
       " 'MV AA sun rain': 1.67463417254314e-05,\n",
       " 'MV AA sun sun': 1.67463417254314e-05,\n",
       " 'MV AA sun clouds': 1.67463417254314e-05,\n",
       " 'MV AA sun snow': 1.67463417254314e-05,\n",
       " 'MV AA sun fog': 1.67463417254314e-05,\n",
       " 'MV AA clouds rain': 1.67463417254314e-05,\n",
       " 'MV AA clouds sun': 1.67463417254314e-05,\n",
       " 'MV AA clouds clouds': 1.67463417254314e-05,\n",
       " 'MV AA clouds snow': 1.67463417254314e-05,\n",
       " 'MV AA clouds fog': 1.67463417254314e-05,\n",
       " 'MV AA snow rain': 1.67463417254314e-05,\n",
       " 'MV AA snow sun': 1.67463417254314e-05,\n",
       " 'MV AA snow clouds': 1.67463417254314e-05,\n",
       " 'MV AA snow snow': 1.67463417254314e-05,\n",
       " 'MV AA snow fog': 1.67463417254314e-05,\n",
       " 'MV AA fog rain': 1.67463417254314e-05,\n",
       " 'MV AA fog sun': 1.67463417254314e-05,\n",
       " 'MV AA fog clouds': 1.67463417254314e-05,\n",
       " 'MV AA fog snow': 1.67463417254314e-05,\n",
       " 'MV AA fog fog': 1.67463417254314e-05,\n",
       " 'MV NDV rain rain': 8.3731708627157e-06,\n",
       " 'MV NDV rain sun': 8.3731708627157e-06,\n",
       " 'MV NDV rain clouds': 8.3731708627157e-06,\n",
       " 'MV NDV rain snow': 8.3731708627157e-06,\n",
       " 'MV NDV rain fog': 8.3731708627157e-06,\n",
       " 'MV NDV sun rain': 8.3731708627157e-06,\n",
       " 'MV NDV sun sun': 8.3731708627157e-06,\n",
       " 'MV NDV sun clouds': 8.3731708627157e-06,\n",
       " 'MV NDV sun snow': 8.3731708627157e-06,\n",
       " 'MV NDV sun fog': 8.3731708627157e-06,\n",
       " 'MV NDV clouds rain': 8.3731708627157e-06,\n",
       " 'MV NDV clouds sun': 8.3731708627157e-06,\n",
       " 'MV NDV clouds clouds': 8.3731708627157e-06,\n",
       " 'MV NDV clouds snow': 8.3731708627157e-06,\n",
       " 'MV NDV clouds fog': 8.3731708627157e-06,\n",
       " 'MV NDV snow rain': 8.3731708627157e-06,\n",
       " 'MV NDV snow sun': 8.3731708627157e-06,\n",
       " 'MV NDV snow clouds': 8.3731708627157e-06,\n",
       " 'MV NDV snow snow': 8.3731708627157e-06,\n",
       " 'MV NDV snow fog': 8.3731708627157e-06,\n",
       " 'MV NDV fog rain': 8.3731708627157e-06,\n",
       " 'MV NDV fog sun': 8.3731708627157e-06,\n",
       " 'MV NDV fog clouds': 8.3731708627157e-06,\n",
       " 'MV NDV fog snow': 8.3731708627157e-06,\n",
       " 'MV NDV fog fog': 8.3731708627157e-06,\n",
       " 'MV NL rain rain': 0.0,\n",
       " 'MV NL rain sun': 0.0,\n",
       " 'MV NL rain clouds': 0.0,\n",
       " 'MV NL rain snow': 0.0,\n",
       " 'MV NL rain fog': 0.0,\n",
       " 'MV NL sun rain': 0.0,\n",
       " 'MV NL sun sun': 0.0,\n",
       " 'MV NL sun clouds': 0.0,\n",
       " 'MV NL sun snow': 0.0,\n",
       " 'MV NL sun fog': 0.0,\n",
       " 'MV NL clouds rain': 0.0,\n",
       " 'MV NL clouds sun': 0.0,\n",
       " 'MV NL clouds clouds': 0.0,\n",
       " 'MV NL clouds snow': 0.0,\n",
       " 'MV NL clouds fog': 0.0,\n",
       " 'MV NL snow rain': 0.0,\n",
       " 'MV NL snow sun': 0.0,\n",
       " 'MV NL snow clouds': 0.0,\n",
       " 'MV NL snow snow': 0.0,\n",
       " 'MV NL snow fog': 0.0,\n",
       " 'MV NL fog rain': 0.0,\n",
       " 'MV NL fog sun': 0.0,\n",
       " 'MV NL fog clouds': 0.0,\n",
       " 'MV NL fog snow': 0.0,\n",
       " 'MV NL fog fog': 0.0,\n",
       " 'MV NH rain rain': 0.0,\n",
       " 'MV NH rain sun': 0.0,\n",
       " 'MV NH rain clouds': 0.0,\n",
       " 'MV NH rain snow': 0.0,\n",
       " 'MV NH rain fog': 0.0,\n",
       " 'MV NH sun rain': 0.0,\n",
       " 'MV NH sun sun': 0.0,\n",
       " 'MV NH sun clouds': 0.0,\n",
       " 'MV NH sun snow': 0.0,\n",
       " 'MV NH sun fog': 0.0,\n",
       " 'MV NH clouds rain': 0.0,\n",
       " 'MV NH clouds sun': 0.0,\n",
       " 'MV NH clouds clouds': 0.0,\n",
       " 'MV NH clouds snow': 0.0,\n",
       " 'MV NH clouds fog': 0.0,\n",
       " 'MV NH snow rain': 0.0,\n",
       " 'MV NH snow sun': 0.0,\n",
       " 'MV NH snow clouds': 0.0,\n",
       " 'MV NH snow snow': 0.0,\n",
       " 'MV NH snow fog': 0.0,\n",
       " 'MV NH fog rain': 0.0,\n",
       " 'MV NH fog sun': 0.0,\n",
       " 'MV NH fog clouds': 0.0,\n",
       " 'MV NH fog snow': 0.0,\n",
       " 'MV NH fog fog': 0.0,\n",
       " 'CL MV rain rain': 0.0009922207472318105,\n",
       " 'CL MV rain sun': 0.0009922207472318105,\n",
       " 'CL MV rain clouds': 0.0009922207472318105,\n",
       " 'CL MV rain snow': 0.0009922207472318105,\n",
       " 'CL MV rain fog': 0.0009922207472318105,\n",
       " 'CL MV sun rain': 0.0009922207472318105,\n",
       " 'CL MV sun sun': 0.0009922207472318105,\n",
       " 'CL MV sun clouds': 0.0009922207472318105,\n",
       " 'CL MV sun snow': 0.0009922207472318105,\n",
       " 'CL MV sun fog': 0.0009922207472318105,\n",
       " 'CL MV clouds rain': 0.0009922207472318105,\n",
       " 'CL MV clouds sun': 0.0009922207472318105,\n",
       " 'CL MV clouds clouds': 0.0009922207472318105,\n",
       " 'CL MV clouds snow': 0.0009922207472318105,\n",
       " 'CL MV clouds fog': 0.0009922207472318105,\n",
       " 'CL MV snow rain': 0.0009922207472318105,\n",
       " 'CL MV snow sun': 0.0009922207472318105,\n",
       " 'CL MV snow clouds': 0.0009922207472318105,\n",
       " 'CL MV snow snow': 0.0009922207472318105,\n",
       " 'CL MV snow fog': 0.0009922207472318105,\n",
       " 'CL MV fog rain': 0.0009922207472318105,\n",
       " 'CL MV fog sun': 0.0009922207472318105,\n",
       " 'CL MV fog clouds': 0.0009922207472318105,\n",
       " 'CL MV fog snow': 0.0009922207472318105,\n",
       " 'CL MV fog fog': 0.0009922207472318105,\n",
       " 'CL CL rain rain': 0.0006896079680174168,\n",
       " 'CL CL rain sun': 0.0006896079680174168,\n",
       " 'CL CL rain clouds': 0.0006896079680174168,\n",
       " 'CL CL rain snow': 0.0006896079680174168,\n",
       " 'CL CL rain fog': 0.0006896079680174168,\n",
       " 'CL CL sun rain': 0.0006896079680174168,\n",
       " 'CL CL sun sun': 0.0006896079680174168,\n",
       " 'CL CL sun clouds': 0.0006896079680174168,\n",
       " 'CL CL sun snow': 0.0006896079680174168,\n",
       " 'CL CL sun fog': 0.0006896079680174168,\n",
       " 'CL CL clouds rain': 0.0006896079680174168,\n",
       " 'CL CL clouds sun': 0.0006896079680174168,\n",
       " 'CL CL clouds clouds': 0.0006896079680174168,\n",
       " 'CL CL clouds snow': 0.0006896079680174168,\n",
       " 'CL CL clouds fog': 0.0006896079680174168,\n",
       " 'CL CL snow rain': 0.0006896079680174168,\n",
       " 'CL CL snow sun': 0.0006896079680174168,\n",
       " 'CL CL snow clouds': 0.0006896079680174168,\n",
       " 'CL CL snow snow': 0.0006896079680174168,\n",
       " 'CL CL snow fog': 0.0006896079680174168,\n",
       " 'CL CL fog rain': 0.0006896079680174168,\n",
       " 'CL CL fog sun': 0.0006896079680174168,\n",
       " 'CL CL fog clouds': 0.0006896079680174168,\n",
       " 'CL CL fog snow': 0.0006896079680174168,\n",
       " 'CL CL fog fog': 0.0006896079680174168,\n",
       " 'CL SP rain rain': 0.0006837884914940631,\n",
       " 'CL SP rain sun': 0.0006837884914940631,\n",
       " 'CL SP rain clouds': 0.0006837884914940631,\n",
       " 'CL SP rain snow': 0.0006837884914940631,\n",
       " 'CL SP rain fog': 0.0006837884914940631,\n",
       " 'CL SP sun rain': 0.0006837884914940631,\n",
       " 'CL SP sun sun': 0.0006837884914940631,\n",
       " 'CL SP sun clouds': 0.0006837884914940631,\n",
       " 'CL SP sun snow': 0.0006837884914940631,\n",
       " 'CL SP sun fog': 0.0006837884914940631,\n",
       " 'CL SP clouds rain': 0.0006837884914940631,\n",
       " 'CL SP clouds sun': 0.0006837884914940631,\n",
       " 'CL SP clouds clouds': 0.0006837884914940631,\n",
       " 'CL SP clouds snow': 0.0006837884914940631,\n",
       " 'CL SP clouds fog': 0.0006837884914940631,\n",
       " 'CL SP snow rain': 0.0006837884914940631,\n",
       " 'CL SP snow sun': 0.0006837884914940631,\n",
       " 'CL SP snow clouds': 0.0006837884914940631,\n",
       " 'CL SP snow snow': 0.0006837884914940631,\n",
       " 'CL SP snow fog': 0.0006837884914940631,\n",
       " 'CL SP fog rain': 0.0006837884914940631,\n",
       " 'CL SP fog sun': 0.0006837884914940631,\n",
       " 'CL SP fog clouds': 0.0006837884914940631,\n",
       " 'CL SP fog snow': 0.0006837884914940631,\n",
       " 'CL SP fog fog': 0.0006837884914940631,\n",
       " 'CL GR rain rain': 0.0005906768671204034,\n",
       " 'CL GR rain sun': 0.0005906768671204034,\n",
       " 'CL GR rain clouds': 0.0005906768671204034,\n",
       " 'CL GR rain snow': 0.0005906768671204034,\n",
       " 'CL GR rain fog': 0.0005906768671204034,\n",
       " 'CL GR sun rain': 0.0005906768671204034,\n",
       " 'CL GR sun sun': 0.0005906768671204034,\n",
       " 'CL GR sun clouds': 0.0005906768671204034,\n",
       " 'CL GR sun snow': 0.0005906768671204034,\n",
       " 'CL GR sun fog': 0.0005906768671204034,\n",
       " 'CL GR clouds rain': 0.0005906768671204034,\n",
       " 'CL GR clouds sun': 0.0005906768671204034,\n",
       " 'CL GR clouds clouds': 0.0005906768671204034,\n",
       " 'CL GR clouds snow': 0.0005906768671204034,\n",
       " 'CL GR clouds fog': 0.0005906768671204034,\n",
       " 'CL GR snow rain': 0.0005906768671204034,\n",
       " 'CL GR snow sun': 0.0005906768671204034,\n",
       " 'CL GR snow clouds': 0.0005906768671204034,\n",
       " 'CL GR snow snow': 0.0005906768671204034,\n",
       " 'CL GR snow fog': 0.0005906768671204034,\n",
       " 'CL GR fog rain': 0.0005906768671204034,\n",
       " 'CL GR fog sun': 0.0005906768671204034,\n",
       " 'CL GR fog clouds': 0.0005906768671204034,\n",
       " 'CL GR fog snow': 0.0005906768671204034,\n",
       " 'CL GR fog fog': 0.0005906768671204034,\n",
       " 'CL CS rain rain': 0.0005877671288587265,\n",
       " 'CL CS rain sun': 0.0005877671288587265,\n",
       " 'CL CS rain clouds': 0.0005877671288587265,\n",
       " 'CL CS rain snow': 0.0005877671288587265,\n",
       " 'CL CS rain fog': 0.0005877671288587265,\n",
       " 'CL CS sun rain': 0.0005877671288587265,\n",
       " 'CL CS sun sun': 0.0005877671288587265,\n",
       " 'CL CS sun clouds': 0.0005877671288587265,\n",
       " 'CL CS sun snow': 0.0005877671288587265,\n",
       " 'CL CS sun fog': 0.0005877671288587265,\n",
       " 'CL CS clouds rain': 0.0005877671288587265,\n",
       " 'CL CS clouds sun': 0.0005877671288587265,\n",
       " 'CL CS clouds clouds': 0.0005877671288587265,\n",
       " 'CL CS clouds snow': 0.0005877671288587265,\n",
       " 'CL CS clouds fog': 0.0005877671288587265,\n",
       " 'CL CS snow rain': 0.0005877671288587265,\n",
       " 'CL CS snow sun': 0.0005877671288587265,\n",
       " 'CL CS snow clouds': 0.0005877671288587265,\n",
       " 'CL CS snow snow': 0.0005877671288587265,\n",
       " 'CL CS snow fog': 0.0005877671288587265,\n",
       " 'CL CS fog rain': 0.0005877671288587265,\n",
       " 'CL CS fog sun': 0.0005877671288587265,\n",
       " 'CL CS fog clouds': 0.0005877671288587265,\n",
       " 'CL CS fog snow': 0.0005877671288587265,\n",
       " 'CL CS fog fog': 0.0005877671288587265,\n",
       " 'CL LH rain rain': 0.000494655504485067,\n",
       " 'CL LH rain sun': 0.000494655504485067,\n",
       " 'CL LH rain clouds': 0.000494655504485067,\n",
       " 'CL LH rain snow': 0.000494655504485067,\n",
       " 'CL LH rain fog': 0.000494655504485067,\n",
       " 'CL LH sun rain': 0.000494655504485067,\n",
       " 'CL LH sun sun': 0.000494655504485067,\n",
       " 'CL LH sun clouds': 0.000494655504485067,\n",
       " 'CL LH sun snow': 0.000494655504485067,\n",
       " 'CL LH sun fog': 0.000494655504485067,\n",
       " 'CL LH clouds rain': 0.000494655504485067,\n",
       " 'CL LH clouds sun': 0.000494655504485067,\n",
       " 'CL LH clouds clouds': 0.000494655504485067,\n",
       " 'CL LH clouds snow': 0.000494655504485067,\n",
       " 'CL LH clouds fog': 0.000494655504485067,\n",
       " 'CL LH snow rain': 0.000494655504485067,\n",
       " 'CL LH snow sun': 0.000494655504485067,\n",
       " 'CL LH snow clouds': 0.000494655504485067,\n",
       " 'CL LH snow snow': 0.000494655504485067,\n",
       " 'CL LH snow fog': 0.000494655504485067,\n",
       " 'CL LH fog rain': 0.000494655504485067,\n",
       " 'CL LH fog sun': 0.000494655504485067,\n",
       " 'CL LH fog clouds': 0.000494655504485067,\n",
       " 'CL LH fog snow': 0.000494655504485067,\n",
       " 'CL LH fog fog': 0.000494655504485067,\n",
       " 'CL LN rain rain': 0.0002909738261676864,\n",
       " 'CL LN rain sun': 0.0002909738261676864,\n",
       " 'CL LN rain clouds': 0.0002909738261676864,\n",
       " 'CL LN rain snow': 0.0002909738261676864,\n",
       " 'CL LN rain fog': 0.0002909738261676864,\n",
       " 'CL LN sun rain': 0.0002909738261676864,\n",
       " 'CL LN sun sun': 0.0002909738261676864,\n",
       " 'CL LN sun clouds': 0.0002909738261676864,\n",
       " 'CL LN sun snow': 0.0002909738261676864,\n",
       " 'CL LN sun fog': 0.0002909738261676864,\n",
       " 'CL LN clouds rain': 0.0002909738261676864,\n",
       " 'CL LN clouds sun': 0.0002909738261676864,\n",
       " 'CL LN clouds clouds': 0.0002909738261676864,\n",
       " 'CL LN clouds snow': 0.0002909738261676864,\n",
       " 'CL LN clouds fog': 0.0002909738261676864,\n",
       " 'CL LN snow rain': 0.0002909738261676864,\n",
       " 'CL LN snow sun': 0.0002909738261676864,\n",
       " 'CL LN snow clouds': 0.0002909738261676864,\n",
       " 'CL LN snow snow': 0.0002909738261676864,\n",
       " 'CL LN snow fog': 0.0002909738261676864,\n",
       " 'CL LN fog rain': 0.0002909738261676864,\n",
       " 'CL LN fog sun': 0.0002909738261676864,\n",
       " 'CL LN fog clouds': 0.0002909738261676864,\n",
       " 'CL LN fog snow': 0.0002909738261676864,\n",
       " 'CL LN fog fog': 0.0002909738261676864,\n",
       " 'CL EO rain rain': 0.00019204272527067304,\n",
       " 'CL EO rain sun': 0.00019204272527067304,\n",
       " 'CL EO rain clouds': 0.00019204272527067304,\n",
       " 'CL EO rain snow': 0.00019204272527067304,\n",
       " 'CL EO rain fog': 0.00019204272527067304,\n",
       " 'CL EO sun rain': 0.00019204272527067304,\n",
       " 'CL EO sun sun': 0.00019204272527067304,\n",
       " 'CL EO sun clouds': 0.00019204272527067304,\n",
       " 'CL EO sun snow': 0.00019204272527067304,\n",
       " 'CL EO sun fog': 0.00019204272527067304,\n",
       " 'CL EO clouds rain': 0.00019204272527067304,\n",
       " 'CL EO clouds sun': 0.00019204272527067304,\n",
       " 'CL EO clouds clouds': 0.00019204272527067304,\n",
       " 'CL EO clouds snow': 0.00019204272527067304,\n",
       " 'CL EO clouds fog': 0.00019204272527067304,\n",
       " 'CL EO snow rain': 0.00019204272527067304,\n",
       " 'CL EO snow sun': 0.00019204272527067304,\n",
       " 'CL EO snow clouds': 0.00019204272527067304,\n",
       " 'CL EO snow snow': 0.00019204272527067304,\n",
       " 'CL EO snow fog': 0.00019204272527067304,\n",
       " 'CL EO fog rain': 0.00019204272527067304,\n",
       " 'CL EO fog sun': 0.00019204272527067304,\n",
       " 'CL EO fog clouds': 0.00019204272527067304,\n",
       " 'CL EO fog snow': 0.00019204272527067304,\n",
       " 'CL EO fog fog': 0.00019204272527067304,\n",
       " 'CL FA rain rain': 0.00017167455743893496,\n",
       " 'CL FA rain sun': 0.00017167455743893496,\n",
       " 'CL FA rain clouds': 0.00017167455743893496,\n",
       " 'CL FA rain snow': 0.00017167455743893496,\n",
       " 'CL FA rain fog': 0.00017167455743893496,\n",
       " 'CL FA sun rain': 0.00017167455743893496,\n",
       " 'CL FA sun sun': 0.00017167455743893496,\n",
       " 'CL FA sun clouds': 0.00017167455743893496,\n",
       " 'CL FA sun snow': 0.00017167455743893496,\n",
       " 'CL FA sun fog': 0.00017167455743893496,\n",
       " 'CL FA clouds rain': 0.00017167455743893496,\n",
       " 'CL FA clouds sun': 0.00017167455743893496,\n",
       " 'CL FA clouds clouds': 0.00017167455743893496,\n",
       " 'CL FA clouds snow': 0.00017167455743893496,\n",
       " 'CL FA clouds fog': 0.00017167455743893496,\n",
       " 'CL FA snow rain': 0.00017167455743893496,\n",
       " 'CL FA snow sun': 0.00017167455743893496,\n",
       " 'CL FA snow clouds': 0.00017167455743893496,\n",
       " 'CL FA snow snow': 0.00017167455743893496,\n",
       " 'CL FA snow fog': 0.00017167455743893496,\n",
       " 'CL FA fog rain': 0.00017167455743893496,\n",
       " 'CL FA fog sun': 0.00017167455743893496,\n",
       " 'CL FA fog clouds': 0.00017167455743893496,\n",
       " 'CL FA fog snow': 0.00017167455743893496,\n",
       " 'CL FA fog fog': 0.00017167455743893496,\n",
       " 'CL VB rain rain': 0.00013384796003713573,\n",
       " 'CL VB rain sun': 0.00013384796003713573,\n",
       " 'CL VB rain clouds': 0.00013384796003713573,\n",
       " 'CL VB rain snow': 0.00013384796003713573,\n",
       " 'CL VB rain fog': 0.00013384796003713573,\n",
       " 'CL VB sun rain': 0.00013384796003713573,\n",
       " 'CL VB sun sun': 0.00013384796003713573,\n",
       " 'CL VB sun clouds': 0.00013384796003713573,\n",
       " 'CL VB sun snow': 0.00013384796003713573,\n",
       " 'CL VB sun fog': 0.00013384796003713573,\n",
       " 'CL VB clouds rain': 0.00013384796003713573,\n",
       " 'CL VB clouds sun': 0.00013384796003713573,\n",
       " 'CL VB clouds clouds': 0.00013384796003713573,\n",
       " 'CL VB clouds snow': 0.00013384796003713573,\n",
       " 'CL VB clouds fog': 0.00013384796003713573,\n",
       " 'CL VB snow rain': 0.00013384796003713573,\n",
       " 'CL VB snow sun': 0.00013384796003713573,\n",
       " 'CL VB snow clouds': 0.00013384796003713573,\n",
       " 'CL VB snow snow': 0.00013384796003713573,\n",
       " 'CL VB snow fog': 0.00013384796003713573,\n",
       " 'CL VB fog rain': 0.00013384796003713573,\n",
       " 'CL VB fog sun': 0.00013384796003713573,\n",
       " 'CL VB fog clouds': 0.00013384796003713573,\n",
       " 'CL VB fog snow': 0.00013384796003713573,\n",
       " 'CL VB fog fog': 0.00013384796003713573,\n",
       " 'CL DR rain rain': 8.438240958862905e-05,\n",
       " 'CL DR rain sun': 8.438240958862905e-05,\n",
       " 'CL DR rain clouds': 8.438240958862905e-05,\n",
       " 'CL DR rain snow': 8.438240958862905e-05,\n",
       " 'CL DR rain fog': 8.438240958862905e-05,\n",
       " 'CL DR sun rain': 8.438240958862905e-05,\n",
       " 'CL DR sun sun': 8.438240958862905e-05,\n",
       " 'CL DR sun clouds': 8.438240958862905e-05,\n",
       " 'CL DR sun snow': 8.438240958862905e-05,\n",
       " 'CL DR sun fog': 8.438240958862905e-05,\n",
       " 'CL DR clouds rain': 8.438240958862905e-05,\n",
       " 'CL DR clouds sun': 8.438240958862905e-05,\n",
       " 'CL DR clouds clouds': 8.438240958862905e-05,\n",
       " 'CL DR clouds snow': 8.438240958862905e-05,\n",
       " 'CL DR clouds fog': 8.438240958862905e-05,\n",
       " 'CL DR snow rain': 8.438240958862905e-05,\n",
       " 'CL DR snow sun': 8.438240958862905e-05,\n",
       " 'CL DR snow clouds': 8.438240958862905e-05,\n",
       " 'CL DR snow snow': 8.438240958862905e-05,\n",
       " 'CL DR snow fog': 8.438240958862905e-05,\n",
       " 'CL DR fog rain': 8.438240958862905e-05,\n",
       " 'CL DR fog sun': 8.438240958862905e-05,\n",
       " 'CL DR fog clouds': 8.438240958862905e-05,\n",
       " 'CL DR fog snow': 8.438240958862905e-05,\n",
       " 'CL DR fog fog': 8.438240958862905e-05,\n",
       " 'CL SV rain rain': 6.983371828024472e-05,\n",
       " 'CL SV rain sun': 6.983371828024472e-05,\n",
       " 'CL SV rain clouds': 6.983371828024472e-05,\n",
       " 'CL SV rain snow': 6.983371828024472e-05,\n",
       " 'CL SV rain fog': 6.983371828024472e-05,\n",
       " 'CL SV sun rain': 6.983371828024472e-05,\n",
       " 'CL SV sun sun': 6.983371828024472e-05,\n",
       " 'CL SV sun clouds': 6.983371828024472e-05,\n",
       " 'CL SV sun snow': 6.983371828024472e-05,\n",
       " 'CL SV sun fog': 6.983371828024472e-05,\n",
       " 'CL SV clouds rain': 6.983371828024472e-05,\n",
       " 'CL SV clouds sun': 6.983371828024472e-05,\n",
       " 'CL SV clouds clouds': 6.983371828024472e-05,\n",
       " 'CL SV clouds snow': 6.983371828024472e-05,\n",
       " 'CL SV clouds fog': 6.983371828024472e-05,\n",
       " 'CL SV snow rain': 6.983371828024472e-05,\n",
       " 'CL SV snow sun': 6.983371828024472e-05,\n",
       " 'CL SV snow clouds': 6.983371828024472e-05,\n",
       " 'CL SV snow snow': 6.983371828024472e-05,\n",
       " 'CL SV snow fog': 6.983371828024472e-05,\n",
       " 'CL SV fog rain': 6.983371828024472e-05,\n",
       " 'CL SV fog sun': 6.983371828024472e-05,\n",
       " 'CL SV fog clouds': 6.983371828024472e-05,\n",
       " 'CL SV fog snow': 6.983371828024472e-05,\n",
       " 'CL SV fog fog': 6.983371828024472e-05,\n",
       " 'CL PG rain rain': 6.692398001856787e-05,\n",
       " 'CL PG rain sun': 6.692398001856787e-05,\n",
       " 'CL PG rain clouds': 6.692398001856787e-05,\n",
       " 'CL PG rain snow': 6.692398001856787e-05,\n",
       " 'CL PG rain fog': 6.692398001856787e-05,\n",
       " 'CL PG sun rain': 6.692398001856787e-05,\n",
       " 'CL PG sun sun': 6.692398001856787e-05,\n",
       " 'CL PG sun clouds': 6.692398001856787e-05,\n",
       " 'CL PG sun snow': 6.692398001856787e-05,\n",
       " 'CL PG sun fog': 6.692398001856787e-05,\n",
       " 'CL PG clouds rain': 6.692398001856787e-05,\n",
       " 'CL PG clouds sun': 6.692398001856787e-05,\n",
       " 'CL PG clouds clouds': 6.692398001856787e-05,\n",
       " 'CL PG clouds snow': 6.692398001856787e-05,\n",
       " 'CL PG clouds fog': 6.692398001856787e-05,\n",
       " 'CL PG snow rain': 6.692398001856787e-05,\n",
       " 'CL PG snow sun': 6.692398001856787e-05,\n",
       " 'CL PG snow clouds': 6.692398001856787e-05,\n",
       " 'CL PG snow snow': 6.692398001856787e-05,\n",
       " 'CL PG snow fog': 6.692398001856787e-05,\n",
       " 'CL PG fog rain': 6.692398001856787e-05,\n",
       " 'CL PG fog sun': 6.692398001856787e-05,\n",
       " 'CL PG fog clouds': 6.692398001856787e-05,\n",
       " 'CL PG fog snow': 6.692398001856787e-05,\n",
       " 'CL PG fog fog': 6.692398001856787e-05,\n",
       " 'CL KM rain rain': 6.401424175689101e-05,\n",
       " 'CL KM rain sun': 6.401424175689101e-05,\n",
       " 'CL KM rain clouds': 6.401424175689101e-05,\n",
       " 'CL KM rain snow': 6.401424175689101e-05,\n",
       " 'CL KM rain fog': 6.401424175689101e-05,\n",
       " 'CL KM sun rain': 6.401424175689101e-05,\n",
       " 'CL KM sun sun': 6.401424175689101e-05,\n",
       " 'CL KM sun clouds': 6.401424175689101e-05,\n",
       " 'CL KM sun snow': 6.401424175689101e-05,\n",
       " 'CL KM sun fog': 6.401424175689101e-05,\n",
       " 'CL KM clouds rain': 6.401424175689101e-05,\n",
       " 'CL KM clouds sun': 6.401424175689101e-05,\n",
       " 'CL KM clouds clouds': 6.401424175689101e-05,\n",
       " 'CL KM clouds snow': 6.401424175689101e-05,\n",
       " 'CL KM clouds fog': 6.401424175689101e-05,\n",
       " 'CL KM snow rain': 6.401424175689101e-05,\n",
       " 'CL KM snow sun': 6.401424175689101e-05,\n",
       " 'CL KM snow clouds': 6.401424175689101e-05,\n",
       " 'CL KM snow snow': 6.401424175689101e-05,\n",
       " 'CL KM snow fog': 6.401424175689101e-05,\n",
       " 'CL KM fog rain': 6.401424175689101e-05,\n",
       " 'CL KM fog sun': 6.401424175689101e-05,\n",
       " 'CL KM fog clouds': 6.401424175689101e-05,\n",
       " 'CL KM fog snow': 6.401424175689101e-05,\n",
       " 'CL KM fog fog': 6.401424175689101e-05,\n",
       " 'CL LS rain rain': 3.782659740179923e-05,\n",
       " 'CL LS rain sun': 3.782659740179923e-05,\n",
       " 'CL LS rain clouds': 3.782659740179923e-05,\n",
       " 'CL LS rain snow': 3.782659740179923e-05,\n",
       " 'CL LS rain fog': 3.782659740179923e-05,\n",
       " 'CL LS sun rain': 3.782659740179923e-05,\n",
       " 'CL LS sun sun': 3.782659740179923e-05,\n",
       " 'CL LS sun clouds': 3.782659740179923e-05,\n",
       " 'CL LS sun snow': 3.782659740179923e-05,\n",
       " 'CL LS sun fog': 3.782659740179923e-05,\n",
       " 'CL LS clouds rain': 3.782659740179923e-05,\n",
       " 'CL LS clouds sun': 3.782659740179923e-05,\n",
       " 'CL LS clouds clouds': 3.782659740179923e-05,\n",
       " 'CL LS clouds snow': 3.782659740179923e-05,\n",
       " 'CL LS clouds fog': 3.782659740179923e-05,\n",
       " 'CL LS snow rain': 3.782659740179923e-05,\n",
       " 'CL LS snow sun': 3.782659740179923e-05,\n",
       " 'CL LS snow clouds': 3.782659740179923e-05,\n",
       " 'CL LS snow snow': 3.782659740179923e-05,\n",
       " 'CL LS snow fog': 3.782659740179923e-05,\n",
       " 'CL LS fog rain': 3.782659740179923e-05,\n",
       " 'CL LS fog sun': 3.782659740179923e-05,\n",
       " 'CL LS fog clouds': 3.782659740179923e-05,\n",
       " 'CL LS fog snow': 3.782659740179923e-05,\n",
       " 'CL LS fog fog': 3.782659740179923e-05,\n",
       " 'CL MS rain rain': 3.491685914012236e-05,\n",
       " 'CL MS rain sun': 3.491685914012236e-05,\n",
       " 'CL MS rain clouds': 3.491685914012236e-05,\n",
       " 'CL MS rain snow': 3.491685914012236e-05,\n",
       " 'CL MS rain fog': 3.491685914012236e-05,\n",
       " 'CL MS sun rain': 3.491685914012236e-05,\n",
       " 'CL MS sun sun': 3.491685914012236e-05,\n",
       " 'CL MS sun clouds': 3.491685914012236e-05,\n",
       " 'CL MS sun snow': 3.491685914012236e-05,\n",
       " 'CL MS sun fog': 3.491685914012236e-05,\n",
       " 'CL MS clouds rain': 3.491685914012236e-05,\n",
       " 'CL MS clouds sun': 3.491685914012236e-05,\n",
       " 'CL MS clouds clouds': 3.491685914012236e-05,\n",
       " 'CL MS clouds snow': 3.491685914012236e-05,\n",
       " 'CL MS clouds fog': 3.491685914012236e-05,\n",
       " 'CL MS snow rain': 3.491685914012236e-05,\n",
       " 'CL MS snow sun': 3.491685914012236e-05,\n",
       " 'CL MS snow clouds': 3.491685914012236e-05,\n",
       " 'CL MS snow snow': 3.491685914012236e-05,\n",
       " 'CL MS snow fog': 3.491685914012236e-05,\n",
       " 'CL MS fog rain': 3.491685914012236e-05,\n",
       " 'CL MS fog sun': 3.491685914012236e-05,\n",
       " 'CL MS fog clouds': 3.491685914012236e-05,\n",
       " 'CL MS fog snow': 3.491685914012236e-05,\n",
       " 'CL MS fog fog': 3.491685914012236e-05,\n",
       " 'CL YT rain rain': 3.2007120878445505e-05,\n",
       " 'CL YT rain sun': 3.2007120878445505e-05,\n",
       " 'CL YT rain clouds': 3.2007120878445505e-05,\n",
       " 'CL YT rain snow': 3.2007120878445505e-05,\n",
       " 'CL YT rain fog': 3.2007120878445505e-05,\n",
       " 'CL YT sun rain': 3.2007120878445505e-05,\n",
       " 'CL YT sun sun': 3.2007120878445505e-05,\n",
       " 'CL YT sun clouds': 3.2007120878445505e-05,\n",
       " 'CL YT sun snow': 3.2007120878445505e-05,\n",
       " 'CL YT sun fog': 3.2007120878445505e-05,\n",
       " 'CL YT clouds rain': 3.2007120878445505e-05,\n",
       " 'CL YT clouds sun': 3.2007120878445505e-05,\n",
       " 'CL YT clouds clouds': 3.2007120878445505e-05,\n",
       " 'CL YT clouds snow': 3.2007120878445505e-05,\n",
       " 'CL YT clouds fog': 3.2007120878445505e-05,\n",
       " 'CL YT snow rain': 3.2007120878445505e-05,\n",
       " 'CL YT snow sun': 3.2007120878445505e-05,\n",
       " 'CL YT snow clouds': 3.2007120878445505e-05,\n",
       " 'CL YT snow snow': 3.2007120878445505e-05,\n",
       " 'CL YT snow fog': 3.2007120878445505e-05,\n",
       " 'CL YT fog rain': 3.2007120878445505e-05,\n",
       " 'CL YT fog sun': 3.2007120878445505e-05,\n",
       " 'CL YT fog clouds': 3.2007120878445505e-05,\n",
       " 'CL YT fog snow': 3.2007120878445505e-05,\n",
       " 'CL YT fog fog': 3.2007120878445505e-05,\n",
       " 'CL ZG rain rain': 1.745842957006118e-05,\n",
       " 'CL ZG rain sun': 1.745842957006118e-05,\n",
       " 'CL ZG rain clouds': 1.745842957006118e-05,\n",
       " 'CL ZG rain snow': 1.745842957006118e-05,\n",
       " 'CL ZG rain fog': 1.745842957006118e-05,\n",
       " 'CL ZG sun rain': 1.745842957006118e-05,\n",
       " 'CL ZG sun sun': 1.745842957006118e-05,\n",
       " 'CL ZG sun clouds': 1.745842957006118e-05,\n",
       " 'CL ZG sun snow': 1.745842957006118e-05,\n",
       " 'CL ZG sun fog': 1.745842957006118e-05,\n",
       " 'CL ZG clouds rain': 1.745842957006118e-05,\n",
       " 'CL ZG clouds sun': 1.745842957006118e-05,\n",
       " 'CL ZG clouds clouds': 1.745842957006118e-05,\n",
       " 'CL ZG clouds snow': 1.745842957006118e-05,\n",
       " 'CL ZG clouds fog': 1.745842957006118e-05,\n",
       " 'CL ZG snow rain': 1.745842957006118e-05,\n",
       " 'CL ZG snow sun': 1.745842957006118e-05,\n",
       " 'CL ZG snow clouds': 1.745842957006118e-05,\n",
       " 'CL ZG snow snow': 1.745842957006118e-05,\n",
       " 'CL ZG snow fog': 1.745842957006118e-05,\n",
       " 'CL ZG fog rain': 1.745842957006118e-05,\n",
       " 'CL ZG fog sun': 1.745842957006118e-05,\n",
       " 'CL ZG fog clouds': 1.745842957006118e-05,\n",
       " 'CL ZG fog snow': 1.745842957006118e-05,\n",
       " 'CL ZG fog fog': 1.745842957006118e-05,\n",
       " ...}"
      ]
     },
     "execution_count": 157,
     "metadata": {},
     "output_type": "execute_result"
    }
   ],
   "source": [
    "# The probability of weathers and drivers on two days\n",
    "TwoRaceOnTwoWeather = joint(TwoRace, TwoWeather, sep=\" \")\n",
    "TwoRaceOnTwoWeather"
   ]
  },
  {
   "cell_type": "code",
   "execution_count": 158,
   "id": "a6a66c66",
   "metadata": {},
   "outputs": [],
   "source": [
    "# EventX\n",
    "# Red Bull wins two race and there's at least a rainy day\n",
    "\n",
    "def EventX(outcome):\n",
    "    flag_at_least_rain = \"rain\" in outcome \n",
    "\n",
    "    # MV, MV\n",
    "    # MV, SP\n",
    "    # SP, MV\n",
    "    # SP, SP\n",
    "    win_twice_RedBull = ['MV MV', 'MV SP', 'SP MV', 'SP SP']\n",
    "    flag_win_twice_RedBull = any([i in outcome for i in win_twice_RedBull])\n",
    "\n",
    "    flag_out = all([flag_win_twice_RedBull, flag_at_least_rain])\n",
    "\n",
    "    return flag_out\n",
    "\n",
    "# EventY\n",
    "#  Red Bull wins at least one race and a rainy day, 𝑃(𝑤𝑖𝑛𝑠 𝑎𝑡 𝑙𝑒𝑎𝑠𝑡 𝑜𝑛𝑒 𝑟𝑎𝑖𝑛𝑦 𝑟𝑎𝑐𝑒)\n",
    "def EventY(outcome):\n",
    "    list_outcome = outcome.split(\" \")\n",
    "    day_1 = f\"{list_outcome[0]} {list_outcome[2]}\"\n",
    "    day_2 = f\"{list_outcome[1]} {list_outcome[3]}\"\n",
    "    new_outcome = f\"{day_1} {day_2}\" # Player Weather Player Weather\n",
    "    win_at_least_one_RedBull = ['MV rain', 'SP rain']\n",
    "    \n",
    "    flag_win_at_least_one_rain = any([i in new_outcome for i in win_at_least_one_RedBull])\n",
    "    \n",
    "    return flag_win_at_least_one_rain\n",
    "    "
   ]
  },
  {
   "cell_type": "markdown",
   "id": "3d0c6803",
   "metadata": {},
   "source": [
    "$$P({RedBull \\space wins \\space two | wins \\space at \\space least \\space one \\space rainy \\space race}) = \\frac{P(wins \\space two \\space and \\space at \\space least \\space one \\space rainy \\space race)}{P(wins \\space at \\space least \\space one \\space rainy \\space race)}$$ "
   ]
  },
  {
   "cell_type": "code",
   "execution_count": 159,
   "id": "a0d0b279",
   "metadata": {},
   "outputs": [
    {
     "name": "stdout",
     "output_type": "stream",
     "text": [
      "0.2966693373011335\n"
     ]
    }
   ],
   "source": [
    "P_EventX = p(EventX, space=TwoRaceOnTwoWeather)\n",
    "P_EventY = p(EventY, space=TwoRaceOnTwoWeather)\n",
    "\n",
    "P_question3 = P_EventX / P_EventY\n",
    "print(P_question3)"
   ]
  },
  {
   "cell_type": "markdown",
   "id": "648355dd",
   "metadata": {},
   "source": [
    "## Question 4\n",
    "\n",
    "(25 points) After the races, there is always a media blitz! Knowing that everyone has a favorite F1 driver, fashion brands pay F1 drivers to be their ambassadors. Let's assume that brands combine to organize one hundred fashion shows every season and that each retired or active F1 driver is under contract to attend exactly one fashion show every season in order to wear a fashion brand's clothes and to represent the brand (e.g. Gucci). For the sake of simplicity let's also assume that there are exactly 100 F1 retired and active driveres. If you go to a fashion show, what is the probability you will see your favorite driver (e.g. Lewis Hamilton)? What is the probability you will see a Formula 1 driver? How many fashion shows do you need to attend per season to have at least a 50% chance to share a cocktail with a Formula 1 drive"
   ]
  },
  {
   "cell_type": "markdown",
   "id": "21de0947",
   "metadata": {},
   "source": [
    "### 4.1 If you go to a fashion show, what is the probability you will see your favorite driver (e.g. Lewis Hamilton)?"
   ]
  },
  {
   "cell_type": "markdown",
   "id": "ffbb39c2",
   "metadata": {},
   "source": [
    "|Assuming that my favorite driver chose one fashion show, and I don't which one he chose. For me, I have 100 shows to choose randomly and I can just choose one. So the probability I will see my favorite driver is 1/100"
   ]
  },
  {
   "cell_type": "code",
   "execution_count": 160,
   "id": "08c45723",
   "metadata": {},
   "outputs": [
    {
     "data": {
      "text/plain": [
       "0.01"
      ]
     },
     "execution_count": 160,
     "metadata": {},
     "output_type": "execute_result"
    }
   ],
   "source": [
    "MeetFavoriteDiver = 1/100\n",
    "MeetFavoriteDiver"
   ]
  },
  {
   "cell_type": "markdown",
   "id": "36d26a3d",
   "metadata": {},
   "source": [
    "### 4.2 What is the probability you will see a Formula 1 driver?\n"
   ]
  },
  {
   "cell_type": "markdown",
   "id": "e5705300",
   "metadata": {},
   "source": [
    "It's difficult to compute the probability I will see a Formula 1 driver P(At least one), the probability I will see no Formula 1 drivers P(No drivers) is easier. We can use P(No drivers) to find P(At least one)."
   ]
  },
  {
   "cell_type": "markdown",
   "id": "b36509d8",
   "metadata": {},
   "source": [
    "Now we go back to 4.1, for example, if my favorite driver is Lewis Hamilton, the probability I will see him is:"
   ]
  },
  {
   "cell_type": "code",
   "execution_count": 161,
   "id": "ce62ab67",
   "metadata": {},
   "outputs": [
    {
     "data": {
      "text/plain": [
       "0.01"
      ]
     },
     "execution_count": 161,
     "metadata": {},
     "output_type": "execute_result"
    }
   ],
   "source": [
    "MeetLH = MeetFavoriteDiver\n",
    "MeetLH"
   ]
  },
  {
   "cell_type": "markdown",
   "id": "8f960731",
   "metadata": {},
   "source": [
    "So the probability I will not see Lewis Hamilton is 1 - MeetLH:"
   ]
  },
  {
   "cell_type": "code",
   "execution_count": 162,
   "id": "016aef61",
   "metadata": {},
   "outputs": [
    {
     "data": {
      "text/plain": [
       "0.99"
      ]
     },
     "execution_count": 162,
     "metadata": {},
     "output_type": "execute_result"
    }
   ],
   "source": [
    "NotMeetLH = 1 - MeetLH\n",
    "NotMeetLH"
   ]
  },
  {
   "cell_type": "markdown",
   "id": "602f55a9",
   "metadata": {},
   "source": [
    "For an other driver, like Max Verstappen, the probability I will not see Max Verstappen is same as the probability I will not see Lewis Hamilton:"
   ]
  },
  {
   "cell_type": "code",
   "execution_count": 163,
   "id": "8c5f39ca",
   "metadata": {},
   "outputs": [
    {
     "data": {
      "text/plain": [
       "0.99"
      ]
     },
     "execution_count": 163,
     "metadata": {},
     "output_type": "execute_result"
    }
   ],
   "source": [
    "NotMeetMV = NotMeetLH\n",
    "NotMeetMV"
   ]
  },
  {
   "cell_type": "markdown",
   "id": "e755982a",
   "metadata": {},
   "source": [
    "So the probability I will not see both of them is NotMeetMV * NotMeetLH, the probability I will see no drivers is NotMeetMV * NotMeetLH * NotMeetCL * NotMeetSP * ..."
   ]
  },
  {
   "cell_type": "code",
   "execution_count": 164,
   "id": "77854fb0",
   "metadata": {},
   "outputs": [
    {
     "data": {
      "text/plain": [
       "0.3660323412732292"
      ]
     },
     "execution_count": 164,
     "metadata": {},
     "output_type": "execute_result"
    }
   ],
   "source": [
    "NotMeetDrivers = NotMeetLH**100\n",
    "NotMeetDrivers"
   ]
  },
  {
   "cell_type": "markdown",
   "id": "5e9196bd",
   "metadata": {},
   "source": [
    "Till now, we have found the probability I will see no Formula 1 drivers P(No drivers), the probability I will see a Formula 1 driver P(At least one) is 1 - the probability I will see no Formula 1 drivers P(No drivers)"
   ]
  },
  {
   "cell_type": "code",
   "execution_count": 165,
   "id": "c8bdcce6",
   "metadata": {},
   "outputs": [
    {
     "data": {
      "text/plain": [
       "0.6339676587267709"
      ]
     },
     "execution_count": 165,
     "metadata": {},
     "output_type": "execute_result"
    }
   ],
   "source": [
    "MeetAtLeastOneDriver = 1 - NotMeetDrivers\n",
    "MeetAtLeastOneDriver"
   ]
  },
  {
   "cell_type": "markdown",
   "id": "7f7e7989",
   "metadata": {},
   "source": [
    "### 4.3 How many fashion shows do you need to attend per season to have at least a 50% chance to share a cocktail with a Formula 1 driver?"
   ]
  },
  {
   "cell_type": "markdown",
   "id": "1ae0b136",
   "metadata": {},
   "source": [
    "Assume we attend n shows, we go back to 4.1 and we know that the probability I will see Lewis Hamilton is n/100."
   ]
  },
  {
   "cell_type": "markdown",
   "id": "38f01352",
   "metadata": {},
   "source": [
    "$$P(meet\\space LH) = \\frac{n}{100}$$\n",
    "$$P(not \\space meet\\space LH) = 1 - \\frac{n}{100}$$"
   ]
  },
  {
   "cell_type": "markdown",
   "id": "de6bb5e9",
   "metadata": {},
   "source": [
    "Go back to 4.2, and we know that the probability I meet no drivers is:"
   ]
  },
  {
   "cell_type": "markdown",
   "id": "4c0829f6",
   "metadata": {},
   "source": [
    "$$P(not \\space meet \\space drivers) = P(not \\space meet\\space LH)P(not \\space meet\\space CL)P(not \\space meet\\space SP)... = (1 - \\frac{n}{100})^{100}$$"
   ]
  },
  {
   "cell_type": "markdown",
   "id": "e6cb9cd2",
   "metadata": {},
   "source": [
    "Now we can find the probability I meet a driver is:"
   ]
  },
  {
   "cell_type": "markdown",
   "id": "132f0cb5",
   "metadata": {},
   "source": [
    "$$P(meet \\space at \\space least \\space one \\space driver) = 1 - P(not \\space meet \\space drivers) = 1 - (1 - \\frac{n}{100})^{100}$$"
   ]
  },
  {
   "cell_type": "markdown",
   "id": "8e7ec70f",
   "metadata": {},
   "source": [
    "And we want $P(meet \\space at \\space least \\space one \\space driver) \\geq 0.5$"
   ]
  },
  {
   "cell_type": "code",
   "execution_count": 166,
   "id": "c3ef2009",
   "metadata": {},
   "outputs": [],
   "source": [
    "def PmeetAtLeastOneDriver(n):\n",
    "    PNotMeetLH = 1 - n/100\n",
    "    return 1 - PNotMeetLH**100"
   ]
  },
  {
   "cell_type": "code",
   "execution_count": 167,
   "id": "a13106e9",
   "metadata": {},
   "outputs": [
    {
     "data": {
      "text/plain": [
       "1"
      ]
     },
     "execution_count": 167,
     "metadata": {},
     "output_type": "execute_result"
    }
   ],
   "source": [
    "n = 1\n",
    "while(n <= 100):\n",
    "    if PmeetAtLeastOneDriver(n) >= 0.5:\n",
    "        break\n",
    "    else:\n",
    "        n = n + 1\n",
    "n"
   ]
  },
  {
   "cell_type": "markdown",
   "id": "7732c473",
   "metadata": {},
   "source": [
    "I need to attend at least one fashion show per season to have at least a 50% chance to share a cocktail with a Formula 1 driver\n"
   ]
  },
  {
   "cell_type": "code",
   "execution_count": null,
   "id": "e0eda6a7",
   "metadata": {},
   "outputs": [],
   "source": []
  },
  {
   "cell_type": "code",
   "execution_count": null,
   "id": "9093b3cc",
   "metadata": {},
   "outputs": [],
   "source": []
  },
  {
   "cell_type": "code",
   "execution_count": null,
   "id": "3376af0e",
   "metadata": {},
   "outputs": [],
   "source": []
  }
 ],
 "metadata": {
  "kernelspec": {
   "display_name": "Python 3 (ipykernel)",
   "language": "python",
   "name": "python3"
  },
  "language_info": {
   "codemirror_mode": {
    "name": "ipython",
    "version": 3
   },
   "file_extension": ".py",
   "mimetype": "text/x-python",
   "name": "python",
   "nbconvert_exporter": "python",
   "pygments_lexer": "ipython3",
   "version": "3.9.12"
  },
  "toc": {
   "base_numbering": 1,
   "nav_menu": {},
   "number_sections": false,
   "sideBar": true,
   "skip_h1_title": false,
   "title_cell": "Table of Contents",
   "title_sidebar": "Contents",
   "toc_cell": false,
   "toc_position": {},
   "toc_section_display": true,
   "toc_window_display": false
  },
  "varInspector": {
   "cols": {
    "lenName": 16,
    "lenType": 16,
    "lenVar": 40
   },
   "kernels_config": {
    "python": {
     "delete_cmd_postfix": "",
     "delete_cmd_prefix": "del ",
     "library": "var_list.py",
     "varRefreshCmd": "print(var_dic_list())"
    },
    "r": {
     "delete_cmd_postfix": ") ",
     "delete_cmd_prefix": "rm(",
     "library": "var_list.r",
     "varRefreshCmd": "cat(var_dic_list()) "
    }
   },
   "types_to_exclude": [
    "module",
    "function",
    "builtin_function_or_method",
    "instance",
    "_Feature"
   ],
   "window_display": false
  }
 },
 "nbformat": 4,
 "nbformat_minor": 5
}
