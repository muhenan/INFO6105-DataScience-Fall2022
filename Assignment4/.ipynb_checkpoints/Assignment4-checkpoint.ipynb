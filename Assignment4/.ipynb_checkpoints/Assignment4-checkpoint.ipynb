{
 "cells": [
  {
   "cell_type": "code",
   "execution_count": 2,
   "metadata": {},
   "outputs": [],
   "source": [
    "class ProbDist(dict):\n",
    "    \"\"\"A Probability Distribution; an {outcome: probability} mapping.\"\"\"\n",
    "    def __init__(self, mapping=(), **kwargs):\n",
    "        self.update(mapping, **kwargs)\n",
    "        # Make probabilities sum to 1.0; assert no negative probabilities\n",
    "        total = sum(self.values())\n",
    "        for outcome in self:\n",
    "            self[outcome] = self[outcome] / total\n",
    "            assert self[outcome] >= 0"
   ]
  },
  {
   "cell_type": "code",
   "execution_count": 3,
   "metadata": {},
   "outputs": [],
   "source": [
    "def p(event, space): \n",
    "    \"\"\"The probability of an event, given a sample space of equiprobable outcomes. \n",
    "    event: a collection of outcomes, or a predicate that is true of outcomes in the event. \n",
    "    space: a set of outcomes or a probability distribution of {outcome: frequency} pairs.\"\"\"\n",
    "    # branch on the type of the first argument\n",
    "    if is_predicate(event):\n",
    "        # transform the mapping (untangible) 'event' into the collection (tangible) 'event'\n",
    "        event = such_that(event, space)\n",
    "        \n",
    "    if isinstance(space, ProbDist):\n",
    "        # if space is a dictionary of distinct probabilities, where each item does not count as the same amount\n",
    "        return sum(space[k] for k in space if k in event)\n",
    "        #return sum({space[k] for k in space & event})\n",
    "    else:\n",
    "        # space is not a dictionary but a collection, let's fall back to our original division\n",
    "        return Fraction(len(event & space), len(space))\n",
    "\n",
    "is_predicate = callable\n",
    "\n",
    "def such_that(predicate, space): \n",
    "    \"\"\"The outcomes in the sample pace for which the predicate is true.\n",
    "    If space is a set, return a subset {outcome,...} with outcomes where predicate(element) is true;\n",
    "    if space is a ProbDist, return a ProbDist {outcome: frequency,...} with outcomes where predicate(element) is true.\"\"\"\n",
    "    if isinstance(space, ProbDist):\n",
    "        return ProbDist({o:space[o] for o in space if predicate(o)})\n",
    "    else:\n",
    "        return {o for o in space if predicate(o)}"
   ]
  },
  {
   "cell_type": "markdown",
   "metadata": {},
   "source": [
    "# Question 1"
   ]
  },
  {
   "cell_type": "markdown",
   "metadata": {},
   "source": [
    "## 1.1 Probability Distribution for each F1 driver to win the Netherlands Grand Prix"
   ]
  },
  {
   "cell_type": "code",
   "execution_count": 4,
   "metadata": {},
   "outputs": [
    {
     "data": {
      "text/plain": [
       "{'MV': 0.1889196675900277,\n",
       " 'CL': 0.13130193905817175,\n",
       " 'SP': 0.13019390581717452,\n",
       " 'GR': 0.11246537396121883,\n",
       " 'CS': 0.11191135734072022,\n",
       " 'LH': 0.09418282548476455,\n",
       " 'LN': 0.055401662049861494,\n",
       " 'EO': 0.03656509695290859,\n",
       " 'FA': 0.032686980609418284,\n",
       " 'VB': 0.02548476454293629,\n",
       " 'DR': 0.016066481994459834,\n",
       " 'SV': 0.013296398891966758,\n",
       " 'PG': 0.012742382271468145,\n",
       " 'KM': 0.01218836565096953,\n",
       " 'LS': 0.007202216066481994,\n",
       " 'MS': 0.006648199445983379,\n",
       " 'YT': 0.006094182825484765,\n",
       " 'ZG': 0.0033240997229916896,\n",
       " 'AA': 0.00221606648199446,\n",
       " 'NDV': 0.00110803324099723}"
      ]
     },
     "execution_count": 4,
     "metadata": {},
     "output_type": "execute_result"
    }
   ],
   "source": [
    "NGP = ProbDist(\n",
    "    MV = 341,\n",
    "    CL = 237,\n",
    "    SP = 235,\n",
    "    GR = 203,\n",
    "    CS = 202,\n",
    "    LH = 170,\n",
    "    LN = 100,\n",
    "    EO = 66,\n",
    "    FA = 59,\n",
    "    VB = 46,\n",
    "    DR = 29,\n",
    "    SV = 24,\n",
    "    PG = 23,\n",
    "    KM = 22,\n",
    "    LS = 13,\n",
    "    MS = 12,\n",
    "    YT = 11,\n",
    "    ZG = 6,\n",
    "    AA = 4,\n",
    "    NDV = 2\n",
    ")\n",
    "NGP"
   ]
  },
  {
   "cell_type": "markdown",
   "metadata": {},
   "source": [
    "## 1.2 What is the Probability Distribution for each F1 driver to win both the Netherlands and Italian Grand Prix?"
   ]
  },
  {
   "cell_type": "code",
   "execution_count": 11,
   "metadata": {},
   "outputs": [
    {
     "data": {
      "text/plain": [
       "{'MV': 0.03569064080232656,\n",
       " 'CL': 0.01724019920043585,\n",
       " 'SP': 0.01695045311193131,\n",
       " 'GR': 0.012648460340236799,\n",
       " 'CS': 0.012524151901842374,\n",
       " 'LH': 0.008870404616293614,\n",
       " 'LN': 0.003069344157887063,\n",
       " 'EO': 0.0013370063151756052,\n",
       " 'FA': 0.001068438701360487,\n",
       " 'VB': 0.0006494732238089027,\n",
       " 'DR': 0.00025813184367830206,\n",
       " 'SV': 0.00017679422349429485,\n",
       " 'PG': 0.0001623683059522257,\n",
       " 'KM': 0.00014855625724173387,\n",
       " 'LS': 5.1871916268291375e-05,\n",
       " 'MS': 4.419855587357371e-05,\n",
       " 'YT': 3.713906431043347e-05,\n",
       " 'ZG': 1.1049638968393428e-05,\n",
       " 'AA': 4.910950652619302e-06,\n",
       " 'NDV': 1.2277376631548256e-06}"
      ]
     },
     "execution_count": 11,
     "metadata": {},
     "output_type": "execute_result"
    }
   ],
   "source": [
    "NGP_IGP = {key: (NGP[key] * NGP[key]) for key in NGP}\n",
    "NGP_IGP"
   ]
  },
  {
   "cell_type": "markdown",
   "metadata": {},
   "source": [
    "## 1.3 What is the probability for Red Bull to win both races? "
   ]
  },
  {
   "cell_type": "markdown",
   "metadata": {},
   "source": [
    "The probability for Red Bull to win one race is `probability of MV win` + `probability of SP win`"
   ]
  },
  {
   "cell_type": "code",
   "execution_count": 38,
   "metadata": {},
   "outputs": [
    {
     "data": {
      "text/plain": [
       "0.31911357340720226"
      ]
     },
     "execution_count": 38,
     "metadata": {},
     "output_type": "execute_result"
    }
   ],
   "source": [
    "RedBull_OneRace = NGP['MV'] + NGP['SP']\n",
    "RedBull_OneRace"
   ]
  },
  {
   "cell_type": "markdown",
   "metadata": {},
   "source": [
    "The probability for Red Bull to win two races is `The probability for Red Bull to win one race` * `The probability for Red Bull to win one race`"
   ]
  },
  {
   "cell_type": "code",
   "execution_count": 39,
   "metadata": {},
   "outputs": [
    {
     "data": {
      "text/plain": [
       "0.10183347273271386"
      ]
     },
     "execution_count": 39,
     "metadata": {},
     "output_type": "execute_result"
    }
   ],
   "source": [
    "RedBull_TwoRaces = RedBull_OneRace * RedBull_OneRace\n",
    "RedBull_TwoRaces"
   ]
  },
  {
   "cell_type": "markdown",
   "metadata": {},
   "source": [
    "## 1.4 What is the probability for Red Bull to win at least one race?"
   ]
  },
  {
   "cell_type": "markdown",
   "metadata": {},
   "source": [
    "For this question, we can compute the the probability for Red Bull to win no races at first. Because the probability for Red Bull to win at least one race is 1 - the probability for Red Bull to win no races."
   ]
  },
  {
   "cell_type": "code",
   "execution_count": 54,
   "metadata": {},
   "outputs": [
    {
     "data": {
      "text/plain": [
       "0.6808864265927977"
      ]
     },
     "execution_count": 54,
     "metadata": {},
     "output_type": "execute_result"
    }
   ],
   "source": [
    "RedBull_LoseOneRace = 1 - RedBull_OneRace\n",
    "RedBull_LoseOneRace"
   ]
  },
  {
   "cell_type": "code",
   "execution_count": 55,
   "metadata": {},
   "outputs": [
    {
     "data": {
      "text/plain": [
       "0.46360632591830936"
      ]
     },
     "execution_count": 55,
     "metadata": {},
     "output_type": "execute_result"
    }
   ],
   "source": [
    "RedBull_LoseTwoRaces = RedBull_LoseOneRace * RedBull_LoseOneRace\n",
    "RedBull_LoseTwoRaces"
   ]
  },
  {
   "cell_type": "code",
   "execution_count": 56,
   "metadata": {},
   "outputs": [
    {
     "data": {
      "text/plain": [
       "0.5363936740816906"
      ]
     },
     "execution_count": 56,
     "metadata": {},
     "output_type": "execute_result"
    }
   ],
   "source": [
    "RedBull_AtLeastOneRace = 1 - RedBull_LoseTwoRaces\n",
    "RedBull_AtLeastOneRace"
   ]
  },
  {
   "cell_type": "markdown",
   "metadata": {},
   "source": [
    "# Question 2"
   ]
  },
  {
   "cell_type": "markdown",
   "metadata": {},
   "source": [
    "## 2.1 If Red Bull wins the first race, what is the probability that Red Bull wins the next one?"
   ]
  },
  {
   "cell_type": "markdown",
   "metadata": {},
   "source": [
    "It's same as the probability Red Bull win first race."
   ]
  },
  {
   "cell_type": "code",
   "execution_count": 58,
   "metadata": {},
   "outputs": [
    {
     "data": {
      "text/plain": [
       "0.31911357340720226"
      ]
     },
     "execution_count": 58,
     "metadata": {},
     "output_type": "execute_result"
    }
   ],
   "source": [
    "RedBull_win_next = NGP['MV'] + NGP['SP']\n",
    "RedBull_win_next"
   ]
  },
  {
   "cell_type": "markdown",
   "metadata": {},
   "source": [
    "We write it in a function"
   ]
  },
  {
   "cell_type": "code",
   "execution_count": 93,
   "metadata": {},
   "outputs": [],
   "source": [
    "def win_a_race(NGP, name1, name2):\n",
    "    return NGP[name1] + NGP[name2]"
   ]
  },
  {
   "cell_type": "code",
   "execution_count": 94,
   "metadata": {},
   "outputs": [
    {
     "data": {
      "text/plain": [
       "0.31911357340720226"
      ]
     },
     "execution_count": 94,
     "metadata": {},
     "output_type": "execute_result"
    }
   ],
   "source": [
    "win_a_race(NGP, 'MV', 'SP')"
   ]
  },
  {
   "cell_type": "markdown",
   "metadata": {},
   "source": [
    "## 2.2 If Red Bull wins at least one of these two races, what is the probability Red Bull wins both races?"
   ]
  },
  {
   "cell_type": "code",
   "execution_count": 61,
   "metadata": {},
   "outputs": [
    {
     "data": {
      "text/plain": [
       "0.18984838497033624"
      ]
     },
     "execution_count": 61,
     "metadata": {},
     "output_type": "execute_result"
    }
   ],
   "source": [
    "P = RedBull_TwoRaces / RedBull_AtLeastOneRace\n",
    "P"
   ]
  },
  {
   "cell_type": "markdown",
   "metadata": {},
   "source": [
    "We write it in a function"
   ]
  },
  {
   "cell_type": "code",
   "execution_count": 99,
   "metadata": {},
   "outputs": [],
   "source": [
    "def question22(NGP, name1, name2):\n",
    "    win_one = win_a_race(NGP, name1, name2)\n",
    "    lose_one = 1 - win_one\n",
    "    win_two = win_one**2\n",
    "    lose_two = lose_one**2\n",
    "    return win_two / (1 - lose_two)"
   ]
  },
  {
   "cell_type": "code",
   "execution_count": 100,
   "metadata": {},
   "outputs": [
    {
     "data": {
      "text/plain": [
       "0.18984838497033624"
      ]
     },
     "execution_count": 100,
     "metadata": {},
     "output_type": "execute_result"
    }
   ],
   "source": [
    "question22(NGP, 'MV', 'SP')"
   ]
  },
  {
   "cell_type": "markdown",
   "metadata": {},
   "source": [
    "## 2.3 How about Ferrari, Mercedes, and Alpine-Renault?"
   ]
  },
  {
   "cell_type": "markdown",
   "metadata": {},
   "source": [
    "The algorithm is same as 2.2"
   ]
  },
  {
   "cell_type": "markdown",
   "metadata": {},
   "source": [
    "### Ferrari"
   ]
  },
  {
   "cell_type": "code",
   "execution_count": 105,
   "metadata": {},
   "outputs": [
    {
     "data": {
      "text/plain": [
       "0.24321329639889197"
      ]
     },
     "execution_count": 105,
     "metadata": {},
     "output_type": "execute_result"
    }
   ],
   "source": [
    "win_a_race(NGP, 'CL', 'CS')"
   ]
  },
  {
   "cell_type": "code",
   "execution_count": 106,
   "metadata": {},
   "outputs": [
    {
     "data": {
      "text/plain": [
       "0.13844213181961523"
      ]
     },
     "execution_count": 106,
     "metadata": {},
     "output_type": "execute_result"
    }
   ],
   "source": [
    "question22(NGP, 'CL', 'CS')"
   ]
  },
  {
   "cell_type": "markdown",
   "metadata": {},
   "source": [
    "### For Mercedes"
   ]
  },
  {
   "cell_type": "code",
   "execution_count": 101,
   "metadata": {},
   "outputs": [
    {
     "data": {
      "text/plain": [
       "0.2066481994459834"
      ]
     },
     "execution_count": 101,
     "metadata": {},
     "output_type": "execute_result"
    }
   ],
   "source": [
    "win_a_race(NGP, 'GR', 'LH')"
   ]
  },
  {
   "cell_type": "code",
   "execution_count": 102,
   "metadata": {},
   "outputs": [
    {
     "data": {
      "text/plain": [
       "0.11523015137472965"
      ]
     },
     "execution_count": 102,
     "metadata": {},
     "output_type": "execute_result"
    }
   ],
   "source": [
    "question22(NGP, 'GR', 'LH')"
   ]
  },
  {
   "cell_type": "markdown",
   "metadata": {},
   "source": [
    "### For Alpine-Renault"
   ]
  },
  {
   "cell_type": "code",
   "execution_count": 103,
   "metadata": {},
   "outputs": [
    {
     "data": {
      "text/plain": [
       "0.06925207756232687"
      ]
     },
     "execution_count": 103,
     "metadata": {},
     "output_type": "execute_result"
    }
   ],
   "source": [
    "win_a_race(NGP, 'EO', 'FA')"
   ]
  },
  {
   "cell_type": "code",
   "execution_count": 104,
   "metadata": {},
   "outputs": [
    {
     "data": {
      "text/plain": [
       "0.03586800573888091"
      ]
     },
     "execution_count": 104,
     "metadata": {},
     "output_type": "execute_result"
    }
   ],
   "source": [
    "question22(NGP, 'EO', 'FA')"
   ]
  },
  {
   "cell_type": "markdown",
   "metadata": {},
   "source": [
    "# Question 3"
   ]
  },
  {
   "cell_type": "markdown",
   "metadata": {},
   "source": [
    "## Red Bull wins one of these two races on a rainy day. What is the probability Red Bull wins both races, assuming races can be held on either rainy, sunny, cloudy, snowy or foggy days? Assume that rain, sun, clouds, snow, and fog are the only possible weather conditions on race tracks and there is an equal probability for each one of these weather events."
   ]
  },
  {
   "cell_type": "markdown",
   "metadata": {},
   "source": [
    "There are 5 possible weather conditions"
   ]
  },
  {
   "cell_type": "markdown",
   "metadata": {},
   "source": [
    "$$P({RB \\space win \\space two | win \\space at \\space least \\space one \\space rainy \\space race}) = \\frac{P(win \\space two \\space and \\space at \\space least \\space one \\space rainy \\space race)}{P(win \\space at \\space least \\space one \\space rainy \\space race)}$$ \n",
    "\n",
    "$$P(win \\space two \\space and \\space at \\space least \\space one \\space rainy \\space race) = P(win \\space two)P(at \\space least \\space one \\space rainy \\space race)$$\n",
    "\n",
    "$$P(win \\space at \\space least \\space one \\space rainy \\space race) = P(win \\space a \\space race)P(rainy) + P(win \\space a \\space race)P(rainy) - P(win \\space a \\space race)P(rainy)P(win \\space a \\space race)P(rainy)$$"
   ]
  },
  {
   "cell_type": "code",
   "execution_count": 81,
   "metadata": {},
   "outputs": [
    {
     "data": {
      "text/plain": [
       "0.3599999999999999"
      ]
     },
     "execution_count": 81,
     "metadata": {},
     "output_type": "execute_result"
    }
   ],
   "source": [
    "P_rain = 0.2\n",
    "P_not_rain = 1 - P_rain\n",
    "P_not_rain_two_races = P_not_rain ** 2\n",
    "P_rain_at_least_one_race = 1 - P_not_rain_two_races\n",
    "P_rain_at_least_one_race"
   ]
  },
  {
   "cell_type": "code",
   "execution_count": 82,
   "metadata": {},
   "outputs": [
    {
     "data": {
      "text/plain": [
       "0.03666005018377697"
      ]
     },
     "execution_count": 82,
     "metadata": {},
     "output_type": "execute_result"
    }
   ],
   "source": [
    "P_win_two_and_at_least_one_rainy_race = RedBull_TwoRaces * P_rain_at_least_one_race\n",
    "P_win_two_and_at_least_one_rainy_race"
   ]
  },
  {
   "cell_type": "code",
   "execution_count": 86,
   "metadata": {},
   "outputs": [
    {
     "data": {
      "text/plain": [
       "0.12357209045357234"
      ]
     },
     "execution_count": 86,
     "metadata": {},
     "output_type": "execute_result"
    }
   ],
   "source": [
    "P_win_at_least_one_rainy_race = RedBull_OneRace * P_rain + RedBull_OneRace * P_rain - RedBull_OneRace * P_rain * RedBull_OneRace * P_rain\n",
    "P_win_at_least_one_rainy_race"
   ]
  },
  {
   "cell_type": "code",
   "execution_count": 87,
   "metadata": {},
   "outputs": [
    {
     "data": {
      "text/plain": [
       "0.29666933730113304"
      ]
     },
     "execution_count": 87,
     "metadata": {},
     "output_type": "execute_result"
    }
   ],
   "source": [
    "P_question_3 = P_win_two_and_at_least_one_rainy_race / P_win_at_least_one_rainy_race\n",
    "P_question_3"
   ]
  },
  {
   "cell_type": "markdown",
   "metadata": {},
   "source": [
    "# Question 4"
   ]
  },
  {
   "cell_type": "markdown",
   "metadata": {},
   "source": [
    "## 4.1 If you go to a fashion show, what is the probability you will see your favorite driver (e.g. Lewis Hamilton)?"
   ]
  },
  {
   "cell_type": "markdown",
   "metadata": {},
   "source": [
    "Assuming that my favorite driver chose one fashion show, and I don't which one he chose. For me, I have 100 shows to choose randomly and I can just choose one. So the probability I will see my favorite driver is 1/100"
   ]
  },
  {
   "cell_type": "code",
   "execution_count": 41,
   "metadata": {},
   "outputs": [
    {
     "data": {
      "text/plain": [
       "0.01"
      ]
     },
     "execution_count": 41,
     "metadata": {},
     "output_type": "execute_result"
    }
   ],
   "source": [
    "MeetFavoriteDiver = 1/100\n",
    "MeetFavoriteDiver"
   ]
  },
  {
   "cell_type": "markdown",
   "metadata": {},
   "source": [
    "## 4.2 What is the probability you will see a Formula 1 driver?"
   ]
  },
  {
   "cell_type": "markdown",
   "metadata": {},
   "source": [
    "It's difficult to compute the probability I will see a Formula 1 driver P(At least one), the probability I will see no Formula 1 drivers P(No drivers) is easier. We can use P(No drivers) to find P(At least one)."
   ]
  },
  {
   "cell_type": "markdown",
   "metadata": {},
   "source": [
    "Now we go back to 4.1, for example, if my favorite driver is Lewis Hamilton, the probability I will see him is:"
   ]
  },
  {
   "cell_type": "code",
   "execution_count": 42,
   "metadata": {},
   "outputs": [
    {
     "data": {
      "text/plain": [
       "0.01"
      ]
     },
     "execution_count": 42,
     "metadata": {},
     "output_type": "execute_result"
    }
   ],
   "source": [
    "MeetLH = MeetFavoriteDiver\n",
    "MeetLH"
   ]
  },
  {
   "cell_type": "markdown",
   "metadata": {},
   "source": [
    "So the probability I will not see Lewis Hamilton is 1 - MeetLH:"
   ]
  },
  {
   "cell_type": "code",
   "execution_count": 43,
   "metadata": {},
   "outputs": [
    {
     "data": {
      "text/plain": [
       "0.99"
      ]
     },
     "execution_count": 43,
     "metadata": {},
     "output_type": "execute_result"
    }
   ],
   "source": [
    "NotMeetLH = 1 - MeetLH\n",
    "NotMeetLH"
   ]
  },
  {
   "cell_type": "markdown",
   "metadata": {},
   "source": [
    "For an other driver, like Max Verstappen, the probability I will not see Max Verstappen is same as the probability I will not see Lewis Hamilton:"
   ]
  },
  {
   "cell_type": "code",
   "execution_count": 44,
   "metadata": {},
   "outputs": [
    {
     "data": {
      "text/plain": [
       "0.99"
      ]
     },
     "execution_count": 44,
     "metadata": {},
     "output_type": "execute_result"
    }
   ],
   "source": [
    "NotMeetMV = NotMeetLH\n",
    "NotMeetMV"
   ]
  },
  {
   "cell_type": "markdown",
   "metadata": {},
   "source": [
    "So the probability I will not see both of them is NotMeetMV * NotMeetLH, the probability I will see no drivers is NotMeetMV * NotMeetLH * NotMeetCL * NotMeetSP * ..."
   ]
  },
  {
   "cell_type": "code",
   "execution_count": 45,
   "metadata": {},
   "outputs": [
    {
     "data": {
      "text/plain": [
       "0.3660323412732292"
      ]
     },
     "execution_count": 45,
     "metadata": {},
     "output_type": "execute_result"
    }
   ],
   "source": [
    "NotMeetDrivers = NotMeetLH**100\n",
    "NotMeetDrivers"
   ]
  },
  {
   "cell_type": "markdown",
   "metadata": {},
   "source": [
    "Till now, we have found the probability I will see no Formula 1 drivers P(No drivers), the probability I will see a Formula 1 driver P(At least one) is 1 - the probability I will see no Formula 1 drivers P(No drivers)"
   ]
  },
  {
   "cell_type": "code",
   "execution_count": 46,
   "metadata": {},
   "outputs": [
    {
     "data": {
      "text/plain": [
       "0.6339676587267709"
      ]
     },
     "execution_count": 46,
     "metadata": {},
     "output_type": "execute_result"
    }
   ],
   "source": [
    "MeetAtLeastOneDriver = 1 - NotMeetDrivers\n",
    "MeetAtLeastOneDriver"
   ]
  },
  {
   "cell_type": "markdown",
   "metadata": {},
   "source": [
    "## 4.3 How many fashion shows do you need to attend per season to have at least a 50% chance to share a cocktail with a Formula 1 driver?"
   ]
  },
  {
   "cell_type": "markdown",
   "metadata": {},
   "source": [
    "Assume we attend n shows, we go back to 4.1 and we know that the probability I will see Lewis Hamilton is n/100."
   ]
  },
  {
   "cell_type": "markdown",
   "metadata": {},
   "source": [
    "$$P(meet\\space LH) = \\frac{n}{100}$$\n",
    "$$P(not \\space meet\\space LH) = 1 - \\frac{n}{100}$$"
   ]
  },
  {
   "cell_type": "markdown",
   "metadata": {},
   "source": [
    "Go back to 4.2, and we know that the probability I meet no drivers is:"
   ]
  },
  {
   "cell_type": "markdown",
   "metadata": {},
   "source": [
    "$$P(not \\space meet \\space drivers) = P(not \\space meet\\space LH)P(not \\space meet\\space CL)P(not \\space meet\\space SP)... = (1 - \\frac{n}{100})^{100}$$"
   ]
  },
  {
   "cell_type": "markdown",
   "metadata": {},
   "source": [
    "Now we can find the probability I meet a driver is:"
   ]
  },
  {
   "cell_type": "markdown",
   "metadata": {},
   "source": [
    "$$P(meet \\space at \\space least \\space one \\space driver) = 1 - P(not \\space meet \\space drivers) = 1 - (1 - \\frac{n}{100})^{100}$$"
   ]
  },
  {
   "cell_type": "markdown",
   "metadata": {},
   "source": [
    "And we want $P(meet \\space at \\space least \\space one \\space driver) \\geq 0.5$"
   ]
  },
  {
   "cell_type": "code",
   "execution_count": 52,
   "metadata": {},
   "outputs": [],
   "source": [
    "def PmeetAtLeastOneDriver(n):\n",
    "    PNotMeetLH = 1 - n/100\n",
    "    return 1 - PNotMeetLH**100"
   ]
  },
  {
   "cell_type": "code",
   "execution_count": 53,
   "metadata": {},
   "outputs": [
    {
     "data": {
      "text/plain": [
       "1"
      ]
     },
     "execution_count": 53,
     "metadata": {},
     "output_type": "execute_result"
    }
   ],
   "source": [
    "n = 1\n",
    "while(n <= 100):\n",
    "    if PmeetAtLeastOneDriver(n) >= 0.5:\n",
    "        break\n",
    "    else:\n",
    "        n = n + 1\n",
    "n"
   ]
  },
  {
   "cell_type": "markdown",
   "metadata": {},
   "source": [
    "I need to attend at least one fashion show per season to have at least a 50% chance to share a cocktail with a Formula 1 driver"
   ]
  },
  {
   "cell_type": "code",
   "execution_count": 107,
   "metadata": {},
   "outputs": [
    {
     "data": {
      "text/plain": [
       "True"
      ]
     },
     "execution_count": 107,
     "metadata": {},
     "output_type": "execute_result"
    }
   ],
   "source": [
    "isinstance(NGP, ProbDist)"
   ]
  },
  {
   "cell_type": "code",
   "execution_count": null,
   "metadata": {},
   "outputs": [],
   "source": []
  }
 ],
 "metadata": {
  "kernelspec": {
   "display_name": "Python 3",
   "language": "python",
   "name": "python3"
  },
  "language_info": {
   "codemirror_mode": {
    "name": "ipython",
    "version": 3
   },
   "file_extension": ".py",
   "mimetype": "text/x-python",
   "name": "python",
   "nbconvert_exporter": "python",
   "pygments_lexer": "ipython3",
   "version": "3.8.5"
  }
 },
 "nbformat": 4,
 "nbformat_minor": 4
}
