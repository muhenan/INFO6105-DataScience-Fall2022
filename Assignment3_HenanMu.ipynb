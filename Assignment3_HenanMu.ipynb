{
 "cells": [
  {
   "cell_type": "code",
   "execution_count": 77,
   "metadata": {},
   "outputs": [],
   "source": [
    "from bson.objectid import ObjectId\n",
    "from datetime import datetime\n",
    "import random\n",
    "import time"
   ]
  },
  {
   "cell_type": "code",
   "execution_count": 78,
   "metadata": {},
   "outputs": [],
   "source": [
    "random.seed(3)\n",
    "def prefix_crud_timestamp_suffix(key):\n",
    "    prefix = key[:3]\n",
    "    crud = key[3:4]\n",
    "    #hyphens = [i for i in range(len(key[:4])) if key[:4].startswith('-'', i)]\n",
    "    hyphen1 = key.find('-')\n",
    "    hyphen2 = key[5:].find('-')\n",
    "    timestamp = key[hyphen1+1:hyphen1+1+hyphen2]\n",
    "    suffix = key[hyphen1+hyphen2+2:]\n",
    "    return prefix, crud, timestamp, suffix #coll, op, time, guid\n",
    "\n",
    "## seconds since midnight, simulate non-contiguous times\n",
    "def ssm():\n",
    "    now = datetime.now()\n",
    "    midnight = now.replace(hour=0, minute=0, second=0, microsecond=0)\n",
    "    return str((now - midnight).seconds + random.randint(0, 1000))\n",
    "\n",
    "words = dict()\n",
    "def enter_words(en, zh = None, hi = None):\n",
    "    uid = ('zhon-' if zh != None else 'hind-' if hi != None else 'oops-') + ssm() + '-' + str(ObjectId())\n",
    "    words[uid] = (\n",
    "        dict(english = en, chinese = zh, _id = uid) if zh != None else \n",
    "        dict(english = en, hindi = hi, _id = uid) if hi != None else\n",
    "        dict(_id = uid)\n",
    "    )"
   ]
  },
  {
   "cell_type": "code",
   "execution_count": 79,
   "metadata": {},
   "outputs": [],
   "source": [
    "# read chinese and hindi sentences\n",
    "# please make sure cmn.txt and hin.txt are under data, data and Assignment3_HenanMu.ipynb are under the same directory\n",
    "\n",
    "file1 = open('data/cmn.txt', 'r', encoding='utf8')\n",
    "lines = file1.readlines()\n",
    "file1.close()\n",
    "\n",
    "for i,l in enumerate(lines):\n",
    "    t2 = l.split('\\t')\n",
    "    enter_words(t2[0][:-1], zh = t2[1][:-1])\n",
    "\n",
    "file1 = open('data/hin.txt', 'r', encoding='utf8')\n",
    "lines = file1.readlines()\n",
    "file1.close()\n",
    "\n",
    "for i,l in enumerate(lines):\n",
    "    t2 = l.split('\\t')\n",
    "    enter_words(t2[0][:-1], hi = t2[1][:-1])\n",
    "\n",
    "separated = dict()\n",
    "separated['chinese'] = {k:v for k,v in words.items() if k.startswith('zhon')}\n",
    "separated['hindi'] = {k:v for k,v in words.items() if k.startswith('hind')}"
   ]
  },
  {
   "cell_type": "code",
   "execution_count": 80,
   "metadata": {},
   "outputs": [
    {
     "name": "stdout",
     "output_type": "stream",
     "text": [
      "{'chinese': {'zhon-1470-632be28b5b16e50aedb019b7': {'english': 'Hi', 'chinese': '嗨', '_id': 'zhon-1470-632be28b5b16e50aedb019b7'}, 'zhon-1833-632be28b5b16e50aedb019b8': {'english': 'Hi', 'chinese': '你好', '_id': 'zhon-1833-632be28b5b16e50aedb019b8'}, 'zhon-1784-632be28b5b16e50aedb019b9': {'english': 'Run', 'chinese': '你用跑的', '_id': 'zhon-1784-632be28b5b16e50aedb019b9'}}, 'hindi': {'hind-1489-632be28b5b16e50aedb06ff3': {'english': 'Wow', 'hindi': 'वाह', '_id': 'hind-1489-632be28b5b16e50aedb06ff3'}, 'hind-1474-632be28b5b16e50aedb06ff4': {'english': 'Help', 'hindi': 'बचाओ', '_id': 'hind-1474-632be28b5b16e50aedb06ff4'}, 'hind-1833-632be28b5b16e50aedb06ff5': {'english': 'Jump', 'hindi': 'उछलो', '_id': 'hind-1833-632be28b5b16e50aedb06ff5'}}}\n"
     ]
    }
   ],
   "source": [
    "# Question 1 \n",
    "def get_sentences_v1(n, s_time):\n",
    "    my_result = dict()\n",
    "    chinese_dict = dict()\n",
    "    hindi_dict = dict()\n",
    "    count_of_chinese = 0;\n",
    "    count_of_hindi = 0;\n",
    "    for i, (k,v) in enumerate(separated['chinese'].items()):\n",
    "        if count_of_chinese == n:\n",
    "            break\n",
    "        else:\n",
    "            prefix, crud, timestamp, suffix = prefix_crud_timestamp_suffix(k)\n",
    "            if (int(timestamp) > s_time):\n",
    "                chinese_dict[k] = v\n",
    "                count_of_chinese += 1\n",
    "    for i, (k,v) in enumerate(separated['hindi'].items()):\n",
    "        if count_of_hindi == n:\n",
    "            break\n",
    "        else:\n",
    "            prefix, crud, timestamp, suffix = prefix_crud_timestamp_suffix(k)\n",
    "            if (int(timestamp) > s_time):\n",
    "                hindi_dict[k] = v\n",
    "                count_of_hindi += 1\n",
    "    my_result['chinese'] = chinese_dict\n",
    "    my_result['hindi'] = hindi_dict\n",
    "    return my_result\n",
    "\n",
    "print(get_sentences_v1(3, 1000))"
   ]
  },
  {
   "cell_type": "code",
   "execution_count": 81,
   "metadata": {},
   "outputs": [
    {
     "name": "stdout",
     "output_type": "stream",
     "text": [
      "{'chinese': {'zhon-1470-632be28b5b16e50aedb019b7': {'english': 'Hi', 'chinese': '嗨', '_id': 'zhon-1470-632be28b5b16e50aedb019b7'}, 'zhon-1833-632be28b5b16e50aedb019b8': {'english': 'Hi', 'chinese': '你好', '_id': 'zhon-1833-632be28b5b16e50aedb019b8'}, 'zhon-1784-632be28b5b16e50aedb019b9': {'english': 'Run', 'chinese': '你用跑的', '_id': 'zhon-1784-632be28b5b16e50aedb019b9'}}, 'hindi': {'hind-1489-632be28b5b16e50aedb06ff3': {'english': 'Wow', 'hindi': 'वाह', '_id': 'hind-1489-632be28b5b16e50aedb06ff3'}, 'hind-1474-632be28b5b16e50aedb06ff4': {'english': 'Help', 'hindi': 'बचाओ', '_id': 'hind-1474-632be28b5b16e50aedb06ff4'}, 'hind-1833-632be28b5b16e50aedb06ff5': {'english': 'Jump', 'hindi': 'उछलो', '_id': 'hind-1833-632be28b5b16e50aedb06ff5'}}}\n",
      "CPU times: user 2.37 ms, sys: 1.59 ms, total: 3.96 ms\n",
      "Wall time: 1 s\n"
     ]
    }
   ],
   "source": [
    "%%time\n",
    "# Question 2\n",
    "def get_sentences_v2_Dua_Lipa(n, s_time):\n",
    "    my_result = {'chinese': dict(), 'hindi': dict()}\n",
    "    prefix_to_key_of_result = {'zhon': 'chinese', 'hind': 'hindi'}\n",
    "    while (k,v) in enumerate(words.items()) and not(len(my_result['chinese']) == n and len(my_result['hindi']) == n):\n",
    "        prefix, crud, timestamp, suffix = prefix_crud_timestamp_suffix(k)\n",
    "        my_result[prefix_to_key_of_result[prefix]][k] = (v if int(timestamp) > s_time else null)\n",
    "    return my_result\n",
    "\n",
    "print(get_sentences_v1(3, 1000))\n",
    "time.sleep(1)"
   ]
  },
  {
   "cell_type": "code",
   "execution_count": null,
   "metadata": {},
   "outputs": [],
   "source": []
  }
 ],
 "metadata": {
  "kernelspec": {
   "display_name": "Python 3",
   "language": "python",
   "name": "python3"
  },
  "language_info": {
   "codemirror_mode": {
    "name": "ipython",
    "version": 3
   },
   "file_extension": ".py",
   "mimetype": "text/x-python",
   "name": "python",
   "nbconvert_exporter": "python",
   "pygments_lexer": "ipython3",
   "version": "3.8.5"
  }
 },
 "nbformat": 4,
 "nbformat_minor": 4
}
