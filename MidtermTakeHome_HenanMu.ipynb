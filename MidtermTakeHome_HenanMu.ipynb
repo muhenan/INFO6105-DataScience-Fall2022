{
 "cells": [
  {
   "cell_type": "markdown",
   "id": "419c1ccb-1abc-4734-9ac7-0a93b1af4ae2",
   "metadata": {},
   "source": [
    "# Midterm Take Home F1"
   ]
  },
  {
   "cell_type": "markdown",
   "id": "21af0687-cbd5-4e5e-befe-f609c5d5de04",
   "metadata": {},
   "source": [
    "Student Name: Henan MU"
   ]
  },
  {
   "cell_type": "markdown",
   "id": "712474c9-a9d7-4704-85f9-dbfb7214cf8f",
   "metadata": {},
   "source": [
    "Professor is curious whether he has the same probability to meet a F1 driver if he goes to one of seven shows for the whole duration of the show and if **7 F1 racers go to 7 shows where each racer goes to one and only one show for 7 minutes**, or if **one F1 driver goes to one or more of 7 shows for exactly 7 times and for 7 minutes each time** (so for example, the sole F1 driver could theoretically go to one show only, then leave, then come back, and repeat this seven times for a visit total of 49 minutes without going to any other show). Which of the two experiments give professor a higher probability of meeting a F1 driver?"
   ]
  },
  {
   "cell_type": "markdown",
   "id": "98321ae9-8d71-4dfd-a721-79eaa77d3b5a",
   "metadata": {},
   "source": [
    "Can you help professor solve this puzzle in two different ways: a) By using theory and math or Monte Carlo simulations and b) By using combinatorics where you build the sample space for both experiments, then run our p function p(not_alone, sample_space) where not_alone() is a predicate function that describes the \"not alone\" situation.\n",
    "\n"
   ]
  },
  {
   "cell_type": "markdown",
   "id": "361df95b-2af0-44e0-93eb-e2dc0bdf88d6",
   "metadata": {},
   "source": [
    "## Experiment One: 7 F1 racers go to 7 shows where each racer goes to one and only one show for 7 minutes"
   ]
  },
  {
   "cell_type": "markdown",
   "id": "7edf6cf0-f330-46f2-9090-d8f012e55e86",
   "metadata": {},
   "source": [
    "### a) By using theory and math or Monte Carlo simulations"
   ]
  },
  {
   "cell_type": "markdown",
   "id": "8752f798-dcda-4483-b0d8-32c22f5445b1",
   "metadata": {},
   "source": [
    "Professor goes to only one of seven shows for the whole duration of the show. For the first racer, the probability of they meeting each other is 1/7:"
   ]
  },
  {
   "cell_type": "markdown",
   "id": "addda595-2878-43a3-9f57-2ebe746e3dfe",
   "metadata": {},
   "source": [
    "$$P(meet \\space first \\space racer) = \\frac{1}{7}$$\n",
    "$$P(not \\space meet \\space first \\space racer) = 1 - P(meet \\space first \\space racer) =1 - \\frac{1}{7} =  \\frac{6}{7}$$"
   ]
  },
  {
   "cell_type": "markdown",
   "id": "7b714d9f-7faa-43b5-9002-5bdc1a50582d",
   "metadata": {},
   "source": [
    "For other racers, the probability of professor not meeting them is same like $P(not \\space meet \\space first \\space racer)$ which is 6/7. So the probability of professor not meeting all racers is:"
   ]
  },
  {
   "cell_type": "markdown",
   "id": "e21a6a8e-2816-49c6-aa3e-776dab90feb5",
   "metadata": {},
   "source": [
    "$$P(not \\space meet \\space all \\space racers) = P(meet \\space first \\space racer)P(meet \\space second \\space racer)...P(meet \\space seventh \\space racer) = {(\\frac{6}{7})}^7$$"
   ]
  },
  {
   "cell_type": "markdown",
   "id": "f88b3abb-38ec-4664-8dca-ac4a8bec9997",
   "metadata": {},
   "source": [
    "So,"
   ]
  },
  {
   "cell_type": "markdown",
   "id": "176dca0d-cd51-4fea-a347-744d6d20b23f",
   "metadata": {},
   "source": [
    "$$P(meet \\space at \\space least \\space one \\space racer) = 1 - P(not \\space meet \\space all \\space racers) = 1 - {(\\frac{6}{7})}^7 = 0.6600833229108862$$"
   ]
  },
  {
   "cell_type": "code",
   "execution_count": 1,
   "id": "8eeecfb4-d938-4c07-a935-c6344da7faa9",
   "metadata": {},
   "outputs": [
    {
     "data": {
      "text/plain": [
       "279936"
      ]
     },
     "execution_count": 1,
     "metadata": {},
     "output_type": "execute_result"
    }
   ],
   "source": [
    "pow(6,7)"
   ]
  },
  {
   "cell_type": "code",
   "execution_count": 2,
   "id": "2d36b1a7-8d29-44cf-98ff-f26b8066b15b",
   "metadata": {},
   "outputs": [
    {
     "data": {
      "text/plain": [
       "823543"
      ]
     },
     "execution_count": 2,
     "metadata": {},
     "output_type": "execute_result"
    }
   ],
   "source": [
    "pow(7,7)"
   ]
  },
  {
   "cell_type": "code",
   "execution_count": 3,
   "id": "6a038ad5-d9d8-4c96-a213-0ad91a1ac1f4",
   "metadata": {},
   "outputs": [
    {
     "data": {
      "text/plain": [
       "543607"
      ]
     },
     "execution_count": 3,
     "metadata": {},
     "output_type": "execute_result"
    }
   ],
   "source": [
    "823543 - 279936"
   ]
  },
  {
   "cell_type": "code",
   "execution_count": 4,
   "id": "95c337a0-b0f7-4fb6-bce7-40429eca3a4e",
   "metadata": {},
   "outputs": [
    {
     "data": {
      "text/plain": [
       "0.6600833229108862"
      ]
     },
     "execution_count": 4,
     "metadata": {},
     "output_type": "execute_result"
    }
   ],
   "source": [
    "543607/823543"
   ]
  },
  {
   "cell_type": "code",
   "execution_count": 5,
   "id": "427c5ec8-b8a4-4ec2-ad9f-527db89a4e3c",
   "metadata": {},
   "outputs": [],
   "source": [
    "P_Experiment1a = 0.6600833229108862"
   ]
  },
  {
   "cell_type": "markdown",
   "id": "41d01b98-8c13-4eb2-b689-66968efbce6f",
   "metadata": {},
   "source": [
    "### b) By using combinatorics"
   ]
  },
  {
   "cell_type": "code",
   "execution_count": 6,
   "id": "9d631ee5-8665-4512-aa9a-250eab60d301",
   "metadata": {},
   "outputs": [],
   "source": [
    "class ProbDist(dict):\n",
    "    \"\"\"A Probability Distribution; an {outcome: probability} mapping.\"\"\"\n",
    "    def __init__(self, mapping=(), **kwargs):\n",
    "        self.update(mapping, **kwargs)\n",
    "        # Make probabilities sum to 1.0; assert no negative probabilities\n",
    "        total = sum(self.values())\n",
    "        for outcome in self:\n",
    "            self[outcome] = self[outcome] / total\n",
    "            assert self[outcome] >= 0"
   ]
  },
  {
   "cell_type": "code",
   "execution_count": 7,
   "id": "9baae494-3468-49d3-93fd-f5dca41dadbf",
   "metadata": {},
   "outputs": [],
   "source": [
    "from fractions import Fraction\n",
    "def p(event, space): \n",
    "    \"\"\"The probability of an event, given a sample space of equiprobable outcomes. \n",
    "    event: a collection of outcomes, or a predicate that is true of outcomes in the event. \n",
    "    space: a set of outcomes or a probability distribution of {outcome: frequency} pairs.\"\"\"\n",
    "    # branch on the type of the first argument\n",
    "    if is_predicate(event):\n",
    "        # transform the mapping (untangible) 'event' into the collection (tangible) 'event'\n",
    "        event = such_that(event, space)\n",
    "        \n",
    "    if isinstance(space, ProbDist):\n",
    "        # if space is a dictionary of distinct probabilities, where each item does not count as the same amount\n",
    "        return sum(space[k] for k in space if k in event)\n",
    "        #return sum({space[k] for k in space & event})\n",
    "    else:\n",
    "        # space is not a dictionary but a collection, let's fall back to our original division\n",
    "        return Fraction(len(event & space), len(space))\n",
    "\n",
    "is_predicate = callable\n",
    "\n",
    "def such_that(predicate, space): \n",
    "    \"\"\"The outcomes in the sample pace for which the predicate is true.\n",
    "    If space is a set, return a subset {outcome,...} with outcomes where predicate(element) is true;\n",
    "    if space is a ProbDist, return a ProbDist {outcome: frequency,...} with outcomes where predicate(element) is true.\"\"\"\n",
    "    if isinstance(space, ProbDist):\n",
    "        return ProbDist({o:space[o] for o in space if predicate(o)})\n",
    "    else:\n",
    "        return {o for o in space if predicate(o)}"
   ]
  },
  {
   "cell_type": "markdown",
   "id": "c3ae4f69-cfb1-45e2-a5ab-23ca95fc481d",
   "metadata": {},
   "source": [
    "We assume that the seven racers are: MV, CL, SP, GR, CS, LH and LN."
   ]
  },
  {
   "cell_type": "code",
   "execution_count": 8,
   "id": "390d61ef-17fd-487a-8aa9-06aed3ea644f",
   "metadata": {},
   "outputs": [],
   "source": [
    "ProfessorAttend = ProbDist(Professor_Show1 = 1,\n",
    "                           Professor_Show2 = 1,\n",
    "                           Professor_Show3 = 1,\n",
    "                           Professor_Show4 = 1,\n",
    "                           Professor_Show5 = 1,\n",
    "                           Professor_Show6 = 1,\n",
    "                           Professor_Show7 = 1,)"
   ]
  },
  {
   "cell_type": "code",
   "execution_count": 9,
   "id": "2d4f9004-74b0-4c60-a668-79ed0ecf97d6",
   "metadata": {},
   "outputs": [
    {
     "data": {
      "text/plain": [
       "{'Professor_Show1': 0.14285714285714285,\n",
       " 'Professor_Show2': 0.14285714285714285,\n",
       " 'Professor_Show3': 0.14285714285714285,\n",
       " 'Professor_Show4': 0.14285714285714285,\n",
       " 'Professor_Show5': 0.14285714285714285,\n",
       " 'Professor_Show6': 0.14285714285714285,\n",
       " 'Professor_Show7': 0.14285714285714285}"
      ]
     },
     "execution_count": 9,
     "metadata": {},
     "output_type": "execute_result"
    }
   ],
   "source": [
    "ProfessorAttend"
   ]
  },
  {
   "cell_type": "code",
   "execution_count": 10,
   "id": "12c4d47c-6ae9-4234-881a-e43d616ffbc5",
   "metadata": {},
   "outputs": [
    {
     "data": {
      "text/plain": [
       "{'MV_Show1': 0.14285714285714285,\n",
       " 'MV_Show2': 0.14285714285714285,\n",
       " 'MV_Show3': 0.14285714285714285,\n",
       " 'MV_Show4': 0.14285714285714285,\n",
       " 'MV_Show5': 0.14285714285714285,\n",
       " 'MV_Show6': 0.14285714285714285,\n",
       " 'MV_Show7': 0.14285714285714285}"
      ]
     },
     "execution_count": 10,
     "metadata": {},
     "output_type": "execute_result"
    }
   ],
   "source": [
    "MVAttend = ProbDist(MV_Show1 = 1,\n",
    "                           MV_Show2 = 1,\n",
    "                           MV_Show3 = 1,\n",
    "                           MV_Show4 = 1,\n",
    "                           MV_Show5 = 1,\n",
    "                           MV_Show6 = 1,\n",
    "                           MV_Show7 = 1,)\n",
    "MVAttend"
   ]
  },
  {
   "cell_type": "code",
   "execution_count": 11,
   "id": "074e8aba-2480-4358-8ce5-70e823659722",
   "metadata": {},
   "outputs": [
    {
     "data": {
      "text/plain": [
       "{'CL_Show1': 0.14285714285714285,\n",
       " 'CL_Show2': 0.14285714285714285,\n",
       " 'CL_Show3': 0.14285714285714285,\n",
       " 'CL_Show4': 0.14285714285714285,\n",
       " 'CL_Show5': 0.14285714285714285,\n",
       " 'CL_Show6': 0.14285714285714285,\n",
       " 'CL_Show7': 0.14285714285714285}"
      ]
     },
     "execution_count": 11,
     "metadata": {},
     "output_type": "execute_result"
    }
   ],
   "source": [
    "CLAttend = ProbDist(CL_Show1 = 1,\n",
    "                           CL_Show2 = 1,\n",
    "                           CL_Show3 = 1,\n",
    "                           CL_Show4 = 1,\n",
    "                           CL_Show5 = 1,\n",
    "                           CL_Show6 = 1,\n",
    "                           CL_Show7 = 1,)\n",
    "CLAttend"
   ]
  },
  {
   "cell_type": "code",
   "execution_count": 12,
   "id": "3b9125d4-83f1-421f-8d20-99b20a1c9159",
   "metadata": {},
   "outputs": [
    {
     "data": {
      "text/plain": [
       "{'SP_Show1': 0.14285714285714285,\n",
       " 'SP_Show2': 0.14285714285714285,\n",
       " 'SP_Show3': 0.14285714285714285,\n",
       " 'SP_Show4': 0.14285714285714285,\n",
       " 'SP_Show5': 0.14285714285714285,\n",
       " 'SP_Show6': 0.14285714285714285,\n",
       " 'SP_Show7': 0.14285714285714285}"
      ]
     },
     "execution_count": 12,
     "metadata": {},
     "output_type": "execute_result"
    }
   ],
   "source": [
    "SPAttend = ProbDist(SP_Show1 = 1,\n",
    "                           SP_Show2 = 1,\n",
    "                           SP_Show3 = 1,\n",
    "                           SP_Show4 = 1,\n",
    "                           SP_Show5 = 1,\n",
    "                           SP_Show6 = 1,\n",
    "                           SP_Show7 = 1,)\n",
    "SPAttend"
   ]
  },
  {
   "cell_type": "code",
   "execution_count": 13,
   "id": "6d55cae9-a69e-4d11-825a-aeccb30e4220",
   "metadata": {},
   "outputs": [
    {
     "data": {
      "text/plain": [
       "{'GR_Show1': 0.14285714285714285,\n",
       " 'GR_Show2': 0.14285714285714285,\n",
       " 'GR_Show3': 0.14285714285714285,\n",
       " 'GR_Show4': 0.14285714285714285,\n",
       " 'GR_Show5': 0.14285714285714285,\n",
       " 'GR_Show6': 0.14285714285714285,\n",
       " 'GR_Show7': 0.14285714285714285}"
      ]
     },
     "execution_count": 13,
     "metadata": {},
     "output_type": "execute_result"
    }
   ],
   "source": [
    "GRAttend = ProbDist(GR_Show1 = 1,\n",
    "                           GR_Show2 = 1,\n",
    "                           GR_Show3 = 1,\n",
    "                           GR_Show4 = 1,\n",
    "                           GR_Show5 = 1,\n",
    "                           GR_Show6 = 1,\n",
    "                           GR_Show7 = 1,)\n",
    "GRAttend"
   ]
  },
  {
   "cell_type": "code",
   "execution_count": 14,
   "id": "a768b95d-03fb-4f64-ba29-3e463bd6a0ab",
   "metadata": {},
   "outputs": [
    {
     "data": {
      "text/plain": [
       "{'CS_Show1': 0.14285714285714285,\n",
       " 'CS_Show2': 0.14285714285714285,\n",
       " 'CS_Show3': 0.14285714285714285,\n",
       " 'CS_Show4': 0.14285714285714285,\n",
       " 'CS_Show5': 0.14285714285714285,\n",
       " 'CS_Show6': 0.14285714285714285,\n",
       " 'CS_Show7': 0.14285714285714285}"
      ]
     },
     "execution_count": 14,
     "metadata": {},
     "output_type": "execute_result"
    }
   ],
   "source": [
    "CSAttend = ProbDist(CS_Show1 = 1,\n",
    "                           CS_Show2 = 1,\n",
    "                           CS_Show3 = 1,\n",
    "                           CS_Show4 = 1,\n",
    "                           CS_Show5 = 1,\n",
    "                           CS_Show6 = 1,\n",
    "                           CS_Show7 = 1,)\n",
    "CSAttend"
   ]
  },
  {
   "cell_type": "code",
   "execution_count": 15,
   "id": "a0714f16-538c-401e-b894-a0ba768bad6b",
   "metadata": {},
   "outputs": [
    {
     "data": {
      "text/plain": [
       "{'LH_Show1': 0.14285714285714285,\n",
       " 'LH_Show2': 0.14285714285714285,\n",
       " 'LH_Show3': 0.14285714285714285,\n",
       " 'LH_Show4': 0.14285714285714285,\n",
       " 'LH_Show5': 0.14285714285714285,\n",
       " 'LH_Show6': 0.14285714285714285,\n",
       " 'LH_Show7': 0.14285714285714285}"
      ]
     },
     "execution_count": 15,
     "metadata": {},
     "output_type": "execute_result"
    }
   ],
   "source": [
    "LHAttend = ProbDist(LH_Show1 = 1,\n",
    "                           LH_Show2 = 1,\n",
    "                           LH_Show3 = 1,\n",
    "                           LH_Show4 = 1,\n",
    "                           LH_Show5 = 1,\n",
    "                           LH_Show6 = 1,\n",
    "                           LH_Show7 = 1,)\n",
    "LHAttend"
   ]
  },
  {
   "cell_type": "code",
   "execution_count": 16,
   "id": "fe6a659b-4a08-4aa2-a1fe-710b04e16a94",
   "metadata": {},
   "outputs": [
    {
     "data": {
      "text/plain": [
       "{'LN_Show1': 0.14285714285714285,\n",
       " 'LN_Show2': 0.14285714285714285,\n",
       " 'LN_Show3': 0.14285714285714285,\n",
       " 'LN_Show4': 0.14285714285714285,\n",
       " 'LN_Show5': 0.14285714285714285,\n",
       " 'LN_Show6': 0.14285714285714285,\n",
       " 'LN_Show7': 0.14285714285714285}"
      ]
     },
     "execution_count": 16,
     "metadata": {},
     "output_type": "execute_result"
    }
   ],
   "source": [
    "LNAttend = ProbDist(LN_Show1 = 1,\n",
    "                           LN_Show2 = 1,\n",
    "                           LN_Show3 = 1,\n",
    "                           LN_Show4 = 1,\n",
    "                           LN_Show5 = 1,\n",
    "                           LN_Show6 = 1,\n",
    "                           LN_Show7 = 1,)\n",
    "LNAttend"
   ]
  },
  {
   "cell_type": "code",
   "execution_count": 17,
   "id": "dc3dc776-6c84-4550-aec4-fa6332c0b593",
   "metadata": {},
   "outputs": [],
   "source": [
    "def joint8(A, B, C, D, E, F, G, H, sep=\" \"):\n",
    "    \"\"\"The joint distribution of 8 independent probability distributions. \n",
    "    Result is all entries of the form {a+sep+b+ ... for ...}\"\"\"\n",
    "    return ProbDist({a + sep + b + sep + c + sep + d + sep + e + sep + f + sep + g + sep + h: A[a] * B[b]\n",
    "                     * C[c] * D[d] * E[e] * F[f] * G[g] * H[h]\n",
    "                    for a in A for b in B for c in C for d in D for e in E for f in F for g in G for h in H})"
   ]
  },
  {
   "cell_type": "code",
   "execution_count": 18,
   "id": "7c736105-03f9-4bd8-bce0-ecc52eac740b",
   "metadata": {},
   "outputs": [],
   "source": [
    "sample_space = joint8(ProfessorAttend, MVAttend, CLAttend, SPAttend, GRAttend, CSAttend, LHAttend, LNAttend)"
   ]
  },
  {
   "cell_type": "code",
   "execution_count": 19,
   "id": "2434bc85-bb20-4eda-8ea0-c19e2bb455c4",
   "metadata": {},
   "outputs": [
    {
     "data": {
      "text/plain": [
       "{'Professor_Show1 MV_Show1 CL_Show1 SP_Show1 GR_Show1 CS_Show1 LH_Show1 LN_Show1': 1.7346652554764097e-07,\n",
       " 'Professor_Show1 MV_Show1 CL_Show1 SP_Show1 GR_Show1 CS_Show1 LH_Show1 LN_Show2': 1.7346652554764097e-07,\n",
       " 'Professor_Show1 MV_Show1 CL_Show1 SP_Show1 GR_Show1 CS_Show1 LH_Show1 LN_Show3': 1.7346652554764097e-07,\n",
       " 'Professor_Show1 MV_Show1 CL_Show1 SP_Show1 GR_Show1 CS_Show1 LH_Show1 LN_Show4': 1.7346652554764097e-07,\n",
       " 'Professor_Show1 MV_Show1 CL_Show1 SP_Show1 GR_Show1 CS_Show1 LH_Show1 LN_Show5': 1.7346652554764097e-07,\n",
       " 'Professor_Show1 MV_Show1 CL_Show1 SP_Show1 GR_Show1 CS_Show1 LH_Show1 LN_Show6': 1.7346652554764097e-07,\n",
       " 'Professor_Show1 MV_Show1 CL_Show1 SP_Show1 GR_Show1 CS_Show1 LH_Show1 LN_Show7': 1.7346652554764097e-07,\n",
       " 'Professor_Show1 MV_Show1 CL_Show1 SP_Show1 GR_Show1 CS_Show1 LH_Show2 LN_Show1': 1.7346652554764097e-07,\n",
       " 'Professor_Show1 MV_Show1 CL_Show1 SP_Show1 GR_Show1 CS_Show1 LH_Show2 LN_Show2': 1.7346652554764097e-07,\n",
       " 'Professor_Show1 MV_Show1 CL_Show1 SP_Show1 GR_Show1 CS_Show1 LH_Show2 LN_Show3': 1.7346652554764097e-07,\n",
       " 'Professor_Show1 MV_Show1 CL_Show1 SP_Show1 GR_Show1 CS_Show1 LH_Show2 LN_Show4': 1.7346652554764097e-07,\n",
       " 'Professor_Show1 MV_Show1 CL_Show1 SP_Show1 GR_Show1 CS_Show1 LH_Show2 LN_Show5': 1.7346652554764097e-07,\n",
       " 'Professor_Show1 MV_Show1 CL_Show1 SP_Show1 GR_Show1 CS_Show1 LH_Show2 LN_Show6': 1.7346652554764097e-07,\n",
       " 'Professor_Show1 MV_Show1 CL_Show1 SP_Show1 GR_Show1 CS_Show1 LH_Show2 LN_Show7': 1.7346652554764097e-07,\n",
       " 'Professor_Show1 MV_Show1 CL_Show1 SP_Show1 GR_Show1 CS_Show1 LH_Show3 LN_Show1': 1.7346652554764097e-07,\n",
       " 'Professor_Show1 MV_Show1 CL_Show1 SP_Show1 GR_Show1 CS_Show1 LH_Show3 LN_Show2': 1.7346652554764097e-07,\n",
       " 'Professor_Show1 MV_Show1 CL_Show1 SP_Show1 GR_Show1 CS_Show1 LH_Show3 LN_Show3': 1.7346652554764097e-07,\n",
       " 'Professor_Show1 MV_Show1 CL_Show1 SP_Show1 GR_Show1 CS_Show1 LH_Show3 LN_Show4': 1.7346652554764097e-07,\n",
       " 'Professor_Show1 MV_Show1 CL_Show1 SP_Show1 GR_Show1 CS_Show1 LH_Show3 LN_Show5': 1.7346652554764097e-07,\n",
       " 'Professor_Show1 MV_Show1 CL_Show1 SP_Show1 GR_Show1 CS_Show1 LH_Show3 LN_Show6': 1.7346652554764097e-07,\n",
       " 'Professor_Show1 MV_Show1 CL_Show1 SP_Show1 GR_Show1 CS_Show1 LH_Show3 LN_Show7': 1.7346652554764097e-07,\n",
       " 'Professor_Show1 MV_Show1 CL_Show1 SP_Show1 GR_Show1 CS_Show1 LH_Show4 LN_Show1': 1.7346652554764097e-07,\n",
       " 'Professor_Show1 MV_Show1 CL_Show1 SP_Show1 GR_Show1 CS_Show1 LH_Show4 LN_Show2': 1.7346652554764097e-07,\n",
       " 'Professor_Show1 MV_Show1 CL_Show1 SP_Show1 GR_Show1 CS_Show1 LH_Show4 LN_Show3': 1.7346652554764097e-07,\n",
       " 'Professor_Show1 MV_Show1 CL_Show1 SP_Show1 GR_Show1 CS_Show1 LH_Show4 LN_Show4': 1.7346652554764097e-07,\n",
       " 'Professor_Show1 MV_Show1 CL_Show1 SP_Show1 GR_Show1 CS_Show1 LH_Show4 LN_Show5': 1.7346652554764097e-07,\n",
       " 'Professor_Show1 MV_Show1 CL_Show1 SP_Show1 GR_Show1 CS_Show1 LH_Show4 LN_Show6': 1.7346652554764097e-07,\n",
       " 'Professor_Show1 MV_Show1 CL_Show1 SP_Show1 GR_Show1 CS_Show1 LH_Show4 LN_Show7': 1.7346652554764097e-07,\n",
       " 'Professor_Show1 MV_Show1 CL_Show1 SP_Show1 GR_Show1 CS_Show1 LH_Show5 LN_Show1': 1.7346652554764097e-07,\n",
       " 'Professor_Show1 MV_Show1 CL_Show1 SP_Show1 GR_Show1 CS_Show1 LH_Show5 LN_Show2': 1.7346652554764097e-07,\n",
       " 'Professor_Show1 MV_Show1 CL_Show1 SP_Show1 GR_Show1 CS_Show1 LH_Show5 LN_Show3': 1.7346652554764097e-07,\n",
       " 'Professor_Show1 MV_Show1 CL_Show1 SP_Show1 GR_Show1 CS_Show1 LH_Show5 LN_Show4': 1.7346652554764097e-07,\n",
       " 'Professor_Show1 MV_Show1 CL_Show1 SP_Show1 GR_Show1 CS_Show1 LH_Show5 LN_Show5': 1.7346652554764097e-07,\n",
       " 'Professor_Show1 MV_Show1 CL_Show1 SP_Show1 GR_Show1 CS_Show1 LH_Show5 LN_Show6': 1.7346652554764097e-07,\n",
       " 'Professor_Show1 MV_Show1 CL_Show1 SP_Show1 GR_Show1 CS_Show1 LH_Show5 LN_Show7': 1.7346652554764097e-07,\n",
       " 'Professor_Show1 MV_Show1 CL_Show1 SP_Show1 GR_Show1 CS_Show1 LH_Show6 LN_Show1': 1.7346652554764097e-07,\n",
       " 'Professor_Show1 MV_Show1 CL_Show1 SP_Show1 GR_Show1 CS_Show1 LH_Show6 LN_Show2': 1.7346652554764097e-07,\n",
       " 'Professor_Show1 MV_Show1 CL_Show1 SP_Show1 GR_Show1 CS_Show1 LH_Show6 LN_Show3': 1.7346652554764097e-07,\n",
       " 'Professor_Show1 MV_Show1 CL_Show1 SP_Show1 GR_Show1 CS_Show1 LH_Show6 LN_Show4': 1.7346652554764097e-07,\n",
       " 'Professor_Show1 MV_Show1 CL_Show1 SP_Show1 GR_Show1 CS_Show1 LH_Show6 LN_Show5': 1.7346652554764097e-07,\n",
       " 'Professor_Show1 MV_Show1 CL_Show1 SP_Show1 GR_Show1 CS_Show1 LH_Show6 LN_Show6': 1.7346652554764097e-07,\n",
       " 'Professor_Show1 MV_Show1 CL_Show1 SP_Show1 GR_Show1 CS_Show1 LH_Show6 LN_Show7': 1.7346652554764097e-07,\n",
       " 'Professor_Show1 MV_Show1 CL_Show1 SP_Show1 GR_Show1 CS_Show1 LH_Show7 LN_Show1': 1.7346652554764097e-07,\n",
       " 'Professor_Show1 MV_Show1 CL_Show1 SP_Show1 GR_Show1 CS_Show1 LH_Show7 LN_Show2': 1.7346652554764097e-07,\n",
       " 'Professor_Show1 MV_Show1 CL_Show1 SP_Show1 GR_Show1 CS_Show1 LH_Show7 LN_Show3': 1.7346652554764097e-07,\n",
       " 'Professor_Show1 MV_Show1 CL_Show1 SP_Show1 GR_Show1 CS_Show1 LH_Show7 LN_Show4': 1.7346652554764097e-07,\n",
       " 'Professor_Show1 MV_Show1 CL_Show1 SP_Show1 GR_Show1 CS_Show1 LH_Show7 LN_Show5': 1.7346652554764097e-07,\n",
       " 'Professor_Show1 MV_Show1 CL_Show1 SP_Show1 GR_Show1 CS_Show1 LH_Show7 LN_Show6': 1.7346652554764097e-07,\n",
       " 'Professor_Show1 MV_Show1 CL_Show1 SP_Show1 GR_Show1 CS_Show1 LH_Show7 LN_Show7': 1.7346652554764097e-07,\n",
       " 'Professor_Show1 MV_Show1 CL_Show1 SP_Show1 GR_Show1 CS_Show2 LH_Show1 LN_Show1': 1.7346652554764097e-07,\n",
       " 'Professor_Show1 MV_Show1 CL_Show1 SP_Show1 GR_Show1 CS_Show2 LH_Show1 LN_Show2': 1.7346652554764097e-07,\n",
       " 'Professor_Show1 MV_Show1 CL_Show1 SP_Show1 GR_Show1 CS_Show2 LH_Show1 LN_Show3': 1.7346652554764097e-07,\n",
       " 'Professor_Show1 MV_Show1 CL_Show1 SP_Show1 GR_Show1 CS_Show2 LH_Show1 LN_Show4': 1.7346652554764097e-07,\n",
       " 'Professor_Show1 MV_Show1 CL_Show1 SP_Show1 GR_Show1 CS_Show2 LH_Show1 LN_Show5': 1.7346652554764097e-07,\n",
       " 'Professor_Show1 MV_Show1 CL_Show1 SP_Show1 GR_Show1 CS_Show2 LH_Show1 LN_Show6': 1.7346652554764097e-07,\n",
       " 'Professor_Show1 MV_Show1 CL_Show1 SP_Show1 GR_Show1 CS_Show2 LH_Show1 LN_Show7': 1.7346652554764097e-07,\n",
       " 'Professor_Show1 MV_Show1 CL_Show1 SP_Show1 GR_Show1 CS_Show2 LH_Show2 LN_Show1': 1.7346652554764097e-07,\n",
       " 'Professor_Show1 MV_Show1 CL_Show1 SP_Show1 GR_Show1 CS_Show2 LH_Show2 LN_Show2': 1.7346652554764097e-07,\n",
       " 'Professor_Show1 MV_Show1 CL_Show1 SP_Show1 GR_Show1 CS_Show2 LH_Show2 LN_Show3': 1.7346652554764097e-07,\n",
       " 'Professor_Show1 MV_Show1 CL_Show1 SP_Show1 GR_Show1 CS_Show2 LH_Show2 LN_Show4': 1.7346652554764097e-07,\n",
       " 'Professor_Show1 MV_Show1 CL_Show1 SP_Show1 GR_Show1 CS_Show2 LH_Show2 LN_Show5': 1.7346652554764097e-07,\n",
       " 'Professor_Show1 MV_Show1 CL_Show1 SP_Show1 GR_Show1 CS_Show2 LH_Show2 LN_Show6': 1.7346652554764097e-07,\n",
       " 'Professor_Show1 MV_Show1 CL_Show1 SP_Show1 GR_Show1 CS_Show2 LH_Show2 LN_Show7': 1.7346652554764097e-07,\n",
       " 'Professor_Show1 MV_Show1 CL_Show1 SP_Show1 GR_Show1 CS_Show2 LH_Show3 LN_Show1': 1.7346652554764097e-07,\n",
       " 'Professor_Show1 MV_Show1 CL_Show1 SP_Show1 GR_Show1 CS_Show2 LH_Show3 LN_Show2': 1.7346652554764097e-07,\n",
       " 'Professor_Show1 MV_Show1 CL_Show1 SP_Show1 GR_Show1 CS_Show2 LH_Show3 LN_Show3': 1.7346652554764097e-07,\n",
       " 'Professor_Show1 MV_Show1 CL_Show1 SP_Show1 GR_Show1 CS_Show2 LH_Show3 LN_Show4': 1.7346652554764097e-07,\n",
       " 'Professor_Show1 MV_Show1 CL_Show1 SP_Show1 GR_Show1 CS_Show2 LH_Show3 LN_Show5': 1.7346652554764097e-07,\n",
       " 'Professor_Show1 MV_Show1 CL_Show1 SP_Show1 GR_Show1 CS_Show2 LH_Show3 LN_Show6': 1.7346652554764097e-07,\n",
       " 'Professor_Show1 MV_Show1 CL_Show1 SP_Show1 GR_Show1 CS_Show2 LH_Show3 LN_Show7': 1.7346652554764097e-07,\n",
       " 'Professor_Show1 MV_Show1 CL_Show1 SP_Show1 GR_Show1 CS_Show2 LH_Show4 LN_Show1': 1.7346652554764097e-07,\n",
       " 'Professor_Show1 MV_Show1 CL_Show1 SP_Show1 GR_Show1 CS_Show2 LH_Show4 LN_Show2': 1.7346652554764097e-07,\n",
       " 'Professor_Show1 MV_Show1 CL_Show1 SP_Show1 GR_Show1 CS_Show2 LH_Show4 LN_Show3': 1.7346652554764097e-07,\n",
       " 'Professor_Show1 MV_Show1 CL_Show1 SP_Show1 GR_Show1 CS_Show2 LH_Show4 LN_Show4': 1.7346652554764097e-07,\n",
       " 'Professor_Show1 MV_Show1 CL_Show1 SP_Show1 GR_Show1 CS_Show2 LH_Show4 LN_Show5': 1.7346652554764097e-07,\n",
       " 'Professor_Show1 MV_Show1 CL_Show1 SP_Show1 GR_Show1 CS_Show2 LH_Show4 LN_Show6': 1.7346652554764097e-07,\n",
       " 'Professor_Show1 MV_Show1 CL_Show1 SP_Show1 GR_Show1 CS_Show2 LH_Show4 LN_Show7': 1.7346652554764097e-07,\n",
       " 'Professor_Show1 MV_Show1 CL_Show1 SP_Show1 GR_Show1 CS_Show2 LH_Show5 LN_Show1': 1.7346652554764097e-07,\n",
       " 'Professor_Show1 MV_Show1 CL_Show1 SP_Show1 GR_Show1 CS_Show2 LH_Show5 LN_Show2': 1.7346652554764097e-07,\n",
       " 'Professor_Show1 MV_Show1 CL_Show1 SP_Show1 GR_Show1 CS_Show2 LH_Show5 LN_Show3': 1.7346652554764097e-07,\n",
       " 'Professor_Show1 MV_Show1 CL_Show1 SP_Show1 GR_Show1 CS_Show2 LH_Show5 LN_Show4': 1.7346652554764097e-07,\n",
       " 'Professor_Show1 MV_Show1 CL_Show1 SP_Show1 GR_Show1 CS_Show2 LH_Show5 LN_Show5': 1.7346652554764097e-07,\n",
       " 'Professor_Show1 MV_Show1 CL_Show1 SP_Show1 GR_Show1 CS_Show2 LH_Show5 LN_Show6': 1.7346652554764097e-07,\n",
       " 'Professor_Show1 MV_Show1 CL_Show1 SP_Show1 GR_Show1 CS_Show2 LH_Show5 LN_Show7': 1.7346652554764097e-07,\n",
       " 'Professor_Show1 MV_Show1 CL_Show1 SP_Show1 GR_Show1 CS_Show2 LH_Show6 LN_Show1': 1.7346652554764097e-07,\n",
       " 'Professor_Show1 MV_Show1 CL_Show1 SP_Show1 GR_Show1 CS_Show2 LH_Show6 LN_Show2': 1.7346652554764097e-07,\n",
       " 'Professor_Show1 MV_Show1 CL_Show1 SP_Show1 GR_Show1 CS_Show2 LH_Show6 LN_Show3': 1.7346652554764097e-07,\n",
       " 'Professor_Show1 MV_Show1 CL_Show1 SP_Show1 GR_Show1 CS_Show2 LH_Show6 LN_Show4': 1.7346652554764097e-07,\n",
       " 'Professor_Show1 MV_Show1 CL_Show1 SP_Show1 GR_Show1 CS_Show2 LH_Show6 LN_Show5': 1.7346652554764097e-07,\n",
       " 'Professor_Show1 MV_Show1 CL_Show1 SP_Show1 GR_Show1 CS_Show2 LH_Show6 LN_Show6': 1.7346652554764097e-07,\n",
       " 'Professor_Show1 MV_Show1 CL_Show1 SP_Show1 GR_Show1 CS_Show2 LH_Show6 LN_Show7': 1.7346652554764097e-07,\n",
       " 'Professor_Show1 MV_Show1 CL_Show1 SP_Show1 GR_Show1 CS_Show2 LH_Show7 LN_Show1': 1.7346652554764097e-07,\n",
       " 'Professor_Show1 MV_Show1 CL_Show1 SP_Show1 GR_Show1 CS_Show2 LH_Show7 LN_Show2': 1.7346652554764097e-07,\n",
       " 'Professor_Show1 MV_Show1 CL_Show1 SP_Show1 GR_Show1 CS_Show2 LH_Show7 LN_Show3': 1.7346652554764097e-07,\n",
       " 'Professor_Show1 MV_Show1 CL_Show1 SP_Show1 GR_Show1 CS_Show2 LH_Show7 LN_Show4': 1.7346652554764097e-07,\n",
       " 'Professor_Show1 MV_Show1 CL_Show1 SP_Show1 GR_Show1 CS_Show2 LH_Show7 LN_Show5': 1.7346652554764097e-07,\n",
       " 'Professor_Show1 MV_Show1 CL_Show1 SP_Show1 GR_Show1 CS_Show2 LH_Show7 LN_Show6': 1.7346652554764097e-07,\n",
       " 'Professor_Show1 MV_Show1 CL_Show1 SP_Show1 GR_Show1 CS_Show2 LH_Show7 LN_Show7': 1.7346652554764097e-07,\n",
       " 'Professor_Show1 MV_Show1 CL_Show1 SP_Show1 GR_Show1 CS_Show3 LH_Show1 LN_Show1': 1.7346652554764097e-07,\n",
       " 'Professor_Show1 MV_Show1 CL_Show1 SP_Show1 GR_Show1 CS_Show3 LH_Show1 LN_Show2': 1.7346652554764097e-07,\n",
       " 'Professor_Show1 MV_Show1 CL_Show1 SP_Show1 GR_Show1 CS_Show3 LH_Show1 LN_Show3': 1.7346652554764097e-07,\n",
       " 'Professor_Show1 MV_Show1 CL_Show1 SP_Show1 GR_Show1 CS_Show3 LH_Show1 LN_Show4': 1.7346652554764097e-07,\n",
       " 'Professor_Show1 MV_Show1 CL_Show1 SP_Show1 GR_Show1 CS_Show3 LH_Show1 LN_Show5': 1.7346652554764097e-07,\n",
       " 'Professor_Show1 MV_Show1 CL_Show1 SP_Show1 GR_Show1 CS_Show3 LH_Show1 LN_Show6': 1.7346652554764097e-07,\n",
       " 'Professor_Show1 MV_Show1 CL_Show1 SP_Show1 GR_Show1 CS_Show3 LH_Show1 LN_Show7': 1.7346652554764097e-07,\n",
       " 'Professor_Show1 MV_Show1 CL_Show1 SP_Show1 GR_Show1 CS_Show3 LH_Show2 LN_Show1': 1.7346652554764097e-07,\n",
       " 'Professor_Show1 MV_Show1 CL_Show1 SP_Show1 GR_Show1 CS_Show3 LH_Show2 LN_Show2': 1.7346652554764097e-07,\n",
       " 'Professor_Show1 MV_Show1 CL_Show1 SP_Show1 GR_Show1 CS_Show3 LH_Show2 LN_Show3': 1.7346652554764097e-07,\n",
       " 'Professor_Show1 MV_Show1 CL_Show1 SP_Show1 GR_Show1 CS_Show3 LH_Show2 LN_Show4': 1.7346652554764097e-07,\n",
       " 'Professor_Show1 MV_Show1 CL_Show1 SP_Show1 GR_Show1 CS_Show3 LH_Show2 LN_Show5': 1.7346652554764097e-07,\n",
       " 'Professor_Show1 MV_Show1 CL_Show1 SP_Show1 GR_Show1 CS_Show3 LH_Show2 LN_Show6': 1.7346652554764097e-07,\n",
       " 'Professor_Show1 MV_Show1 CL_Show1 SP_Show1 GR_Show1 CS_Show3 LH_Show2 LN_Show7': 1.7346652554764097e-07,\n",
       " 'Professor_Show1 MV_Show1 CL_Show1 SP_Show1 GR_Show1 CS_Show3 LH_Show3 LN_Show1': 1.7346652554764097e-07,\n",
       " 'Professor_Show1 MV_Show1 CL_Show1 SP_Show1 GR_Show1 CS_Show3 LH_Show3 LN_Show2': 1.7346652554764097e-07,\n",
       " 'Professor_Show1 MV_Show1 CL_Show1 SP_Show1 GR_Show1 CS_Show3 LH_Show3 LN_Show3': 1.7346652554764097e-07,\n",
       " 'Professor_Show1 MV_Show1 CL_Show1 SP_Show1 GR_Show1 CS_Show3 LH_Show3 LN_Show4': 1.7346652554764097e-07,\n",
       " 'Professor_Show1 MV_Show1 CL_Show1 SP_Show1 GR_Show1 CS_Show3 LH_Show3 LN_Show5': 1.7346652554764097e-07,\n",
       " 'Professor_Show1 MV_Show1 CL_Show1 SP_Show1 GR_Show1 CS_Show3 LH_Show3 LN_Show6': 1.7346652554764097e-07,\n",
       " 'Professor_Show1 MV_Show1 CL_Show1 SP_Show1 GR_Show1 CS_Show3 LH_Show3 LN_Show7': 1.7346652554764097e-07,\n",
       " 'Professor_Show1 MV_Show1 CL_Show1 SP_Show1 GR_Show1 CS_Show3 LH_Show4 LN_Show1': 1.7346652554764097e-07,\n",
       " 'Professor_Show1 MV_Show1 CL_Show1 SP_Show1 GR_Show1 CS_Show3 LH_Show4 LN_Show2': 1.7346652554764097e-07,\n",
       " 'Professor_Show1 MV_Show1 CL_Show1 SP_Show1 GR_Show1 CS_Show3 LH_Show4 LN_Show3': 1.7346652554764097e-07,\n",
       " 'Professor_Show1 MV_Show1 CL_Show1 SP_Show1 GR_Show1 CS_Show3 LH_Show4 LN_Show4': 1.7346652554764097e-07,\n",
       " 'Professor_Show1 MV_Show1 CL_Show1 SP_Show1 GR_Show1 CS_Show3 LH_Show4 LN_Show5': 1.7346652554764097e-07,\n",
       " 'Professor_Show1 MV_Show1 CL_Show1 SP_Show1 GR_Show1 CS_Show3 LH_Show4 LN_Show6': 1.7346652554764097e-07,\n",
       " 'Professor_Show1 MV_Show1 CL_Show1 SP_Show1 GR_Show1 CS_Show3 LH_Show4 LN_Show7': 1.7346652554764097e-07,\n",
       " 'Professor_Show1 MV_Show1 CL_Show1 SP_Show1 GR_Show1 CS_Show3 LH_Show5 LN_Show1': 1.7346652554764097e-07,\n",
       " 'Professor_Show1 MV_Show1 CL_Show1 SP_Show1 GR_Show1 CS_Show3 LH_Show5 LN_Show2': 1.7346652554764097e-07,\n",
       " 'Professor_Show1 MV_Show1 CL_Show1 SP_Show1 GR_Show1 CS_Show3 LH_Show5 LN_Show3': 1.7346652554764097e-07,\n",
       " 'Professor_Show1 MV_Show1 CL_Show1 SP_Show1 GR_Show1 CS_Show3 LH_Show5 LN_Show4': 1.7346652554764097e-07,\n",
       " 'Professor_Show1 MV_Show1 CL_Show1 SP_Show1 GR_Show1 CS_Show3 LH_Show5 LN_Show5': 1.7346652554764097e-07,\n",
       " 'Professor_Show1 MV_Show1 CL_Show1 SP_Show1 GR_Show1 CS_Show3 LH_Show5 LN_Show6': 1.7346652554764097e-07,\n",
       " 'Professor_Show1 MV_Show1 CL_Show1 SP_Show1 GR_Show1 CS_Show3 LH_Show5 LN_Show7': 1.7346652554764097e-07,\n",
       " 'Professor_Show1 MV_Show1 CL_Show1 SP_Show1 GR_Show1 CS_Show3 LH_Show6 LN_Show1': 1.7346652554764097e-07,\n",
       " 'Professor_Show1 MV_Show1 CL_Show1 SP_Show1 GR_Show1 CS_Show3 LH_Show6 LN_Show2': 1.7346652554764097e-07,\n",
       " 'Professor_Show1 MV_Show1 CL_Show1 SP_Show1 GR_Show1 CS_Show3 LH_Show6 LN_Show3': 1.7346652554764097e-07,\n",
       " 'Professor_Show1 MV_Show1 CL_Show1 SP_Show1 GR_Show1 CS_Show3 LH_Show6 LN_Show4': 1.7346652554764097e-07,\n",
       " 'Professor_Show1 MV_Show1 CL_Show1 SP_Show1 GR_Show1 CS_Show3 LH_Show6 LN_Show5': 1.7346652554764097e-07,\n",
       " 'Professor_Show1 MV_Show1 CL_Show1 SP_Show1 GR_Show1 CS_Show3 LH_Show6 LN_Show6': 1.7346652554764097e-07,\n",
       " 'Professor_Show1 MV_Show1 CL_Show1 SP_Show1 GR_Show1 CS_Show3 LH_Show6 LN_Show7': 1.7346652554764097e-07,\n",
       " 'Professor_Show1 MV_Show1 CL_Show1 SP_Show1 GR_Show1 CS_Show3 LH_Show7 LN_Show1': 1.7346652554764097e-07,\n",
       " 'Professor_Show1 MV_Show1 CL_Show1 SP_Show1 GR_Show1 CS_Show3 LH_Show7 LN_Show2': 1.7346652554764097e-07,\n",
       " 'Professor_Show1 MV_Show1 CL_Show1 SP_Show1 GR_Show1 CS_Show3 LH_Show7 LN_Show3': 1.7346652554764097e-07,\n",
       " 'Professor_Show1 MV_Show1 CL_Show1 SP_Show1 GR_Show1 CS_Show3 LH_Show7 LN_Show4': 1.7346652554764097e-07,\n",
       " 'Professor_Show1 MV_Show1 CL_Show1 SP_Show1 GR_Show1 CS_Show3 LH_Show7 LN_Show5': 1.7346652554764097e-07,\n",
       " 'Professor_Show1 MV_Show1 CL_Show1 SP_Show1 GR_Show1 CS_Show3 LH_Show7 LN_Show6': 1.7346652554764097e-07,\n",
       " 'Professor_Show1 MV_Show1 CL_Show1 SP_Show1 GR_Show1 CS_Show3 LH_Show7 LN_Show7': 1.7346652554764097e-07,\n",
       " 'Professor_Show1 MV_Show1 CL_Show1 SP_Show1 GR_Show1 CS_Show4 LH_Show1 LN_Show1': 1.7346652554764097e-07,\n",
       " 'Professor_Show1 MV_Show1 CL_Show1 SP_Show1 GR_Show1 CS_Show4 LH_Show1 LN_Show2': 1.7346652554764097e-07,\n",
       " 'Professor_Show1 MV_Show1 CL_Show1 SP_Show1 GR_Show1 CS_Show4 LH_Show1 LN_Show3': 1.7346652554764097e-07,\n",
       " 'Professor_Show1 MV_Show1 CL_Show1 SP_Show1 GR_Show1 CS_Show4 LH_Show1 LN_Show4': 1.7346652554764097e-07,\n",
       " 'Professor_Show1 MV_Show1 CL_Show1 SP_Show1 GR_Show1 CS_Show4 LH_Show1 LN_Show5': 1.7346652554764097e-07,\n",
       " 'Professor_Show1 MV_Show1 CL_Show1 SP_Show1 GR_Show1 CS_Show4 LH_Show1 LN_Show6': 1.7346652554764097e-07,\n",
       " 'Professor_Show1 MV_Show1 CL_Show1 SP_Show1 GR_Show1 CS_Show4 LH_Show1 LN_Show7': 1.7346652554764097e-07,\n",
       " 'Professor_Show1 MV_Show1 CL_Show1 SP_Show1 GR_Show1 CS_Show4 LH_Show2 LN_Show1': 1.7346652554764097e-07,\n",
       " 'Professor_Show1 MV_Show1 CL_Show1 SP_Show1 GR_Show1 CS_Show4 LH_Show2 LN_Show2': 1.7346652554764097e-07,\n",
       " 'Professor_Show1 MV_Show1 CL_Show1 SP_Show1 GR_Show1 CS_Show4 LH_Show2 LN_Show3': 1.7346652554764097e-07,\n",
       " 'Professor_Show1 MV_Show1 CL_Show1 SP_Show1 GR_Show1 CS_Show4 LH_Show2 LN_Show4': 1.7346652554764097e-07,\n",
       " 'Professor_Show1 MV_Show1 CL_Show1 SP_Show1 GR_Show1 CS_Show4 LH_Show2 LN_Show5': 1.7346652554764097e-07,\n",
       " 'Professor_Show1 MV_Show1 CL_Show1 SP_Show1 GR_Show1 CS_Show4 LH_Show2 LN_Show6': 1.7346652554764097e-07,\n",
       " 'Professor_Show1 MV_Show1 CL_Show1 SP_Show1 GR_Show1 CS_Show4 LH_Show2 LN_Show7': 1.7346652554764097e-07,\n",
       " 'Professor_Show1 MV_Show1 CL_Show1 SP_Show1 GR_Show1 CS_Show4 LH_Show3 LN_Show1': 1.7346652554764097e-07,\n",
       " 'Professor_Show1 MV_Show1 CL_Show1 SP_Show1 GR_Show1 CS_Show4 LH_Show3 LN_Show2': 1.7346652554764097e-07,\n",
       " 'Professor_Show1 MV_Show1 CL_Show1 SP_Show1 GR_Show1 CS_Show4 LH_Show3 LN_Show3': 1.7346652554764097e-07,\n",
       " 'Professor_Show1 MV_Show1 CL_Show1 SP_Show1 GR_Show1 CS_Show4 LH_Show3 LN_Show4': 1.7346652554764097e-07,\n",
       " 'Professor_Show1 MV_Show1 CL_Show1 SP_Show1 GR_Show1 CS_Show4 LH_Show3 LN_Show5': 1.7346652554764097e-07,\n",
       " 'Professor_Show1 MV_Show1 CL_Show1 SP_Show1 GR_Show1 CS_Show4 LH_Show3 LN_Show6': 1.7346652554764097e-07,\n",
       " 'Professor_Show1 MV_Show1 CL_Show1 SP_Show1 GR_Show1 CS_Show4 LH_Show3 LN_Show7': 1.7346652554764097e-07,\n",
       " 'Professor_Show1 MV_Show1 CL_Show1 SP_Show1 GR_Show1 CS_Show4 LH_Show4 LN_Show1': 1.7346652554764097e-07,\n",
       " 'Professor_Show1 MV_Show1 CL_Show1 SP_Show1 GR_Show1 CS_Show4 LH_Show4 LN_Show2': 1.7346652554764097e-07,\n",
       " 'Professor_Show1 MV_Show1 CL_Show1 SP_Show1 GR_Show1 CS_Show4 LH_Show4 LN_Show3': 1.7346652554764097e-07,\n",
       " 'Professor_Show1 MV_Show1 CL_Show1 SP_Show1 GR_Show1 CS_Show4 LH_Show4 LN_Show4': 1.7346652554764097e-07,\n",
       " 'Professor_Show1 MV_Show1 CL_Show1 SP_Show1 GR_Show1 CS_Show4 LH_Show4 LN_Show5': 1.7346652554764097e-07,\n",
       " 'Professor_Show1 MV_Show1 CL_Show1 SP_Show1 GR_Show1 CS_Show4 LH_Show4 LN_Show6': 1.7346652554764097e-07,\n",
       " 'Professor_Show1 MV_Show1 CL_Show1 SP_Show1 GR_Show1 CS_Show4 LH_Show4 LN_Show7': 1.7346652554764097e-07,\n",
       " 'Professor_Show1 MV_Show1 CL_Show1 SP_Show1 GR_Show1 CS_Show4 LH_Show5 LN_Show1': 1.7346652554764097e-07,\n",
       " 'Professor_Show1 MV_Show1 CL_Show1 SP_Show1 GR_Show1 CS_Show4 LH_Show5 LN_Show2': 1.7346652554764097e-07,\n",
       " 'Professor_Show1 MV_Show1 CL_Show1 SP_Show1 GR_Show1 CS_Show4 LH_Show5 LN_Show3': 1.7346652554764097e-07,\n",
       " 'Professor_Show1 MV_Show1 CL_Show1 SP_Show1 GR_Show1 CS_Show4 LH_Show5 LN_Show4': 1.7346652554764097e-07,\n",
       " 'Professor_Show1 MV_Show1 CL_Show1 SP_Show1 GR_Show1 CS_Show4 LH_Show5 LN_Show5': 1.7346652554764097e-07,\n",
       " 'Professor_Show1 MV_Show1 CL_Show1 SP_Show1 GR_Show1 CS_Show4 LH_Show5 LN_Show6': 1.7346652554764097e-07,\n",
       " 'Professor_Show1 MV_Show1 CL_Show1 SP_Show1 GR_Show1 CS_Show4 LH_Show5 LN_Show7': 1.7346652554764097e-07,\n",
       " 'Professor_Show1 MV_Show1 CL_Show1 SP_Show1 GR_Show1 CS_Show4 LH_Show6 LN_Show1': 1.7346652554764097e-07,\n",
       " 'Professor_Show1 MV_Show1 CL_Show1 SP_Show1 GR_Show1 CS_Show4 LH_Show6 LN_Show2': 1.7346652554764097e-07,\n",
       " 'Professor_Show1 MV_Show1 CL_Show1 SP_Show1 GR_Show1 CS_Show4 LH_Show6 LN_Show3': 1.7346652554764097e-07,\n",
       " 'Professor_Show1 MV_Show1 CL_Show1 SP_Show1 GR_Show1 CS_Show4 LH_Show6 LN_Show4': 1.7346652554764097e-07,\n",
       " 'Professor_Show1 MV_Show1 CL_Show1 SP_Show1 GR_Show1 CS_Show4 LH_Show6 LN_Show5': 1.7346652554764097e-07,\n",
       " 'Professor_Show1 MV_Show1 CL_Show1 SP_Show1 GR_Show1 CS_Show4 LH_Show6 LN_Show6': 1.7346652554764097e-07,\n",
       " 'Professor_Show1 MV_Show1 CL_Show1 SP_Show1 GR_Show1 CS_Show4 LH_Show6 LN_Show7': 1.7346652554764097e-07,\n",
       " 'Professor_Show1 MV_Show1 CL_Show1 SP_Show1 GR_Show1 CS_Show4 LH_Show7 LN_Show1': 1.7346652554764097e-07,\n",
       " 'Professor_Show1 MV_Show1 CL_Show1 SP_Show1 GR_Show1 CS_Show4 LH_Show7 LN_Show2': 1.7346652554764097e-07,\n",
       " 'Professor_Show1 MV_Show1 CL_Show1 SP_Show1 GR_Show1 CS_Show4 LH_Show7 LN_Show3': 1.7346652554764097e-07,\n",
       " 'Professor_Show1 MV_Show1 CL_Show1 SP_Show1 GR_Show1 CS_Show4 LH_Show7 LN_Show4': 1.7346652554764097e-07,\n",
       " 'Professor_Show1 MV_Show1 CL_Show1 SP_Show1 GR_Show1 CS_Show4 LH_Show7 LN_Show5': 1.7346652554764097e-07,\n",
       " 'Professor_Show1 MV_Show1 CL_Show1 SP_Show1 GR_Show1 CS_Show4 LH_Show7 LN_Show6': 1.7346652554764097e-07,\n",
       " 'Professor_Show1 MV_Show1 CL_Show1 SP_Show1 GR_Show1 CS_Show4 LH_Show7 LN_Show7': 1.7346652554764097e-07,\n",
       " 'Professor_Show1 MV_Show1 CL_Show1 SP_Show1 GR_Show1 CS_Show5 LH_Show1 LN_Show1': 1.7346652554764097e-07,\n",
       " 'Professor_Show1 MV_Show1 CL_Show1 SP_Show1 GR_Show1 CS_Show5 LH_Show1 LN_Show2': 1.7346652554764097e-07,\n",
       " 'Professor_Show1 MV_Show1 CL_Show1 SP_Show1 GR_Show1 CS_Show5 LH_Show1 LN_Show3': 1.7346652554764097e-07,\n",
       " 'Professor_Show1 MV_Show1 CL_Show1 SP_Show1 GR_Show1 CS_Show5 LH_Show1 LN_Show4': 1.7346652554764097e-07,\n",
       " 'Professor_Show1 MV_Show1 CL_Show1 SP_Show1 GR_Show1 CS_Show5 LH_Show1 LN_Show5': 1.7346652554764097e-07,\n",
       " 'Professor_Show1 MV_Show1 CL_Show1 SP_Show1 GR_Show1 CS_Show5 LH_Show1 LN_Show6': 1.7346652554764097e-07,\n",
       " 'Professor_Show1 MV_Show1 CL_Show1 SP_Show1 GR_Show1 CS_Show5 LH_Show1 LN_Show7': 1.7346652554764097e-07,\n",
       " 'Professor_Show1 MV_Show1 CL_Show1 SP_Show1 GR_Show1 CS_Show5 LH_Show2 LN_Show1': 1.7346652554764097e-07,\n",
       " 'Professor_Show1 MV_Show1 CL_Show1 SP_Show1 GR_Show1 CS_Show5 LH_Show2 LN_Show2': 1.7346652554764097e-07,\n",
       " 'Professor_Show1 MV_Show1 CL_Show1 SP_Show1 GR_Show1 CS_Show5 LH_Show2 LN_Show3': 1.7346652554764097e-07,\n",
       " 'Professor_Show1 MV_Show1 CL_Show1 SP_Show1 GR_Show1 CS_Show5 LH_Show2 LN_Show4': 1.7346652554764097e-07,\n",
       " 'Professor_Show1 MV_Show1 CL_Show1 SP_Show1 GR_Show1 CS_Show5 LH_Show2 LN_Show5': 1.7346652554764097e-07,\n",
       " 'Professor_Show1 MV_Show1 CL_Show1 SP_Show1 GR_Show1 CS_Show5 LH_Show2 LN_Show6': 1.7346652554764097e-07,\n",
       " 'Professor_Show1 MV_Show1 CL_Show1 SP_Show1 GR_Show1 CS_Show5 LH_Show2 LN_Show7': 1.7346652554764097e-07,\n",
       " 'Professor_Show1 MV_Show1 CL_Show1 SP_Show1 GR_Show1 CS_Show5 LH_Show3 LN_Show1': 1.7346652554764097e-07,\n",
       " 'Professor_Show1 MV_Show1 CL_Show1 SP_Show1 GR_Show1 CS_Show5 LH_Show3 LN_Show2': 1.7346652554764097e-07,\n",
       " 'Professor_Show1 MV_Show1 CL_Show1 SP_Show1 GR_Show1 CS_Show5 LH_Show3 LN_Show3': 1.7346652554764097e-07,\n",
       " 'Professor_Show1 MV_Show1 CL_Show1 SP_Show1 GR_Show1 CS_Show5 LH_Show3 LN_Show4': 1.7346652554764097e-07,\n",
       " 'Professor_Show1 MV_Show1 CL_Show1 SP_Show1 GR_Show1 CS_Show5 LH_Show3 LN_Show5': 1.7346652554764097e-07,\n",
       " 'Professor_Show1 MV_Show1 CL_Show1 SP_Show1 GR_Show1 CS_Show5 LH_Show3 LN_Show6': 1.7346652554764097e-07,\n",
       " 'Professor_Show1 MV_Show1 CL_Show1 SP_Show1 GR_Show1 CS_Show5 LH_Show3 LN_Show7': 1.7346652554764097e-07,\n",
       " 'Professor_Show1 MV_Show1 CL_Show1 SP_Show1 GR_Show1 CS_Show5 LH_Show4 LN_Show1': 1.7346652554764097e-07,\n",
       " 'Professor_Show1 MV_Show1 CL_Show1 SP_Show1 GR_Show1 CS_Show5 LH_Show4 LN_Show2': 1.7346652554764097e-07,\n",
       " 'Professor_Show1 MV_Show1 CL_Show1 SP_Show1 GR_Show1 CS_Show5 LH_Show4 LN_Show3': 1.7346652554764097e-07,\n",
       " 'Professor_Show1 MV_Show1 CL_Show1 SP_Show1 GR_Show1 CS_Show5 LH_Show4 LN_Show4': 1.7346652554764097e-07,\n",
       " 'Professor_Show1 MV_Show1 CL_Show1 SP_Show1 GR_Show1 CS_Show5 LH_Show4 LN_Show5': 1.7346652554764097e-07,\n",
       " 'Professor_Show1 MV_Show1 CL_Show1 SP_Show1 GR_Show1 CS_Show5 LH_Show4 LN_Show6': 1.7346652554764097e-07,\n",
       " 'Professor_Show1 MV_Show1 CL_Show1 SP_Show1 GR_Show1 CS_Show5 LH_Show4 LN_Show7': 1.7346652554764097e-07,\n",
       " 'Professor_Show1 MV_Show1 CL_Show1 SP_Show1 GR_Show1 CS_Show5 LH_Show5 LN_Show1': 1.7346652554764097e-07,\n",
       " 'Professor_Show1 MV_Show1 CL_Show1 SP_Show1 GR_Show1 CS_Show5 LH_Show5 LN_Show2': 1.7346652554764097e-07,\n",
       " 'Professor_Show1 MV_Show1 CL_Show1 SP_Show1 GR_Show1 CS_Show5 LH_Show5 LN_Show3': 1.7346652554764097e-07,\n",
       " 'Professor_Show1 MV_Show1 CL_Show1 SP_Show1 GR_Show1 CS_Show5 LH_Show5 LN_Show4': 1.7346652554764097e-07,\n",
       " 'Professor_Show1 MV_Show1 CL_Show1 SP_Show1 GR_Show1 CS_Show5 LH_Show5 LN_Show5': 1.7346652554764097e-07,\n",
       " 'Professor_Show1 MV_Show1 CL_Show1 SP_Show1 GR_Show1 CS_Show5 LH_Show5 LN_Show6': 1.7346652554764097e-07,\n",
       " 'Professor_Show1 MV_Show1 CL_Show1 SP_Show1 GR_Show1 CS_Show5 LH_Show5 LN_Show7': 1.7346652554764097e-07,\n",
       " 'Professor_Show1 MV_Show1 CL_Show1 SP_Show1 GR_Show1 CS_Show5 LH_Show6 LN_Show1': 1.7346652554764097e-07,\n",
       " 'Professor_Show1 MV_Show1 CL_Show1 SP_Show1 GR_Show1 CS_Show5 LH_Show6 LN_Show2': 1.7346652554764097e-07,\n",
       " 'Professor_Show1 MV_Show1 CL_Show1 SP_Show1 GR_Show1 CS_Show5 LH_Show6 LN_Show3': 1.7346652554764097e-07,\n",
       " 'Professor_Show1 MV_Show1 CL_Show1 SP_Show1 GR_Show1 CS_Show5 LH_Show6 LN_Show4': 1.7346652554764097e-07,\n",
       " 'Professor_Show1 MV_Show1 CL_Show1 SP_Show1 GR_Show1 CS_Show5 LH_Show6 LN_Show5': 1.7346652554764097e-07,\n",
       " 'Professor_Show1 MV_Show1 CL_Show1 SP_Show1 GR_Show1 CS_Show5 LH_Show6 LN_Show6': 1.7346652554764097e-07,\n",
       " 'Professor_Show1 MV_Show1 CL_Show1 SP_Show1 GR_Show1 CS_Show5 LH_Show6 LN_Show7': 1.7346652554764097e-07,\n",
       " 'Professor_Show1 MV_Show1 CL_Show1 SP_Show1 GR_Show1 CS_Show5 LH_Show7 LN_Show1': 1.7346652554764097e-07,\n",
       " 'Professor_Show1 MV_Show1 CL_Show1 SP_Show1 GR_Show1 CS_Show5 LH_Show7 LN_Show2': 1.7346652554764097e-07,\n",
       " 'Professor_Show1 MV_Show1 CL_Show1 SP_Show1 GR_Show1 CS_Show5 LH_Show7 LN_Show3': 1.7346652554764097e-07,\n",
       " 'Professor_Show1 MV_Show1 CL_Show1 SP_Show1 GR_Show1 CS_Show5 LH_Show7 LN_Show4': 1.7346652554764097e-07,\n",
       " 'Professor_Show1 MV_Show1 CL_Show1 SP_Show1 GR_Show1 CS_Show5 LH_Show7 LN_Show5': 1.7346652554764097e-07,\n",
       " 'Professor_Show1 MV_Show1 CL_Show1 SP_Show1 GR_Show1 CS_Show5 LH_Show7 LN_Show6': 1.7346652554764097e-07,\n",
       " 'Professor_Show1 MV_Show1 CL_Show1 SP_Show1 GR_Show1 CS_Show5 LH_Show7 LN_Show7': 1.7346652554764097e-07,\n",
       " 'Professor_Show1 MV_Show1 CL_Show1 SP_Show1 GR_Show1 CS_Show6 LH_Show1 LN_Show1': 1.7346652554764097e-07,\n",
       " 'Professor_Show1 MV_Show1 CL_Show1 SP_Show1 GR_Show1 CS_Show6 LH_Show1 LN_Show2': 1.7346652554764097e-07,\n",
       " 'Professor_Show1 MV_Show1 CL_Show1 SP_Show1 GR_Show1 CS_Show6 LH_Show1 LN_Show3': 1.7346652554764097e-07,\n",
       " 'Professor_Show1 MV_Show1 CL_Show1 SP_Show1 GR_Show1 CS_Show6 LH_Show1 LN_Show4': 1.7346652554764097e-07,\n",
       " 'Professor_Show1 MV_Show1 CL_Show1 SP_Show1 GR_Show1 CS_Show6 LH_Show1 LN_Show5': 1.7346652554764097e-07,\n",
       " 'Professor_Show1 MV_Show1 CL_Show1 SP_Show1 GR_Show1 CS_Show6 LH_Show1 LN_Show6': 1.7346652554764097e-07,\n",
       " 'Professor_Show1 MV_Show1 CL_Show1 SP_Show1 GR_Show1 CS_Show6 LH_Show1 LN_Show7': 1.7346652554764097e-07,\n",
       " 'Professor_Show1 MV_Show1 CL_Show1 SP_Show1 GR_Show1 CS_Show6 LH_Show2 LN_Show1': 1.7346652554764097e-07,\n",
       " 'Professor_Show1 MV_Show1 CL_Show1 SP_Show1 GR_Show1 CS_Show6 LH_Show2 LN_Show2': 1.7346652554764097e-07,\n",
       " 'Professor_Show1 MV_Show1 CL_Show1 SP_Show1 GR_Show1 CS_Show6 LH_Show2 LN_Show3': 1.7346652554764097e-07,\n",
       " 'Professor_Show1 MV_Show1 CL_Show1 SP_Show1 GR_Show1 CS_Show6 LH_Show2 LN_Show4': 1.7346652554764097e-07,\n",
       " 'Professor_Show1 MV_Show1 CL_Show1 SP_Show1 GR_Show1 CS_Show6 LH_Show2 LN_Show5': 1.7346652554764097e-07,\n",
       " 'Professor_Show1 MV_Show1 CL_Show1 SP_Show1 GR_Show1 CS_Show6 LH_Show2 LN_Show6': 1.7346652554764097e-07,\n",
       " 'Professor_Show1 MV_Show1 CL_Show1 SP_Show1 GR_Show1 CS_Show6 LH_Show2 LN_Show7': 1.7346652554764097e-07,\n",
       " 'Professor_Show1 MV_Show1 CL_Show1 SP_Show1 GR_Show1 CS_Show6 LH_Show3 LN_Show1': 1.7346652554764097e-07,\n",
       " 'Professor_Show1 MV_Show1 CL_Show1 SP_Show1 GR_Show1 CS_Show6 LH_Show3 LN_Show2': 1.7346652554764097e-07,\n",
       " 'Professor_Show1 MV_Show1 CL_Show1 SP_Show1 GR_Show1 CS_Show6 LH_Show3 LN_Show3': 1.7346652554764097e-07,\n",
       " 'Professor_Show1 MV_Show1 CL_Show1 SP_Show1 GR_Show1 CS_Show6 LH_Show3 LN_Show4': 1.7346652554764097e-07,\n",
       " 'Professor_Show1 MV_Show1 CL_Show1 SP_Show1 GR_Show1 CS_Show6 LH_Show3 LN_Show5': 1.7346652554764097e-07,\n",
       " 'Professor_Show1 MV_Show1 CL_Show1 SP_Show1 GR_Show1 CS_Show6 LH_Show3 LN_Show6': 1.7346652554764097e-07,\n",
       " 'Professor_Show1 MV_Show1 CL_Show1 SP_Show1 GR_Show1 CS_Show6 LH_Show3 LN_Show7': 1.7346652554764097e-07,\n",
       " 'Professor_Show1 MV_Show1 CL_Show1 SP_Show1 GR_Show1 CS_Show6 LH_Show4 LN_Show1': 1.7346652554764097e-07,\n",
       " 'Professor_Show1 MV_Show1 CL_Show1 SP_Show1 GR_Show1 CS_Show6 LH_Show4 LN_Show2': 1.7346652554764097e-07,\n",
       " 'Professor_Show1 MV_Show1 CL_Show1 SP_Show1 GR_Show1 CS_Show6 LH_Show4 LN_Show3': 1.7346652554764097e-07,\n",
       " 'Professor_Show1 MV_Show1 CL_Show1 SP_Show1 GR_Show1 CS_Show6 LH_Show4 LN_Show4': 1.7346652554764097e-07,\n",
       " 'Professor_Show1 MV_Show1 CL_Show1 SP_Show1 GR_Show1 CS_Show6 LH_Show4 LN_Show5': 1.7346652554764097e-07,\n",
       " 'Professor_Show1 MV_Show1 CL_Show1 SP_Show1 GR_Show1 CS_Show6 LH_Show4 LN_Show6': 1.7346652554764097e-07,\n",
       " 'Professor_Show1 MV_Show1 CL_Show1 SP_Show1 GR_Show1 CS_Show6 LH_Show4 LN_Show7': 1.7346652554764097e-07,\n",
       " 'Professor_Show1 MV_Show1 CL_Show1 SP_Show1 GR_Show1 CS_Show6 LH_Show5 LN_Show1': 1.7346652554764097e-07,\n",
       " 'Professor_Show1 MV_Show1 CL_Show1 SP_Show1 GR_Show1 CS_Show6 LH_Show5 LN_Show2': 1.7346652554764097e-07,\n",
       " 'Professor_Show1 MV_Show1 CL_Show1 SP_Show1 GR_Show1 CS_Show6 LH_Show5 LN_Show3': 1.7346652554764097e-07,\n",
       " 'Professor_Show1 MV_Show1 CL_Show1 SP_Show1 GR_Show1 CS_Show6 LH_Show5 LN_Show4': 1.7346652554764097e-07,\n",
       " 'Professor_Show1 MV_Show1 CL_Show1 SP_Show1 GR_Show1 CS_Show6 LH_Show5 LN_Show5': 1.7346652554764097e-07,\n",
       " 'Professor_Show1 MV_Show1 CL_Show1 SP_Show1 GR_Show1 CS_Show6 LH_Show5 LN_Show6': 1.7346652554764097e-07,\n",
       " 'Professor_Show1 MV_Show1 CL_Show1 SP_Show1 GR_Show1 CS_Show6 LH_Show5 LN_Show7': 1.7346652554764097e-07,\n",
       " 'Professor_Show1 MV_Show1 CL_Show1 SP_Show1 GR_Show1 CS_Show6 LH_Show6 LN_Show1': 1.7346652554764097e-07,\n",
       " 'Professor_Show1 MV_Show1 CL_Show1 SP_Show1 GR_Show1 CS_Show6 LH_Show6 LN_Show2': 1.7346652554764097e-07,\n",
       " 'Professor_Show1 MV_Show1 CL_Show1 SP_Show1 GR_Show1 CS_Show6 LH_Show6 LN_Show3': 1.7346652554764097e-07,\n",
       " 'Professor_Show1 MV_Show1 CL_Show1 SP_Show1 GR_Show1 CS_Show6 LH_Show6 LN_Show4': 1.7346652554764097e-07,\n",
       " 'Professor_Show1 MV_Show1 CL_Show1 SP_Show1 GR_Show1 CS_Show6 LH_Show6 LN_Show5': 1.7346652554764097e-07,\n",
       " 'Professor_Show1 MV_Show1 CL_Show1 SP_Show1 GR_Show1 CS_Show6 LH_Show6 LN_Show6': 1.7346652554764097e-07,\n",
       " 'Professor_Show1 MV_Show1 CL_Show1 SP_Show1 GR_Show1 CS_Show6 LH_Show6 LN_Show7': 1.7346652554764097e-07,\n",
       " 'Professor_Show1 MV_Show1 CL_Show1 SP_Show1 GR_Show1 CS_Show6 LH_Show7 LN_Show1': 1.7346652554764097e-07,\n",
       " 'Professor_Show1 MV_Show1 CL_Show1 SP_Show1 GR_Show1 CS_Show6 LH_Show7 LN_Show2': 1.7346652554764097e-07,\n",
       " 'Professor_Show1 MV_Show1 CL_Show1 SP_Show1 GR_Show1 CS_Show6 LH_Show7 LN_Show3': 1.7346652554764097e-07,\n",
       " 'Professor_Show1 MV_Show1 CL_Show1 SP_Show1 GR_Show1 CS_Show6 LH_Show7 LN_Show4': 1.7346652554764097e-07,\n",
       " 'Professor_Show1 MV_Show1 CL_Show1 SP_Show1 GR_Show1 CS_Show6 LH_Show7 LN_Show5': 1.7346652554764097e-07,\n",
       " 'Professor_Show1 MV_Show1 CL_Show1 SP_Show1 GR_Show1 CS_Show6 LH_Show7 LN_Show6': 1.7346652554764097e-07,\n",
       " 'Professor_Show1 MV_Show1 CL_Show1 SP_Show1 GR_Show1 CS_Show6 LH_Show7 LN_Show7': 1.7346652554764097e-07,\n",
       " 'Professor_Show1 MV_Show1 CL_Show1 SP_Show1 GR_Show1 CS_Show7 LH_Show1 LN_Show1': 1.7346652554764097e-07,\n",
       " 'Professor_Show1 MV_Show1 CL_Show1 SP_Show1 GR_Show1 CS_Show7 LH_Show1 LN_Show2': 1.7346652554764097e-07,\n",
       " 'Professor_Show1 MV_Show1 CL_Show1 SP_Show1 GR_Show1 CS_Show7 LH_Show1 LN_Show3': 1.7346652554764097e-07,\n",
       " 'Professor_Show1 MV_Show1 CL_Show1 SP_Show1 GR_Show1 CS_Show7 LH_Show1 LN_Show4': 1.7346652554764097e-07,\n",
       " 'Professor_Show1 MV_Show1 CL_Show1 SP_Show1 GR_Show1 CS_Show7 LH_Show1 LN_Show5': 1.7346652554764097e-07,\n",
       " 'Professor_Show1 MV_Show1 CL_Show1 SP_Show1 GR_Show1 CS_Show7 LH_Show1 LN_Show6': 1.7346652554764097e-07,\n",
       " 'Professor_Show1 MV_Show1 CL_Show1 SP_Show1 GR_Show1 CS_Show7 LH_Show1 LN_Show7': 1.7346652554764097e-07,\n",
       " 'Professor_Show1 MV_Show1 CL_Show1 SP_Show1 GR_Show1 CS_Show7 LH_Show2 LN_Show1': 1.7346652554764097e-07,\n",
       " 'Professor_Show1 MV_Show1 CL_Show1 SP_Show1 GR_Show1 CS_Show7 LH_Show2 LN_Show2': 1.7346652554764097e-07,\n",
       " 'Professor_Show1 MV_Show1 CL_Show1 SP_Show1 GR_Show1 CS_Show7 LH_Show2 LN_Show3': 1.7346652554764097e-07,\n",
       " 'Professor_Show1 MV_Show1 CL_Show1 SP_Show1 GR_Show1 CS_Show7 LH_Show2 LN_Show4': 1.7346652554764097e-07,\n",
       " 'Professor_Show1 MV_Show1 CL_Show1 SP_Show1 GR_Show1 CS_Show7 LH_Show2 LN_Show5': 1.7346652554764097e-07,\n",
       " 'Professor_Show1 MV_Show1 CL_Show1 SP_Show1 GR_Show1 CS_Show7 LH_Show2 LN_Show6': 1.7346652554764097e-07,\n",
       " 'Professor_Show1 MV_Show1 CL_Show1 SP_Show1 GR_Show1 CS_Show7 LH_Show2 LN_Show7': 1.7346652554764097e-07,\n",
       " 'Professor_Show1 MV_Show1 CL_Show1 SP_Show1 GR_Show1 CS_Show7 LH_Show3 LN_Show1': 1.7346652554764097e-07,\n",
       " 'Professor_Show1 MV_Show1 CL_Show1 SP_Show1 GR_Show1 CS_Show7 LH_Show3 LN_Show2': 1.7346652554764097e-07,\n",
       " 'Professor_Show1 MV_Show1 CL_Show1 SP_Show1 GR_Show1 CS_Show7 LH_Show3 LN_Show3': 1.7346652554764097e-07,\n",
       " 'Professor_Show1 MV_Show1 CL_Show1 SP_Show1 GR_Show1 CS_Show7 LH_Show3 LN_Show4': 1.7346652554764097e-07,\n",
       " 'Professor_Show1 MV_Show1 CL_Show1 SP_Show1 GR_Show1 CS_Show7 LH_Show3 LN_Show5': 1.7346652554764097e-07,\n",
       " 'Professor_Show1 MV_Show1 CL_Show1 SP_Show1 GR_Show1 CS_Show7 LH_Show3 LN_Show6': 1.7346652554764097e-07,\n",
       " 'Professor_Show1 MV_Show1 CL_Show1 SP_Show1 GR_Show1 CS_Show7 LH_Show3 LN_Show7': 1.7346652554764097e-07,\n",
       " 'Professor_Show1 MV_Show1 CL_Show1 SP_Show1 GR_Show1 CS_Show7 LH_Show4 LN_Show1': 1.7346652554764097e-07,\n",
       " 'Professor_Show1 MV_Show1 CL_Show1 SP_Show1 GR_Show1 CS_Show7 LH_Show4 LN_Show2': 1.7346652554764097e-07,\n",
       " 'Professor_Show1 MV_Show1 CL_Show1 SP_Show1 GR_Show1 CS_Show7 LH_Show4 LN_Show3': 1.7346652554764097e-07,\n",
       " 'Professor_Show1 MV_Show1 CL_Show1 SP_Show1 GR_Show1 CS_Show7 LH_Show4 LN_Show4': 1.7346652554764097e-07,\n",
       " 'Professor_Show1 MV_Show1 CL_Show1 SP_Show1 GR_Show1 CS_Show7 LH_Show4 LN_Show5': 1.7346652554764097e-07,\n",
       " 'Professor_Show1 MV_Show1 CL_Show1 SP_Show1 GR_Show1 CS_Show7 LH_Show4 LN_Show6': 1.7346652554764097e-07,\n",
       " 'Professor_Show1 MV_Show1 CL_Show1 SP_Show1 GR_Show1 CS_Show7 LH_Show4 LN_Show7': 1.7346652554764097e-07,\n",
       " 'Professor_Show1 MV_Show1 CL_Show1 SP_Show1 GR_Show1 CS_Show7 LH_Show5 LN_Show1': 1.7346652554764097e-07,\n",
       " 'Professor_Show1 MV_Show1 CL_Show1 SP_Show1 GR_Show1 CS_Show7 LH_Show5 LN_Show2': 1.7346652554764097e-07,\n",
       " 'Professor_Show1 MV_Show1 CL_Show1 SP_Show1 GR_Show1 CS_Show7 LH_Show5 LN_Show3': 1.7346652554764097e-07,\n",
       " 'Professor_Show1 MV_Show1 CL_Show1 SP_Show1 GR_Show1 CS_Show7 LH_Show5 LN_Show4': 1.7346652554764097e-07,\n",
       " 'Professor_Show1 MV_Show1 CL_Show1 SP_Show1 GR_Show1 CS_Show7 LH_Show5 LN_Show5': 1.7346652554764097e-07,\n",
       " 'Professor_Show1 MV_Show1 CL_Show1 SP_Show1 GR_Show1 CS_Show7 LH_Show5 LN_Show6': 1.7346652554764097e-07,\n",
       " 'Professor_Show1 MV_Show1 CL_Show1 SP_Show1 GR_Show1 CS_Show7 LH_Show5 LN_Show7': 1.7346652554764097e-07,\n",
       " 'Professor_Show1 MV_Show1 CL_Show1 SP_Show1 GR_Show1 CS_Show7 LH_Show6 LN_Show1': 1.7346652554764097e-07,\n",
       " 'Professor_Show1 MV_Show1 CL_Show1 SP_Show1 GR_Show1 CS_Show7 LH_Show6 LN_Show2': 1.7346652554764097e-07,\n",
       " 'Professor_Show1 MV_Show1 CL_Show1 SP_Show1 GR_Show1 CS_Show7 LH_Show6 LN_Show3': 1.7346652554764097e-07,\n",
       " 'Professor_Show1 MV_Show1 CL_Show1 SP_Show1 GR_Show1 CS_Show7 LH_Show6 LN_Show4': 1.7346652554764097e-07,\n",
       " 'Professor_Show1 MV_Show1 CL_Show1 SP_Show1 GR_Show1 CS_Show7 LH_Show6 LN_Show5': 1.7346652554764097e-07,\n",
       " 'Professor_Show1 MV_Show1 CL_Show1 SP_Show1 GR_Show1 CS_Show7 LH_Show6 LN_Show6': 1.7346652554764097e-07,\n",
       " 'Professor_Show1 MV_Show1 CL_Show1 SP_Show1 GR_Show1 CS_Show7 LH_Show6 LN_Show7': 1.7346652554764097e-07,\n",
       " 'Professor_Show1 MV_Show1 CL_Show1 SP_Show1 GR_Show1 CS_Show7 LH_Show7 LN_Show1': 1.7346652554764097e-07,\n",
       " 'Professor_Show1 MV_Show1 CL_Show1 SP_Show1 GR_Show1 CS_Show7 LH_Show7 LN_Show2': 1.7346652554764097e-07,\n",
       " 'Professor_Show1 MV_Show1 CL_Show1 SP_Show1 GR_Show1 CS_Show7 LH_Show7 LN_Show3': 1.7346652554764097e-07,\n",
       " 'Professor_Show1 MV_Show1 CL_Show1 SP_Show1 GR_Show1 CS_Show7 LH_Show7 LN_Show4': 1.7346652554764097e-07,\n",
       " 'Professor_Show1 MV_Show1 CL_Show1 SP_Show1 GR_Show1 CS_Show7 LH_Show7 LN_Show5': 1.7346652554764097e-07,\n",
       " 'Professor_Show1 MV_Show1 CL_Show1 SP_Show1 GR_Show1 CS_Show7 LH_Show7 LN_Show6': 1.7346652554764097e-07,\n",
       " 'Professor_Show1 MV_Show1 CL_Show1 SP_Show1 GR_Show1 CS_Show7 LH_Show7 LN_Show7': 1.7346652554764097e-07,\n",
       " 'Professor_Show1 MV_Show1 CL_Show1 SP_Show1 GR_Show2 CS_Show1 LH_Show1 LN_Show1': 1.7346652554764097e-07,\n",
       " 'Professor_Show1 MV_Show1 CL_Show1 SP_Show1 GR_Show2 CS_Show1 LH_Show1 LN_Show2': 1.7346652554764097e-07,\n",
       " 'Professor_Show1 MV_Show1 CL_Show1 SP_Show1 GR_Show2 CS_Show1 LH_Show1 LN_Show3': 1.7346652554764097e-07,\n",
       " 'Professor_Show1 MV_Show1 CL_Show1 SP_Show1 GR_Show2 CS_Show1 LH_Show1 LN_Show4': 1.7346652554764097e-07,\n",
       " 'Professor_Show1 MV_Show1 CL_Show1 SP_Show1 GR_Show2 CS_Show1 LH_Show1 LN_Show5': 1.7346652554764097e-07,\n",
       " 'Professor_Show1 MV_Show1 CL_Show1 SP_Show1 GR_Show2 CS_Show1 LH_Show1 LN_Show6': 1.7346652554764097e-07,\n",
       " 'Professor_Show1 MV_Show1 CL_Show1 SP_Show1 GR_Show2 CS_Show1 LH_Show1 LN_Show7': 1.7346652554764097e-07,\n",
       " 'Professor_Show1 MV_Show1 CL_Show1 SP_Show1 GR_Show2 CS_Show1 LH_Show2 LN_Show1': 1.7346652554764097e-07,\n",
       " 'Professor_Show1 MV_Show1 CL_Show1 SP_Show1 GR_Show2 CS_Show1 LH_Show2 LN_Show2': 1.7346652554764097e-07,\n",
       " 'Professor_Show1 MV_Show1 CL_Show1 SP_Show1 GR_Show2 CS_Show1 LH_Show2 LN_Show3': 1.7346652554764097e-07,\n",
       " 'Professor_Show1 MV_Show1 CL_Show1 SP_Show1 GR_Show2 CS_Show1 LH_Show2 LN_Show4': 1.7346652554764097e-07,\n",
       " 'Professor_Show1 MV_Show1 CL_Show1 SP_Show1 GR_Show2 CS_Show1 LH_Show2 LN_Show5': 1.7346652554764097e-07,\n",
       " 'Professor_Show1 MV_Show1 CL_Show1 SP_Show1 GR_Show2 CS_Show1 LH_Show2 LN_Show6': 1.7346652554764097e-07,\n",
       " 'Professor_Show1 MV_Show1 CL_Show1 SP_Show1 GR_Show2 CS_Show1 LH_Show2 LN_Show7': 1.7346652554764097e-07,\n",
       " 'Professor_Show1 MV_Show1 CL_Show1 SP_Show1 GR_Show2 CS_Show1 LH_Show3 LN_Show1': 1.7346652554764097e-07,\n",
       " 'Professor_Show1 MV_Show1 CL_Show1 SP_Show1 GR_Show2 CS_Show1 LH_Show3 LN_Show2': 1.7346652554764097e-07,\n",
       " 'Professor_Show1 MV_Show1 CL_Show1 SP_Show1 GR_Show2 CS_Show1 LH_Show3 LN_Show3': 1.7346652554764097e-07,\n",
       " 'Professor_Show1 MV_Show1 CL_Show1 SP_Show1 GR_Show2 CS_Show1 LH_Show3 LN_Show4': 1.7346652554764097e-07,\n",
       " 'Professor_Show1 MV_Show1 CL_Show1 SP_Show1 GR_Show2 CS_Show1 LH_Show3 LN_Show5': 1.7346652554764097e-07,\n",
       " 'Professor_Show1 MV_Show1 CL_Show1 SP_Show1 GR_Show2 CS_Show1 LH_Show3 LN_Show6': 1.7346652554764097e-07,\n",
       " 'Professor_Show1 MV_Show1 CL_Show1 SP_Show1 GR_Show2 CS_Show1 LH_Show3 LN_Show7': 1.7346652554764097e-07,\n",
       " 'Professor_Show1 MV_Show1 CL_Show1 SP_Show1 GR_Show2 CS_Show1 LH_Show4 LN_Show1': 1.7346652554764097e-07,\n",
       " 'Professor_Show1 MV_Show1 CL_Show1 SP_Show1 GR_Show2 CS_Show1 LH_Show4 LN_Show2': 1.7346652554764097e-07,\n",
       " 'Professor_Show1 MV_Show1 CL_Show1 SP_Show1 GR_Show2 CS_Show1 LH_Show4 LN_Show3': 1.7346652554764097e-07,\n",
       " 'Professor_Show1 MV_Show1 CL_Show1 SP_Show1 GR_Show2 CS_Show1 LH_Show4 LN_Show4': 1.7346652554764097e-07,\n",
       " 'Professor_Show1 MV_Show1 CL_Show1 SP_Show1 GR_Show2 CS_Show1 LH_Show4 LN_Show5': 1.7346652554764097e-07,\n",
       " 'Professor_Show1 MV_Show1 CL_Show1 SP_Show1 GR_Show2 CS_Show1 LH_Show4 LN_Show6': 1.7346652554764097e-07,\n",
       " 'Professor_Show1 MV_Show1 CL_Show1 SP_Show1 GR_Show2 CS_Show1 LH_Show4 LN_Show7': 1.7346652554764097e-07,\n",
       " 'Professor_Show1 MV_Show1 CL_Show1 SP_Show1 GR_Show2 CS_Show1 LH_Show5 LN_Show1': 1.7346652554764097e-07,\n",
       " 'Professor_Show1 MV_Show1 CL_Show1 SP_Show1 GR_Show2 CS_Show1 LH_Show5 LN_Show2': 1.7346652554764097e-07,\n",
       " 'Professor_Show1 MV_Show1 CL_Show1 SP_Show1 GR_Show2 CS_Show1 LH_Show5 LN_Show3': 1.7346652554764097e-07,\n",
       " 'Professor_Show1 MV_Show1 CL_Show1 SP_Show1 GR_Show2 CS_Show1 LH_Show5 LN_Show4': 1.7346652554764097e-07,\n",
       " 'Professor_Show1 MV_Show1 CL_Show1 SP_Show1 GR_Show2 CS_Show1 LH_Show5 LN_Show5': 1.7346652554764097e-07,\n",
       " 'Professor_Show1 MV_Show1 CL_Show1 SP_Show1 GR_Show2 CS_Show1 LH_Show5 LN_Show6': 1.7346652554764097e-07,\n",
       " 'Professor_Show1 MV_Show1 CL_Show1 SP_Show1 GR_Show2 CS_Show1 LH_Show5 LN_Show7': 1.7346652554764097e-07,\n",
       " 'Professor_Show1 MV_Show1 CL_Show1 SP_Show1 GR_Show2 CS_Show1 LH_Show6 LN_Show1': 1.7346652554764097e-07,\n",
       " 'Professor_Show1 MV_Show1 CL_Show1 SP_Show1 GR_Show2 CS_Show1 LH_Show6 LN_Show2': 1.7346652554764097e-07,\n",
       " 'Professor_Show1 MV_Show1 CL_Show1 SP_Show1 GR_Show2 CS_Show1 LH_Show6 LN_Show3': 1.7346652554764097e-07,\n",
       " 'Professor_Show1 MV_Show1 CL_Show1 SP_Show1 GR_Show2 CS_Show1 LH_Show6 LN_Show4': 1.7346652554764097e-07,\n",
       " 'Professor_Show1 MV_Show1 CL_Show1 SP_Show1 GR_Show2 CS_Show1 LH_Show6 LN_Show5': 1.7346652554764097e-07,\n",
       " 'Professor_Show1 MV_Show1 CL_Show1 SP_Show1 GR_Show2 CS_Show1 LH_Show6 LN_Show6': 1.7346652554764097e-07,\n",
       " 'Professor_Show1 MV_Show1 CL_Show1 SP_Show1 GR_Show2 CS_Show1 LH_Show6 LN_Show7': 1.7346652554764097e-07,\n",
       " 'Professor_Show1 MV_Show1 CL_Show1 SP_Show1 GR_Show2 CS_Show1 LH_Show7 LN_Show1': 1.7346652554764097e-07,\n",
       " 'Professor_Show1 MV_Show1 CL_Show1 SP_Show1 GR_Show2 CS_Show1 LH_Show7 LN_Show2': 1.7346652554764097e-07,\n",
       " 'Professor_Show1 MV_Show1 CL_Show1 SP_Show1 GR_Show2 CS_Show1 LH_Show7 LN_Show3': 1.7346652554764097e-07,\n",
       " 'Professor_Show1 MV_Show1 CL_Show1 SP_Show1 GR_Show2 CS_Show1 LH_Show7 LN_Show4': 1.7346652554764097e-07,\n",
       " 'Professor_Show1 MV_Show1 CL_Show1 SP_Show1 GR_Show2 CS_Show1 LH_Show7 LN_Show5': 1.7346652554764097e-07,\n",
       " 'Professor_Show1 MV_Show1 CL_Show1 SP_Show1 GR_Show2 CS_Show1 LH_Show7 LN_Show6': 1.7346652554764097e-07,\n",
       " 'Professor_Show1 MV_Show1 CL_Show1 SP_Show1 GR_Show2 CS_Show1 LH_Show7 LN_Show7': 1.7346652554764097e-07,\n",
       " 'Professor_Show1 MV_Show1 CL_Show1 SP_Show1 GR_Show2 CS_Show2 LH_Show1 LN_Show1': 1.7346652554764097e-07,\n",
       " 'Professor_Show1 MV_Show1 CL_Show1 SP_Show1 GR_Show2 CS_Show2 LH_Show1 LN_Show2': 1.7346652554764097e-07,\n",
       " 'Professor_Show1 MV_Show1 CL_Show1 SP_Show1 GR_Show2 CS_Show2 LH_Show1 LN_Show3': 1.7346652554764097e-07,\n",
       " 'Professor_Show1 MV_Show1 CL_Show1 SP_Show1 GR_Show2 CS_Show2 LH_Show1 LN_Show4': 1.7346652554764097e-07,\n",
       " 'Professor_Show1 MV_Show1 CL_Show1 SP_Show1 GR_Show2 CS_Show2 LH_Show1 LN_Show5': 1.7346652554764097e-07,\n",
       " 'Professor_Show1 MV_Show1 CL_Show1 SP_Show1 GR_Show2 CS_Show2 LH_Show1 LN_Show6': 1.7346652554764097e-07,\n",
       " 'Professor_Show1 MV_Show1 CL_Show1 SP_Show1 GR_Show2 CS_Show2 LH_Show1 LN_Show7': 1.7346652554764097e-07,\n",
       " 'Professor_Show1 MV_Show1 CL_Show1 SP_Show1 GR_Show2 CS_Show2 LH_Show2 LN_Show1': 1.7346652554764097e-07,\n",
       " 'Professor_Show1 MV_Show1 CL_Show1 SP_Show1 GR_Show2 CS_Show2 LH_Show2 LN_Show2': 1.7346652554764097e-07,\n",
       " 'Professor_Show1 MV_Show1 CL_Show1 SP_Show1 GR_Show2 CS_Show2 LH_Show2 LN_Show3': 1.7346652554764097e-07,\n",
       " 'Professor_Show1 MV_Show1 CL_Show1 SP_Show1 GR_Show2 CS_Show2 LH_Show2 LN_Show4': 1.7346652554764097e-07,\n",
       " 'Professor_Show1 MV_Show1 CL_Show1 SP_Show1 GR_Show2 CS_Show2 LH_Show2 LN_Show5': 1.7346652554764097e-07,\n",
       " 'Professor_Show1 MV_Show1 CL_Show1 SP_Show1 GR_Show2 CS_Show2 LH_Show2 LN_Show6': 1.7346652554764097e-07,\n",
       " 'Professor_Show1 MV_Show1 CL_Show1 SP_Show1 GR_Show2 CS_Show2 LH_Show2 LN_Show7': 1.7346652554764097e-07,\n",
       " 'Professor_Show1 MV_Show1 CL_Show1 SP_Show1 GR_Show2 CS_Show2 LH_Show3 LN_Show1': 1.7346652554764097e-07,\n",
       " 'Professor_Show1 MV_Show1 CL_Show1 SP_Show1 GR_Show2 CS_Show2 LH_Show3 LN_Show2': 1.7346652554764097e-07,\n",
       " 'Professor_Show1 MV_Show1 CL_Show1 SP_Show1 GR_Show2 CS_Show2 LH_Show3 LN_Show3': 1.7346652554764097e-07,\n",
       " 'Professor_Show1 MV_Show1 CL_Show1 SP_Show1 GR_Show2 CS_Show2 LH_Show3 LN_Show4': 1.7346652554764097e-07,\n",
       " 'Professor_Show1 MV_Show1 CL_Show1 SP_Show1 GR_Show2 CS_Show2 LH_Show3 LN_Show5': 1.7346652554764097e-07,\n",
       " 'Professor_Show1 MV_Show1 CL_Show1 SP_Show1 GR_Show2 CS_Show2 LH_Show3 LN_Show6': 1.7346652554764097e-07,\n",
       " 'Professor_Show1 MV_Show1 CL_Show1 SP_Show1 GR_Show2 CS_Show2 LH_Show3 LN_Show7': 1.7346652554764097e-07,\n",
       " 'Professor_Show1 MV_Show1 CL_Show1 SP_Show1 GR_Show2 CS_Show2 LH_Show4 LN_Show1': 1.7346652554764097e-07,\n",
       " 'Professor_Show1 MV_Show1 CL_Show1 SP_Show1 GR_Show2 CS_Show2 LH_Show4 LN_Show2': 1.7346652554764097e-07,\n",
       " 'Professor_Show1 MV_Show1 CL_Show1 SP_Show1 GR_Show2 CS_Show2 LH_Show4 LN_Show3': 1.7346652554764097e-07,\n",
       " 'Professor_Show1 MV_Show1 CL_Show1 SP_Show1 GR_Show2 CS_Show2 LH_Show4 LN_Show4': 1.7346652554764097e-07,\n",
       " 'Professor_Show1 MV_Show1 CL_Show1 SP_Show1 GR_Show2 CS_Show2 LH_Show4 LN_Show5': 1.7346652554764097e-07,\n",
       " 'Professor_Show1 MV_Show1 CL_Show1 SP_Show1 GR_Show2 CS_Show2 LH_Show4 LN_Show6': 1.7346652554764097e-07,\n",
       " 'Professor_Show1 MV_Show1 CL_Show1 SP_Show1 GR_Show2 CS_Show2 LH_Show4 LN_Show7': 1.7346652554764097e-07,\n",
       " 'Professor_Show1 MV_Show1 CL_Show1 SP_Show1 GR_Show2 CS_Show2 LH_Show5 LN_Show1': 1.7346652554764097e-07,\n",
       " 'Professor_Show1 MV_Show1 CL_Show1 SP_Show1 GR_Show2 CS_Show2 LH_Show5 LN_Show2': 1.7346652554764097e-07,\n",
       " 'Professor_Show1 MV_Show1 CL_Show1 SP_Show1 GR_Show2 CS_Show2 LH_Show5 LN_Show3': 1.7346652554764097e-07,\n",
       " 'Professor_Show1 MV_Show1 CL_Show1 SP_Show1 GR_Show2 CS_Show2 LH_Show5 LN_Show4': 1.7346652554764097e-07,\n",
       " 'Professor_Show1 MV_Show1 CL_Show1 SP_Show1 GR_Show2 CS_Show2 LH_Show5 LN_Show5': 1.7346652554764097e-07,\n",
       " 'Professor_Show1 MV_Show1 CL_Show1 SP_Show1 GR_Show2 CS_Show2 LH_Show5 LN_Show6': 1.7346652554764097e-07,\n",
       " 'Professor_Show1 MV_Show1 CL_Show1 SP_Show1 GR_Show2 CS_Show2 LH_Show5 LN_Show7': 1.7346652554764097e-07,\n",
       " 'Professor_Show1 MV_Show1 CL_Show1 SP_Show1 GR_Show2 CS_Show2 LH_Show6 LN_Show1': 1.7346652554764097e-07,\n",
       " 'Professor_Show1 MV_Show1 CL_Show1 SP_Show1 GR_Show2 CS_Show2 LH_Show6 LN_Show2': 1.7346652554764097e-07,\n",
       " 'Professor_Show1 MV_Show1 CL_Show1 SP_Show1 GR_Show2 CS_Show2 LH_Show6 LN_Show3': 1.7346652554764097e-07,\n",
       " 'Professor_Show1 MV_Show1 CL_Show1 SP_Show1 GR_Show2 CS_Show2 LH_Show6 LN_Show4': 1.7346652554764097e-07,\n",
       " 'Professor_Show1 MV_Show1 CL_Show1 SP_Show1 GR_Show2 CS_Show2 LH_Show6 LN_Show5': 1.7346652554764097e-07,\n",
       " 'Professor_Show1 MV_Show1 CL_Show1 SP_Show1 GR_Show2 CS_Show2 LH_Show6 LN_Show6': 1.7346652554764097e-07,\n",
       " 'Professor_Show1 MV_Show1 CL_Show1 SP_Show1 GR_Show2 CS_Show2 LH_Show6 LN_Show7': 1.7346652554764097e-07,\n",
       " 'Professor_Show1 MV_Show1 CL_Show1 SP_Show1 GR_Show2 CS_Show2 LH_Show7 LN_Show1': 1.7346652554764097e-07,\n",
       " 'Professor_Show1 MV_Show1 CL_Show1 SP_Show1 GR_Show2 CS_Show2 LH_Show7 LN_Show2': 1.7346652554764097e-07,\n",
       " 'Professor_Show1 MV_Show1 CL_Show1 SP_Show1 GR_Show2 CS_Show2 LH_Show7 LN_Show3': 1.7346652554764097e-07,\n",
       " 'Professor_Show1 MV_Show1 CL_Show1 SP_Show1 GR_Show2 CS_Show2 LH_Show7 LN_Show4': 1.7346652554764097e-07,\n",
       " 'Professor_Show1 MV_Show1 CL_Show1 SP_Show1 GR_Show2 CS_Show2 LH_Show7 LN_Show5': 1.7346652554764097e-07,\n",
       " 'Professor_Show1 MV_Show1 CL_Show1 SP_Show1 GR_Show2 CS_Show2 LH_Show7 LN_Show6': 1.7346652554764097e-07,\n",
       " 'Professor_Show1 MV_Show1 CL_Show1 SP_Show1 GR_Show2 CS_Show2 LH_Show7 LN_Show7': 1.7346652554764097e-07,\n",
       " 'Professor_Show1 MV_Show1 CL_Show1 SP_Show1 GR_Show2 CS_Show3 LH_Show1 LN_Show1': 1.7346652554764097e-07,\n",
       " 'Professor_Show1 MV_Show1 CL_Show1 SP_Show1 GR_Show2 CS_Show3 LH_Show1 LN_Show2': 1.7346652554764097e-07,\n",
       " 'Professor_Show1 MV_Show1 CL_Show1 SP_Show1 GR_Show2 CS_Show3 LH_Show1 LN_Show3': 1.7346652554764097e-07,\n",
       " 'Professor_Show1 MV_Show1 CL_Show1 SP_Show1 GR_Show2 CS_Show3 LH_Show1 LN_Show4': 1.7346652554764097e-07,\n",
       " 'Professor_Show1 MV_Show1 CL_Show1 SP_Show1 GR_Show2 CS_Show3 LH_Show1 LN_Show5': 1.7346652554764097e-07,\n",
       " 'Professor_Show1 MV_Show1 CL_Show1 SP_Show1 GR_Show2 CS_Show3 LH_Show1 LN_Show6': 1.7346652554764097e-07,\n",
       " 'Professor_Show1 MV_Show1 CL_Show1 SP_Show1 GR_Show2 CS_Show3 LH_Show1 LN_Show7': 1.7346652554764097e-07,\n",
       " 'Professor_Show1 MV_Show1 CL_Show1 SP_Show1 GR_Show2 CS_Show3 LH_Show2 LN_Show1': 1.7346652554764097e-07,\n",
       " 'Professor_Show1 MV_Show1 CL_Show1 SP_Show1 GR_Show2 CS_Show3 LH_Show2 LN_Show2': 1.7346652554764097e-07,\n",
       " 'Professor_Show1 MV_Show1 CL_Show1 SP_Show1 GR_Show2 CS_Show3 LH_Show2 LN_Show3': 1.7346652554764097e-07,\n",
       " 'Professor_Show1 MV_Show1 CL_Show1 SP_Show1 GR_Show2 CS_Show3 LH_Show2 LN_Show4': 1.7346652554764097e-07,\n",
       " 'Professor_Show1 MV_Show1 CL_Show1 SP_Show1 GR_Show2 CS_Show3 LH_Show2 LN_Show5': 1.7346652554764097e-07,\n",
       " 'Professor_Show1 MV_Show1 CL_Show1 SP_Show1 GR_Show2 CS_Show3 LH_Show2 LN_Show6': 1.7346652554764097e-07,\n",
       " 'Professor_Show1 MV_Show1 CL_Show1 SP_Show1 GR_Show2 CS_Show3 LH_Show2 LN_Show7': 1.7346652554764097e-07,\n",
       " 'Professor_Show1 MV_Show1 CL_Show1 SP_Show1 GR_Show2 CS_Show3 LH_Show3 LN_Show1': 1.7346652554764097e-07,\n",
       " 'Professor_Show1 MV_Show1 CL_Show1 SP_Show1 GR_Show2 CS_Show3 LH_Show3 LN_Show2': 1.7346652554764097e-07,\n",
       " 'Professor_Show1 MV_Show1 CL_Show1 SP_Show1 GR_Show2 CS_Show3 LH_Show3 LN_Show3': 1.7346652554764097e-07,\n",
       " 'Professor_Show1 MV_Show1 CL_Show1 SP_Show1 GR_Show2 CS_Show3 LH_Show3 LN_Show4': 1.7346652554764097e-07,\n",
       " 'Professor_Show1 MV_Show1 CL_Show1 SP_Show1 GR_Show2 CS_Show3 LH_Show3 LN_Show5': 1.7346652554764097e-07,\n",
       " 'Professor_Show1 MV_Show1 CL_Show1 SP_Show1 GR_Show2 CS_Show3 LH_Show3 LN_Show6': 1.7346652554764097e-07,\n",
       " 'Professor_Show1 MV_Show1 CL_Show1 SP_Show1 GR_Show2 CS_Show3 LH_Show3 LN_Show7': 1.7346652554764097e-07,\n",
       " 'Professor_Show1 MV_Show1 CL_Show1 SP_Show1 GR_Show2 CS_Show3 LH_Show4 LN_Show1': 1.7346652554764097e-07,\n",
       " 'Professor_Show1 MV_Show1 CL_Show1 SP_Show1 GR_Show2 CS_Show3 LH_Show4 LN_Show2': 1.7346652554764097e-07,\n",
       " 'Professor_Show1 MV_Show1 CL_Show1 SP_Show1 GR_Show2 CS_Show3 LH_Show4 LN_Show3': 1.7346652554764097e-07,\n",
       " 'Professor_Show1 MV_Show1 CL_Show1 SP_Show1 GR_Show2 CS_Show3 LH_Show4 LN_Show4': 1.7346652554764097e-07,\n",
       " 'Professor_Show1 MV_Show1 CL_Show1 SP_Show1 GR_Show2 CS_Show3 LH_Show4 LN_Show5': 1.7346652554764097e-07,\n",
       " 'Professor_Show1 MV_Show1 CL_Show1 SP_Show1 GR_Show2 CS_Show3 LH_Show4 LN_Show6': 1.7346652554764097e-07,\n",
       " 'Professor_Show1 MV_Show1 CL_Show1 SP_Show1 GR_Show2 CS_Show3 LH_Show4 LN_Show7': 1.7346652554764097e-07,\n",
       " 'Professor_Show1 MV_Show1 CL_Show1 SP_Show1 GR_Show2 CS_Show3 LH_Show5 LN_Show1': 1.7346652554764097e-07,\n",
       " 'Professor_Show1 MV_Show1 CL_Show1 SP_Show1 GR_Show2 CS_Show3 LH_Show5 LN_Show2': 1.7346652554764097e-07,\n",
       " 'Professor_Show1 MV_Show1 CL_Show1 SP_Show1 GR_Show2 CS_Show3 LH_Show5 LN_Show3': 1.7346652554764097e-07,\n",
       " 'Professor_Show1 MV_Show1 CL_Show1 SP_Show1 GR_Show2 CS_Show3 LH_Show5 LN_Show4': 1.7346652554764097e-07,\n",
       " 'Professor_Show1 MV_Show1 CL_Show1 SP_Show1 GR_Show2 CS_Show3 LH_Show5 LN_Show5': 1.7346652554764097e-07,\n",
       " 'Professor_Show1 MV_Show1 CL_Show1 SP_Show1 GR_Show2 CS_Show3 LH_Show5 LN_Show6': 1.7346652554764097e-07,\n",
       " 'Professor_Show1 MV_Show1 CL_Show1 SP_Show1 GR_Show2 CS_Show3 LH_Show5 LN_Show7': 1.7346652554764097e-07,\n",
       " 'Professor_Show1 MV_Show1 CL_Show1 SP_Show1 GR_Show2 CS_Show3 LH_Show6 LN_Show1': 1.7346652554764097e-07,\n",
       " 'Professor_Show1 MV_Show1 CL_Show1 SP_Show1 GR_Show2 CS_Show3 LH_Show6 LN_Show2': 1.7346652554764097e-07,\n",
       " 'Professor_Show1 MV_Show1 CL_Show1 SP_Show1 GR_Show2 CS_Show3 LH_Show6 LN_Show3': 1.7346652554764097e-07,\n",
       " 'Professor_Show1 MV_Show1 CL_Show1 SP_Show1 GR_Show2 CS_Show3 LH_Show6 LN_Show4': 1.7346652554764097e-07,\n",
       " 'Professor_Show1 MV_Show1 CL_Show1 SP_Show1 GR_Show2 CS_Show3 LH_Show6 LN_Show5': 1.7346652554764097e-07,\n",
       " 'Professor_Show1 MV_Show1 CL_Show1 SP_Show1 GR_Show2 CS_Show3 LH_Show6 LN_Show6': 1.7346652554764097e-07,\n",
       " 'Professor_Show1 MV_Show1 CL_Show1 SP_Show1 GR_Show2 CS_Show3 LH_Show6 LN_Show7': 1.7346652554764097e-07,\n",
       " 'Professor_Show1 MV_Show1 CL_Show1 SP_Show1 GR_Show2 CS_Show3 LH_Show7 LN_Show1': 1.7346652554764097e-07,\n",
       " 'Professor_Show1 MV_Show1 CL_Show1 SP_Show1 GR_Show2 CS_Show3 LH_Show7 LN_Show2': 1.7346652554764097e-07,\n",
       " 'Professor_Show1 MV_Show1 CL_Show1 SP_Show1 GR_Show2 CS_Show3 LH_Show7 LN_Show3': 1.7346652554764097e-07,\n",
       " 'Professor_Show1 MV_Show1 CL_Show1 SP_Show1 GR_Show2 CS_Show3 LH_Show7 LN_Show4': 1.7346652554764097e-07,\n",
       " 'Professor_Show1 MV_Show1 CL_Show1 SP_Show1 GR_Show2 CS_Show3 LH_Show7 LN_Show5': 1.7346652554764097e-07,\n",
       " 'Professor_Show1 MV_Show1 CL_Show1 SP_Show1 GR_Show2 CS_Show3 LH_Show7 LN_Show6': 1.7346652554764097e-07,\n",
       " 'Professor_Show1 MV_Show1 CL_Show1 SP_Show1 GR_Show2 CS_Show3 LH_Show7 LN_Show7': 1.7346652554764097e-07,\n",
       " 'Professor_Show1 MV_Show1 CL_Show1 SP_Show1 GR_Show2 CS_Show4 LH_Show1 LN_Show1': 1.7346652554764097e-07,\n",
       " 'Professor_Show1 MV_Show1 CL_Show1 SP_Show1 GR_Show2 CS_Show4 LH_Show1 LN_Show2': 1.7346652554764097e-07,\n",
       " 'Professor_Show1 MV_Show1 CL_Show1 SP_Show1 GR_Show2 CS_Show4 LH_Show1 LN_Show3': 1.7346652554764097e-07,\n",
       " 'Professor_Show1 MV_Show1 CL_Show1 SP_Show1 GR_Show2 CS_Show4 LH_Show1 LN_Show4': 1.7346652554764097e-07,\n",
       " 'Professor_Show1 MV_Show1 CL_Show1 SP_Show1 GR_Show2 CS_Show4 LH_Show1 LN_Show5': 1.7346652554764097e-07,\n",
       " 'Professor_Show1 MV_Show1 CL_Show1 SP_Show1 GR_Show2 CS_Show4 LH_Show1 LN_Show6': 1.7346652554764097e-07,\n",
       " 'Professor_Show1 MV_Show1 CL_Show1 SP_Show1 GR_Show2 CS_Show4 LH_Show1 LN_Show7': 1.7346652554764097e-07,\n",
       " 'Professor_Show1 MV_Show1 CL_Show1 SP_Show1 GR_Show2 CS_Show4 LH_Show2 LN_Show1': 1.7346652554764097e-07,\n",
       " 'Professor_Show1 MV_Show1 CL_Show1 SP_Show1 GR_Show2 CS_Show4 LH_Show2 LN_Show2': 1.7346652554764097e-07,\n",
       " 'Professor_Show1 MV_Show1 CL_Show1 SP_Show1 GR_Show2 CS_Show4 LH_Show2 LN_Show3': 1.7346652554764097e-07,\n",
       " 'Professor_Show1 MV_Show1 CL_Show1 SP_Show1 GR_Show2 CS_Show4 LH_Show2 LN_Show4': 1.7346652554764097e-07,\n",
       " 'Professor_Show1 MV_Show1 CL_Show1 SP_Show1 GR_Show2 CS_Show4 LH_Show2 LN_Show5': 1.7346652554764097e-07,\n",
       " 'Professor_Show1 MV_Show1 CL_Show1 SP_Show1 GR_Show2 CS_Show4 LH_Show2 LN_Show6': 1.7346652554764097e-07,\n",
       " 'Professor_Show1 MV_Show1 CL_Show1 SP_Show1 GR_Show2 CS_Show4 LH_Show2 LN_Show7': 1.7346652554764097e-07,\n",
       " 'Professor_Show1 MV_Show1 CL_Show1 SP_Show1 GR_Show2 CS_Show4 LH_Show3 LN_Show1': 1.7346652554764097e-07,\n",
       " 'Professor_Show1 MV_Show1 CL_Show1 SP_Show1 GR_Show2 CS_Show4 LH_Show3 LN_Show2': 1.7346652554764097e-07,\n",
       " 'Professor_Show1 MV_Show1 CL_Show1 SP_Show1 GR_Show2 CS_Show4 LH_Show3 LN_Show3': 1.7346652554764097e-07,\n",
       " 'Professor_Show1 MV_Show1 CL_Show1 SP_Show1 GR_Show2 CS_Show4 LH_Show3 LN_Show4': 1.7346652554764097e-07,\n",
       " 'Professor_Show1 MV_Show1 CL_Show1 SP_Show1 GR_Show2 CS_Show4 LH_Show3 LN_Show5': 1.7346652554764097e-07,\n",
       " 'Professor_Show1 MV_Show1 CL_Show1 SP_Show1 GR_Show2 CS_Show4 LH_Show3 LN_Show6': 1.7346652554764097e-07,\n",
       " 'Professor_Show1 MV_Show1 CL_Show1 SP_Show1 GR_Show2 CS_Show4 LH_Show3 LN_Show7': 1.7346652554764097e-07,\n",
       " 'Professor_Show1 MV_Show1 CL_Show1 SP_Show1 GR_Show2 CS_Show4 LH_Show4 LN_Show1': 1.7346652554764097e-07,\n",
       " 'Professor_Show1 MV_Show1 CL_Show1 SP_Show1 GR_Show2 CS_Show4 LH_Show4 LN_Show2': 1.7346652554764097e-07,\n",
       " 'Professor_Show1 MV_Show1 CL_Show1 SP_Show1 GR_Show2 CS_Show4 LH_Show4 LN_Show3': 1.7346652554764097e-07,\n",
       " 'Professor_Show1 MV_Show1 CL_Show1 SP_Show1 GR_Show2 CS_Show4 LH_Show4 LN_Show4': 1.7346652554764097e-07,\n",
       " 'Professor_Show1 MV_Show1 CL_Show1 SP_Show1 GR_Show2 CS_Show4 LH_Show4 LN_Show5': 1.7346652554764097e-07,\n",
       " 'Professor_Show1 MV_Show1 CL_Show1 SP_Show1 GR_Show2 CS_Show4 LH_Show4 LN_Show6': 1.7346652554764097e-07,\n",
       " 'Professor_Show1 MV_Show1 CL_Show1 SP_Show1 GR_Show2 CS_Show4 LH_Show4 LN_Show7': 1.7346652554764097e-07,\n",
       " 'Professor_Show1 MV_Show1 CL_Show1 SP_Show1 GR_Show2 CS_Show4 LH_Show5 LN_Show1': 1.7346652554764097e-07,\n",
       " 'Professor_Show1 MV_Show1 CL_Show1 SP_Show1 GR_Show2 CS_Show4 LH_Show5 LN_Show2': 1.7346652554764097e-07,\n",
       " 'Professor_Show1 MV_Show1 CL_Show1 SP_Show1 GR_Show2 CS_Show4 LH_Show5 LN_Show3': 1.7346652554764097e-07,\n",
       " 'Professor_Show1 MV_Show1 CL_Show1 SP_Show1 GR_Show2 CS_Show4 LH_Show5 LN_Show4': 1.7346652554764097e-07,\n",
       " 'Professor_Show1 MV_Show1 CL_Show1 SP_Show1 GR_Show2 CS_Show4 LH_Show5 LN_Show5': 1.7346652554764097e-07,\n",
       " 'Professor_Show1 MV_Show1 CL_Show1 SP_Show1 GR_Show2 CS_Show4 LH_Show5 LN_Show6': 1.7346652554764097e-07,\n",
       " 'Professor_Show1 MV_Show1 CL_Show1 SP_Show1 GR_Show2 CS_Show4 LH_Show5 LN_Show7': 1.7346652554764097e-07,\n",
       " 'Professor_Show1 MV_Show1 CL_Show1 SP_Show1 GR_Show2 CS_Show4 LH_Show6 LN_Show1': 1.7346652554764097e-07,\n",
       " 'Professor_Show1 MV_Show1 CL_Show1 SP_Show1 GR_Show2 CS_Show4 LH_Show6 LN_Show2': 1.7346652554764097e-07,\n",
       " 'Professor_Show1 MV_Show1 CL_Show1 SP_Show1 GR_Show2 CS_Show4 LH_Show6 LN_Show3': 1.7346652554764097e-07,\n",
       " 'Professor_Show1 MV_Show1 CL_Show1 SP_Show1 GR_Show2 CS_Show4 LH_Show6 LN_Show4': 1.7346652554764097e-07,\n",
       " 'Professor_Show1 MV_Show1 CL_Show1 SP_Show1 GR_Show2 CS_Show4 LH_Show6 LN_Show5': 1.7346652554764097e-07,\n",
       " 'Professor_Show1 MV_Show1 CL_Show1 SP_Show1 GR_Show2 CS_Show4 LH_Show6 LN_Show6': 1.7346652554764097e-07,\n",
       " 'Professor_Show1 MV_Show1 CL_Show1 SP_Show1 GR_Show2 CS_Show4 LH_Show6 LN_Show7': 1.7346652554764097e-07,\n",
       " 'Professor_Show1 MV_Show1 CL_Show1 SP_Show1 GR_Show2 CS_Show4 LH_Show7 LN_Show1': 1.7346652554764097e-07,\n",
       " 'Professor_Show1 MV_Show1 CL_Show1 SP_Show1 GR_Show2 CS_Show4 LH_Show7 LN_Show2': 1.7346652554764097e-07,\n",
       " 'Professor_Show1 MV_Show1 CL_Show1 SP_Show1 GR_Show2 CS_Show4 LH_Show7 LN_Show3': 1.7346652554764097e-07,\n",
       " 'Professor_Show1 MV_Show1 CL_Show1 SP_Show1 GR_Show2 CS_Show4 LH_Show7 LN_Show4': 1.7346652554764097e-07,\n",
       " 'Professor_Show1 MV_Show1 CL_Show1 SP_Show1 GR_Show2 CS_Show4 LH_Show7 LN_Show5': 1.7346652554764097e-07,\n",
       " 'Professor_Show1 MV_Show1 CL_Show1 SP_Show1 GR_Show2 CS_Show4 LH_Show7 LN_Show6': 1.7346652554764097e-07,\n",
       " 'Professor_Show1 MV_Show1 CL_Show1 SP_Show1 GR_Show2 CS_Show4 LH_Show7 LN_Show7': 1.7346652554764097e-07,\n",
       " 'Professor_Show1 MV_Show1 CL_Show1 SP_Show1 GR_Show2 CS_Show5 LH_Show1 LN_Show1': 1.7346652554764097e-07,\n",
       " 'Professor_Show1 MV_Show1 CL_Show1 SP_Show1 GR_Show2 CS_Show5 LH_Show1 LN_Show2': 1.7346652554764097e-07,\n",
       " 'Professor_Show1 MV_Show1 CL_Show1 SP_Show1 GR_Show2 CS_Show5 LH_Show1 LN_Show3': 1.7346652554764097e-07,\n",
       " 'Professor_Show1 MV_Show1 CL_Show1 SP_Show1 GR_Show2 CS_Show5 LH_Show1 LN_Show4': 1.7346652554764097e-07,\n",
       " 'Professor_Show1 MV_Show1 CL_Show1 SP_Show1 GR_Show2 CS_Show5 LH_Show1 LN_Show5': 1.7346652554764097e-07,\n",
       " 'Professor_Show1 MV_Show1 CL_Show1 SP_Show1 GR_Show2 CS_Show5 LH_Show1 LN_Show6': 1.7346652554764097e-07,\n",
       " 'Professor_Show1 MV_Show1 CL_Show1 SP_Show1 GR_Show2 CS_Show5 LH_Show1 LN_Show7': 1.7346652554764097e-07,\n",
       " 'Professor_Show1 MV_Show1 CL_Show1 SP_Show1 GR_Show2 CS_Show5 LH_Show2 LN_Show1': 1.7346652554764097e-07,\n",
       " 'Professor_Show1 MV_Show1 CL_Show1 SP_Show1 GR_Show2 CS_Show5 LH_Show2 LN_Show2': 1.7346652554764097e-07,\n",
       " 'Professor_Show1 MV_Show1 CL_Show1 SP_Show1 GR_Show2 CS_Show5 LH_Show2 LN_Show3': 1.7346652554764097e-07,\n",
       " 'Professor_Show1 MV_Show1 CL_Show1 SP_Show1 GR_Show2 CS_Show5 LH_Show2 LN_Show4': 1.7346652554764097e-07,\n",
       " 'Professor_Show1 MV_Show1 CL_Show1 SP_Show1 GR_Show2 CS_Show5 LH_Show2 LN_Show5': 1.7346652554764097e-07,\n",
       " 'Professor_Show1 MV_Show1 CL_Show1 SP_Show1 GR_Show2 CS_Show5 LH_Show2 LN_Show6': 1.7346652554764097e-07,\n",
       " 'Professor_Show1 MV_Show1 CL_Show1 SP_Show1 GR_Show2 CS_Show5 LH_Show2 LN_Show7': 1.7346652554764097e-07,\n",
       " 'Professor_Show1 MV_Show1 CL_Show1 SP_Show1 GR_Show2 CS_Show5 LH_Show3 LN_Show1': 1.7346652554764097e-07,\n",
       " 'Professor_Show1 MV_Show1 CL_Show1 SP_Show1 GR_Show2 CS_Show5 LH_Show3 LN_Show2': 1.7346652554764097e-07,\n",
       " 'Professor_Show1 MV_Show1 CL_Show1 SP_Show1 GR_Show2 CS_Show5 LH_Show3 LN_Show3': 1.7346652554764097e-07,\n",
       " 'Professor_Show1 MV_Show1 CL_Show1 SP_Show1 GR_Show2 CS_Show5 LH_Show3 LN_Show4': 1.7346652554764097e-07,\n",
       " 'Professor_Show1 MV_Show1 CL_Show1 SP_Show1 GR_Show2 CS_Show5 LH_Show3 LN_Show5': 1.7346652554764097e-07,\n",
       " 'Professor_Show1 MV_Show1 CL_Show1 SP_Show1 GR_Show2 CS_Show5 LH_Show3 LN_Show6': 1.7346652554764097e-07,\n",
       " 'Professor_Show1 MV_Show1 CL_Show1 SP_Show1 GR_Show2 CS_Show5 LH_Show3 LN_Show7': 1.7346652554764097e-07,\n",
       " 'Professor_Show1 MV_Show1 CL_Show1 SP_Show1 GR_Show2 CS_Show5 LH_Show4 LN_Show1': 1.7346652554764097e-07,\n",
       " 'Professor_Show1 MV_Show1 CL_Show1 SP_Show1 GR_Show2 CS_Show5 LH_Show4 LN_Show2': 1.7346652554764097e-07,\n",
       " 'Professor_Show1 MV_Show1 CL_Show1 SP_Show1 GR_Show2 CS_Show5 LH_Show4 LN_Show3': 1.7346652554764097e-07,\n",
       " 'Professor_Show1 MV_Show1 CL_Show1 SP_Show1 GR_Show2 CS_Show5 LH_Show4 LN_Show4': 1.7346652554764097e-07,\n",
       " 'Professor_Show1 MV_Show1 CL_Show1 SP_Show1 GR_Show2 CS_Show5 LH_Show4 LN_Show5': 1.7346652554764097e-07,\n",
       " 'Professor_Show1 MV_Show1 CL_Show1 SP_Show1 GR_Show2 CS_Show5 LH_Show4 LN_Show6': 1.7346652554764097e-07,\n",
       " 'Professor_Show1 MV_Show1 CL_Show1 SP_Show1 GR_Show2 CS_Show5 LH_Show4 LN_Show7': 1.7346652554764097e-07,\n",
       " 'Professor_Show1 MV_Show1 CL_Show1 SP_Show1 GR_Show2 CS_Show5 LH_Show5 LN_Show1': 1.7346652554764097e-07,\n",
       " 'Professor_Show1 MV_Show1 CL_Show1 SP_Show1 GR_Show2 CS_Show5 LH_Show5 LN_Show2': 1.7346652554764097e-07,\n",
       " 'Professor_Show1 MV_Show1 CL_Show1 SP_Show1 GR_Show2 CS_Show5 LH_Show5 LN_Show3': 1.7346652554764097e-07,\n",
       " 'Professor_Show1 MV_Show1 CL_Show1 SP_Show1 GR_Show2 CS_Show5 LH_Show5 LN_Show4': 1.7346652554764097e-07,\n",
       " 'Professor_Show1 MV_Show1 CL_Show1 SP_Show1 GR_Show2 CS_Show5 LH_Show5 LN_Show5': 1.7346652554764097e-07,\n",
       " 'Professor_Show1 MV_Show1 CL_Show1 SP_Show1 GR_Show2 CS_Show5 LH_Show5 LN_Show6': 1.7346652554764097e-07,\n",
       " 'Professor_Show1 MV_Show1 CL_Show1 SP_Show1 GR_Show2 CS_Show5 LH_Show5 LN_Show7': 1.7346652554764097e-07,\n",
       " 'Professor_Show1 MV_Show1 CL_Show1 SP_Show1 GR_Show2 CS_Show5 LH_Show6 LN_Show1': 1.7346652554764097e-07,\n",
       " 'Professor_Show1 MV_Show1 CL_Show1 SP_Show1 GR_Show2 CS_Show5 LH_Show6 LN_Show2': 1.7346652554764097e-07,\n",
       " 'Professor_Show1 MV_Show1 CL_Show1 SP_Show1 GR_Show2 CS_Show5 LH_Show6 LN_Show3': 1.7346652554764097e-07,\n",
       " 'Professor_Show1 MV_Show1 CL_Show1 SP_Show1 GR_Show2 CS_Show5 LH_Show6 LN_Show4': 1.7346652554764097e-07,\n",
       " 'Professor_Show1 MV_Show1 CL_Show1 SP_Show1 GR_Show2 CS_Show5 LH_Show6 LN_Show5': 1.7346652554764097e-07,\n",
       " 'Professor_Show1 MV_Show1 CL_Show1 SP_Show1 GR_Show2 CS_Show5 LH_Show6 LN_Show6': 1.7346652554764097e-07,\n",
       " 'Professor_Show1 MV_Show1 CL_Show1 SP_Show1 GR_Show2 CS_Show5 LH_Show6 LN_Show7': 1.7346652554764097e-07,\n",
       " 'Professor_Show1 MV_Show1 CL_Show1 SP_Show1 GR_Show2 CS_Show5 LH_Show7 LN_Show1': 1.7346652554764097e-07,\n",
       " 'Professor_Show1 MV_Show1 CL_Show1 SP_Show1 GR_Show2 CS_Show5 LH_Show7 LN_Show2': 1.7346652554764097e-07,\n",
       " 'Professor_Show1 MV_Show1 CL_Show1 SP_Show1 GR_Show2 CS_Show5 LH_Show7 LN_Show3': 1.7346652554764097e-07,\n",
       " 'Professor_Show1 MV_Show1 CL_Show1 SP_Show1 GR_Show2 CS_Show5 LH_Show7 LN_Show4': 1.7346652554764097e-07,\n",
       " 'Professor_Show1 MV_Show1 CL_Show1 SP_Show1 GR_Show2 CS_Show5 LH_Show7 LN_Show5': 1.7346652554764097e-07,\n",
       " 'Professor_Show1 MV_Show1 CL_Show1 SP_Show1 GR_Show2 CS_Show5 LH_Show7 LN_Show6': 1.7346652554764097e-07,\n",
       " 'Professor_Show1 MV_Show1 CL_Show1 SP_Show1 GR_Show2 CS_Show5 LH_Show7 LN_Show7': 1.7346652554764097e-07,\n",
       " 'Professor_Show1 MV_Show1 CL_Show1 SP_Show1 GR_Show2 CS_Show6 LH_Show1 LN_Show1': 1.7346652554764097e-07,\n",
       " 'Professor_Show1 MV_Show1 CL_Show1 SP_Show1 GR_Show2 CS_Show6 LH_Show1 LN_Show2': 1.7346652554764097e-07,\n",
       " 'Professor_Show1 MV_Show1 CL_Show1 SP_Show1 GR_Show2 CS_Show6 LH_Show1 LN_Show3': 1.7346652554764097e-07,\n",
       " 'Professor_Show1 MV_Show1 CL_Show1 SP_Show1 GR_Show2 CS_Show6 LH_Show1 LN_Show4': 1.7346652554764097e-07,\n",
       " 'Professor_Show1 MV_Show1 CL_Show1 SP_Show1 GR_Show2 CS_Show6 LH_Show1 LN_Show5': 1.7346652554764097e-07,\n",
       " 'Professor_Show1 MV_Show1 CL_Show1 SP_Show1 GR_Show2 CS_Show6 LH_Show1 LN_Show6': 1.7346652554764097e-07,\n",
       " 'Professor_Show1 MV_Show1 CL_Show1 SP_Show1 GR_Show2 CS_Show6 LH_Show1 LN_Show7': 1.7346652554764097e-07,\n",
       " 'Professor_Show1 MV_Show1 CL_Show1 SP_Show1 GR_Show2 CS_Show6 LH_Show2 LN_Show1': 1.7346652554764097e-07,\n",
       " 'Professor_Show1 MV_Show1 CL_Show1 SP_Show1 GR_Show2 CS_Show6 LH_Show2 LN_Show2': 1.7346652554764097e-07,\n",
       " 'Professor_Show1 MV_Show1 CL_Show1 SP_Show1 GR_Show2 CS_Show6 LH_Show2 LN_Show3': 1.7346652554764097e-07,\n",
       " 'Professor_Show1 MV_Show1 CL_Show1 SP_Show1 GR_Show2 CS_Show6 LH_Show2 LN_Show4': 1.7346652554764097e-07,\n",
       " 'Professor_Show1 MV_Show1 CL_Show1 SP_Show1 GR_Show2 CS_Show6 LH_Show2 LN_Show5': 1.7346652554764097e-07,\n",
       " 'Professor_Show1 MV_Show1 CL_Show1 SP_Show1 GR_Show2 CS_Show6 LH_Show2 LN_Show6': 1.7346652554764097e-07,\n",
       " 'Professor_Show1 MV_Show1 CL_Show1 SP_Show1 GR_Show2 CS_Show6 LH_Show2 LN_Show7': 1.7346652554764097e-07,\n",
       " 'Professor_Show1 MV_Show1 CL_Show1 SP_Show1 GR_Show2 CS_Show6 LH_Show3 LN_Show1': 1.7346652554764097e-07,\n",
       " 'Professor_Show1 MV_Show1 CL_Show1 SP_Show1 GR_Show2 CS_Show6 LH_Show3 LN_Show2': 1.7346652554764097e-07,\n",
       " 'Professor_Show1 MV_Show1 CL_Show1 SP_Show1 GR_Show2 CS_Show6 LH_Show3 LN_Show3': 1.7346652554764097e-07,\n",
       " 'Professor_Show1 MV_Show1 CL_Show1 SP_Show1 GR_Show2 CS_Show6 LH_Show3 LN_Show4': 1.7346652554764097e-07,\n",
       " 'Professor_Show1 MV_Show1 CL_Show1 SP_Show1 GR_Show2 CS_Show6 LH_Show3 LN_Show5': 1.7346652554764097e-07,\n",
       " 'Professor_Show1 MV_Show1 CL_Show1 SP_Show1 GR_Show2 CS_Show6 LH_Show3 LN_Show6': 1.7346652554764097e-07,\n",
       " 'Professor_Show1 MV_Show1 CL_Show1 SP_Show1 GR_Show2 CS_Show6 LH_Show3 LN_Show7': 1.7346652554764097e-07,\n",
       " 'Professor_Show1 MV_Show1 CL_Show1 SP_Show1 GR_Show2 CS_Show6 LH_Show4 LN_Show1': 1.7346652554764097e-07,\n",
       " 'Professor_Show1 MV_Show1 CL_Show1 SP_Show1 GR_Show2 CS_Show6 LH_Show4 LN_Show2': 1.7346652554764097e-07,\n",
       " 'Professor_Show1 MV_Show1 CL_Show1 SP_Show1 GR_Show2 CS_Show6 LH_Show4 LN_Show3': 1.7346652554764097e-07,\n",
       " 'Professor_Show1 MV_Show1 CL_Show1 SP_Show1 GR_Show2 CS_Show6 LH_Show4 LN_Show4': 1.7346652554764097e-07,\n",
       " 'Professor_Show1 MV_Show1 CL_Show1 SP_Show1 GR_Show2 CS_Show6 LH_Show4 LN_Show5': 1.7346652554764097e-07,\n",
       " 'Professor_Show1 MV_Show1 CL_Show1 SP_Show1 GR_Show2 CS_Show6 LH_Show4 LN_Show6': 1.7346652554764097e-07,\n",
       " 'Professor_Show1 MV_Show1 CL_Show1 SP_Show1 GR_Show2 CS_Show6 LH_Show4 LN_Show7': 1.7346652554764097e-07,\n",
       " 'Professor_Show1 MV_Show1 CL_Show1 SP_Show1 GR_Show2 CS_Show6 LH_Show5 LN_Show1': 1.7346652554764097e-07,\n",
       " 'Professor_Show1 MV_Show1 CL_Show1 SP_Show1 GR_Show2 CS_Show6 LH_Show5 LN_Show2': 1.7346652554764097e-07,\n",
       " 'Professor_Show1 MV_Show1 CL_Show1 SP_Show1 GR_Show2 CS_Show6 LH_Show5 LN_Show3': 1.7346652554764097e-07,\n",
       " 'Professor_Show1 MV_Show1 CL_Show1 SP_Show1 GR_Show2 CS_Show6 LH_Show5 LN_Show4': 1.7346652554764097e-07,\n",
       " 'Professor_Show1 MV_Show1 CL_Show1 SP_Show1 GR_Show2 CS_Show6 LH_Show5 LN_Show5': 1.7346652554764097e-07,\n",
       " 'Professor_Show1 MV_Show1 CL_Show1 SP_Show1 GR_Show2 CS_Show6 LH_Show5 LN_Show6': 1.7346652554764097e-07,\n",
       " 'Professor_Show1 MV_Show1 CL_Show1 SP_Show1 GR_Show2 CS_Show6 LH_Show5 LN_Show7': 1.7346652554764097e-07,\n",
       " 'Professor_Show1 MV_Show1 CL_Show1 SP_Show1 GR_Show2 CS_Show6 LH_Show6 LN_Show1': 1.7346652554764097e-07,\n",
       " 'Professor_Show1 MV_Show1 CL_Show1 SP_Show1 GR_Show2 CS_Show6 LH_Show6 LN_Show2': 1.7346652554764097e-07,\n",
       " 'Professor_Show1 MV_Show1 CL_Show1 SP_Show1 GR_Show2 CS_Show6 LH_Show6 LN_Show3': 1.7346652554764097e-07,\n",
       " 'Professor_Show1 MV_Show1 CL_Show1 SP_Show1 GR_Show2 CS_Show6 LH_Show6 LN_Show4': 1.7346652554764097e-07,\n",
       " 'Professor_Show1 MV_Show1 CL_Show1 SP_Show1 GR_Show2 CS_Show6 LH_Show6 LN_Show5': 1.7346652554764097e-07,\n",
       " 'Professor_Show1 MV_Show1 CL_Show1 SP_Show1 GR_Show2 CS_Show6 LH_Show6 LN_Show6': 1.7346652554764097e-07,\n",
       " 'Professor_Show1 MV_Show1 CL_Show1 SP_Show1 GR_Show2 CS_Show6 LH_Show6 LN_Show7': 1.7346652554764097e-07,\n",
       " 'Professor_Show1 MV_Show1 CL_Show1 SP_Show1 GR_Show2 CS_Show6 LH_Show7 LN_Show1': 1.7346652554764097e-07,\n",
       " 'Professor_Show1 MV_Show1 CL_Show1 SP_Show1 GR_Show2 CS_Show6 LH_Show7 LN_Show2': 1.7346652554764097e-07,\n",
       " 'Professor_Show1 MV_Show1 CL_Show1 SP_Show1 GR_Show2 CS_Show6 LH_Show7 LN_Show3': 1.7346652554764097e-07,\n",
       " 'Professor_Show1 MV_Show1 CL_Show1 SP_Show1 GR_Show2 CS_Show6 LH_Show7 LN_Show4': 1.7346652554764097e-07,\n",
       " 'Professor_Show1 MV_Show1 CL_Show1 SP_Show1 GR_Show2 CS_Show6 LH_Show7 LN_Show5': 1.7346652554764097e-07,\n",
       " 'Professor_Show1 MV_Show1 CL_Show1 SP_Show1 GR_Show2 CS_Show6 LH_Show7 LN_Show6': 1.7346652554764097e-07,\n",
       " 'Professor_Show1 MV_Show1 CL_Show1 SP_Show1 GR_Show2 CS_Show6 LH_Show7 LN_Show7': 1.7346652554764097e-07,\n",
       " 'Professor_Show1 MV_Show1 CL_Show1 SP_Show1 GR_Show2 CS_Show7 LH_Show1 LN_Show1': 1.7346652554764097e-07,\n",
       " 'Professor_Show1 MV_Show1 CL_Show1 SP_Show1 GR_Show2 CS_Show7 LH_Show1 LN_Show2': 1.7346652554764097e-07,\n",
       " 'Professor_Show1 MV_Show1 CL_Show1 SP_Show1 GR_Show2 CS_Show7 LH_Show1 LN_Show3': 1.7346652554764097e-07,\n",
       " 'Professor_Show1 MV_Show1 CL_Show1 SP_Show1 GR_Show2 CS_Show7 LH_Show1 LN_Show4': 1.7346652554764097e-07,\n",
       " 'Professor_Show1 MV_Show1 CL_Show1 SP_Show1 GR_Show2 CS_Show7 LH_Show1 LN_Show5': 1.7346652554764097e-07,\n",
       " 'Professor_Show1 MV_Show1 CL_Show1 SP_Show1 GR_Show2 CS_Show7 LH_Show1 LN_Show6': 1.7346652554764097e-07,\n",
       " 'Professor_Show1 MV_Show1 CL_Show1 SP_Show1 GR_Show2 CS_Show7 LH_Show1 LN_Show7': 1.7346652554764097e-07,\n",
       " 'Professor_Show1 MV_Show1 CL_Show1 SP_Show1 GR_Show2 CS_Show7 LH_Show2 LN_Show1': 1.7346652554764097e-07,\n",
       " 'Professor_Show1 MV_Show1 CL_Show1 SP_Show1 GR_Show2 CS_Show7 LH_Show2 LN_Show2': 1.7346652554764097e-07,\n",
       " 'Professor_Show1 MV_Show1 CL_Show1 SP_Show1 GR_Show2 CS_Show7 LH_Show2 LN_Show3': 1.7346652554764097e-07,\n",
       " 'Professor_Show1 MV_Show1 CL_Show1 SP_Show1 GR_Show2 CS_Show7 LH_Show2 LN_Show4': 1.7346652554764097e-07,\n",
       " 'Professor_Show1 MV_Show1 CL_Show1 SP_Show1 GR_Show2 CS_Show7 LH_Show2 LN_Show5': 1.7346652554764097e-07,\n",
       " 'Professor_Show1 MV_Show1 CL_Show1 SP_Show1 GR_Show2 CS_Show7 LH_Show2 LN_Show6': 1.7346652554764097e-07,\n",
       " 'Professor_Show1 MV_Show1 CL_Show1 SP_Show1 GR_Show2 CS_Show7 LH_Show2 LN_Show7': 1.7346652554764097e-07,\n",
       " 'Professor_Show1 MV_Show1 CL_Show1 SP_Show1 GR_Show2 CS_Show7 LH_Show3 LN_Show1': 1.7346652554764097e-07,\n",
       " 'Professor_Show1 MV_Show1 CL_Show1 SP_Show1 GR_Show2 CS_Show7 LH_Show3 LN_Show2': 1.7346652554764097e-07,\n",
       " 'Professor_Show1 MV_Show1 CL_Show1 SP_Show1 GR_Show2 CS_Show7 LH_Show3 LN_Show3': 1.7346652554764097e-07,\n",
       " 'Professor_Show1 MV_Show1 CL_Show1 SP_Show1 GR_Show2 CS_Show7 LH_Show3 LN_Show4': 1.7346652554764097e-07,\n",
       " 'Professor_Show1 MV_Show1 CL_Show1 SP_Show1 GR_Show2 CS_Show7 LH_Show3 LN_Show5': 1.7346652554764097e-07,\n",
       " 'Professor_Show1 MV_Show1 CL_Show1 SP_Show1 GR_Show2 CS_Show7 LH_Show3 LN_Show6': 1.7346652554764097e-07,\n",
       " 'Professor_Show1 MV_Show1 CL_Show1 SP_Show1 GR_Show2 CS_Show7 LH_Show3 LN_Show7': 1.7346652554764097e-07,\n",
       " 'Professor_Show1 MV_Show1 CL_Show1 SP_Show1 GR_Show2 CS_Show7 LH_Show4 LN_Show1': 1.7346652554764097e-07,\n",
       " 'Professor_Show1 MV_Show1 CL_Show1 SP_Show1 GR_Show2 CS_Show7 LH_Show4 LN_Show2': 1.7346652554764097e-07,\n",
       " 'Professor_Show1 MV_Show1 CL_Show1 SP_Show1 GR_Show2 CS_Show7 LH_Show4 LN_Show3': 1.7346652554764097e-07,\n",
       " 'Professor_Show1 MV_Show1 CL_Show1 SP_Show1 GR_Show2 CS_Show7 LH_Show4 LN_Show4': 1.7346652554764097e-07,\n",
       " 'Professor_Show1 MV_Show1 CL_Show1 SP_Show1 GR_Show2 CS_Show7 LH_Show4 LN_Show5': 1.7346652554764097e-07,\n",
       " 'Professor_Show1 MV_Show1 CL_Show1 SP_Show1 GR_Show2 CS_Show7 LH_Show4 LN_Show6': 1.7346652554764097e-07,\n",
       " 'Professor_Show1 MV_Show1 CL_Show1 SP_Show1 GR_Show2 CS_Show7 LH_Show4 LN_Show7': 1.7346652554764097e-07,\n",
       " 'Professor_Show1 MV_Show1 CL_Show1 SP_Show1 GR_Show2 CS_Show7 LH_Show5 LN_Show1': 1.7346652554764097e-07,\n",
       " 'Professor_Show1 MV_Show1 CL_Show1 SP_Show1 GR_Show2 CS_Show7 LH_Show5 LN_Show2': 1.7346652554764097e-07,\n",
       " 'Professor_Show1 MV_Show1 CL_Show1 SP_Show1 GR_Show2 CS_Show7 LH_Show5 LN_Show3': 1.7346652554764097e-07,\n",
       " 'Professor_Show1 MV_Show1 CL_Show1 SP_Show1 GR_Show2 CS_Show7 LH_Show5 LN_Show4': 1.7346652554764097e-07,\n",
       " 'Professor_Show1 MV_Show1 CL_Show1 SP_Show1 GR_Show2 CS_Show7 LH_Show5 LN_Show5': 1.7346652554764097e-07,\n",
       " 'Professor_Show1 MV_Show1 CL_Show1 SP_Show1 GR_Show2 CS_Show7 LH_Show5 LN_Show6': 1.7346652554764097e-07,\n",
       " 'Professor_Show1 MV_Show1 CL_Show1 SP_Show1 GR_Show2 CS_Show7 LH_Show5 LN_Show7': 1.7346652554764097e-07,\n",
       " 'Professor_Show1 MV_Show1 CL_Show1 SP_Show1 GR_Show2 CS_Show7 LH_Show6 LN_Show1': 1.7346652554764097e-07,\n",
       " 'Professor_Show1 MV_Show1 CL_Show1 SP_Show1 GR_Show2 CS_Show7 LH_Show6 LN_Show2': 1.7346652554764097e-07,\n",
       " 'Professor_Show1 MV_Show1 CL_Show1 SP_Show1 GR_Show2 CS_Show7 LH_Show6 LN_Show3': 1.7346652554764097e-07,\n",
       " 'Professor_Show1 MV_Show1 CL_Show1 SP_Show1 GR_Show2 CS_Show7 LH_Show6 LN_Show4': 1.7346652554764097e-07,\n",
       " 'Professor_Show1 MV_Show1 CL_Show1 SP_Show1 GR_Show2 CS_Show7 LH_Show6 LN_Show5': 1.7346652554764097e-07,\n",
       " 'Professor_Show1 MV_Show1 CL_Show1 SP_Show1 GR_Show2 CS_Show7 LH_Show6 LN_Show6': 1.7346652554764097e-07,\n",
       " 'Professor_Show1 MV_Show1 CL_Show1 SP_Show1 GR_Show2 CS_Show7 LH_Show6 LN_Show7': 1.7346652554764097e-07,\n",
       " 'Professor_Show1 MV_Show1 CL_Show1 SP_Show1 GR_Show2 CS_Show7 LH_Show7 LN_Show1': 1.7346652554764097e-07,\n",
       " 'Professor_Show1 MV_Show1 CL_Show1 SP_Show1 GR_Show2 CS_Show7 LH_Show7 LN_Show2': 1.7346652554764097e-07,\n",
       " 'Professor_Show1 MV_Show1 CL_Show1 SP_Show1 GR_Show2 CS_Show7 LH_Show7 LN_Show3': 1.7346652554764097e-07,\n",
       " 'Professor_Show1 MV_Show1 CL_Show1 SP_Show1 GR_Show2 CS_Show7 LH_Show7 LN_Show4': 1.7346652554764097e-07,\n",
       " 'Professor_Show1 MV_Show1 CL_Show1 SP_Show1 GR_Show2 CS_Show7 LH_Show7 LN_Show5': 1.7346652554764097e-07,\n",
       " 'Professor_Show1 MV_Show1 CL_Show1 SP_Show1 GR_Show2 CS_Show7 LH_Show7 LN_Show6': 1.7346652554764097e-07,\n",
       " 'Professor_Show1 MV_Show1 CL_Show1 SP_Show1 GR_Show2 CS_Show7 LH_Show7 LN_Show7': 1.7346652554764097e-07,\n",
       " 'Professor_Show1 MV_Show1 CL_Show1 SP_Show1 GR_Show3 CS_Show1 LH_Show1 LN_Show1': 1.7346652554764097e-07,\n",
       " 'Professor_Show1 MV_Show1 CL_Show1 SP_Show1 GR_Show3 CS_Show1 LH_Show1 LN_Show2': 1.7346652554764097e-07,\n",
       " 'Professor_Show1 MV_Show1 CL_Show1 SP_Show1 GR_Show3 CS_Show1 LH_Show1 LN_Show3': 1.7346652554764097e-07,\n",
       " 'Professor_Show1 MV_Show1 CL_Show1 SP_Show1 GR_Show3 CS_Show1 LH_Show1 LN_Show4': 1.7346652554764097e-07,\n",
       " 'Professor_Show1 MV_Show1 CL_Show1 SP_Show1 GR_Show3 CS_Show1 LH_Show1 LN_Show5': 1.7346652554764097e-07,\n",
       " 'Professor_Show1 MV_Show1 CL_Show1 SP_Show1 GR_Show3 CS_Show1 LH_Show1 LN_Show6': 1.7346652554764097e-07,\n",
       " 'Professor_Show1 MV_Show1 CL_Show1 SP_Show1 GR_Show3 CS_Show1 LH_Show1 LN_Show7': 1.7346652554764097e-07,\n",
       " 'Professor_Show1 MV_Show1 CL_Show1 SP_Show1 GR_Show3 CS_Show1 LH_Show2 LN_Show1': 1.7346652554764097e-07,\n",
       " 'Professor_Show1 MV_Show1 CL_Show1 SP_Show1 GR_Show3 CS_Show1 LH_Show2 LN_Show2': 1.7346652554764097e-07,\n",
       " 'Professor_Show1 MV_Show1 CL_Show1 SP_Show1 GR_Show3 CS_Show1 LH_Show2 LN_Show3': 1.7346652554764097e-07,\n",
       " 'Professor_Show1 MV_Show1 CL_Show1 SP_Show1 GR_Show3 CS_Show1 LH_Show2 LN_Show4': 1.7346652554764097e-07,\n",
       " 'Professor_Show1 MV_Show1 CL_Show1 SP_Show1 GR_Show3 CS_Show1 LH_Show2 LN_Show5': 1.7346652554764097e-07,\n",
       " 'Professor_Show1 MV_Show1 CL_Show1 SP_Show1 GR_Show3 CS_Show1 LH_Show2 LN_Show6': 1.7346652554764097e-07,\n",
       " 'Professor_Show1 MV_Show1 CL_Show1 SP_Show1 GR_Show3 CS_Show1 LH_Show2 LN_Show7': 1.7346652554764097e-07,\n",
       " 'Professor_Show1 MV_Show1 CL_Show1 SP_Show1 GR_Show3 CS_Show1 LH_Show3 LN_Show1': 1.7346652554764097e-07,\n",
       " 'Professor_Show1 MV_Show1 CL_Show1 SP_Show1 GR_Show3 CS_Show1 LH_Show3 LN_Show2': 1.7346652554764097e-07,\n",
       " 'Professor_Show1 MV_Show1 CL_Show1 SP_Show1 GR_Show3 CS_Show1 LH_Show3 LN_Show3': 1.7346652554764097e-07,\n",
       " 'Professor_Show1 MV_Show1 CL_Show1 SP_Show1 GR_Show3 CS_Show1 LH_Show3 LN_Show4': 1.7346652554764097e-07,\n",
       " 'Professor_Show1 MV_Show1 CL_Show1 SP_Show1 GR_Show3 CS_Show1 LH_Show3 LN_Show5': 1.7346652554764097e-07,\n",
       " 'Professor_Show1 MV_Show1 CL_Show1 SP_Show1 GR_Show3 CS_Show1 LH_Show3 LN_Show6': 1.7346652554764097e-07,\n",
       " 'Professor_Show1 MV_Show1 CL_Show1 SP_Show1 GR_Show3 CS_Show1 LH_Show3 LN_Show7': 1.7346652554764097e-07,\n",
       " 'Professor_Show1 MV_Show1 CL_Show1 SP_Show1 GR_Show3 CS_Show1 LH_Show4 LN_Show1': 1.7346652554764097e-07,\n",
       " 'Professor_Show1 MV_Show1 CL_Show1 SP_Show1 GR_Show3 CS_Show1 LH_Show4 LN_Show2': 1.7346652554764097e-07,\n",
       " 'Professor_Show1 MV_Show1 CL_Show1 SP_Show1 GR_Show3 CS_Show1 LH_Show4 LN_Show3': 1.7346652554764097e-07,\n",
       " 'Professor_Show1 MV_Show1 CL_Show1 SP_Show1 GR_Show3 CS_Show1 LH_Show4 LN_Show4': 1.7346652554764097e-07,\n",
       " 'Professor_Show1 MV_Show1 CL_Show1 SP_Show1 GR_Show3 CS_Show1 LH_Show4 LN_Show5': 1.7346652554764097e-07,\n",
       " 'Professor_Show1 MV_Show1 CL_Show1 SP_Show1 GR_Show3 CS_Show1 LH_Show4 LN_Show6': 1.7346652554764097e-07,\n",
       " 'Professor_Show1 MV_Show1 CL_Show1 SP_Show1 GR_Show3 CS_Show1 LH_Show4 LN_Show7': 1.7346652554764097e-07,\n",
       " 'Professor_Show1 MV_Show1 CL_Show1 SP_Show1 GR_Show3 CS_Show1 LH_Show5 LN_Show1': 1.7346652554764097e-07,\n",
       " 'Professor_Show1 MV_Show1 CL_Show1 SP_Show1 GR_Show3 CS_Show1 LH_Show5 LN_Show2': 1.7346652554764097e-07,\n",
       " 'Professor_Show1 MV_Show1 CL_Show1 SP_Show1 GR_Show3 CS_Show1 LH_Show5 LN_Show3': 1.7346652554764097e-07,\n",
       " 'Professor_Show1 MV_Show1 CL_Show1 SP_Show1 GR_Show3 CS_Show1 LH_Show5 LN_Show4': 1.7346652554764097e-07,\n",
       " 'Professor_Show1 MV_Show1 CL_Show1 SP_Show1 GR_Show3 CS_Show1 LH_Show5 LN_Show5': 1.7346652554764097e-07,\n",
       " 'Professor_Show1 MV_Show1 CL_Show1 SP_Show1 GR_Show3 CS_Show1 LH_Show5 LN_Show6': 1.7346652554764097e-07,\n",
       " 'Professor_Show1 MV_Show1 CL_Show1 SP_Show1 GR_Show3 CS_Show1 LH_Show5 LN_Show7': 1.7346652554764097e-07,\n",
       " 'Professor_Show1 MV_Show1 CL_Show1 SP_Show1 GR_Show3 CS_Show1 LH_Show6 LN_Show1': 1.7346652554764097e-07,\n",
       " 'Professor_Show1 MV_Show1 CL_Show1 SP_Show1 GR_Show3 CS_Show1 LH_Show6 LN_Show2': 1.7346652554764097e-07,\n",
       " 'Professor_Show1 MV_Show1 CL_Show1 SP_Show1 GR_Show3 CS_Show1 LH_Show6 LN_Show3': 1.7346652554764097e-07,\n",
       " 'Professor_Show1 MV_Show1 CL_Show1 SP_Show1 GR_Show3 CS_Show1 LH_Show6 LN_Show4': 1.7346652554764097e-07,\n",
       " 'Professor_Show1 MV_Show1 CL_Show1 SP_Show1 GR_Show3 CS_Show1 LH_Show6 LN_Show5': 1.7346652554764097e-07,\n",
       " 'Professor_Show1 MV_Show1 CL_Show1 SP_Show1 GR_Show3 CS_Show1 LH_Show6 LN_Show6': 1.7346652554764097e-07,\n",
       " 'Professor_Show1 MV_Show1 CL_Show1 SP_Show1 GR_Show3 CS_Show1 LH_Show6 LN_Show7': 1.7346652554764097e-07,\n",
       " 'Professor_Show1 MV_Show1 CL_Show1 SP_Show1 GR_Show3 CS_Show1 LH_Show7 LN_Show1': 1.7346652554764097e-07,\n",
       " 'Professor_Show1 MV_Show1 CL_Show1 SP_Show1 GR_Show3 CS_Show1 LH_Show7 LN_Show2': 1.7346652554764097e-07,\n",
       " 'Professor_Show1 MV_Show1 CL_Show1 SP_Show1 GR_Show3 CS_Show1 LH_Show7 LN_Show3': 1.7346652554764097e-07,\n",
       " 'Professor_Show1 MV_Show1 CL_Show1 SP_Show1 GR_Show3 CS_Show1 LH_Show7 LN_Show4': 1.7346652554764097e-07,\n",
       " 'Professor_Show1 MV_Show1 CL_Show1 SP_Show1 GR_Show3 CS_Show1 LH_Show7 LN_Show5': 1.7346652554764097e-07,\n",
       " 'Professor_Show1 MV_Show1 CL_Show1 SP_Show1 GR_Show3 CS_Show1 LH_Show7 LN_Show6': 1.7346652554764097e-07,\n",
       " 'Professor_Show1 MV_Show1 CL_Show1 SP_Show1 GR_Show3 CS_Show1 LH_Show7 LN_Show7': 1.7346652554764097e-07,\n",
       " 'Professor_Show1 MV_Show1 CL_Show1 SP_Show1 GR_Show3 CS_Show2 LH_Show1 LN_Show1': 1.7346652554764097e-07,\n",
       " 'Professor_Show1 MV_Show1 CL_Show1 SP_Show1 GR_Show3 CS_Show2 LH_Show1 LN_Show2': 1.7346652554764097e-07,\n",
       " 'Professor_Show1 MV_Show1 CL_Show1 SP_Show1 GR_Show3 CS_Show2 LH_Show1 LN_Show3': 1.7346652554764097e-07,\n",
       " 'Professor_Show1 MV_Show1 CL_Show1 SP_Show1 GR_Show3 CS_Show2 LH_Show1 LN_Show4': 1.7346652554764097e-07,\n",
       " 'Professor_Show1 MV_Show1 CL_Show1 SP_Show1 GR_Show3 CS_Show2 LH_Show1 LN_Show5': 1.7346652554764097e-07,\n",
       " 'Professor_Show1 MV_Show1 CL_Show1 SP_Show1 GR_Show3 CS_Show2 LH_Show1 LN_Show6': 1.7346652554764097e-07,\n",
       " 'Professor_Show1 MV_Show1 CL_Show1 SP_Show1 GR_Show3 CS_Show2 LH_Show1 LN_Show7': 1.7346652554764097e-07,\n",
       " 'Professor_Show1 MV_Show1 CL_Show1 SP_Show1 GR_Show3 CS_Show2 LH_Show2 LN_Show1': 1.7346652554764097e-07,\n",
       " 'Professor_Show1 MV_Show1 CL_Show1 SP_Show1 GR_Show3 CS_Show2 LH_Show2 LN_Show2': 1.7346652554764097e-07,\n",
       " 'Professor_Show1 MV_Show1 CL_Show1 SP_Show1 GR_Show3 CS_Show2 LH_Show2 LN_Show3': 1.7346652554764097e-07,\n",
       " 'Professor_Show1 MV_Show1 CL_Show1 SP_Show1 GR_Show3 CS_Show2 LH_Show2 LN_Show4': 1.7346652554764097e-07,\n",
       " 'Professor_Show1 MV_Show1 CL_Show1 SP_Show1 GR_Show3 CS_Show2 LH_Show2 LN_Show5': 1.7346652554764097e-07,\n",
       " 'Professor_Show1 MV_Show1 CL_Show1 SP_Show1 GR_Show3 CS_Show2 LH_Show2 LN_Show6': 1.7346652554764097e-07,\n",
       " 'Professor_Show1 MV_Show1 CL_Show1 SP_Show1 GR_Show3 CS_Show2 LH_Show2 LN_Show7': 1.7346652554764097e-07,\n",
       " 'Professor_Show1 MV_Show1 CL_Show1 SP_Show1 GR_Show3 CS_Show2 LH_Show3 LN_Show1': 1.7346652554764097e-07,\n",
       " 'Professor_Show1 MV_Show1 CL_Show1 SP_Show1 GR_Show3 CS_Show2 LH_Show3 LN_Show2': 1.7346652554764097e-07,\n",
       " 'Professor_Show1 MV_Show1 CL_Show1 SP_Show1 GR_Show3 CS_Show2 LH_Show3 LN_Show3': 1.7346652554764097e-07,\n",
       " 'Professor_Show1 MV_Show1 CL_Show1 SP_Show1 GR_Show3 CS_Show2 LH_Show3 LN_Show4': 1.7346652554764097e-07,\n",
       " 'Professor_Show1 MV_Show1 CL_Show1 SP_Show1 GR_Show3 CS_Show2 LH_Show3 LN_Show5': 1.7346652554764097e-07,\n",
       " 'Professor_Show1 MV_Show1 CL_Show1 SP_Show1 GR_Show3 CS_Show2 LH_Show3 LN_Show6': 1.7346652554764097e-07,\n",
       " 'Professor_Show1 MV_Show1 CL_Show1 SP_Show1 GR_Show3 CS_Show2 LH_Show3 LN_Show7': 1.7346652554764097e-07,\n",
       " 'Professor_Show1 MV_Show1 CL_Show1 SP_Show1 GR_Show3 CS_Show2 LH_Show4 LN_Show1': 1.7346652554764097e-07,\n",
       " 'Professor_Show1 MV_Show1 CL_Show1 SP_Show1 GR_Show3 CS_Show2 LH_Show4 LN_Show2': 1.7346652554764097e-07,\n",
       " 'Professor_Show1 MV_Show1 CL_Show1 SP_Show1 GR_Show3 CS_Show2 LH_Show4 LN_Show3': 1.7346652554764097e-07,\n",
       " 'Professor_Show1 MV_Show1 CL_Show1 SP_Show1 GR_Show3 CS_Show2 LH_Show4 LN_Show4': 1.7346652554764097e-07,\n",
       " 'Professor_Show1 MV_Show1 CL_Show1 SP_Show1 GR_Show3 CS_Show2 LH_Show4 LN_Show5': 1.7346652554764097e-07,\n",
       " 'Professor_Show1 MV_Show1 CL_Show1 SP_Show1 GR_Show3 CS_Show2 LH_Show4 LN_Show6': 1.7346652554764097e-07,\n",
       " 'Professor_Show1 MV_Show1 CL_Show1 SP_Show1 GR_Show3 CS_Show2 LH_Show4 LN_Show7': 1.7346652554764097e-07,\n",
       " 'Professor_Show1 MV_Show1 CL_Show1 SP_Show1 GR_Show3 CS_Show2 LH_Show5 LN_Show1': 1.7346652554764097e-07,\n",
       " 'Professor_Show1 MV_Show1 CL_Show1 SP_Show1 GR_Show3 CS_Show2 LH_Show5 LN_Show2': 1.7346652554764097e-07,\n",
       " 'Professor_Show1 MV_Show1 CL_Show1 SP_Show1 GR_Show3 CS_Show2 LH_Show5 LN_Show3': 1.7346652554764097e-07,\n",
       " 'Professor_Show1 MV_Show1 CL_Show1 SP_Show1 GR_Show3 CS_Show2 LH_Show5 LN_Show4': 1.7346652554764097e-07,\n",
       " 'Professor_Show1 MV_Show1 CL_Show1 SP_Show1 GR_Show3 CS_Show2 LH_Show5 LN_Show5': 1.7346652554764097e-07,\n",
       " 'Professor_Show1 MV_Show1 CL_Show1 SP_Show1 GR_Show3 CS_Show2 LH_Show5 LN_Show6': 1.7346652554764097e-07,\n",
       " 'Professor_Show1 MV_Show1 CL_Show1 SP_Show1 GR_Show3 CS_Show2 LH_Show5 LN_Show7': 1.7346652554764097e-07,\n",
       " 'Professor_Show1 MV_Show1 CL_Show1 SP_Show1 GR_Show3 CS_Show2 LH_Show6 LN_Show1': 1.7346652554764097e-07,\n",
       " 'Professor_Show1 MV_Show1 CL_Show1 SP_Show1 GR_Show3 CS_Show2 LH_Show6 LN_Show2': 1.7346652554764097e-07,\n",
       " 'Professor_Show1 MV_Show1 CL_Show1 SP_Show1 GR_Show3 CS_Show2 LH_Show6 LN_Show3': 1.7346652554764097e-07,\n",
       " 'Professor_Show1 MV_Show1 CL_Show1 SP_Show1 GR_Show3 CS_Show2 LH_Show6 LN_Show4': 1.7346652554764097e-07,\n",
       " 'Professor_Show1 MV_Show1 CL_Show1 SP_Show1 GR_Show3 CS_Show2 LH_Show6 LN_Show5': 1.7346652554764097e-07,\n",
       " 'Professor_Show1 MV_Show1 CL_Show1 SP_Show1 GR_Show3 CS_Show2 LH_Show6 LN_Show6': 1.7346652554764097e-07,\n",
       " 'Professor_Show1 MV_Show1 CL_Show1 SP_Show1 GR_Show3 CS_Show2 LH_Show6 LN_Show7': 1.7346652554764097e-07,\n",
       " 'Professor_Show1 MV_Show1 CL_Show1 SP_Show1 GR_Show3 CS_Show2 LH_Show7 LN_Show1': 1.7346652554764097e-07,\n",
       " 'Professor_Show1 MV_Show1 CL_Show1 SP_Show1 GR_Show3 CS_Show2 LH_Show7 LN_Show2': 1.7346652554764097e-07,\n",
       " 'Professor_Show1 MV_Show1 CL_Show1 SP_Show1 GR_Show3 CS_Show2 LH_Show7 LN_Show3': 1.7346652554764097e-07,\n",
       " 'Professor_Show1 MV_Show1 CL_Show1 SP_Show1 GR_Show3 CS_Show2 LH_Show7 LN_Show4': 1.7346652554764097e-07,\n",
       " 'Professor_Show1 MV_Show1 CL_Show1 SP_Show1 GR_Show3 CS_Show2 LH_Show7 LN_Show5': 1.7346652554764097e-07,\n",
       " 'Professor_Show1 MV_Show1 CL_Show1 SP_Show1 GR_Show3 CS_Show2 LH_Show7 LN_Show6': 1.7346652554764097e-07,\n",
       " 'Professor_Show1 MV_Show1 CL_Show1 SP_Show1 GR_Show3 CS_Show2 LH_Show7 LN_Show7': 1.7346652554764097e-07,\n",
       " 'Professor_Show1 MV_Show1 CL_Show1 SP_Show1 GR_Show3 CS_Show3 LH_Show1 LN_Show1': 1.7346652554764097e-07,\n",
       " 'Professor_Show1 MV_Show1 CL_Show1 SP_Show1 GR_Show3 CS_Show3 LH_Show1 LN_Show2': 1.7346652554764097e-07,\n",
       " 'Professor_Show1 MV_Show1 CL_Show1 SP_Show1 GR_Show3 CS_Show3 LH_Show1 LN_Show3': 1.7346652554764097e-07,\n",
       " 'Professor_Show1 MV_Show1 CL_Show1 SP_Show1 GR_Show3 CS_Show3 LH_Show1 LN_Show4': 1.7346652554764097e-07,\n",
       " 'Professor_Show1 MV_Show1 CL_Show1 SP_Show1 GR_Show3 CS_Show3 LH_Show1 LN_Show5': 1.7346652554764097e-07,\n",
       " 'Professor_Show1 MV_Show1 CL_Show1 SP_Show1 GR_Show3 CS_Show3 LH_Show1 LN_Show6': 1.7346652554764097e-07,\n",
       " 'Professor_Show1 MV_Show1 CL_Show1 SP_Show1 GR_Show3 CS_Show3 LH_Show1 LN_Show7': 1.7346652554764097e-07,\n",
       " 'Professor_Show1 MV_Show1 CL_Show1 SP_Show1 GR_Show3 CS_Show3 LH_Show2 LN_Show1': 1.7346652554764097e-07,\n",
       " 'Professor_Show1 MV_Show1 CL_Show1 SP_Show1 GR_Show3 CS_Show3 LH_Show2 LN_Show2': 1.7346652554764097e-07,\n",
       " 'Professor_Show1 MV_Show1 CL_Show1 SP_Show1 GR_Show3 CS_Show3 LH_Show2 LN_Show3': 1.7346652554764097e-07,\n",
       " 'Professor_Show1 MV_Show1 CL_Show1 SP_Show1 GR_Show3 CS_Show3 LH_Show2 LN_Show4': 1.7346652554764097e-07,\n",
       " 'Professor_Show1 MV_Show1 CL_Show1 SP_Show1 GR_Show3 CS_Show3 LH_Show2 LN_Show5': 1.7346652554764097e-07,\n",
       " 'Professor_Show1 MV_Show1 CL_Show1 SP_Show1 GR_Show3 CS_Show3 LH_Show2 LN_Show6': 1.7346652554764097e-07,\n",
       " 'Professor_Show1 MV_Show1 CL_Show1 SP_Show1 GR_Show3 CS_Show3 LH_Show2 LN_Show7': 1.7346652554764097e-07,\n",
       " 'Professor_Show1 MV_Show1 CL_Show1 SP_Show1 GR_Show3 CS_Show3 LH_Show3 LN_Show1': 1.7346652554764097e-07,\n",
       " 'Professor_Show1 MV_Show1 CL_Show1 SP_Show1 GR_Show3 CS_Show3 LH_Show3 LN_Show2': 1.7346652554764097e-07,\n",
       " 'Professor_Show1 MV_Show1 CL_Show1 SP_Show1 GR_Show3 CS_Show3 LH_Show3 LN_Show3': 1.7346652554764097e-07,\n",
       " 'Professor_Show1 MV_Show1 CL_Show1 SP_Show1 GR_Show3 CS_Show3 LH_Show3 LN_Show4': 1.7346652554764097e-07,\n",
       " 'Professor_Show1 MV_Show1 CL_Show1 SP_Show1 GR_Show3 CS_Show3 LH_Show3 LN_Show5': 1.7346652554764097e-07,\n",
       " 'Professor_Show1 MV_Show1 CL_Show1 SP_Show1 GR_Show3 CS_Show3 LH_Show3 LN_Show6': 1.7346652554764097e-07,\n",
       " 'Professor_Show1 MV_Show1 CL_Show1 SP_Show1 GR_Show3 CS_Show3 LH_Show3 LN_Show7': 1.7346652554764097e-07,\n",
       " 'Professor_Show1 MV_Show1 CL_Show1 SP_Show1 GR_Show3 CS_Show3 LH_Show4 LN_Show1': 1.7346652554764097e-07,\n",
       " 'Professor_Show1 MV_Show1 CL_Show1 SP_Show1 GR_Show3 CS_Show3 LH_Show4 LN_Show2': 1.7346652554764097e-07,\n",
       " 'Professor_Show1 MV_Show1 CL_Show1 SP_Show1 GR_Show3 CS_Show3 LH_Show4 LN_Show3': 1.7346652554764097e-07,\n",
       " 'Professor_Show1 MV_Show1 CL_Show1 SP_Show1 GR_Show3 CS_Show3 LH_Show4 LN_Show4': 1.7346652554764097e-07,\n",
       " 'Professor_Show1 MV_Show1 CL_Show1 SP_Show1 GR_Show3 CS_Show3 LH_Show4 LN_Show5': 1.7346652554764097e-07,\n",
       " 'Professor_Show1 MV_Show1 CL_Show1 SP_Show1 GR_Show3 CS_Show3 LH_Show4 LN_Show6': 1.7346652554764097e-07,\n",
       " 'Professor_Show1 MV_Show1 CL_Show1 SP_Show1 GR_Show3 CS_Show3 LH_Show4 LN_Show7': 1.7346652554764097e-07,\n",
       " 'Professor_Show1 MV_Show1 CL_Show1 SP_Show1 GR_Show3 CS_Show3 LH_Show5 LN_Show1': 1.7346652554764097e-07,\n",
       " 'Professor_Show1 MV_Show1 CL_Show1 SP_Show1 GR_Show3 CS_Show3 LH_Show5 LN_Show2': 1.7346652554764097e-07,\n",
       " 'Professor_Show1 MV_Show1 CL_Show1 SP_Show1 GR_Show3 CS_Show3 LH_Show5 LN_Show3': 1.7346652554764097e-07,\n",
       " 'Professor_Show1 MV_Show1 CL_Show1 SP_Show1 GR_Show3 CS_Show3 LH_Show5 LN_Show4': 1.7346652554764097e-07,\n",
       " 'Professor_Show1 MV_Show1 CL_Show1 SP_Show1 GR_Show3 CS_Show3 LH_Show5 LN_Show5': 1.7346652554764097e-07,\n",
       " 'Professor_Show1 MV_Show1 CL_Show1 SP_Show1 GR_Show3 CS_Show3 LH_Show5 LN_Show6': 1.7346652554764097e-07,\n",
       " 'Professor_Show1 MV_Show1 CL_Show1 SP_Show1 GR_Show3 CS_Show3 LH_Show5 LN_Show7': 1.7346652554764097e-07,\n",
       " 'Professor_Show1 MV_Show1 CL_Show1 SP_Show1 GR_Show3 CS_Show3 LH_Show6 LN_Show1': 1.7346652554764097e-07,\n",
       " 'Professor_Show1 MV_Show1 CL_Show1 SP_Show1 GR_Show3 CS_Show3 LH_Show6 LN_Show2': 1.7346652554764097e-07,\n",
       " 'Professor_Show1 MV_Show1 CL_Show1 SP_Show1 GR_Show3 CS_Show3 LH_Show6 LN_Show3': 1.7346652554764097e-07,\n",
       " 'Professor_Show1 MV_Show1 CL_Show1 SP_Show1 GR_Show3 CS_Show3 LH_Show6 LN_Show4': 1.7346652554764097e-07,\n",
       " 'Professor_Show1 MV_Show1 CL_Show1 SP_Show1 GR_Show3 CS_Show3 LH_Show6 LN_Show5': 1.7346652554764097e-07,\n",
       " 'Professor_Show1 MV_Show1 CL_Show1 SP_Show1 GR_Show3 CS_Show3 LH_Show6 LN_Show6': 1.7346652554764097e-07,\n",
       " 'Professor_Show1 MV_Show1 CL_Show1 SP_Show1 GR_Show3 CS_Show3 LH_Show6 LN_Show7': 1.7346652554764097e-07,\n",
       " 'Professor_Show1 MV_Show1 CL_Show1 SP_Show1 GR_Show3 CS_Show3 LH_Show7 LN_Show1': 1.7346652554764097e-07,\n",
       " 'Professor_Show1 MV_Show1 CL_Show1 SP_Show1 GR_Show3 CS_Show3 LH_Show7 LN_Show2': 1.7346652554764097e-07,\n",
       " 'Professor_Show1 MV_Show1 CL_Show1 SP_Show1 GR_Show3 CS_Show3 LH_Show7 LN_Show3': 1.7346652554764097e-07,\n",
       " 'Professor_Show1 MV_Show1 CL_Show1 SP_Show1 GR_Show3 CS_Show3 LH_Show7 LN_Show4': 1.7346652554764097e-07,\n",
       " 'Professor_Show1 MV_Show1 CL_Show1 SP_Show1 GR_Show3 CS_Show3 LH_Show7 LN_Show5': 1.7346652554764097e-07,\n",
       " 'Professor_Show1 MV_Show1 CL_Show1 SP_Show1 GR_Show3 CS_Show3 LH_Show7 LN_Show6': 1.7346652554764097e-07,\n",
       " 'Professor_Show1 MV_Show1 CL_Show1 SP_Show1 GR_Show3 CS_Show3 LH_Show7 LN_Show7': 1.7346652554764097e-07,\n",
       " 'Professor_Show1 MV_Show1 CL_Show1 SP_Show1 GR_Show3 CS_Show4 LH_Show1 LN_Show1': 1.7346652554764097e-07,\n",
       " 'Professor_Show1 MV_Show1 CL_Show1 SP_Show1 GR_Show3 CS_Show4 LH_Show1 LN_Show2': 1.7346652554764097e-07,\n",
       " 'Professor_Show1 MV_Show1 CL_Show1 SP_Show1 GR_Show3 CS_Show4 LH_Show1 LN_Show3': 1.7346652554764097e-07,\n",
       " 'Professor_Show1 MV_Show1 CL_Show1 SP_Show1 GR_Show3 CS_Show4 LH_Show1 LN_Show4': 1.7346652554764097e-07,\n",
       " 'Professor_Show1 MV_Show1 CL_Show1 SP_Show1 GR_Show3 CS_Show4 LH_Show1 LN_Show5': 1.7346652554764097e-07,\n",
       " 'Professor_Show1 MV_Show1 CL_Show1 SP_Show1 GR_Show3 CS_Show4 LH_Show1 LN_Show6': 1.7346652554764097e-07,\n",
       " 'Professor_Show1 MV_Show1 CL_Show1 SP_Show1 GR_Show3 CS_Show4 LH_Show1 LN_Show7': 1.7346652554764097e-07,\n",
       " 'Professor_Show1 MV_Show1 CL_Show1 SP_Show1 GR_Show3 CS_Show4 LH_Show2 LN_Show1': 1.7346652554764097e-07,\n",
       " 'Professor_Show1 MV_Show1 CL_Show1 SP_Show1 GR_Show3 CS_Show4 LH_Show2 LN_Show2': 1.7346652554764097e-07,\n",
       " 'Professor_Show1 MV_Show1 CL_Show1 SP_Show1 GR_Show3 CS_Show4 LH_Show2 LN_Show3': 1.7346652554764097e-07,\n",
       " 'Professor_Show1 MV_Show1 CL_Show1 SP_Show1 GR_Show3 CS_Show4 LH_Show2 LN_Show4': 1.7346652554764097e-07,\n",
       " 'Professor_Show1 MV_Show1 CL_Show1 SP_Show1 GR_Show3 CS_Show4 LH_Show2 LN_Show5': 1.7346652554764097e-07,\n",
       " 'Professor_Show1 MV_Show1 CL_Show1 SP_Show1 GR_Show3 CS_Show4 LH_Show2 LN_Show6': 1.7346652554764097e-07,\n",
       " 'Professor_Show1 MV_Show1 CL_Show1 SP_Show1 GR_Show3 CS_Show4 LH_Show2 LN_Show7': 1.7346652554764097e-07,\n",
       " 'Professor_Show1 MV_Show1 CL_Show1 SP_Show1 GR_Show3 CS_Show4 LH_Show3 LN_Show1': 1.7346652554764097e-07,\n",
       " 'Professor_Show1 MV_Show1 CL_Show1 SP_Show1 GR_Show3 CS_Show4 LH_Show3 LN_Show2': 1.7346652554764097e-07,\n",
       " 'Professor_Show1 MV_Show1 CL_Show1 SP_Show1 GR_Show3 CS_Show4 LH_Show3 LN_Show3': 1.7346652554764097e-07,\n",
       " 'Professor_Show1 MV_Show1 CL_Show1 SP_Show1 GR_Show3 CS_Show4 LH_Show3 LN_Show4': 1.7346652554764097e-07,\n",
       " 'Professor_Show1 MV_Show1 CL_Show1 SP_Show1 GR_Show3 CS_Show4 LH_Show3 LN_Show5': 1.7346652554764097e-07,\n",
       " 'Professor_Show1 MV_Show1 CL_Show1 SP_Show1 GR_Show3 CS_Show4 LH_Show3 LN_Show6': 1.7346652554764097e-07,\n",
       " 'Professor_Show1 MV_Show1 CL_Show1 SP_Show1 GR_Show3 CS_Show4 LH_Show3 LN_Show7': 1.7346652554764097e-07,\n",
       " 'Professor_Show1 MV_Show1 CL_Show1 SP_Show1 GR_Show3 CS_Show4 LH_Show4 LN_Show1': 1.7346652554764097e-07,\n",
       " 'Professor_Show1 MV_Show1 CL_Show1 SP_Show1 GR_Show3 CS_Show4 LH_Show4 LN_Show2': 1.7346652554764097e-07,\n",
       " 'Professor_Show1 MV_Show1 CL_Show1 SP_Show1 GR_Show3 CS_Show4 LH_Show4 LN_Show3': 1.7346652554764097e-07,\n",
       " 'Professor_Show1 MV_Show1 CL_Show1 SP_Show1 GR_Show3 CS_Show4 LH_Show4 LN_Show4': 1.7346652554764097e-07,\n",
       " 'Professor_Show1 MV_Show1 CL_Show1 SP_Show1 GR_Show3 CS_Show4 LH_Show4 LN_Show5': 1.7346652554764097e-07,\n",
       " 'Professor_Show1 MV_Show1 CL_Show1 SP_Show1 GR_Show3 CS_Show4 LH_Show4 LN_Show6': 1.7346652554764097e-07,\n",
       " 'Professor_Show1 MV_Show1 CL_Show1 SP_Show1 GR_Show3 CS_Show4 LH_Show4 LN_Show7': 1.7346652554764097e-07,\n",
       " 'Professor_Show1 MV_Show1 CL_Show1 SP_Show1 GR_Show3 CS_Show4 LH_Show5 LN_Show1': 1.7346652554764097e-07,\n",
       " 'Professor_Show1 MV_Show1 CL_Show1 SP_Show1 GR_Show3 CS_Show4 LH_Show5 LN_Show2': 1.7346652554764097e-07,\n",
       " 'Professor_Show1 MV_Show1 CL_Show1 SP_Show1 GR_Show3 CS_Show4 LH_Show5 LN_Show3': 1.7346652554764097e-07,\n",
       " 'Professor_Show1 MV_Show1 CL_Show1 SP_Show1 GR_Show3 CS_Show4 LH_Show5 LN_Show4': 1.7346652554764097e-07,\n",
       " 'Professor_Show1 MV_Show1 CL_Show1 SP_Show1 GR_Show3 CS_Show4 LH_Show5 LN_Show5': 1.7346652554764097e-07,\n",
       " 'Professor_Show1 MV_Show1 CL_Show1 SP_Show1 GR_Show3 CS_Show4 LH_Show5 LN_Show6': 1.7346652554764097e-07,\n",
       " 'Professor_Show1 MV_Show1 CL_Show1 SP_Show1 GR_Show3 CS_Show4 LH_Show5 LN_Show7': 1.7346652554764097e-07,\n",
       " 'Professor_Show1 MV_Show1 CL_Show1 SP_Show1 GR_Show3 CS_Show4 LH_Show6 LN_Show1': 1.7346652554764097e-07,\n",
       " 'Professor_Show1 MV_Show1 CL_Show1 SP_Show1 GR_Show3 CS_Show4 LH_Show6 LN_Show2': 1.7346652554764097e-07,\n",
       " 'Professor_Show1 MV_Show1 CL_Show1 SP_Show1 GR_Show3 CS_Show4 LH_Show6 LN_Show3': 1.7346652554764097e-07,\n",
       " 'Professor_Show1 MV_Show1 CL_Show1 SP_Show1 GR_Show3 CS_Show4 LH_Show6 LN_Show4': 1.7346652554764097e-07,\n",
       " 'Professor_Show1 MV_Show1 CL_Show1 SP_Show1 GR_Show3 CS_Show4 LH_Show6 LN_Show5': 1.7346652554764097e-07,\n",
       " 'Professor_Show1 MV_Show1 CL_Show1 SP_Show1 GR_Show3 CS_Show4 LH_Show6 LN_Show6': 1.7346652554764097e-07,\n",
       " 'Professor_Show1 MV_Show1 CL_Show1 SP_Show1 GR_Show3 CS_Show4 LH_Show6 LN_Show7': 1.7346652554764097e-07,\n",
       " 'Professor_Show1 MV_Show1 CL_Show1 SP_Show1 GR_Show3 CS_Show4 LH_Show7 LN_Show1': 1.7346652554764097e-07,\n",
       " 'Professor_Show1 MV_Show1 CL_Show1 SP_Show1 GR_Show3 CS_Show4 LH_Show7 LN_Show2': 1.7346652554764097e-07,\n",
       " 'Professor_Show1 MV_Show1 CL_Show1 SP_Show1 GR_Show3 CS_Show4 LH_Show7 LN_Show3': 1.7346652554764097e-07,\n",
       " 'Professor_Show1 MV_Show1 CL_Show1 SP_Show1 GR_Show3 CS_Show4 LH_Show7 LN_Show4': 1.7346652554764097e-07,\n",
       " 'Professor_Show1 MV_Show1 CL_Show1 SP_Show1 GR_Show3 CS_Show4 LH_Show7 LN_Show5': 1.7346652554764097e-07,\n",
       " 'Professor_Show1 MV_Show1 CL_Show1 SP_Show1 GR_Show3 CS_Show4 LH_Show7 LN_Show6': 1.7346652554764097e-07,\n",
       " 'Professor_Show1 MV_Show1 CL_Show1 SP_Show1 GR_Show3 CS_Show4 LH_Show7 LN_Show7': 1.7346652554764097e-07,\n",
       " 'Professor_Show1 MV_Show1 CL_Show1 SP_Show1 GR_Show3 CS_Show5 LH_Show1 LN_Show1': 1.7346652554764097e-07,\n",
       " 'Professor_Show1 MV_Show1 CL_Show1 SP_Show1 GR_Show3 CS_Show5 LH_Show1 LN_Show2': 1.7346652554764097e-07,\n",
       " 'Professor_Show1 MV_Show1 CL_Show1 SP_Show1 GR_Show3 CS_Show5 LH_Show1 LN_Show3': 1.7346652554764097e-07,\n",
       " 'Professor_Show1 MV_Show1 CL_Show1 SP_Show1 GR_Show3 CS_Show5 LH_Show1 LN_Show4': 1.7346652554764097e-07,\n",
       " 'Professor_Show1 MV_Show1 CL_Show1 SP_Show1 GR_Show3 CS_Show5 LH_Show1 LN_Show5': 1.7346652554764097e-07,\n",
       " 'Professor_Show1 MV_Show1 CL_Show1 SP_Show1 GR_Show3 CS_Show5 LH_Show1 LN_Show6': 1.7346652554764097e-07,\n",
       " 'Professor_Show1 MV_Show1 CL_Show1 SP_Show1 GR_Show3 CS_Show5 LH_Show1 LN_Show7': 1.7346652554764097e-07,\n",
       " 'Professor_Show1 MV_Show1 CL_Show1 SP_Show1 GR_Show3 CS_Show5 LH_Show2 LN_Show1': 1.7346652554764097e-07,\n",
       " 'Professor_Show1 MV_Show1 CL_Show1 SP_Show1 GR_Show3 CS_Show5 LH_Show2 LN_Show2': 1.7346652554764097e-07,\n",
       " 'Professor_Show1 MV_Show1 CL_Show1 SP_Show1 GR_Show3 CS_Show5 LH_Show2 LN_Show3': 1.7346652554764097e-07,\n",
       " 'Professor_Show1 MV_Show1 CL_Show1 SP_Show1 GR_Show3 CS_Show5 LH_Show2 LN_Show4': 1.7346652554764097e-07,\n",
       " 'Professor_Show1 MV_Show1 CL_Show1 SP_Show1 GR_Show3 CS_Show5 LH_Show2 LN_Show5': 1.7346652554764097e-07,\n",
       " 'Professor_Show1 MV_Show1 CL_Show1 SP_Show1 GR_Show3 CS_Show5 LH_Show2 LN_Show6': 1.7346652554764097e-07,\n",
       " 'Professor_Show1 MV_Show1 CL_Show1 SP_Show1 GR_Show3 CS_Show5 LH_Show2 LN_Show7': 1.7346652554764097e-07,\n",
       " 'Professor_Show1 MV_Show1 CL_Show1 SP_Show1 GR_Show3 CS_Show5 LH_Show3 LN_Show1': 1.7346652554764097e-07,\n",
       " 'Professor_Show1 MV_Show1 CL_Show1 SP_Show1 GR_Show3 CS_Show5 LH_Show3 LN_Show2': 1.7346652554764097e-07,\n",
       " 'Professor_Show1 MV_Show1 CL_Show1 SP_Show1 GR_Show3 CS_Show5 LH_Show3 LN_Show3': 1.7346652554764097e-07,\n",
       " 'Professor_Show1 MV_Show1 CL_Show1 SP_Show1 GR_Show3 CS_Show5 LH_Show3 LN_Show4': 1.7346652554764097e-07,\n",
       " 'Professor_Show1 MV_Show1 CL_Show1 SP_Show1 GR_Show3 CS_Show5 LH_Show3 LN_Show5': 1.7346652554764097e-07,\n",
       " 'Professor_Show1 MV_Show1 CL_Show1 SP_Show1 GR_Show3 CS_Show5 LH_Show3 LN_Show6': 1.7346652554764097e-07,\n",
       " 'Professor_Show1 MV_Show1 CL_Show1 SP_Show1 GR_Show3 CS_Show5 LH_Show3 LN_Show7': 1.7346652554764097e-07,\n",
       " 'Professor_Show1 MV_Show1 CL_Show1 SP_Show1 GR_Show3 CS_Show5 LH_Show4 LN_Show1': 1.7346652554764097e-07,\n",
       " 'Professor_Show1 MV_Show1 CL_Show1 SP_Show1 GR_Show3 CS_Show5 LH_Show4 LN_Show2': 1.7346652554764097e-07,\n",
       " 'Professor_Show1 MV_Show1 CL_Show1 SP_Show1 GR_Show3 CS_Show5 LH_Show4 LN_Show3': 1.7346652554764097e-07,\n",
       " 'Professor_Show1 MV_Show1 CL_Show1 SP_Show1 GR_Show3 CS_Show5 LH_Show4 LN_Show4': 1.7346652554764097e-07,\n",
       " 'Professor_Show1 MV_Show1 CL_Show1 SP_Show1 GR_Show3 CS_Show5 LH_Show4 LN_Show5': 1.7346652554764097e-07,\n",
       " 'Professor_Show1 MV_Show1 CL_Show1 SP_Show1 GR_Show3 CS_Show5 LH_Show4 LN_Show6': 1.7346652554764097e-07,\n",
       " 'Professor_Show1 MV_Show1 CL_Show1 SP_Show1 GR_Show3 CS_Show5 LH_Show4 LN_Show7': 1.7346652554764097e-07,\n",
       " 'Professor_Show1 MV_Show1 CL_Show1 SP_Show1 GR_Show3 CS_Show5 LH_Show5 LN_Show1': 1.7346652554764097e-07,\n",
       " 'Professor_Show1 MV_Show1 CL_Show1 SP_Show1 GR_Show3 CS_Show5 LH_Show5 LN_Show2': 1.7346652554764097e-07,\n",
       " 'Professor_Show1 MV_Show1 CL_Show1 SP_Show1 GR_Show3 CS_Show5 LH_Show5 LN_Show3': 1.7346652554764097e-07,\n",
       " 'Professor_Show1 MV_Show1 CL_Show1 SP_Show1 GR_Show3 CS_Show5 LH_Show5 LN_Show4': 1.7346652554764097e-07,\n",
       " 'Professor_Show1 MV_Show1 CL_Show1 SP_Show1 GR_Show3 CS_Show5 LH_Show5 LN_Show5': 1.7346652554764097e-07,\n",
       " 'Professor_Show1 MV_Show1 CL_Show1 SP_Show1 GR_Show3 CS_Show5 LH_Show5 LN_Show6': 1.7346652554764097e-07,\n",
       " 'Professor_Show1 MV_Show1 CL_Show1 SP_Show1 GR_Show3 CS_Show5 LH_Show5 LN_Show7': 1.7346652554764097e-07,\n",
       " 'Professor_Show1 MV_Show1 CL_Show1 SP_Show1 GR_Show3 CS_Show5 LH_Show6 LN_Show1': 1.7346652554764097e-07,\n",
       " 'Professor_Show1 MV_Show1 CL_Show1 SP_Show1 GR_Show3 CS_Show5 LH_Show6 LN_Show2': 1.7346652554764097e-07,\n",
       " 'Professor_Show1 MV_Show1 CL_Show1 SP_Show1 GR_Show3 CS_Show5 LH_Show6 LN_Show3': 1.7346652554764097e-07,\n",
       " 'Professor_Show1 MV_Show1 CL_Show1 SP_Show1 GR_Show3 CS_Show5 LH_Show6 LN_Show4': 1.7346652554764097e-07,\n",
       " 'Professor_Show1 MV_Show1 CL_Show1 SP_Show1 GR_Show3 CS_Show5 LH_Show6 LN_Show5': 1.7346652554764097e-07,\n",
       " 'Professor_Show1 MV_Show1 CL_Show1 SP_Show1 GR_Show3 CS_Show5 LH_Show6 LN_Show6': 1.7346652554764097e-07,\n",
       " 'Professor_Show1 MV_Show1 CL_Show1 SP_Show1 GR_Show3 CS_Show5 LH_Show6 LN_Show7': 1.7346652554764097e-07,\n",
       " 'Professor_Show1 MV_Show1 CL_Show1 SP_Show1 GR_Show3 CS_Show5 LH_Show7 LN_Show1': 1.7346652554764097e-07,\n",
       " 'Professor_Show1 MV_Show1 CL_Show1 SP_Show1 GR_Show3 CS_Show5 LH_Show7 LN_Show2': 1.7346652554764097e-07,\n",
       " 'Professor_Show1 MV_Show1 CL_Show1 SP_Show1 GR_Show3 CS_Show5 LH_Show7 LN_Show3': 1.7346652554764097e-07,\n",
       " 'Professor_Show1 MV_Show1 CL_Show1 SP_Show1 GR_Show3 CS_Show5 LH_Show7 LN_Show4': 1.7346652554764097e-07,\n",
       " 'Professor_Show1 MV_Show1 CL_Show1 SP_Show1 GR_Show3 CS_Show5 LH_Show7 LN_Show5': 1.7346652554764097e-07,\n",
       " 'Professor_Show1 MV_Show1 CL_Show1 SP_Show1 GR_Show3 CS_Show5 LH_Show7 LN_Show6': 1.7346652554764097e-07,\n",
       " 'Professor_Show1 MV_Show1 CL_Show1 SP_Show1 GR_Show3 CS_Show5 LH_Show7 LN_Show7': 1.7346652554764097e-07,\n",
       " 'Professor_Show1 MV_Show1 CL_Show1 SP_Show1 GR_Show3 CS_Show6 LH_Show1 LN_Show1': 1.7346652554764097e-07,\n",
       " 'Professor_Show1 MV_Show1 CL_Show1 SP_Show1 GR_Show3 CS_Show6 LH_Show1 LN_Show2': 1.7346652554764097e-07,\n",
       " 'Professor_Show1 MV_Show1 CL_Show1 SP_Show1 GR_Show3 CS_Show6 LH_Show1 LN_Show3': 1.7346652554764097e-07,\n",
       " 'Professor_Show1 MV_Show1 CL_Show1 SP_Show1 GR_Show3 CS_Show6 LH_Show1 LN_Show4': 1.7346652554764097e-07,\n",
       " 'Professor_Show1 MV_Show1 CL_Show1 SP_Show1 GR_Show3 CS_Show6 LH_Show1 LN_Show5': 1.7346652554764097e-07,\n",
       " 'Professor_Show1 MV_Show1 CL_Show1 SP_Show1 GR_Show3 CS_Show6 LH_Show1 LN_Show6': 1.7346652554764097e-07,\n",
       " 'Professor_Show1 MV_Show1 CL_Show1 SP_Show1 GR_Show3 CS_Show6 LH_Show1 LN_Show7': 1.7346652554764097e-07,\n",
       " 'Professor_Show1 MV_Show1 CL_Show1 SP_Show1 GR_Show3 CS_Show6 LH_Show2 LN_Show1': 1.7346652554764097e-07,\n",
       " 'Professor_Show1 MV_Show1 CL_Show1 SP_Show1 GR_Show3 CS_Show6 LH_Show2 LN_Show2': 1.7346652554764097e-07,\n",
       " 'Professor_Show1 MV_Show1 CL_Show1 SP_Show1 GR_Show3 CS_Show6 LH_Show2 LN_Show3': 1.7346652554764097e-07,\n",
       " 'Professor_Show1 MV_Show1 CL_Show1 SP_Show1 GR_Show3 CS_Show6 LH_Show2 LN_Show4': 1.7346652554764097e-07,\n",
       " 'Professor_Show1 MV_Show1 CL_Show1 SP_Show1 GR_Show3 CS_Show6 LH_Show2 LN_Show5': 1.7346652554764097e-07,\n",
       " 'Professor_Show1 MV_Show1 CL_Show1 SP_Show1 GR_Show3 CS_Show6 LH_Show2 LN_Show6': 1.7346652554764097e-07,\n",
       " 'Professor_Show1 MV_Show1 CL_Show1 SP_Show1 GR_Show3 CS_Show6 LH_Show2 LN_Show7': 1.7346652554764097e-07,\n",
       " 'Professor_Show1 MV_Show1 CL_Show1 SP_Show1 GR_Show3 CS_Show6 LH_Show3 LN_Show1': 1.7346652554764097e-07,\n",
       " 'Professor_Show1 MV_Show1 CL_Show1 SP_Show1 GR_Show3 CS_Show6 LH_Show3 LN_Show2': 1.7346652554764097e-07,\n",
       " 'Professor_Show1 MV_Show1 CL_Show1 SP_Show1 GR_Show3 CS_Show6 LH_Show3 LN_Show3': 1.7346652554764097e-07,\n",
       " 'Professor_Show1 MV_Show1 CL_Show1 SP_Show1 GR_Show3 CS_Show6 LH_Show3 LN_Show4': 1.7346652554764097e-07,\n",
       " 'Professor_Show1 MV_Show1 CL_Show1 SP_Show1 GR_Show3 CS_Show6 LH_Show3 LN_Show5': 1.7346652554764097e-07,\n",
       " 'Professor_Show1 MV_Show1 CL_Show1 SP_Show1 GR_Show3 CS_Show6 LH_Show3 LN_Show6': 1.7346652554764097e-07,\n",
       " 'Professor_Show1 MV_Show1 CL_Show1 SP_Show1 GR_Show3 CS_Show6 LH_Show3 LN_Show7': 1.7346652554764097e-07,\n",
       " 'Professor_Show1 MV_Show1 CL_Show1 SP_Show1 GR_Show3 CS_Show6 LH_Show4 LN_Show1': 1.7346652554764097e-07,\n",
       " 'Professor_Show1 MV_Show1 CL_Show1 SP_Show1 GR_Show3 CS_Show6 LH_Show4 LN_Show2': 1.7346652554764097e-07,\n",
       " 'Professor_Show1 MV_Show1 CL_Show1 SP_Show1 GR_Show3 CS_Show6 LH_Show4 LN_Show3': 1.7346652554764097e-07,\n",
       " 'Professor_Show1 MV_Show1 CL_Show1 SP_Show1 GR_Show3 CS_Show6 LH_Show4 LN_Show4': 1.7346652554764097e-07,\n",
       " 'Professor_Show1 MV_Show1 CL_Show1 SP_Show1 GR_Show3 CS_Show6 LH_Show4 LN_Show5': 1.7346652554764097e-07,\n",
       " 'Professor_Show1 MV_Show1 CL_Show1 SP_Show1 GR_Show3 CS_Show6 LH_Show4 LN_Show6': 1.7346652554764097e-07,\n",
       " 'Professor_Show1 MV_Show1 CL_Show1 SP_Show1 GR_Show3 CS_Show6 LH_Show4 LN_Show7': 1.7346652554764097e-07,\n",
       " 'Professor_Show1 MV_Show1 CL_Show1 SP_Show1 GR_Show3 CS_Show6 LH_Show5 LN_Show1': 1.7346652554764097e-07,\n",
       " 'Professor_Show1 MV_Show1 CL_Show1 SP_Show1 GR_Show3 CS_Show6 LH_Show5 LN_Show2': 1.7346652554764097e-07,\n",
       " 'Professor_Show1 MV_Show1 CL_Show1 SP_Show1 GR_Show3 CS_Show6 LH_Show5 LN_Show3': 1.7346652554764097e-07,\n",
       " 'Professor_Show1 MV_Show1 CL_Show1 SP_Show1 GR_Show3 CS_Show6 LH_Show5 LN_Show4': 1.7346652554764097e-07,\n",
       " 'Professor_Show1 MV_Show1 CL_Show1 SP_Show1 GR_Show3 CS_Show6 LH_Show5 LN_Show5': 1.7346652554764097e-07,\n",
       " 'Professor_Show1 MV_Show1 CL_Show1 SP_Show1 GR_Show3 CS_Show6 LH_Show5 LN_Show6': 1.7346652554764097e-07,\n",
       " 'Professor_Show1 MV_Show1 CL_Show1 SP_Show1 GR_Show3 CS_Show6 LH_Show5 LN_Show7': 1.7346652554764097e-07,\n",
       " 'Professor_Show1 MV_Show1 CL_Show1 SP_Show1 GR_Show3 CS_Show6 LH_Show6 LN_Show1': 1.7346652554764097e-07,\n",
       " 'Professor_Show1 MV_Show1 CL_Show1 SP_Show1 GR_Show3 CS_Show6 LH_Show6 LN_Show2': 1.7346652554764097e-07,\n",
       " 'Professor_Show1 MV_Show1 CL_Show1 SP_Show1 GR_Show3 CS_Show6 LH_Show6 LN_Show3': 1.7346652554764097e-07,\n",
       " 'Professor_Show1 MV_Show1 CL_Show1 SP_Show1 GR_Show3 CS_Show6 LH_Show6 LN_Show4': 1.7346652554764097e-07,\n",
       " 'Professor_Show1 MV_Show1 CL_Show1 SP_Show1 GR_Show3 CS_Show6 LH_Show6 LN_Show5': 1.7346652554764097e-07,\n",
       " 'Professor_Show1 MV_Show1 CL_Show1 SP_Show1 GR_Show3 CS_Show6 LH_Show6 LN_Show6': 1.7346652554764097e-07,\n",
       " 'Professor_Show1 MV_Show1 CL_Show1 SP_Show1 GR_Show3 CS_Show6 LH_Show6 LN_Show7': 1.7346652554764097e-07,\n",
       " 'Professor_Show1 MV_Show1 CL_Show1 SP_Show1 GR_Show3 CS_Show6 LH_Show7 LN_Show1': 1.7346652554764097e-07,\n",
       " 'Professor_Show1 MV_Show1 CL_Show1 SP_Show1 GR_Show3 CS_Show6 LH_Show7 LN_Show2': 1.7346652554764097e-07,\n",
       " 'Professor_Show1 MV_Show1 CL_Show1 SP_Show1 GR_Show3 CS_Show6 LH_Show7 LN_Show3': 1.7346652554764097e-07,\n",
       " 'Professor_Show1 MV_Show1 CL_Show1 SP_Show1 GR_Show3 CS_Show6 LH_Show7 LN_Show4': 1.7346652554764097e-07,\n",
       " 'Professor_Show1 MV_Show1 CL_Show1 SP_Show1 GR_Show3 CS_Show6 LH_Show7 LN_Show5': 1.7346652554764097e-07,\n",
       " 'Professor_Show1 MV_Show1 CL_Show1 SP_Show1 GR_Show3 CS_Show6 LH_Show7 LN_Show6': 1.7346652554764097e-07,\n",
       " 'Professor_Show1 MV_Show1 CL_Show1 SP_Show1 GR_Show3 CS_Show6 LH_Show7 LN_Show7': 1.7346652554764097e-07,\n",
       " 'Professor_Show1 MV_Show1 CL_Show1 SP_Show1 GR_Show3 CS_Show7 LH_Show1 LN_Show1': 1.7346652554764097e-07,\n",
       " 'Professor_Show1 MV_Show1 CL_Show1 SP_Show1 GR_Show3 CS_Show7 LH_Show1 LN_Show2': 1.7346652554764097e-07,\n",
       " 'Professor_Show1 MV_Show1 CL_Show1 SP_Show1 GR_Show3 CS_Show7 LH_Show1 LN_Show3': 1.7346652554764097e-07,\n",
       " 'Professor_Show1 MV_Show1 CL_Show1 SP_Show1 GR_Show3 CS_Show7 LH_Show1 LN_Show4': 1.7346652554764097e-07,\n",
       " 'Professor_Show1 MV_Show1 CL_Show1 SP_Show1 GR_Show3 CS_Show7 LH_Show1 LN_Show5': 1.7346652554764097e-07,\n",
       " 'Professor_Show1 MV_Show1 CL_Show1 SP_Show1 GR_Show3 CS_Show7 LH_Show1 LN_Show6': 1.7346652554764097e-07,\n",
       " 'Professor_Show1 MV_Show1 CL_Show1 SP_Show1 GR_Show3 CS_Show7 LH_Show1 LN_Show7': 1.7346652554764097e-07,\n",
       " 'Professor_Show1 MV_Show1 CL_Show1 SP_Show1 GR_Show3 CS_Show7 LH_Show2 LN_Show1': 1.7346652554764097e-07,\n",
       " 'Professor_Show1 MV_Show1 CL_Show1 SP_Show1 GR_Show3 CS_Show7 LH_Show2 LN_Show2': 1.7346652554764097e-07,\n",
       " 'Professor_Show1 MV_Show1 CL_Show1 SP_Show1 GR_Show3 CS_Show7 LH_Show2 LN_Show3': 1.7346652554764097e-07,\n",
       " 'Professor_Show1 MV_Show1 CL_Show1 SP_Show1 GR_Show3 CS_Show7 LH_Show2 LN_Show4': 1.7346652554764097e-07,\n",
       " 'Professor_Show1 MV_Show1 CL_Show1 SP_Show1 GR_Show3 CS_Show7 LH_Show2 LN_Show5': 1.7346652554764097e-07,\n",
       " 'Professor_Show1 MV_Show1 CL_Show1 SP_Show1 GR_Show3 CS_Show7 LH_Show2 LN_Show6': 1.7346652554764097e-07,\n",
       " 'Professor_Show1 MV_Show1 CL_Show1 SP_Show1 GR_Show3 CS_Show7 LH_Show2 LN_Show7': 1.7346652554764097e-07,\n",
       " 'Professor_Show1 MV_Show1 CL_Show1 SP_Show1 GR_Show3 CS_Show7 LH_Show3 LN_Show1': 1.7346652554764097e-07,\n",
       " 'Professor_Show1 MV_Show1 CL_Show1 SP_Show1 GR_Show3 CS_Show7 LH_Show3 LN_Show2': 1.7346652554764097e-07,\n",
       " 'Professor_Show1 MV_Show1 CL_Show1 SP_Show1 GR_Show3 CS_Show7 LH_Show3 LN_Show3': 1.7346652554764097e-07,\n",
       " 'Professor_Show1 MV_Show1 CL_Show1 SP_Show1 GR_Show3 CS_Show7 LH_Show3 LN_Show4': 1.7346652554764097e-07,\n",
       " 'Professor_Show1 MV_Show1 CL_Show1 SP_Show1 GR_Show3 CS_Show7 LH_Show3 LN_Show5': 1.7346652554764097e-07,\n",
       " 'Professor_Show1 MV_Show1 CL_Show1 SP_Show1 GR_Show3 CS_Show7 LH_Show3 LN_Show6': 1.7346652554764097e-07,\n",
       " ...}"
      ]
     },
     "execution_count": 19,
     "metadata": {},
     "output_type": "execute_result"
    }
   ],
   "source": [
    "sample_space"
   ]
  },
  {
   "cell_type": "code",
   "execution_count": 20,
   "id": "855fc13f-052e-4132-bd02-45c407ed286a",
   "metadata": {},
   "outputs": [],
   "source": [
    "def not_alone(outcome): return outcome.count(outcome.split(\" \")[0].split(\"_\")[1]) >= 2"
   ]
  },
  {
   "cell_type": "code",
   "execution_count": 21,
   "id": "31a743c5-b015-4784-b7f9-a072063ac11d",
   "metadata": {},
   "outputs": [
    {
     "data": {
      "text/plain": [
       "0.6600833228978629"
      ]
     },
     "execution_count": 21,
     "metadata": {},
     "output_type": "execute_result"
    }
   ],
   "source": [
    "P_Experiment1b = p(not_alone, sample_space)\n",
    "P_Experiment1b"
   ]
  },
  {
   "cell_type": "code",
   "execution_count": 22,
   "id": "ac74609e-6a83-4fc2-9284-168e5ed9b151",
   "metadata": {},
   "outputs": [],
   "source": [
    "import numpy as np"
   ]
  },
  {
   "cell_type": "code",
   "execution_count": 23,
   "id": "ffe0701c-4237-4fe3-bebe-2be143eb42f2",
   "metadata": {},
   "outputs": [
    {
     "data": {
      "text/plain": [
       "True"
      ]
     },
     "execution_count": 23,
     "metadata": {},
     "output_type": "execute_result"
    }
   ],
   "source": [
    "np.isclose(P_Experiment1a, P_Experiment1b)"
   ]
  },
  {
   "cell_type": "markdown",
   "id": "ba57a979-320f-4ba3-9106-ae6a053d400a",
   "metadata": {},
   "source": [
    "The result is same as result from a)"
   ]
  },
  {
   "cell_type": "markdown",
   "id": "0af1e2ad-52b9-4f2d-be83-d5e911f82c1f",
   "metadata": {},
   "source": [
    "To sum up, if there are 7 drivers the probability of professor meeting at least one driver is about **0.66**"
   ]
  },
  {
   "cell_type": "markdown",
   "id": "975ad687-fa92-4966-bec0-84f26d3affb9",
   "metadata": {},
   "source": [
    "## Experiment Two: one F1 driver goes to one or more of 7 shows for exactly 7 times and for 7 minutes each time"
   ]
  },
  {
   "cell_type": "markdown",
   "id": "ec264182-b08b-496c-8d00-29577368970e",
   "metadata": {},
   "source": [
    "### a) By using theory and math or Monte Carlo simulations"
   ]
  },
  {
   "cell_type": "markdown",
   "id": "63183db5-1aa0-484d-ab0b-9a9d40f9f2d0",
   "metadata": {},
   "source": [
    "So for example, the sole F1 driver could theoretically go to one show only, then leave, then come back, and repeat this seven times for a visit total of 49 minutes without going to any other show. "
   ]
  },
  {
   "cell_type": "markdown",
   "id": "1af48217-4413-4435-a945-a5efbb0ae8df",
   "metadata": {},
   "source": [
    "One driver going to any of seven shows for a total of seven times. And we're looking to see if that driver is at the same show professor is  at. All possible combinations of one driver going to seven shows are equally likely, including one driver just going to one show seven times."
   ]
  },
  {
   "cell_type": "markdown",
   "id": "2ded0699-7f48-4922-a3de-f93e2a09e6ea",
   "metadata": {},
   "source": [
    "So they are many combinations like:\n",
    "* (7) means driver goes to one show 7 times\n",
    "* (6, 1) means driver goes to one show 6 times and one show 1 time\n",
    "* (5, 1, 1) means driver goes to one show 5 times, one show 1 time and one show 1 tiem\n",
    "* ..."
   ]
  },
  {
   "cell_type": "markdown",
   "id": "b86a274e-ac70-4f88-aa1a-75b77d8c5d68",
   "metadata": {},
   "source": [
    "Firstly, we compute the all the combinations:"
   ]
  },
  {
   "cell_type": "code",
   "execution_count": 24,
   "id": "e0517c55-7a45-490f-8a92-c4789912a0ac",
   "metadata": {},
   "outputs": [],
   "source": [
    "from math import comb"
   ]
  },
  {
   "cell_type": "code",
   "execution_count": 25,
   "id": "39a7cbd1-68ea-44cd-99c7-893df0516b1d",
   "metadata": {},
   "outputs": [],
   "source": [
    "countOfSituations = 0"
   ]
  },
  {
   "cell_type": "code",
   "execution_count": 26,
   "id": "b84a7db5-0be7-46ce-a48d-9a4530aa1007",
   "metadata": {},
   "outputs": [],
   "source": [
    "countOfSituations = (7                    # go to one show for 7 times (7)\n",
    "                    + 7 * 6 * 3           # (6, 1), (5, 2), (4, 3) \n",
    "                    + 7 * comb(6, 2) * 3  # (5, 1, 1), (3, 2, 2), (3, 3, 1)\n",
    "                    + 7 * 6 * 5           # (4, 2, 1)\n",
    "                    + 7 * comb(6, 3)      # (2, 2, 2, 1)\n",
    "                    + 7 * 6 * comb(5, 2)  # (3, 2, 1, 1)\n",
    "                    + 7 * comb(6, 4)      # (3, 1, 1, 1, 1)\n",
    "                    + 7 * comb(6, 3)      # (2, 2, 2, 1)\n",
    "                    + comb(7, 2) * comb(5, 3) # (2, 2, 1, 1, 1)\n",
    "                    + 7 * comb(6, 5)          # (2, 1, 1, 1, 1, 1)\n",
    "                    + 1)                      # (1, 1, 1, 1, 1, 1, 1)"
   ]
  },
  {
   "cell_type": "code",
   "execution_count": 27,
   "id": "6f7dd21f-e601-4a1d-be99-6044f1617d86",
   "metadata": {},
   "outputs": [
    {
     "data": {
      "text/plain": [
       "1716"
      ]
     },
     "execution_count": 27,
     "metadata": {},
     "output_type": "execute_result"
    }
   ],
   "source": [
    "countOfSituations"
   ]
  },
  {
   "cell_type": "markdown",
   "id": "0cf261ab-effc-4bbe-9637-c1bc5d7474b5",
   "metadata": {},
   "source": [
    "We got that there are 1716 combinations totally."
   ]
  },
  {
   "cell_type": "markdown",
   "id": "3249df14-75b0-4be9-b89f-1c589caae42c",
   "metadata": {},
   "source": [
    "After that we assume that professor attends a show and we can compute the conbinations of driver attending other 6 shows in order to get the probability of professor doesn't meet driver."
   ]
  },
  {
   "cell_type": "code",
   "execution_count": 28,
   "id": "cea52f2d-73c1-4a48-a505-9b8d08939874",
   "metadata": {},
   "outputs": [],
   "source": [
    "noProfessor =      (6                    # go to one show for 7 times (7)\n",
    "                    + 6 * 5 * 3           # (6, 1), (5, 2), (4, 3) \n",
    "                    + 6 * comb(5, 2) * 3  # (5, 1, 1), (3, 2, 2), (3, 3, 1)\n",
    "                    + 6 * 5 * 4           # (4, 2, 1)\n",
    "                    + 6 * comb(5, 3)      # (2, 2, 2, 1)\n",
    "                    + 6 * 5 * comb(4, 2)  # (3, 2, 1, 1)\n",
    "                    + 6 * comb(5, 4)      # (3, 1, 1, 1, 1)\n",
    "                    + 6 * comb(5, 3)      # (2, 2, 2, 1)\n",
    "                    + comb(6, 2) * comb(4, 3) # (2, 2, 1, 1, 1)\n",
    "                    + 6 * comb(5, 5)          # (2, 1, 1, 1, 1, 1)\n",
    "                    + 0)"
   ]
  },
  {
   "cell_type": "code",
   "execution_count": 29,
   "id": "e1f6e267-db15-42e3-8a76-76ab425516a6",
   "metadata": {},
   "outputs": [
    {
     "data": {
      "text/plain": [
       "0.5384615384615384"
      ]
     },
     "execution_count": 29,
     "metadata": {},
     "output_type": "execute_result"
    }
   ],
   "source": [
    "P_Experiment2a = 1 - (noProfessor/countOfSituations)\n",
    "P_Experiment2a"
   ]
  },
  {
   "cell_type": "markdown",
   "id": "432cb10b-fa9a-44d7-bff9-946312ca7578",
   "metadata": {},
   "source": [
    "From this experiment we got that the probability of professor meeting dirver is **0.5384615384615384**"
   ]
  },
  {
   "cell_type": "markdown",
   "id": "f0d1aca8-e565-4269-b51a-4df0d66758f3",
   "metadata": {},
   "source": [
    "### b) By using combinatorics"
   ]
  },
  {
   "cell_type": "markdown",
   "id": "5a9138d3-20c2-4c4e-9748-01c9b77633f3",
   "metadata": {},
   "source": [
    "We need to use python to generate all the prossible combinations. I generate strings to represent different combinations like:\n",
    "\n",
    "* \"7000000\" represents driver goes to the first show 7 times\n",
    "* \"6010000\" represents driver goes to the first show 6 times and the third show 1 time\n",
    "* ..."
   ]
  },
  {
   "cell_type": "code",
   "execution_count": 30,
   "id": "11e8c5aa-6ed0-4a91-bd2c-8409bff28200",
   "metadata": {},
   "outputs": [],
   "source": [
    "import random\n",
    "random.seed(10)"
   ]
  },
  {
   "cell_type": "markdown",
   "id": "9b68d130-c53e-42e1-97be-bc85474e9a41",
   "metadata": {},
   "source": [
    "I use random number to generate random string where the sum of elements is 7. And I add these strings to a set so that I can make sure all the strings are unique."
   ]
  },
  {
   "cell_type": "code",
   "execution_count": 31,
   "id": "b6899e00-4069-431a-b22e-a61103e57400",
   "metadata": {},
   "outputs": [],
   "source": [
    "sampleSet = set()"
   ]
  },
  {
   "cell_type": "code",
   "execution_count": 32,
   "id": "2813ec5a-163f-4b0b-a9de-997f88b00e83",
   "metadata": {},
   "outputs": [],
   "source": [
    "def getAPossibleSituation(): # generate a combination(string) randomly\n",
    "    times = 7\n",
    "    situation = \"\"\n",
    "    for i in range(6):\n",
    "        currentTimes = random.randint(0, times)\n",
    "        situation += str(currentTimes)\n",
    "        times -= currentTimes\n",
    "    situation += str(times)\n",
    "    return situation"
   ]
  },
  {
   "cell_type": "code",
   "execution_count": 33,
   "id": "dd9c1948-0cba-4777-ae0b-70d588e937c4",
   "metadata": {},
   "outputs": [
    {
     "data": {
      "text/plain": [
       "'0610000'"
      ]
     },
     "execution_count": 33,
     "metadata": {},
     "output_type": "execute_result"
    }
   ],
   "source": [
    "getAPossibleSituation()"
   ]
  },
  {
   "cell_type": "markdown",
   "id": "56ea41fc-0bd8-4497-ac8f-157a5e01bc07",
   "metadata": {},
   "source": [
    "We generate 3000000 random strings. This is a huge number so that we can make sure we cover all the combinations. As a result, the code below takes a few time."
   ]
  },
  {
   "cell_type": "code",
   "execution_count": 34,
   "id": "e387a744-e785-46f0-bd48-e104f74fa3f8",
   "metadata": {},
   "outputs": [],
   "source": [
    "for i in range(3000000): \n",
    "    sampleSet.add(getAPossibleSituation())"
   ]
  },
  {
   "cell_type": "code",
   "execution_count": 35,
   "id": "e92a4eab-bf50-4fd7-8e45-d1fbca5481c5",
   "metadata": {},
   "outputs": [
    {
     "data": {
      "text/plain": [
       "1716"
      ]
     },
     "execution_count": 35,
     "metadata": {},
     "output_type": "execute_result"
    }
   ],
   "source": [
    "len(sampleSet)"
   ]
  },
  {
   "cell_type": "markdown",
   "id": "9e636fa7-9052-463a-b524-e64ed20ee90b",
   "metadata": {},
   "source": [
    "The length of sampleSet is 1716. So we exactly covered all possible combinations. "
   ]
  },
  {
   "cell_type": "markdown",
   "id": "d625a943-8224-442b-8ba6-41346b421d5c",
   "metadata": {},
   "source": [
    "To accelerate the computing, I modified the not_alone and p function to make them quicker."
   ]
  },
  {
   "cell_type": "markdown",
   "id": "1aabac59-e743-40d4-b7e6-273d254ba0f0",
   "metadata": {},
   "source": [
    "For the not_alone function, I assume that professor attends the first show. So I just neet to check the first element of the strings, if it is 0 they don't meet, if it is not 0, they meet."
   ]
  },
  {
   "cell_type": "code",
   "execution_count": 36,
   "id": "0ec3d547-4be1-48a3-a748-a686f6809fe2",
   "metadata": {},
   "outputs": [],
   "source": [
    "def not_alone_2(outcome):\n",
    "    if int(outcome[0]) != 0:\n",
    "        return True"
   ]
  },
  {
   "cell_type": "code",
   "execution_count": 37,
   "id": "74e92e5d-26bf-41be-bce0-c3388592ebe7",
   "metadata": {},
   "outputs": [],
   "source": [
    "def p_2(not_alone_2, sampleSet):\n",
    "    count = 0\n",
    "    for i, situation in enumerate(sampleSet):\n",
    "        if (not_alone_2(situation)):\n",
    "            count += 1\n",
    "    return count/len(sampleSet)"
   ]
  },
  {
   "cell_type": "code",
   "execution_count": 38,
   "id": "69d6cf44-9dc3-49c4-80a3-0679001ddc53",
   "metadata": {},
   "outputs": [
    {
     "data": {
      "text/plain": [
       "0.5384615384615384"
      ]
     },
     "execution_count": 38,
     "metadata": {},
     "output_type": "execute_result"
    }
   ],
   "source": [
    "P_Experiment2b = p_2(not_alone_2, sampleSet)\n",
    "P_Experiment2b"
   ]
  },
  {
   "cell_type": "code",
   "execution_count": 39,
   "id": "b3924f8c-603e-4621-8acf-b7bd71282447",
   "metadata": {},
   "outputs": [
    {
     "data": {
      "text/plain": [
       "True"
      ]
     },
     "execution_count": 39,
     "metadata": {},
     "output_type": "execute_result"
    }
   ],
   "source": [
    "np.isclose(P_Experiment2a, P_Experiment2b)"
   ]
  },
  {
   "cell_type": "markdown",
   "id": "1ba163a1-4048-4578-bbe9-443d109284ec",
   "metadata": {},
   "source": [
    "The result is same as result from a)"
   ]
  },
  {
   "cell_type": "markdown",
   "id": "de8eb947-e88a-4a57-b69b-4ccd5f7036df",
   "metadata": {},
   "source": [
    "To sum up, if there are 7 drivers the probability of they meet each other is **0.5384615384615384**"
   ]
  },
  {
   "cell_type": "markdown",
   "id": "1e294c68-ae00-45a1-9cc7-3346e9f6c63b",
   "metadata": {},
   "source": [
    "## Conclusioin"
   ]
  },
  {
   "cell_type": "code",
   "execution_count": 40,
   "id": "41d2f3fb-f455-4462-b437-7ab52f7d1b9d",
   "metadata": {},
   "outputs": [
    {
     "data": {
      "text/plain": [
       "True"
      ]
     },
     "execution_count": 40,
     "metadata": {},
     "output_type": "execute_result"
    }
   ],
   "source": [
    "P_Experiment1b > P_Experiment2b"
   ]
  },
  {
   "cell_type": "markdown",
   "id": "078aee1a-73fb-4d09-9ea1-e11a149cc9b7",
   "metadata": {},
   "source": [
    "The first experiment gives professor the higher probabilities of meeting a F1 driver"
   ]
  },
  {
   "cell_type": "code",
   "execution_count": null,
   "id": "7bd11b88-9cea-48cd-8c2f-6a0310c62c22",
   "metadata": {},
   "outputs": [],
   "source": []
  }
 ],
 "metadata": {
  "kernelspec": {
   "display_name": "Python 3 (ipykernel)",
   "language": "python",
   "name": "python3"
  },
  "language_info": {
   "codemirror_mode": {
    "name": "ipython",
    "version": 3
   },
   "file_extension": ".py",
   "mimetype": "text/x-python",
   "name": "python",
   "nbconvert_exporter": "python",
   "pygments_lexer": "ipython3",
   "version": "3.8.13"
  }
 },
 "nbformat": 4,
 "nbformat_minor": 5
}
